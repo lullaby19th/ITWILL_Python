{
 "cells": [
  {
   "cell_type": "markdown",
   "metadata": {},
   "source": [
    "## ※ 공분산?  \n",
    "\n",
    "확률론과 통계학에서 2개의 확률변수의 상관정도를 나타내는 값이다.\n",
    "\n",
    "\n",
    "### ■ 키와 체중간의 상관관계가 있는지 확인하고 싶다면?\n",
    "\n",
    "\n",
    "### ■ 공분산"
   ]
  },
  {
   "cell_type": "code",
   "execution_count": 8,
   "metadata": {},
   "outputs": [
    {
     "name": "stdout",
     "output_type": "stream",
     "text": [
      "159.7\n",
      "51.23\n",
      "237.29999999999976\n",
      "23.729999999999976\n"
     ]
    }
   ],
   "source": [
    "tall = [147.9, 163.5, 159.8, 155.1, 163.3, 158.7, 172.0, 161.2, 153.9, 161.6]\n",
    "weight = [41.7, 60.2, 47.0, 53.2, 48.3, 55.2, 58.5, 49.0, 46.7, 52.5]\n",
    "\n",
    "\n",
    "sum1 = 0\n",
    "for i in tall:\n",
    "    sum1 += i\n",
    "\n",
    "x_bar = sum1/len(tall)\n",
    "print(x_bar)\n",
    "\n",
    "sum2 = 0\n",
    "for i in weight:\n",
    "    sum2 += i\n",
    "\n",
    "y_bar = sum2/len(weight)\n",
    "print(y_bar)    \n",
    "\n",
    "total = 0\n",
    "for i in range(0,len(tall)):\n",
    "   total += (tall[i]-x_bar)*(weight[i]-y_bar)\n",
    "\n",
    "print(total)\n",
    "var = total/len(tall)\n",
    "print(var)\n",
    "\n",
    "#결과 : 공분산 값은 23.7입니다.\n",
    "#키가 크면 체중도 늘어난다고 하는 양의 상관관계를 증명!"
   ]
  },
  {
   "cell_type": "markdown",
   "metadata": {},
   "source": [
    "## 예제72. 최대값, 최소값 구하기(max,min)\n",
    "\n",
    "max()와 min()은 인자로 입력된 자료에서 최대, 최소값을 구해주는함수입니다.  \n",
    "max()와 min()의 인자로 리스트와 같은 시퀀스 자료가 입력되면   \n",
    "시퀀스 자료의 요소 가운대 최대값 또는 최소값을 구하여 리턴합니다.  \n",
    "\n",
    "| 오라클 | 파이썬 |\n",
    "|:------:|:------:|\n",
    "|   max  |   max  |\n",
    "|   min  |   min  |\n",
    "|  count |   len  |\n",
    "|   sum  |   sum  |\n",
    "|   avg  |  mean  |"
   ]
  },
  {
   "cell_type": "code",
   "execution_count": 9,
   "metadata": {},
   "outputs": [
    {
     "name": "stdout",
     "output_type": "stream",
     "text": [
      "55\n"
     ]
    }
   ],
   "source": [
    "listdata = [8,7,12,55,21,34,15,9,22]\n",
    "result = max(listdata)\n",
    "print(result)"
   ]
  },
  {
   "cell_type": "markdown",
   "metadata": {},
   "source": [
    "## 문제143. 사원 테이블에서 최대 월급을 출력하시오!\n",
    "\n",
    "### 1. pandas를 이용한 방법\n",
    "\n",
    "### 2. pandas를 이용하지 않는 방법  "
   ]
  },
  {
   "cell_type": "code",
   "execution_count": 10,
   "metadata": {},
   "outputs": [
    {
     "name": "stdout",
     "output_type": "stream",
     "text": [
      "5000\n"
     ]
    }
   ],
   "source": [
    "import pandas as pd\n",
    "emp = pd.read_csv(\"d:\\\\data\\emp3.csv\")\n",
    "print (emp['sal'].max())"
   ]
  },
  {
   "cell_type": "code",
   "execution_count": 15,
   "metadata": {},
   "outputs": [
    {
     "name": "stdout",
     "output_type": "stream",
     "text": [
      "[5000, 2850, 2450, 2975, 1250, 1600, 1500, 950, 1250, 3000, 800, 3000, 1100, 1300]\n",
      "5000\n"
     ]
    }
   ],
   "source": [
    "#pandas 이용하지 않는 방법 (컬럼명이 없는 csv를 가져와야됨.)\n",
    "\n",
    "import csv\n",
    "file = open(\"d:\\\\data\\emp2.csv\")\n",
    "emp = csv.reader(file)\n",
    "a=[]\n",
    "for i in emp:\n",
    "    a.append(int(i[5])) #문자형으로 나타나지기 때문에 int로 숫자형으로 바꾸어 주어야됨!\n",
    "\n",
    "print(a)\n",
    "result = max(a)\n",
    "print(result)"
   ]
  },
  {
   "cell_type": "markdown",
   "metadata": {},
   "source": [
    "## 문제144. 아래의 SQL을 판다스로 구현하시오\n",
    "\n",
    "SQL>\n",
    "\n",
    "select deptno, max(sal)  \n",
    "    from emp  \n",
    "    group by deptno;  "
   ]
  },
  {
   "cell_type": "code",
   "execution_count": 17,
   "metadata": {},
   "outputs": [
    {
     "name": "stdout",
     "output_type": "stream",
     "text": [
      "   deptno   sal\n",
      "0      10  5000\n",
      "1      20  3000\n",
      "2      30  2850\n"
     ]
    }
   ],
   "source": [
    "import pandas as pd\n",
    "emp = pd.read_csv(\"d:\\\\data\\emp3.csv\")\n",
    "result = emp.groupby('deptno')['sal'].max().reset_index()\n",
    "print(result)"
   ]
  },
  {
   "cell_type": "markdown",
   "metadata": {},
   "source": [
    "## 문제145. 부서번호, 직업, 부서번호별 직업별 최대 월급을 출력하시오!\n"
   ]
  },
  {
   "cell_type": "markdown",
   "metadata": {},
   "source": [
    "select deptno, job, max(sal)  \n",
    "    from emp  \n",
    "    group by deptno, job  \n",
    "    order by deptno, job  "
   ]
  },
  {
   "cell_type": "code",
   "execution_count": 19,
   "metadata": {},
   "outputs": [
    {
     "name": "stdout",
     "output_type": "stream",
     "text": [
      "   deptno        job   sal\n",
      "0      10      CLERK  1300\n",
      "1      10    MANAGER  2450\n",
      "2      10  PRESIDENT  5000\n",
      "3      20    ANALYST  3000\n",
      "4      20      CLERK  1100\n",
      "5      20    MANAGER  2975\n",
      "6      30      CLERK   950\n",
      "7      30    MANAGER  2850\n",
      "8      30   SALESMAN  1600\n"
     ]
    }
   ],
   "source": [
    "import pandas as pd\n",
    "emp = pd.read_csv(\"d:\\\\data\\emp3.csv\")\n",
    "result = emp.groupby(['deptno','job'])['sal'].max().reset_index()\n",
    "print(result)"
   ]
  },
  {
   "cell_type": "markdown",
   "metadata": {},
   "source": [
    "## 문제146. 통신사, 통신사별 최대나이를 출력하시오!(pandas로)\n"
   ]
  },
  {
   "cell_type": "code",
   "execution_count": 3,
   "metadata": {},
   "outputs": [
    {
     "name": "stdout",
     "output_type": "stream",
     "text": [
      "  telecom  age\n",
      "0      kt   34\n",
      "1      lg   40\n",
      "2     skt   34\n"
     ]
    }
   ],
   "source": [
    "import pandas as pd\n",
    "emp = pd.read_csv(\"d:\\\\data\\emp10.csv\")\n",
    "result = emp.groupby('telecom')['age'].max().reset_index()\n",
    "print(result)"
   ]
  },
  {
   "cell_type": "markdown",
   "metadata": {},
   "source": [
    "## Tip.\n",
    "\n",
    "### Character set(문자를 담는 방)\n",
    "\n",
    "   1. __English__ : ANSI 문자방 \n",
    "\n",
    "   2. __한글__ : UTF-8(유니코드 문자셋) "
   ]
  },
  {
   "cell_type": "markdown",
   "metadata": {},
   "source": [
    "## 예제73. 복잡한 쿼리문을 판다스로 구현하기!"
   ]
  },
  {
   "cell_type": "markdown",
   "metadata": {},
   "source": [
    "아래의 SQL을 판다스로 구현하시오~"
   ]
  },
  {
   "cell_type": "code",
   "execution_count": 16,
   "metadata": {},
   "outputs": [
    {
     "name": "stdout",
     "output_type": "stream",
     "text": [
      "<class 'pandas.core.frame.DataFrame'>\n",
      "<class 'pandas.core.frame.DataFrame'>\n",
      "       job   sal\n",
      "0  ANALYST  6000\n",
      "2  MANAGER  8275\n"
     ]
    }
   ],
   "source": [
    "\"\"\"\n",
    "SQL>\n",
    "select job, sum(sal)\n",
    "    from emp\n",
    "    group by job\n",
    "    having sum(sal)>= 6000;\n",
    "\"\"\"\n",
    "\n",
    "#Pandas\n",
    "\n",
    "import pandas as pd\n",
    "emp = pd.read_csv(\"d:\\\\data\\emp3.csv\")\n",
    "\n",
    "result = emp.groupby('job')['sal'].sum().reset_index()\n",
    "print(type(result))\n",
    "\n",
    "result2 = result[['job','sal']] [result['sal'] >= 6000] \n",
    "# reset_index()을 해줘야 type이 DataFrame으로 나타나져서 result2의 결과를 나타 낼 수있다.\n",
    "\n",
    "print(type(result2))\n",
    "\n",
    "print(result2)"
   ]
  },
  {
   "cell_type": "markdown",
   "metadata": {},
   "source": [
    "| 오라클 |   판다스  |\n",
    "|:------:|:---------:|\n",
    "| 테이블 | DataFrame |\n",
    "|  컬럼  |   Series  |"
   ]
  },
  {
   "cell_type": "markdown",
   "metadata": {},
   "source": [
    "## 문제147. 아래의 SQL을 판다스로 구현하시오!"
   ]
  },
  {
   "cell_type": "code",
   "execution_count": 22,
   "metadata": {},
   "outputs": [
    {
     "name": "stdout",
     "output_type": "stream",
     "text": [
      "         job   sal\n",
      "0    ANALYST  6000\n",
      "1      CLERK  4150\n",
      "2    MANAGER  8275\n",
      "3  PRESIDENT  5000\n",
      "4   SALESMAN  5600\n",
      "       job   sal\n",
      "2  MANAGER  8275\n",
      "0  ANALYST  6000\n"
     ]
    }
   ],
   "source": [
    "\"\"\"\n",
    "SQL>\n",
    "select job,sum(sal)\n",
    "    from emp\n",
    "    group by job\n",
    "    having sum(sal) >= 6000\n",
    "    order by sum(sal) desc;\n",
    "    \n",
    "\"\"\"\n",
    "\n",
    "#Pandas\n",
    "\n",
    "import pandas as pd\n",
    "emp = pd.read_csv(\"d:\\\\data\\emp3.csv\")\n",
    "\n",
    "result = emp.groupby('job')['sal'].sum().reset_index()\n",
    "\n",
    "print(result)\n",
    "\n",
    "result2 = result[['job','sal']] [result['sal'] >= 6000] \n",
    "\n",
    "result3 = result2.sort_values('sal', ascending = False )\n",
    "\n",
    "print(result3)"
   ]
  },
  {
   "cell_type": "markdown",
   "metadata": {},
   "source": [
    "## 문제148. 아래의 SQL을 판다스로 구현하시오!"
   ]
  },
  {
   "cell_type": "code",
   "execution_count": 23,
   "metadata": {},
   "outputs": [
    {
     "name": "stdout",
     "output_type": "stream",
     "text": [
      "         job   sal\n",
      "0    ANALYST  6000\n",
      "1      CLERK  4150\n",
      "2    MANAGER  8275\n",
      "3  PRESIDENT  5000\n",
      "       job   sal\n",
      "2  MANAGER  8275\n",
      "0  ANALYST  6000\n"
     ]
    }
   ],
   "source": [
    "\"\"\"\n",
    "SQL>\n",
    "select job, sum(sal)\n",
    "    from emp\n",
    "    where job != 'SALESMAN'\n",
    "    group by job\n",
    "    having sum(sal) >= 6000\n",
    "    order by sum(sal) desc;\n",
    "\"\"\"\n",
    "\n",
    "\n",
    "# Pandas\n",
    "\n",
    "import pandas as pd\n",
    "emp = pd.read_csv(\"d:\\\\data\\emp3.csv\")\n",
    "\n",
    "result = emp.groupby('job')['sal'].sum().reset_index()\n",
    "\n",
    "result1 = result[['job','sal']][result['job'] != 'SALESMAN']\n",
    "print(result1)\n",
    "\n",
    "result2 = result1[['job','sal']] [result1['sal'] >= 6000] \n",
    "\n",
    "result3 = result2.sort_values('sal', ascending = False )\n",
    "\n",
    "print(result3)\n",
    "\n",
    "\n",
    "# from -> where -> group by - > having -> selct -> order by"
   ]
  },
  {
   "cell_type": "markdown",
   "metadata": {},
   "source": [
    "## 예제74. 판다스와 오라클 분석함수 비교\n",
    "\n",
    "### 순위 출력하는 분석함수 : rank\n",
    "\n",
    "| 오라클 | 판다스 |\n",
    "|:------:|:------:|\n",
    "| rank() | rank() |"
   ]
  },
  {
   "cell_type": "code",
   "execution_count": null,
   "metadata": {},
   "outputs": [],
   "source": [
    "\"\"\"\n",
    "SQL>\n",
    "select ename, sal, rank() over (order by sal desc) 순위\n",
    "    from emp;\n",
    "\"\"\"\n",
    "\n",
    "# Pandas\n",
    "\n",
    "import pandas as pd\n",
    "\n",
    "emp = pd.read_csv(\"d:\\\\data\\emp3.csv\")\n",
    "\n",
    "emp['rnk'] = emp['sal'].rank(ascending = False).apply(int)\n",
    "\n",
    "emp = emp.sort_values('rnk', ascending = True)\n",
    "\n",
    "print(emp[['ename','sal','rnk']])"
   ]
  },
  {
   "cell_type": "markdown",
   "metadata": {},
   "source": [
    "## 문제149. 아래의 SQL을 판다스로 구현하시오!"
   ]
  },
  {
   "cell_type": "code",
   "execution_count": null,
   "metadata": {},
   "outputs": [],
   "source": [
    "\"\"\"\n",
    "SQL>\n",
    "select job, sum(sal), rank() over (order by sumsal desc) 순위\n",
    "    from (select job, sum(sal) as sumsal\n",
    "            from emp\n",
    "            group by job);\n",
    "\"\"\"\n",
    "\n",
    "# Pandas\n",
    "\n",
    "import pandas as pd\n",
    "\n",
    "emp = pd.read_csv(\"d:\\\\data\\emp3.csv\")\n",
    "\n",
    "empsub = emp.groupby('job')['sal'].sum().reset_index()\n",
    "\n",
    "print(empsub)\n",
    "\n",
    "empsub['rnk'] = empsub['sal'].rank(ascending = False).apply(int)\n",
    "empsub = empsub.sort_values('rnk', ascending = True)\n",
    "\n",
    "print(empsub[['job','sal','rnk']])"
   ]
  },
  {
   "cell_type": "code",
   "execution_count": 36,
   "metadata": {},
   "outputs": [
    {
     "name": "stdout",
     "output_type": "stream",
     "text": [
      "         job   sal\n",
      "0    ANALYST  6000\n",
      "1      CLERK  4150\n",
      "2    MANAGER  8275\n",
      "3  PRESIDENT  5000\n",
      "4   SALESMAN  5600\n",
      "         job   sal  rnk\n",
      "2    MANAGER  8275    1\n",
      "0    ANALYST  6000    2\n",
      "4   SALESMAN  5600    3\n",
      "3  PRESIDENT  5000    4\n",
      "1      CLERK  4150    5\n"
     ]
    }
   ],
   "source": [
    "import pandas as pd\n",
    "\n",
    "emp = pd.read_csv(\"d:\\\\data\\emp3.csv\")\n",
    "\n",
    "empsub = emp.groupby('job')['sal'].sum().reset_index()\n",
    "\n",
    "print(empsub)\n",
    "\n",
    "empsub['rnk'] = empsub['sal'].rank(ascending = False).apply(int)\n",
    "\n",
    "\n",
    "print(empsub[['job','sal','rnk']].sort_values('rnk', ascending = True))"
   ]
  },
  {
   "cell_type": "markdown",
   "metadata": {},
   "source": [
    "## 문제150. 아래 SQL을 Pandas로 구현하시오~"
   ]
  },
  {
   "cell_type": "code",
   "execution_count": 41,
   "metadata": {},
   "outputs": [
    {
     "name": "stdout",
     "output_type": "stream",
     "text": [
      "  telecom  age  rnk\n",
      "1      lg   40    1\n",
      "0      kt   34    2\n",
      "2     skt   34    2\n"
     ]
    }
   ],
   "source": [
    "\"\"\"\n",
    "SQL>\n",
    "select telecom, maxage, rank() over (order by maxage desc) 순위\n",
    "    from\n",
    "    (select telecom, max(age) as maxage\n",
    "        from emp10\n",
    "        group by telecom\n",
    "        );\n",
    "\"\"\"\n",
    "# Pandas\n",
    "\n",
    "import pandas as pd\n",
    "emp = pd.read_csv(\"d:\\\\data\\emp10.csv\")\n",
    "\n",
    "empsub = emp.groupby('telecom')['age'].max().reset_index()\n",
    "\n",
    "empsub['rnk'] = empsub['age'].rank(ascending = False).apply(int)\n",
    "\n",
    "print(empsub[['telecom','age','rnk']].sort_values('rnk', ascending = True))"
   ]
  },
  {
   "cell_type": "markdown",
   "metadata": {},
   "source": [
    "## 예제75. 문자열에서 특정위치의 문자 얻기\n",
    "\n",
    "문자열에서 특정 위치의 문자를 얻는 방법은 인덱싱을 이용하는 것입니다.  \n",
    "인덱스는 0부터 시작합니다. 파이썬 인덱스는 음수도 가능합니다."
   ]
  },
  {
   "cell_type": "code",
   "execution_count": 42,
   "metadata": {},
   "outputs": [
    {
     "name": "stdout",
     "output_type": "stream",
     "text": [
      "e\n"
     ]
    }
   ],
   "source": [
    "txt1 = 'A tale that was not right'\n",
    "print(txt1[5])"
   ]
  },
  {
   "cell_type": "markdown",
   "metadata": {},
   "source": [
    "## 문제151. 위의 txt1 변수에서 끝의 철자 g를 출력하시오!"
   ]
  },
  {
   "cell_type": "code",
   "execution_count": 43,
   "metadata": {},
   "outputs": [
    {
     "name": "stdout",
     "output_type": "stream",
     "text": [
      "g\n"
     ]
    }
   ],
   "source": [
    "txt1 = 'A tale that was not right'\n",
    "print(txt1[-3])"
   ]
  },
  {
   "cell_type": "markdown",
   "metadata": {},
   "source": [
    "## 예제75. 문자열에서 지정한 구간의 문자열 얻기\n",
    "\n",
    "문자열에서 특정 구간에 있는 문자열을 얻으려면 슬라이싱을 이용하면 된다."
   ]
  },
  {
   "cell_type": "code",
   "execution_count": 45,
   "metadata": {},
   "outputs": [
    {
     "name": "stdout",
     "output_type": "stream",
     "text": [
      "tale t\n"
     ]
    }
   ],
   "source": [
    "txt1 = 'A tale that was not right'\n",
    "print(txt1[2:8]) #2부터 8미만까지의 문자열을 출력\n",
    "print(txt1[2:]) #2부터 문자 끝까지 출력\n",
    "print(txt1[:8]) #문자열 처음부터 8미만까지 출력\n"
   ]
  },
  {
   "cell_type": "markdown",
   "metadata": {},
   "source": [
    "## 문자151. 위의 슬라이싱 문법을 이용해서 아래의 txt변수의 문자열을 아래와 같이 출력하시오!\n",
    "\n",
    "txt = 'python'\n",
    "\n",
    "결과:  \n",
    "p  \n",
    "py  \n",
    "pyt  \n",
    "pytho  \n",
    "python  \n"
   ]
  },
  {
   "cell_type": "code",
   "execution_count": 53,
   "metadata": {},
   "outputs": [
    {
     "name": "stdout",
     "output_type": "stream",
     "text": [
      "p\n",
      "py\n",
      "pyt\n",
      "pyth\n",
      "pytho\n",
      "python\n"
     ]
    }
   ],
   "source": [
    "txt = 'python'\n",
    "\n",
    "for i in range(1,7):\n",
    "    print(txt[0:i])"
   ]
  },
  {
   "cell_type": "code",
   "execution_count": 54,
   "metadata": {},
   "outputs": [
    {
     "name": "stdout",
     "output_type": "stream",
     "text": [
      "p\n",
      "py\n",
      "pyt\n",
      "pyth\n",
      "pytho\n",
      "python\n"
     ]
    }
   ],
   "source": [
    "txt = 'python'\n",
    "\n",
    "for i in range(len(txt)):\n",
    "    print(txt[:i+1])"
   ]
  },
  {
   "cell_type": "markdown",
   "metadata": {},
   "source": [
    "## 예제77. 문자열에서 홀수 번째 문자만 출력하기\n",
    "\n",
    "주어진 문자열에서 홀수 번째 문자만 추출하는 방법은 슬라이싱의 스탭을 이용하면 간단해진다."
   ]
  },
  {
   "cell_type": "code",
   "execution_count": 56,
   "metadata": {},
   "outputs": [
    {
     "name": "stdout",
     "output_type": "stream",
     "text": [
      "abcdefghijk\n"
     ]
    }
   ],
   "source": [
    "txt = 'aAbBcCdDeEfFgGhHiIjJkK'\n",
    "result = txt[::2] # 마지막에 있는 2가 step!!\n",
    "print(result) "
   ]
  },
  {
   "cell_type": "markdown",
   "metadata": {},
   "source": [
    "## 문제152. 문자열 txt에서 짝수번째 철자만 추출하시오!"
   ]
  },
  {
   "cell_type": "code",
   "execution_count": 57,
   "metadata": {},
   "outputs": [
    {
     "name": "stdout",
     "output_type": "stream",
     "text": [
      "ABCDEFGHIJK\n"
     ]
    }
   ],
   "source": [
    "txt = 'aAbBcCdDeEfFgGhHiIjJkK'\n",
    "result = txt[1::2] # 마지막에 있는 2가 step!!\n",
    "print(result) "
   ]
  },
  {
   "cell_type": "markdown",
   "metadata": {},
   "source": [
    "## 예제78. 문자열 거꾸로 만들기\n",
    "\n",
    "슬라이싱을 이용하면 매우 간단하게 거꾸로 된 문자열을 얻을 수 있다.  \n",
    "문자열 txt의 처음부터 끝까지 스텝 -1로 슬라이싱을 하면 된다."
   ]
  },
  {
   "cell_type": "code",
   "execution_count": 58,
   "metadata": {},
   "outputs": [
    {
     "name": "stdout",
     "output_type": "stream",
     "text": [
      "KkJjIiHhGgFfEeDdCcBbAa\n"
     ]
    }
   ],
   "source": [
    "txt = 'aAbBcCdDeEfFgGhHiIjJkK'\n",
    "result = txt[::-1] \n",
    "print(result) "
   ]
  },
  {
   "cell_type": "markdown",
   "metadata": {},
   "source": [
    "## 문제153. txt 문자열을 거꾸로 출력하는데 홀수 번째 문자만 출력해보시오!"
   ]
  },
  {
   "cell_type": "code",
   "execution_count": 63,
   "metadata": {},
   "outputs": [
    {
     "name": "stdout",
     "output_type": "stream",
     "text": [
      "KJIHGFEDCBA\n"
     ]
    }
   ],
   "source": [
    "txt = 'aAbBcCdDeEfFgGhHiIjJkK'\n",
    "result = txt[::-2] \n",
    "print(result) "
   ]
  },
  {
   "cell_type": "markdown",
   "metadata": {},
   "source": [
    "## 문제154. txt 문자열을 거꾸로 출력하는데 짝수 번째 문자만 출력하시오!"
   ]
  },
  {
   "cell_type": "code",
   "execution_count": 1,
   "metadata": {},
   "outputs": [
    {
     "name": "stdout",
     "output_type": "stream",
     "text": [
      "kjihgfedcba\n"
     ]
    }
   ],
   "source": [
    "txt = 'aAbBcCdDeEfFgGhHiIjJkK'\n",
    "result = txt[-2::-2] \n",
    "print(result) "
   ]
  },
  {
   "cell_type": "markdown",
   "metadata": {},
   "source": [
    "## 예제79. 두개의 문자열 합치기(+)\n",
    "\n",
    "두개의 문자열을 합치는 방법은 매우 간단하다.  \n",
    "문자열1 + 문자열2 + 문자열3으로 + 연산자를 이용하면 된다.  "
   ]
  },
  {
   "cell_type": "code",
   "execution_count": 67,
   "metadata": {},
   "outputs": [
    {
     "name": "stdout",
     "output_type": "stream",
     "text": [
      "재훈형베리핸섬\n"
     ]
    }
   ],
   "source": [
    "print('재훈형' + '베리' + '핸섬')"
   ]
  },
  {
   "cell_type": "markdown",
   "metadata": {},
   "source": [
    "## 예제80. 문자열을 반복해서 새로운 문자열로 만들기(*)\n",
    "\n",
    "주어진 문자열을 반복하고자 할 때 * 연산자를 이용한다.\n"
   ]
  },
  {
   "cell_type": "code",
   "execution_count": 66,
   "metadata": {},
   "outputs": [
    {
     "name": "stdout",
     "output_type": "stream",
     "text": [
      "여러분~ 여러분~ 여러분~ \n"
     ]
    }
   ],
   "source": [
    "print('여러분~ '*3)"
   ]
  },
  {
   "cell_type": "markdown",
   "metadata": {},
   "source": [
    "## 예제81. 문자열에서 특정 문자가 있는지 확인하기!(in)\n",
    "\n",
    "문자열에서 특정 문자가 있는지 없는지 확인하려면 in 키워드를 이용하면 된다."
   ]
  },
  {
   "cell_type": "code",
   "execution_count": null,
   "metadata": {},
   "outputs": [],
   "source": [
    "msg = 'abcdefghijklmn'\n",
    "\n",
    "if 'b' in msg:\n",
    "    print('존재합니다.')\n",
    "else:\n",
    "    print('존재하지 않습니다.')"
   ]
  },
  {
   "cell_type": "code",
   "execution_count": 68,
   "metadata": {},
   "outputs": [
    {
     "name": "stdout",
     "output_type": "stream",
     "text": [
      "존재합니다.\n"
     ]
    }
   ],
   "source": [
    "msg = 'I am a boy'\n",
    "if 'boy' in msg:\n",
    "    print('존재합니다.')\n",
    "else:\n",
    "    print('존재하지 않습니다.')"
   ]
  },
  {
   "cell_type": "markdown",
   "metadata": {},
   "source": [
    "## 예제83. 파이썬 comprehension\n",
    "\n",
    "파이썬 Comprehension을 이용해서 파이썬 코드를 더 간결하고 심플하게 작성 할 수 있습니다.\n",
    "\n",
    "＊ Python comprehension 코드의 종류 3가지\n",
    "\n",
    "1. list comprehension\n",
    "2. set comprehension\n",
    "3. dictionary comprehension\n"
   ]
  },
  {
   "cell_type": "markdown",
   "metadata": {},
   "source": [
    "## 예제 : 아래 a리스트에서 숫자만 추출해서 리스트에 담아 출력하시오!"
   ]
  },
  {
   "cell_type": "code",
   "execution_count": 73,
   "metadata": {},
   "outputs": [
    {
     "name": "stdout",
     "output_type": "stream",
     "text": [
      "[1, 2, 3]\n"
     ]
    }
   ],
   "source": [
    "# comprehension 안한 코드\n",
    "\n",
    "a = [1, 2, 'A', False, 3]\n",
    "b = []\n",
    "for i in a:\n",
    "    if type(i) == int:\n",
    "        b.append(i)\n",
    "        \n",
    "print(b)"
   ]
  },
  {
   "cell_type": "code",
   "execution_count": 75,
   "metadata": {},
   "outputs": [
    {
     "name": "stdout",
     "output_type": "stream",
     "text": [
      "[1, 2, 3]\n"
     ]
    }
   ],
   "source": [
    "# comprehension 한 코드\n",
    "\n",
    "a = [1, 2, 'A', False, 3]\n",
    "b = [i for i in a  if type(i) == int]\n",
    "\n",
    "print(b)"
   ]
  },
  {
   "cell_type": "markdown",
   "metadata": {},
   "source": [
    "### comprehension 문법표현 \n",
    "\n",
    "___출력표현식 for 요소 in 입력시퀀스 if 조건식 (그냥 b보고 습득하는것을 추천)___"
   ]
  },
  {
   "cell_type": "markdown",
   "metadata": {},
   "source": [
    "## 문제155. list comprehension을 이용해서 아래의 결과를 출력하시오!\n",
    "\n",
    "[1,3,5,7,9,11,13,15,17,19]"
   ]
  },
  {
   "cell_type": "code",
   "execution_count": null,
   "metadata": {},
   "outputs": [],
   "source": [
    "a = []\n",
    "for i in range(0,21):\n",
    "    a.append(i)\n",
    "    \n",
    "print(a)\n",
    "\n",
    "b = [i for i in a if i%2 == 1]\n",
    "print(b)"
   ]
  },
  {
   "cell_type": "code",
   "execution_count": 82,
   "metadata": {},
   "outputs": [
    {
     "name": "stdout",
     "output_type": "stream",
     "text": [
      "[1, 3, 5, 7, 9, 11, 13, 15, 17, 19]\n"
     ]
    }
   ],
   "source": [
    "print([2*i + 1 for i in range(10)])"
   ]
  },
  {
   "cell_type": "markdown",
   "metadata": {},
   "source": [
    "## 문제156. emp2.csv에서 최대월급을 출력하는 아래의 코드를 comprehension 코드로 변경하시오!"
   ]
  },
  {
   "cell_type": "code",
   "execution_count": 86,
   "metadata": {},
   "outputs": [
    {
     "name": "stdout",
     "output_type": "stream",
     "text": [
      "5000\n"
     ]
    }
   ],
   "source": [
    "import csv\n",
    "file = open(\"d:\\\\data\\emp2.csv\", \"r\")\n",
    "emp_csv = csv.reader(file)\n",
    "emp_sal = []\n",
    "\n",
    "for i in emp_csv:\n",
    "    emp_sal.append(int(i[5]))\n",
    "\n",
    "print(max(emp_sal))\n",
    "\n"
   ]
  },
  {
   "cell_type": "code",
   "execution_count": null,
   "metadata": {},
   "outputs": [],
   "source": [
    "\"\"\"\n",
    "emp_sal = []\n",
    "\n",
    "for i in emp_csv:\n",
    "    emp_sal.append(int(i[5]))\n",
    "    \n",
    "## 위의 3줄을 list comprehension을 이용하여 한줄로 만들어보기!##\n",
    "\"\"\"\"\"\""
   ]
  },
  {
   "cell_type": "code",
   "execution_count": 89,
   "metadata": {},
   "outputs": [
    {
     "name": "stdout",
     "output_type": "stream",
     "text": [
      "5000\n"
     ]
    }
   ],
   "source": [
    "import csv\n",
    "file = open(\"d:\\\\data\\emp2.csv\", \"r\")\n",
    "\n",
    "emp_csv = csv.reader(file)\n",
    "\n",
    "emp_sal = [int(i[5]) for i in emp_csv]\n",
    "\n",
    "print(max(emp_sal))"
   ]
  },
  {
   "cell_type": "markdown",
   "metadata": {},
   "source": [
    "## ＊ set comprehension\n",
    "\n",
    "문법 : { 출력표현식 for 요소 in 입력시퀀스 if 조건식 }\n",
    "\n",
    "## 예제 : 아래의 리스트의 데이트를 중복 제거해서 출력하시오!"
   ]
  },
  {
   "cell_type": "markdown",
   "metadata": {},
   "source": [
    "a = [1,1,2,2,3,3,3,4]    ---->   {1,2,3,4}"
   ]
  },
  {
   "cell_type": "code",
   "execution_count": 91,
   "metadata": {},
   "outputs": [
    {
     "name": "stdout",
     "output_type": "stream",
     "text": [
      "{1, 2, 3, 4}\n"
     ]
    }
   ],
   "source": [
    "# Comprehension을 안한 코드\n",
    "a = [1,1,2,2,3,3,3,4]\n",
    "b = []\n",
    "\n",
    "for i in a:\n",
    "    b.append(i)    \n",
    "b2 = set(b) # set을 이용하여 중복을 제거 할 수 있다.\n",
    "print(b2)"
   ]
  },
  {
   "cell_type": "code",
   "execution_count": 1,
   "metadata": {},
   "outputs": [
    {
     "name": "stdout",
     "output_type": "stream",
     "text": [
      "{1, 2, 3, 4}\n",
      "<class 'set'>\n",
      "[1, 2, 3, 4]\n"
     ]
    }
   ],
   "source": [
    "\"\"\"\n",
    "b = []\n",
    "\n",
    "for i in a:\n",
    "    b.append(i)    \n",
    "b2 = set(b)\n",
    "\"\"\"\n",
    "# 이 4줄을 comprehension을 이용하여 1줄로 만드는 방법.\n",
    "# comprehension 을 사용한 코드\n",
    "\n",
    "a = [1,1,2,2,3,3,3,4]\n",
    "b = {i for i in a}\n",
    "\n",
    "print(b)\n",
    "print(type(b))\n",
    "c = list(b)\n",
    "print(c)"
   ]
  },
  {
   "cell_type": "markdown",
   "metadata": {},
   "source": [
    "## ＊ 딕셔너리 comprehension\n",
    "\n",
    "{ key:Value for 요소 in 입력시퀀스 if 조건식 }"
   ]
  },
  {
   "cell_type": "code",
   "execution_count": 94,
   "metadata": {},
   "outputs": [
    {
     "name": "stdout",
     "output_type": "stream",
     "text": [
      "<class 'dict'>\n",
      "{1: '김인엽', 2: '최인선', 3: '김재훈', 4: '노민준'}\n",
      "dict_keys([1, 2, 3, 4])\n",
      "dict_values(['김인엽', '최인선', '김재훈', '노민준'])\n",
      "dict_items([(1, '김인엽'), (2, '최인선'), (3, '김재훈'), (4, '노민준')])\n"
     ]
    }
   ],
   "source": [
    "id_name = {1:'김인엽', 2:'최인선', 3:'김재훈', 4:'노민준'}\n",
    "print(type(id_name))\n",
    "print(id_name)\n",
    "print(id_name.keys())\n",
    "print(id_name.values())\n",
    "print(id_name.items()) # dict_items 는 key 와 value가 같이 나온다."
   ]
  },
  {
   "cell_type": "markdown",
   "metadata": {},
   "source": [
    "## 예제 : id_name에 있는 데이터를 a라는 딕셔너리로 구성하시오!"
   ]
  },
  {
   "cell_type": "code",
   "execution_count": 100,
   "metadata": {},
   "outputs": [
    {
     "name": "stdout",
     "output_type": "stream",
     "text": [
      "{1: '김인엽', 2: '최인선', 3: '김재훈', 4: '노민준'}\n"
     ]
    }
   ],
   "source": [
    "# comprehension을 안 쓴 코드\n",
    "# id_name 딕셔너리를 a 딕셔너리에 옮기는 과정\n",
    "\n",
    "id_name = {1:'김인엽', 2:'최인선', 3:'김재훈', 4:'노민준'}\n",
    "a = {}\n",
    "for key,val in id_name.items():\n",
    "    a[key] = val\n",
    "print(a)"
   ]
  },
  {
   "cell_type": "code",
   "execution_count": 99,
   "metadata": {},
   "outputs": [
    {
     "name": "stdout",
     "output_type": "stream",
     "text": [
      "{1: '김인엽', 2: '최인선', 3: '김재훈', 4: '노민준'}\n"
     ]
    }
   ],
   "source": [
    "# comprehension 사용한 코드\n",
    "\n",
    "\"\"\"\n",
    "a = {}\n",
    "for key,val in id_name.items():\n",
    "    a[val] = key\n",
    "print(a)\n",
    "\n",
    "이부분을 간단하게 표현할 수 있다.\n",
    "\"\"\"\n",
    "\n",
    "id_name = {1:'김인엽', 2:'최인선', 3:'김재훈', 4:'노민준'}\n",
    "a = { key : val for key, val in id_name.items()}\n",
    "print(a)"
   ]
  },
  {
   "cell_type": "markdown",
   "metadata": {},
   "source": [
    "## 예제84. 문자열이 알파벳인지 검사하기(isalpha)\n",
    "\n",
    "문자열은 문자나 숫자, 기호들로 구성됩니다.  \n",
    "코드를 작성하다 보면 특정 문자열이 한글이나 알파벳과 같이  \n",
    "사람의 언어를 표현하기 위해 사용되는 문자로만 구성되어 있는지  \n",
    "확인해야할 경우가 있다.  \n",
    "\n",
    "파이썬 문자열 객체가 제공하는 메소드인 isalpha()는 주어진 문자열이 사람의 언어 문자로만 구성되어 있는지 확인해준다."
   ]
  },
  {
   "cell_type": "code",
   "execution_count": null,
   "metadata": {},
   "outputs": [],
   "source": [
    "tx1 = 'Warcraft three'\n",
    "txt2 = '안녕'\n",
    "txt3 = '3PO'\n",
    "\n",
    "print (txt1.isalpha()) # 공백때문에 False\n",
    "print (txt2.isalpha()) # True\n",
    "print (txt3.isalpha()) # 숫자때문에 False"
   ]
  },
  {
   "cell_type": "markdown",
   "metadata": {},
   "source": [
    "## 문제157. 겨울왕국 대본에서 알파벳 문자의 갯수가 어떻게 되는가?"
   ]
  },
  {
   "cell_type": "code",
   "execution_count": null,
   "metadata": {},
   "outputs": [],
   "source": [
    "text_file = open(\"d:\\\\data\\winter.txt\")\n",
    "lines = text_file.readlines() # 텍스트 파일을 한줄 씩 읽기\n",
    "print(lines) # 하나의 리스트에 겨울왕국 대본 전체가 들어가 있는 상황"
   ]
  },
  {
   "cell_type": "code",
   "execution_count": null,
   "metadata": {},
   "outputs": [],
   "source": [
    "text_file = open(\"d:\\\\data\\winter.txt\")\n",
    "lines = text_file.readlines()\n",
    "\n",
    "\n",
    "for i in lines:\n",
    "    print(i) # 한줄씩 나누어서 print 하기"
   ]
  },
  {
   "cell_type": "code",
   "execution_count": null,
   "metadata": {},
   "outputs": [],
   "source": [
    "text_file = open(\"d:\\\\data\\winter.txt\")\n",
    "lines = text_file.readlines()\n",
    "\n",
    "\n",
    "for i in lines:\n",
    "    for k in i:\n",
    "        print(k) # 한줄씩 읽은 뒤 철자 하나씩 표현"
   ]
  },
  {
   "cell_type": "code",
   "execution_count": 107,
   "metadata": {},
   "outputs": [
    {
     "name": "stdout",
     "output_type": "stream",
     "text": [
      "82180\n"
     ]
    }
   ],
   "source": [
    "# 최종답\n",
    "\n",
    "text_file = open(\"d:\\\\data\\winter.txt\")\n",
    "lines = text_file.readlines() # 텍스트 파일을 한줄 씩 읽기\n",
    "cnt = 0\n",
    "\n",
    "for i in lines: \n",
    "    for k in i:\n",
    "        if k.isalpha() == True:\n",
    "            cnt += 1\n",
    "            \n",
    "print(cnt)"
   ]
  },
  {
   "cell_type": "code",
   "execution_count": null,
   "metadata": {},
   "outputs": [],
   "source": [
    "\"\"\"\n",
    "for k in i:\n",
    "    if k.isalpha() == True:\n",
    "        cnt += 1\n",
    "        \n",
    "을 comprehension으로 만들어보기\n",
    "\"\"\"\n",
    "text_file = open(\"d:\\\\data\\winter.txt\")\n",
    "lines = text_file.readlines() # 텍스트 파일을 한줄 씩 읽기\n",
    "total = 0\n",
    "\n",
    "for s in lines: \n",
    "    cnt = sum(k.isalpha() for k in s) # True = 1, False = 0\n",
    "    print(s,cnt)\n",
    "    total = total + cnt\n",
    "    \n",
    "print(total)"
   ]
  },
  {
   "cell_type": "markdown",
   "metadata": {},
   "source": [
    "## 예제85. 문자열이 숫자인지 검사하기(isdigit)\n",
    "\n",
    "문자열 객체의 isdigit() 메소드는 문자열을 구성하는 요소가  \n",
    "모두 숫자인지 체크하고 True 또는 False를 리턴합니다.  \n",
    "\n",
    "| 번호 |  내장함수 |            설명            |\n",
    "|:----:|:---------:|:--------------------------:|\n",
    "|   1  | isalpha() | 알파벳(한글)이 맞는지 확인 |\n",
    "|   2  | isdigit() |     숫자가 맞는지 확인     |\n",
    "|   3  | isspace() |     공백이 맞는지 확인     |"
   ]
  },
  {
   "cell_type": "markdown",
   "metadata": {},
   "source": [
    "## 문제159. 겨울왕국에 숫자가 몇개가 있는지 출력하시오!"
   ]
  },
  {
   "cell_type": "code",
   "execution_count": null,
   "metadata": {},
   "outputs": [],
   "source": [
    "text_file = open(\"d:\\\\data\\winter.txt\")\n",
    "lines = text_file.readlines() # 텍스트 파일을 한줄 씩 읽기\n",
    "total = 0\n",
    "\n",
    "for s in lines: \n",
    "    cnt = sum(k.isdigit() for k in s)\n",
    "    print(s,cnt)\n",
    "    total = total + cnt\n",
    "    \n",
    "print(total)"
   ]
  },
  {
   "cell_type": "markdown",
   "metadata": {},
   "source": [
    "## ■ 문자열이 특수문자인지 검사하기\n",
    "\n",
    "#### ★ 특수문자 = 전체문자 - (문자 + 숫자 + 공백)\n",
    "\n",
    "\n",
    "__전체문자__ = 문자, 숫자, 공백, 특수문자 전부 다 (all)"
   ]
  },
  {
   "cell_type": "markdown",
   "metadata": {},
   "source": [
    "## 문제160. 겨울왕국 대본의 전체 문자의 갯수가 어떻게 되는지?"
   ]
  },
  {
   "cell_type": "code",
   "execution_count": 126,
   "metadata": {},
   "outputs": [
    {
     "name": "stdout",
     "output_type": "stream",
     "text": [
      "109438\n"
     ]
    }
   ],
   "source": [
    "text_file = open(\"d:\\\\data\\winter.txt\")\n",
    "lines = text_file.readlines()\n",
    "total1 = 0\n",
    "\n",
    "for s in lines:\n",
    "    cnt = len(s)\n",
    "    total1 = total1 + cnt\n",
    "    \n",
    "print(total1)\n"
   ]
  },
  {
   "cell_type": "markdown",
   "metadata": {},
   "source": [
    "## 문제161. 겨울왕국 대본에서 특수문자가 몇개가 있는지 확인하시오!\n",
    "\n",
    "특수문자 = 전체문자 -(문자 + 숫자 + 공백)"
   ]
  },
  {
   "cell_type": "code",
   "execution_count": 9,
   "metadata": {},
   "outputs": [
    {
     "name": "stdout",
     "output_type": "stream",
     "text": [
      "82180\n",
      "264\n",
      "19911\n",
      "109438\n",
      "7083\n"
     ]
    }
   ],
   "source": [
    "text_file = open(\"d:\\\\data\\winter.txt\")\n",
    "lines = text_file.readlines() # 텍스트 파일을 한줄 씩 읽기\n",
    "total1 = 0\n",
    "total2 = 0\n",
    "total3 = 0\n",
    "total4 = 0\n",
    "\n",
    "for s in lines: \n",
    "    cnt1 = sum(k.isalpha() for k in s)\n",
    "    cnt2 = sum(k.isdigit() for k in s)\n",
    "    cnt3 = sum(k.isspace() for k in s)\n",
    "    cnt4 = len(s)\n",
    "    \n",
    "    \n",
    "    total1 = total1 + cnt1\n",
    "    total2 = total2 + cnt2\n",
    "    total3 = total3 + cnt3\n",
    "    total4 = total4 + cnt4\n",
    "    \n",
    "print(total1)\n",
    "print(total2)\n",
    "print(total3)\n",
    "print(total4)\n",
    "\n",
    "print(total4 - total1 - total2 -total3)"
   ]
  },
  {
   "cell_type": "code",
   "execution_count": 10,
   "metadata": {},
   "outputs": [
    {
     "ename": "FileNotFoundError",
     "evalue": "[Errno 2] No such file or directory: 'd:\\\\datadata\\\\winter.txt'",
     "output_type": "error",
     "traceback": [
      "\u001b[1;31m---------------------------------------------------------------------------\u001b[0m",
      "\u001b[1;31mFileNotFoundError\u001b[0m                         Traceback (most recent call last)",
      "\u001b[1;32m<ipython-input-10-bdf3c59158ac>\u001b[0m in \u001b[0;36m<module>\u001b[1;34m\u001b[0m\n\u001b[1;32m----> 1\u001b[1;33m \u001b[0mtext_file\u001b[0m \u001b[1;33m=\u001b[0m \u001b[0mopen\u001b[0m\u001b[1;33m(\u001b[0m\u001b[1;34m\"d:\\\\datadata\\winter.txt\"\u001b[0m\u001b[1;33m)\u001b[0m\u001b[1;33m\u001b[0m\u001b[1;33m\u001b[0m\u001b[0m\n\u001b[0m\u001b[0;32m      2\u001b[0m \u001b[0mlines\u001b[0m \u001b[1;33m=\u001b[0m \u001b[0mtext_file\u001b[0m\u001b[1;33m.\u001b[0m\u001b[0mreadlines\u001b[0m\u001b[1;33m(\u001b[0m\u001b[1;33m)\u001b[0m   \u001b[1;31m# 텍스트 파일을 한줄 씩 읽기\u001b[0m\u001b[1;33m\u001b[0m\u001b[1;33m\u001b[0m\u001b[0m\n\u001b[0;32m      3\u001b[0m \u001b[1;33m\u001b[0m\u001b[0m\n\u001b[0;32m      4\u001b[0m \u001b[0mcnt2\u001b[0m \u001b[1;33m=\u001b[0m \u001b[1;36m0\u001b[0m\u001b[1;33m\u001b[0m\u001b[1;33m\u001b[0m\u001b[0m\n\u001b[0;32m      5\u001b[0m \u001b[1;32mfor\u001b[0m \u001b[0mi\u001b[0m \u001b[1;32min\u001b[0m \u001b[0mlines\u001b[0m\u001b[1;33m:\u001b[0m\u001b[1;33m\u001b[0m\u001b[1;33m\u001b[0m\u001b[0m\n",
      "\u001b[1;31mFileNotFoundError\u001b[0m: [Errno 2] No such file or directory: 'd:\\\\datadata\\\\winter.txt'"
     ]
    }
   ],
   "source": [
    "text_file = open(\"d:\\\\datadata\\winter.txt\")\n",
    "lines = text_file.readlines()   # 텍스트 파일을 한줄 씩 읽기\n",
    "\n",
    "cnt2 = 0\n",
    "for i in lines:\n",
    "    cnt2 += sum(1 for k in i if not ( k.isalpha() or k.isdigit() or k.isspace() ) )    \n",
    "        \n",
    "print(cnt2)"
   ]
  },
  {
   "cell_type": "markdown",
   "metadata": {},
   "source": [
    "## 오늘의 마지막 문제 :   \n",
    "\n",
    "### 이진탐색 스터디를 다 한뒤에 이진 탐색을 이해하고 아래의 리스트에서 문자 h를 이진 탐색으로 검색하시오.\n",
    "\n",
    "아래의 리스트 a에서 67을 검색하는 방법을 이진탐색으로 알려줄 예정.  \n",
    "\n",
    "a = [1,7,11,12,14,23,33,47,51,64,67,77,139,672,871]  \n",
    "\n",
    "이진탐색(index scan)이 순차탐색(full table scan)보다 훨씬 검색속도가 빠르다."
   ]
  },
  {
   "cell_type": "code",
   "execution_count": 135,
   "metadata": {},
   "outputs": [
    {
     "name": "stdout",
     "output_type": "stream",
     "text": [
      "97\n",
      "98\n",
      "115\n"
     ]
    }
   ],
   "source": [
    "\"\"\"\n",
    "SQL>\n",
    "select ename, sal\n",
    "    from emp\n",
    "    where ename = 'SCOTT';\n",
    "\"\"\"\n",
    "b = ['a','b','c','d','e','f','g','h','i','j','k','i','m','n','o','p','q','r','s']\n",
    "\n",
    "print(ord('a')) # 알파벳 a에 대한 아스키 코드\n",
    "print(ord('b'))\n",
    "print(ord('s'))\n",
    "\n",
    "#구글에서 아스키 코드표를 입력해볼것"
   ]
  },
  {
   "cell_type": "code",
   "execution_count": 136,
   "metadata": {},
   "outputs": [
    {
     "name": "stdout",
     "output_type": "stream",
     "text": [
      "[97, 98, 99, 100, 101, 102, 103, 104, 105, 106, 107, 105, 109, 110, 111, 112, 113, 114, 115]\n"
     ]
    }
   ],
   "source": [
    "a = []\n",
    "b = ['a','b','c','d','e','f','g','h','i','j','k','i','m','n','o','p','q','r','s']\n",
    "\n",
    "for i in range(0,len(b)):\n",
    "        a.append(ord(b[i]))\n",
    "\n",
    "print(a)"
   ]
  },
  {
   "cell_type": "code",
   "execution_count": 7,
   "metadata": {},
   "outputs": [
    {
     "name": "stdout",
     "output_type": "stream",
     "text": [
      "검색할 문자를 입력하세요~h\n",
      "['h']\n"
     ]
    }
   ],
   "source": [
    "#%% 위의 답을 def로 정의해보기 \n",
    "# Tip. 컴퓨터는 문자끼리 부등호로 비교할 때 자동으로 아스키코드로 비교한다.\n",
    "# 따라서 굳이 ord를 쓸 필요까지는 없다.\n",
    "# 문자도 sort하면 아스키 코드값대로 순서대로 정렬된다.\n",
    "def b_search(b):\n",
    "    try:\n",
    "        d = input('검색할 문자를 입력하세요~')\n",
    "        for i in range(1,len(b)): \n",
    "        # range범위는 큰 의미없음 그냥넉넉하게 반복문 돌리려고하는거임.\n",
    "        # 따라서 while true: 로 무한루프 돌려도 됨.\n",
    "            \n",
    "            half = int(len(b)/2) #리스트의 중앙값의 위치 len(a)/2에다가 int로 정수형만들기\n",
    "            \n",
    "            if d > b[half]: # 찾고자 하는 값이 중앙값보다 클 때\n",
    "                del b[0:half+1] #처음부터 중간까지 cut\n",
    "            \n",
    "            elif d < b[half]: # 찾고자 하는 값이 중앙값보다 클 때\n",
    "                del b[half:] # 중간부터 끝까지 cut\n",
    "            \n",
    "            else: # d = b[half] 찾고자 하는 값이 중앙값이랑 같을 떄\n",
    "                del b[0:half] #왼쪽 사이드 다 cut\n",
    "                del b[1:] #오른쪽 사이드 다 cut\n",
    "                break\n",
    "        return b\n",
    "    except:\n",
    "        return print('해당 문자가 없습니다.')\n",
    "\n",
    "b = ['a','b','c','d','e','f','g','h','i','j','k','i','m','n','o','p','q','r','s']\n",
    "print(b_search(b))\n"
   ]
  }
 ],
 "metadata": {
  "kernelspec": {
   "display_name": "Python 3",
   "language": "python",
   "name": "python3"
  },
  "language_info": {
   "codemirror_mode": {
    "name": "ipython",
    "version": 3
   },
   "file_extension": ".py",
   "mimetype": "text/x-python",
   "name": "python",
   "nbconvert_exporter": "python",
   "pygments_lexer": "ipython3",
   "version": "3.7.4"
  }
 },
 "nbformat": 4,
 "nbformat_minor": 2
}
