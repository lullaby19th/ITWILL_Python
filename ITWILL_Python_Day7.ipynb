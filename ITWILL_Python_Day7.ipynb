{
 "cells": [
  {
   "cell_type": "markdown",
   "metadata": {},
   "source": [
    "## Day7 점심시간문제  \n",
    "동전 2개를 동시에 던졌을때의 확률분포를 막대그래프로 그리시오 ~"
   ]
  },
  {
   "cell_type": "code",
   "execution_count": 1,
   "metadata": {},
   "outputs": [
    {
     "name": "stdout",
     "output_type": "stream",
     "text": [
      "시행횟수를 입력하시오10000\n"
     ]
    },
    {
     "data": {
      "text/plain": [
       "<Figure size 640x480 with 1 Axes>"
      ]
     },
     "metadata": {},
     "output_type": "display_data"
    }
   ],
   "source": [
    "import numpy as np\n",
    "import matplotlib.pyplot as plt\n",
    "import random\n",
    "s1 = 0\n",
    "s2 = 0\n",
    "s3 = 0\n",
    "\n",
    "y = int(input('시행횟수를 입력하시오'))\n",
    "\n",
    "for i in range(y+1):\n",
    "    a = random.randint(0,1) \n",
    "    b = random.randint(0,1)\n",
    "\n",
    "    if a+b == 2:\n",
    "        s1 += 1  \n",
    "\n",
    "    elif a+b == 1:\n",
    "        s2 += 1\n",
    "\n",
    "    else:\n",
    "        s3 += 1      \n",
    "\n",
    "y1_value = (s1/y, s2/y, s3/y) # y값\n",
    "\n",
    "x_name=('0', '1', '2') # x값\n",
    "\n",
    "n_groups = len(x_name)\n",
    "\n",
    "index = np.arange(n_groups)\n",
    "\n",
    "plt.bar(index, y1_value, tick_label=x_name, align='center')\n",
    "\n",
    "plt.xlabel('coin') # x축의 이름\n",
    "\n",
    "plt.ylabel('proba') # y축의 이름\n",
    "\n",
    "plt.title('bar chart') # 그래프 전체의 이름\n",
    "\n",
    "plt.xlim( -1, n_groups) # x 축 값의 범위 -1 ~ n_group\n",
    "\n",
    "plt.ylim( 0, 1) # y축 값의범위 0~1\n",
    "\n",
    "plt.show()\n",
    "\n"
   ]
  },
  {
   "cell_type": "markdown",
   "metadata": {},
   "source": [
    "### ＊ list객체의 sort() 메소드와 reverse()메소드를 테스트"
   ]
  },
  {
   "cell_type": "code",
   "execution_count": 2,
   "metadata": {},
   "outputs": [
    {
     "name": "stdout",
     "output_type": "stream",
     "text": [
      "[1, 2, 3, 7, 9, 10]\n",
      "[10, 9, 7, 3, 2, 1]\n"
     ]
    }
   ],
   "source": [
    "a = [7,2,9,1,10,3]\n",
    "a.sort()\n",
    "print(a)\n",
    "\n",
    "a.reverse()\n",
    "print(a)"
   ]
  },
  {
   "cell_type": "markdown",
   "metadata": {},
   "source": [
    "## 문제101.  \n",
    "## 오라클과 파이썬을 연동하여 우리반 테이블의 나이 데이터를 a라는 비어있는 리스트에 담고\n",
    "## 출력하시오"
   ]
  },
  {
   "cell_type": "code",
   "execution_count": 3,
   "metadata": {},
   "outputs": [
    {
     "name": "stdout",
     "output_type": "stream",
     "text": [
      "    AGE\n",
      "0    32\n",
      "1    30\n",
      "2    26\n",
      "3    25\n",
      "4    34\n",
      "5    25\n",
      "6    27\n",
      "7    31\n",
      "8    27\n",
      "9    28\n",
      "10   32\n",
      "11   30\n",
      "12   29\n",
      "13   27\n",
      "14   34\n",
      "15   26\n",
      "16   31\n",
      "17   27\n",
      "18   25\n",
      "19   27\n",
      "20   27\n",
      "21   25\n",
      "22   32\n",
      "23   26\n",
      "24   31\n",
      "25   24\n",
      "26   25\n",
      "27   29\n",
      "28   40\n",
      "[24, 25, 25, 25, 25, 25, 26, 26, 26, 27, 27, 27, 27, 27, 27, 28, 29, 29, 30, 30, 31, 31, 31, 32, 32, 32, 34, 34, 40]\n"
     ]
    }
   ],
   "source": [
    "import  cx_Oracle  # 오라클과 파이썬을 연동하기 위한 모듈\n",
    "\n",
    "import  pandas  as  pd\n",
    "\n",
    "dsn = cx_Oracle.makedsn(\"localhost\", 1521, \"orcl\")\n",
    "\n",
    "db = cx_Oracle.connect(\"scott\", \"tiger\", dsn)\n",
    "\n",
    "cursor = db.cursor()\n",
    "\n",
    "cursor.execute(\"select * from emp10\")\n",
    "\n",
    "row = cursor.fetchall()\n",
    "\n",
    "colname = cursor.description\n",
    "\n",
    "cursor.close()\n",
    "\n",
    "\n",
    "\n",
    "col=[]\n",
    "\n",
    "for i in colname:\n",
    "\n",
    "    col.append(i[0])\n",
    "\n",
    "emp = pd.DataFrame(row, columns=col)\n",
    "\n",
    "print(emp[['AGE']])\n",
    "\n",
    "a = []\n",
    "\n",
    "for k in emp['AGE']:\n",
    "    a.append(k)\n",
    "\n",
    "a.sort()\n",
    "    \n",
    "print(a)"
   ]
  },
  {
   "cell_type": "markdown",
   "metadata": {},
   "source": [
    "## 문제102. 우리반 나이 데이터를 넣은 리스트의 숫자를 ascending 하게 정렬이 되어서 들어있게 하시오. 그리고 나이의 평균값도 구해보시오"
   ]
  },
  {
   "cell_type": "code",
   "execution_count": 27,
   "metadata": {},
   "outputs": [
    {
     "name": "stdout",
     "output_type": "stream",
     "text": [
      "    AGE\n",
      "0    32\n",
      "1    30\n",
      "2    26\n",
      "3    25\n",
      "4    34\n",
      "5    25\n",
      "6    27\n",
      "7    31\n",
      "8    27\n",
      "9    28\n",
      "10   32\n",
      "11   30\n",
      "12   29\n",
      "13   27\n",
      "14   34\n",
      "15   26\n",
      "16   31\n",
      "17   27\n",
      "18   25\n",
      "19   27\n",
      "20   27\n",
      "21   25\n",
      "22   32\n",
      "23   26\n",
      "24   31\n",
      "25   24\n",
      "26   25\n",
      "27   29\n",
      "28   40\n",
      "[24, 25, 25, 25, 25, 25, 26, 26, 26, 27, 27, 27, 27, 27, 27, 28, 29, 29, 30, 30, 31, 31, 31, 32, 32, 32, 34, 34, 40]\n",
      "28.689655172413794\n"
     ]
    }
   ],
   "source": [
    "import  cx_Oracle  # 오라클과 파이썬을 연동하기 위한 모듈\n",
    "\n",
    "import  pandas  as  pd\n",
    "\n",
    "dsn = cx_Oracle.makedsn(\"localhost\", 1521, \"orcl\")\n",
    "\n",
    "db = cx_Oracle.connect(\"scott\", \"tiger\", dsn)\n",
    "\n",
    "cursor = db.cursor()\n",
    "\n",
    "cursor.execute(\"select * from emp10\")\n",
    "\n",
    "row = cursor.fetchall()\n",
    "\n",
    "colname = cursor.description\n",
    "\n",
    "cursor.close()\n",
    "\n",
    "\n",
    "\n",
    "col=[]\n",
    "\n",
    "for i in colname:\n",
    "\n",
    "    col.append(i[0])\n",
    "\n",
    "emp = pd.DataFrame(row, columns=col)\n",
    "\n",
    "print(emp[['AGE']])\n",
    "\n",
    "a = []\n",
    "\n",
    "for k in emp['AGE']:\n",
    "    a.append(k)\n",
    "\n",
    "a.sort()    \n",
    "print(a)\n",
    "b = np.mean(a)\n",
    "print(b)"
   ]
  },
  {
   "cell_type": "markdown",
   "metadata": {},
   "source": [
    "### ※ list 형에 담아두면 여러가지작업을 편안하게 할수있다. (comfortable~)"
   ]
  },
  {
   "cell_type": "markdown",
   "metadata": {},
   "source": [
    "### ＊ list 객체의 pop 메소드 테스트"
   ]
  },
  {
   "cell_type": "code",
   "execution_count": 2,
   "metadata": {},
   "outputs": [
    {
     "name": "stdout",
     "output_type": "stream",
     "text": [
      "['태양', '수성', '금성', '지구', '화성', '목성']\n",
      "['태양', '수성', '금성', '지구', '화성']\n"
     ]
    }
   ],
   "source": [
    "sol = ['태양', '수성', '금성', '지구', '화성', '목성']\n",
    "\n",
    "print(sol)\n",
    "sol.pop()                  \n",
    "print(sol)\n",
    "\n",
    "# sol.pop()과 print(sol) 두줄만 실행하면 계속 하나씩 빠진다.\n",
    "# pop() 일시 끝에것만 빠지고, pop(인덱스번호)를 통해서 원하는 요소를 뺄 수도 있다."
   ]
  },
  {
   "cell_type": "markdown",
   "metadata": {},
   "source": [
    "### list 객체의 remove 메소드 테스트"
   ]
  },
  {
   "cell_type": "code",
   "execution_count": 25,
   "metadata": {},
   "outputs": [
    {
     "name": "stdout",
     "output_type": "stream",
     "text": [
      "['태양', '수성', '지구', '화성', '목성']\n"
     ]
    }
   ],
   "source": [
    "sol = ['태양', '수성', '금성', '지구', '화성', '목성']\n",
    "sol.remove('금성')\n",
    "print(sol)"
   ]
  },
  {
   "cell_type": "markdown",
   "metadata": {},
   "source": [
    "### 객체의 del 메소드 테스트"
   ]
  },
  {
   "cell_type": "code",
   "execution_count": null,
   "metadata": {},
   "outputs": [],
   "source": [
    "sol = ['태양', '수성', '금성', '지구', '화성', '목성']\n",
    "\n",
    "del sol[0]\n",
    "print(sol)"
   ]
  },
  {
   "cell_type": "markdown",
   "metadata": {},
   "source": [
    "__※ remove는 요소명으로 지우고 del은 인덱스 번호로 지운다.__"
   ]
  },
  {
   "cell_type": "markdown",
   "metadata": {},
   "source": [
    "## 예제52. 클래스 생성자 이해하기\n",
    "\n",
    "클래스의 인스턴스 객체가 생성될 때 자동적으로 호출되는 __메소드__가 ___클래스 생성자___  입니다.\n",
    "클래스 생성자는 다음과 같은 이름을 가집니다.\n",
    "\n",
    "클래스 생성자 : __ __init_ ___\n",
    "\n",
    "__예시__"
   ]
  },
  {
   "cell_type": "code",
   "execution_count": 5,
   "metadata": {},
   "outputs": [
    {
     "name": "stdout",
     "output_type": "stream",
     "text": [
      "통계 객체가 생성 되었습니다.\n"
     ]
    },
    {
     "data": {
      "text/plain": [
       "'안녕하세요'"
      ]
     },
     "execution_count": 5,
     "metadata": {},
     "output_type": "execute_result"
    }
   ],
   "source": [
    "class Stats:\n",
    "    def __init__(self):\n",
    "        self.var = '안녕하세요'\n",
    "        print('통계 객체가 생성 되었습니다.')\n",
    "\n",
    "stats1 = Stats() # 클래스 생성자(함수)인 __init__ 이 작동해서\n",
    "                 # 통계 객체가 생성되었습니다 라는 메세지 출력\n",
    "    \n",
    "stats1.var"
   ]
  },
  {
   "cell_type": "markdown",
   "metadata": {},
   "source": [
    "## 예제53. 클래스 소멸자\n",
    "\n",
    "객체가 사라질 때 자동으로 호출되는 함수를 소멸자(___del_ __ ) 라고 합니다."
   ]
  },
  {
   "cell_type": "code",
   "execution_count": 33,
   "metadata": {},
   "outputs": [
    {
     "name": "stdout",
     "output_type": "stream",
     "text": [
      "통계 객체가 생성 되었습니다.\n",
      "통계 객체가 메모리에서 제거 됩니다.\n"
     ]
    }
   ],
   "source": [
    "class Stats:\n",
    "    def __init__(self):\n",
    "        self.var = '안녕하세요'\n",
    "        print('통계 객체가 생성 되었습니다.')\n",
    "    \n",
    "    def __del__(self):\n",
    "        print(\"통계 객체가 메모리에서 제거 됩니다.\")\n",
    "        \n",
    "stats1 = Stats() # __init__ 함수가 바로 작동된다.\n",
    "del stats1"
   ]
  },
  {
   "cell_type": "markdown",
   "metadata": {},
   "source": [
    "## 예제54. 클래스 상속 이해하기\n",
    "\n",
    "클래스는 상속이라는 특성을 가지는 이름 공간 입니다.  \n",
    "클래스에서 상속이란 어떤 클래스가 가지고 있는 멤버나 메소드를  \n",
    "상속받는 클래스가 모두 사용할 수 있도록 해주는 것이다.  \n",
    "상속을 해주는 클래스를 __부모 클래스__ 또는 __슈퍼 클래스__라고 하고  \n",
    "상속을 받는 클래스를 __자식 클래스__ 또는 __서브 클래스__라고 한다.  \n",
    "부모 클래스로 부터 상속을 받아 자식 클래스를 정의하는 방법은 다음과 같다.\n",
    "\n",
    "### __예제__ : class 자식클래스(부모클래스):\n",
    "\n",
    "자식 클래스는 부모 클래스에서 정의된 모든 멤버와 메소드를 그대로 상속 받습니다.\n",
    "\n",
    "예)\n",
    "기본 카드 클래스(팀장), 영화할인 카드 클래스(팀원1), 주유할인 카드 클래스(팀원2)"
   ]
  },
  {
   "cell_type": "code",
   "execution_count": 36,
   "metadata": {},
   "outputs": [],
   "source": [
    "# 기존의 기본할인 클래스 가져옴 (Day6 97번문제 코드)\n",
    "\n",
    "class Card():\n",
    "    def __init__(self):  # __init__의 기능 : 바로실행 & self는 자기자신 객체 고르기\n",
    "        self.money = 0\n",
    "        print('카드가 생성되었습니다')\n",
    "        \n",
    "    def charge(self, num):\n",
    "        self.money = num\n",
    "        print(self.money, '이 충전 되었습니다.')\n",
    "        \n",
    "    def consume(self, num):\n",
    "            if  num <= self.money:\n",
    "                self.money -= num\n",
    "                print(num, '원이 사용되었습니다.')\n",
    "                print('잔액이', self.money, '원 남았습니다.')   # 잔액 기능 추가\n",
    "            else:\n",
    "                print('잔액이 없습니다.')"
   ]
  },
  {
   "cell_type": "code",
   "execution_count": null,
   "metadata": {},
   "outputs": [],
   "source": [
    "# 영화 할인 클래스 생성\n",
    "\n",
    "class Card():\n",
    "    def __init__(self):  # __init__의 기능 : 바로실행 & self는 자기자신 객체 고르기\n",
    "        self.money = 0\n",
    "        print('카드가 생성되었습니다')\n",
    "        \n",
    "    def charge(self, num):\n",
    "        self.money = num\n",
    "        print(self.money, '이 충전 되었습니다.')\n",
    "        \n",
    "    def consume(self, num):\n",
    "            if  num <= self.money:\n",
    "                print(num, '원이 사용되었습니다.')\n",
    "                print('잔액이', self.money - num, '원 남았습니다.')   # 잔액 기능 추가\n",
    "            else:\n",
    "                print('잔액이 없습니다.')\n",
    "                \n",
    "\n",
    "class Movie_card(Card):\n",
    "    pass #아무것도 안하겠다~\n",
    "\n",
    "movie_card1 = Movie_card()\n",
    "movie_card1.charge(20000)\n",
    "movie_card1.consume(10000)"
   ]
  },
  {
   "cell_type": "markdown",
   "metadata": {},
   "source": [
    "## ■ 클래스 = 설계도\n",
    "\n",
    "### __예__: 총 설계도  \n",
    "\n",
    "#### 클래스(설계도) 안에있는 기능\n",
    "    1. 기능 (mothod)\n",
    "    2. 변수 (variable)\n",
    "    ※ __init__ 함수가 있어야 클래스 안의 변수들을 초기화가 가능하다.\n",
    "\n",
    "## ■ 객체 = 설계도를 가지고 만든 실체화된 인스턴스  \n",
    "### __예__: 총"
   ]
  },
  {
   "cell_type": "markdown",
   "metadata": {},
   "source": [
    "## 문제104.  팀장님이 만들어야하는 기본 카드 클래스를 수정하는데  \n",
    "## consume 메소드를 수정해서 아래와 같이 사용처가 출력되도록 하시오!  \n",
    " \n",
    "card1 = Card()\n",
    "card1.charge(1000000)\n",
    "card1.consume(20000, '편의점')\n",
    "\n",
    "편의점에서 20000원 사용했습니다."
   ]
  },
  {
   "cell_type": "code",
   "execution_count": 2,
   "metadata": {},
   "outputs": [
    {
     "name": "stdout",
     "output_type": "stream",
     "text": [
      "카드가 생성되었습니다\n",
      "1000000 이 충전 되었습니다.\n",
      "20000 원이 편의점 에서 사용되었습니다.\n",
      "잔액이 980000 원 남았습니다.\n"
     ]
    }
   ],
   "source": [
    "class Card():\n",
    "    def __init__(self):  # __init__의 기능 : 바로실행 & self는 자기자신 객체 고르기\n",
    "        self.money = 0\n",
    "        print('카드가 생성되었습니다')\n",
    "        \n",
    "    def charge(self, num):\n",
    "        self.money += num\n",
    "        print(self.money, '이 충전 되었습니다.')\n",
    "        \n",
    "    def consume(self, num, place):\n",
    "            if  num <= self.money:\n",
    "                self.money -= num\n",
    "                print(num, '원이', place,'에서 사용되었습니다.')\n",
    "                print('잔액이', self.money, '원 남았습니다.')   # 잔액 기능 추가\n",
    "            else:\n",
    "                print('잔액이 없습니다.')\n",
    "\n",
    "                \n",
    "card1 = Card()\n",
    "card1.charge(1000000)\n",
    "card1.consume(20000, '편의점')\n",
    "           "
   ]
  },
  {
   "cell_type": "markdown",
   "metadata": {},
   "source": [
    "## 문제105. 위의 코드를 수정해서 영화관에서 카드를 사용하면 30% 할인해주게   \n",
    "## 코드를 수정하시오( 또 다른 점심시간 문제)\n",
    "\n",
    "\n",
    "card1 = Card()\n",
    "card1.charge(1000000)\n",
    "card1.consume(20000, '영화관')\n",
    "\n",
    "영화관에서 8400원 사용했습니다."
   ]
  },
  {
   "cell_type": "code",
   "execution_count": 66,
   "metadata": {},
   "outputs": [
    {
     "name": "stdout",
     "output_type": "stream",
     "text": [
      "카드가 생성되었습니다\n",
      "1000000 이 충전 되었습니다.\n",
      "플스방 에서 20000 원이 사용되었습니다.\n",
      "잔액이 980000 원 남았습니다.\n"
     ]
    }
   ],
   "source": [
    "class Card():\n",
    "    def __init__(self):  # __init__의 기능 : 바로실행 & self는 자기자신 객체 고르기\n",
    "        self.money = 0\n",
    "        print('카드가 생성되었습니다')\n",
    "        \n",
    "    def charge(self, num):\n",
    "        self.money += num\n",
    "        print(self.money, '이 충전 되었습니다.')\n",
    "        \n",
    "    def consume(self, num, place):\n",
    "            if  num <= self.money and place == '영화관':\n",
    "                print(place, '에서', int(0.7*num), '원이 사용되었습니다.')\n",
    "                print('잔액이', int(self.money - 0.7*num), '원 남았습니다.')\n",
    "                \n",
    "            elif num<= self.money and place != '영화관':\n",
    "                print(place, '에서', int(num), '원이 사용되었습니다.')\n",
    "                print('잔액이', int(self.money - num), '원 남았습니다.')\n",
    "                \n",
    "            elif num > self.money:\n",
    "                print('잔액이 없습니다.')\n",
    "\n",
    "                \n",
    "card1 = Card()\n",
    "card1.charge(1000000)\n",
    "card1.consume(20000,'플스방')"
   ]
  },
  {
   "cell_type": "markdown",
   "metadata": {},
   "source": [
    "##  자식 클래스로 영화 할인 카드를 생성해보기!"
   ]
  },
  {
   "cell_type": "code",
   "execution_count": 1,
   "metadata": {},
   "outputs": [],
   "source": [
    "class Card():\n",
    "    def __init__(self):  # __init__의 기능 : 바로실행 & self는 자기자신 객체 고르기\n",
    "        self.money = 0\n",
    "        print('카드가 생성되었습니다')\n",
    "        \n",
    "    def charge(self, num):\n",
    "        self.money += num\n",
    "        print(self.money, '이 충전 되었습니다.')\n",
    "        \n",
    "    def consume(self, num, place):\n",
    "            if  num <= self.money:\n",
    "                self.money -= num\n",
    "                print(num, '원이', place,'에서 사용되었습니다.')\n",
    "                print('잔액이', self.money, '원 남았습니다.')   # 잔액 기능 추가\n",
    "            else:\n",
    "                print('잔액이 없습니다.')\n"
   ]
  },
  {
   "cell_type": "code",
   "execution_count": 5,
   "metadata": {},
   "outputs": [
    {
     "name": "stdout",
     "output_type": "stream",
     "text": [
      "카드가 생성되었습니다\n",
      "20000 이 충전 되었습니다.\n",
      "영화관 에서 9600 사용했습니다.\n"
     ]
    }
   ],
   "source": [
    "class Movie_card(Card):\n",
    "    def consume(self, num, place):\n",
    "        if place == '영화관':\n",
    "            num = 0.8 * num\n",
    "            if self.money >= num:\n",
    "                self.money -= num\n",
    "                print('%s 에서 %d 사용했습니다.' %(place, num))\n",
    "            else:\n",
    "                print('잔액이 부족합니다.')\n",
    "        else:\n",
    "            if self.cash >= num:\n",
    "                self.cash -=num\n",
    "                print('%s에서 %d 사용했습니다.' %(place, num))\n",
    "                      \n",
    "            else:\n",
    "                print('잔액이 부족합니다.')\n",
    "                \n",
    "movie_card1 = Movie_card()\n",
    "movie_card1.charge(20000)\n",
    "movie_card1.consume(12000, '영화관')"
   ]
  },
  {
   "cell_type": "markdown",
   "metadata": {},
   "source": [
    "## 오버로딩과 오버라이딩의 차이?\n",
    "\n",
    "   __1. 오버로딩__ : 함수 실행시 매개변수를 1개를 넣던 여러개를 넣던 실행되게 하는 문법\n",
    "   \n",
    "   예 : print (max_yaksu(16,24))    #가능\n",
    "        print (max_yaksu(16,24,128)) #가능\n",
    "        \n",
    "  \n",
    "        def max_yaksu(*num1):\n",
    "   \n",
    "   __2. 오버라이딩__ : 상속받는 자식 클래스가 부모 클래스의 특정 기능을 다른 코드로 대체하는 것\n",
    "    \n",
    "    부모클래스(Card)       -----> 자식클래스(Movie_card)\n",
    "   "
   ]
  },
  {
   "cell_type": "markdown",
   "metadata": {},
   "source": [
    "## 문제106. 스타벅스에서 10% 할인되는 카드 클래스를 만들고 카드를 발급해서\n",
    "##  스타벅스에서 사용해 보시요~\n"
   ]
  },
  {
   "cell_type": "code",
   "execution_count": null,
   "metadata": {},
   "outputs": [],
   "source": [
    "class starbucks_card(Card):\n",
    "    def consume(self, num, place):\n",
    "        if place == '스타벅스':\n",
    "            num = 0.9 * num\n",
    "            if self.money >= num:\n",
    "                self.money -= num\n",
    "                print('%s 에서 %d 사용했습니다.' %(place, num))\n",
    "            else:\n",
    "                print('잔액이 부족합니다.')\n",
    "        else:\n",
    "            if self.cash >= num:\n",
    "                self.cash -=num\n",
    "                print('%s에서 %d 사용했습니다.' %(place, num))\n",
    "                      \n",
    "            else:\n",
    "                print('잔액이 부족합니다.')\n",
    "                \n",
    "            "
   ]
  },
  {
   "cell_type": "markdown",
   "metadata": {},
   "source": [
    "## 문제107. 아래의 행렬을 생성하시오!"
   ]
  },
  {
   "cell_type": "code",
   "execution_count": 9,
   "metadata": {},
   "outputs": [
    {
     "name": "stdout",
     "output_type": "stream",
     "text": [
      "[[0 1 0 1 0]\n",
      " [1 0 1 0 1]\n",
      " [0 1 0 1 0]\n",
      " [0 0 1 0 0]]\n",
      "[[0 1 0 1 0]\n",
      " [1 0 1 0 1]\n",
      " [0 1 0 1 0]\n",
      " [0 0 1 0 0]]\n"
     ]
    }
   ],
   "source": [
    "import numpy as np\n",
    "\n",
    "h_image = np.array([[0,1,0,1,0],[1,0,1,0,1],[0,1,0,1,0],[0,0,1,0,0]])\n",
    "\n",
    "print(h_image)\n",
    "\n",
    "h = h_image.reshape(4,5)\n",
    "\n",
    "print(h)"
   ]
  },
  {
   "cell_type": "markdown",
   "metadata": {},
   "source": [
    "## 문제108. 가중치(W) 행렬을 랜덤을 숫자가 생성되게 해서 5x10 행렬로 생성하시오."
   ]
  },
  {
   "cell_type": "code",
   "execution_count": 16,
   "metadata": {},
   "outputs": [
    {
     "name": "stdout",
     "output_type": "stream",
     "text": [
      "[[ 1.06602404  0.8494362   0.72084721 -0.02809239  1.16801993 -1.8719562\n",
      "  -0.40592565 -1.65523869 -1.06489835  0.42852441]\n",
      " [ 1.56280981 -0.40223776 -0.60715515 -0.61261645 -1.86657062 -0.63074848\n",
      "  -0.93496509 -0.96762078 -0.96709721 -0.57162064]\n",
      " [-0.07196606 -2.12580673  0.42058807  0.68728815  0.77809128  0.59607954\n",
      "   1.24717065 -1.42270162 -1.400938    1.20229749]\n",
      " [-1.74321893  0.42288288  0.27601603 -0.40505291  0.90844844 -0.44252047\n",
      "  -0.74362896 -1.22597594  1.15705723  0.6542874 ]\n",
      " [ 0.33689021 -0.05883092 -0.43330216 -0.92115932 -0.40030649  0.64173904\n",
      "  -0.83415404 -0.28585983  1.29176806 -0.37483725]]\n"
     ]
    }
   ],
   "source": [
    "import numpy as np\n",
    "\n",
    "w = np.random.randn(5,10)\n",
    "\n",
    "print(w)"
   ]
  },
  {
   "cell_type": "markdown",
   "metadata": {},
   "source": [
    "## 문제109. 하트 이미지 행렬(4x5)과 랜덤으로 생성한(5x10)행렬의 내적한 값을 출력하시오~"
   ]
  },
  {
   "cell_type": "code",
   "execution_count": 19,
   "metadata": {},
   "outputs": [
    {
     "name": "stdout",
     "output_type": "stream",
     "text": [
      "[[0 1 0 1 0]\n",
      " [1 0 1 0 1]\n",
      " [0 1 0 1 0]\n",
      " [0 0 1 0 0]]\n",
      "[[ 0.30390192 -0.22024457  0.54540266  0.75788942  2.41349683  0.50951367\n",
      "   0.02473236 -0.05676907  1.56527525 -0.79529485]\n",
      " [ 2.70763151 -0.12928494 -0.64810781 -2.00380443 -0.13228827  0.8029445\n",
      "  -0.77334142  1.12129701  0.62974752 -1.56776319]\n",
      " [-0.58661237  0.6116646  -0.15496024  0.39248957 -2.30116257 -0.32373876\n",
      "  -0.25995048 -0.96193331  0.05907658  1.04590801]\n",
      " [ 0.91164038  1.48721777 -0.29870287  0.10768432  1.69805407  0.79206168\n",
      "  -0.76642548  0.10372737 -0.12504544 -1.10323056]\n",
      " [ 0.01393778 -0.21214666 -1.7116265   0.34083864 -1.50314383 -0.2003649\n",
      "   0.33173198 -0.41503713  0.11899029 -0.40090241]]\n",
      "[[ 3.61927189  1.35793283 -0.94681068 -1.8961201   1.5657658   1.59500618\n",
      "  -1.5397669   1.22502438  0.50470208 -2.67099374]\n",
      " [-0.26877266  0.17927337 -1.32118408  1.49121764 -1.39080956 -0.01458999\n",
      "   0.09651386 -1.43373952  1.74334212 -0.15028926]\n",
      " [ 3.61927189  1.35793283 -0.94681068 -1.8961201   1.5657658   1.59500618\n",
      "  -1.5397669   1.22502438  0.50470208 -2.67099374]\n",
      " [-0.58661237  0.6116646  -0.15496024  0.39248957 -2.30116257 -0.32373876\n",
      "  -0.25995048 -0.96193331  0.05907658  1.04590801]]\n"
     ]
    }
   ],
   "source": [
    "import numpy as np\n",
    "\n",
    "h_image = np.array([[0,1,0,1,0],[1,0,1,0,1],[0,1,0,1,0],[0,0,1,0,0]])\n",
    "\n",
    "print(h_image)\n",
    "\n",
    "w = np.random.randn(5,10) # random : 무작위로\n",
    "                          # randn : 가우시안 정규분포를 따르는 0~1 사이의 난수를 생성 \n",
    "                          # (5,10)행렬\n",
    "\n",
    "print(w)\n",
    "\n",
    "\n",
    "print(np.dot(h_image,w))\n",
    "\n"
   ]
  },
  {
   "cell_type": "markdown",
   "metadata": {},
   "source": [
    "## 문제130. 위의 가중치를 생성하는 코드를 이용해서 신경망 클래스를 생성하시오."
   ]
  },
  {
   "cell_type": "code",
   "execution_count": 9,
   "metadata": {},
   "outputs": [
    {
     "data": {
      "text/plain": [
       "array([[-2.18628771, -0.0423809 , -0.20818723, -1.52276649,  0.44657775,\n",
       "        -0.81304902, -0.35133558,  0.18628708,  0.14488824,  0.29287678],\n",
       "       [ 0.44515476,  1.12767558, -0.53672356, -3.41815086,  0.69380745,\n",
       "         0.40317082, -0.31407344,  0.41832014, -0.42426706,  0.09267983],\n",
       "       [ 1.43284456, -0.41927652,  0.47010784, -0.91216205, -1.73818111,\n",
       "         1.69117926,  0.39400838, -0.96440264, -2.13660368,  0.635958  ],\n",
       "       [ 0.71586813, -0.5113758 ,  0.54163992, -1.79605325, -0.97990098,\n",
       "         0.41072516,  0.21051202, -0.62478227,  0.98530741,  0.61991831],\n",
       "       [ 0.97434846,  0.06356812,  0.89508277,  2.1642181 , -0.30496938,\n",
       "        -0.36911506,  0.58460365,  1.2167718 ,  0.54856608,  0.52468319]])"
      ]
     },
     "execution_count": 9,
     "metadata": {},
     "output_type": "execute_result"
    }
   ],
   "source": [
    "class TwoLayerNet():\n",
    "    \n",
    "    def __init__(self, input_size, hidden_size):\n",
    "        self.W1 = np.random.randn(input_size, hidden_size)\n",
    "    \n",
    "    def predict(self,x):\n",
    "        out = np.dot(x, self.W1)\n",
    "        print(out)\n",
    "        \n",
    "network = TwoLayerNet(5,10)\n",
    "network.W1"
   ]
  },
  {
   "cell_type": "markdown",
   "metadata": {},
   "source": [
    "## 문제111. 위에서 만든 신경망에 하트 이미지를 입력시키고 예측해보시오."
   ]
  },
  {
   "cell_type": "code",
   "execution_count": 29,
   "metadata": {},
   "outputs": [
    {
     "name": "stdout",
     "output_type": "stream",
     "text": [
      "[[ 1.42450509  0.66063782  0.61236966  0.5819666   1.26930232  3.10620032\n",
      "   1.42818121  0.00337614  0.41274325 -0.20353857]\n",
      " [-1.84239734  0.15351481  0.29915833 -1.35808396 -0.72455691  0.32945793\n",
      "   1.17605831 -1.18290231 -1.61636244  0.55691654]\n",
      " [ 1.42450509  0.66063782  0.61236966  0.5819666   1.26930232  3.10620032\n",
      "   1.42818121  0.00337614  0.41274325 -0.20353857]\n",
      " [-2.37209362 -0.13331373 -0.5536575   0.48760892  0.79281304  0.51810739\n",
      "   1.21282247 -1.30952139 -1.05051839  0.35269068]]\n"
     ]
    }
   ],
   "source": [
    "class TwoLayerNet():\n",
    "    \n",
    "    def __init__(self, input_size, hidden_size):\n",
    "        self.W1 = np.random.randn(input_size, hidden_size)\n",
    "    \n",
    "    def predict(self,x):\n",
    "        out = np.dot(x, self.W1)\n",
    "        print(out)\n",
    "        \n",
    "\n",
    "import numpy as np\n",
    "\n",
    "h_image = np.array([[0,1,0,1,0],[1,0,1,0,1],[0,1,0,1,0],[0,0,1,0,0]])\n",
    "\n",
    "network = TwoLayerNet(5,10) # def __init__ 함수에 매개변수로 input_size와 hidden_size를 입력하여서 5,10을 넣어야된다.\n",
    "\n",
    "network.predict(h_image)"
   ]
  },
  {
   "cell_type": "markdown",
   "metadata": {},
   "source": [
    "## 예제50. 클래스 멤버와 인스턴스 멤버 이해하기!\n",
    "\n",
    "\n",
    "클래스에서 선언된 변수는 클래스 멤버와 인스턴스 멤버가 있습니다.  \n",
    "클래스 멤버는 클래스 메소드 바깥에서 선언되는 변수이며,   \n",
    "인스턴스 멤버는 클래스 메소드 안에서 self와 함께 선언되는 변수 입니다.  \n",
    "\n",
    "__예제>__  \n",
    "사원이 입사하면 입사한 사원에 대해 이메일을 자동으로 생성하고 이름을 출력하는 함수와 월급을 인상하는 함수를   \n",
    "담는 클래스를 생성\n"
   ]
  },
  {
   "cell_type": "code",
   "execution_count": 10,
   "metadata": {},
   "outputs": [
    {
     "name": "stdout",
     "output_type": "stream",
     "text": [
      "5000000\n",
      "5500000\n",
      "5000000\n",
      "6000000\n"
     ]
    }
   ],
   "source": [
    "class  Employees:\n",
    "    #raise_amount = 1.1  # 클래스 변수\n",
    "    def __init__(self, first, last, pay): # __init__ : 객체가 만들어질때 바로 작동되는 함수\n",
    "        self.first = first              \n",
    "        self.last  = last\n",
    "        self.pay   = pay\n",
    "        self.email = first.lower() + '.' + last.lower() + '@gmail.com'\n",
    "        self.raise_amount = 1.1  # 인스턴스 변수\n",
    "\n",
    "    def  full_name(self): #사원의 전체이름을 출력하는 함수\n",
    "        return  '{} {}'.format(self.first, self.last)\n",
    "    \n",
    "    # format을 이용해서 self.first는 첫번째 {}에 들어가고\n",
    "    # format을 이용해서 self.last는 두번째 {}에 들어간다.\n",
    "\n",
    "    def  apply_raise(self): # 월급을 인상하는 함수\n",
    "        self.pay = int( self.pay * self.raise_amount)\n",
    "\n",
    "\n",
    "emp_chulsu = Employees('chulsu', 'kim', 5000000)\n",
    "print(emp_chulsu.pay)   # 5000000\n",
    "emp_chulsu.apply_raise()\n",
    "print(emp_chulsu.pay)  # 5500000\n",
    "\n",
    " \n",
    "\n",
    "emp_chulsu2 = Employees('chulsu2', 'kim', 5000000)\n",
    "emp_chulsu2.raise_amount = 1.2\n",
    "print(emp_chulsu2.pay)   # 5000000\n",
    "emp_chulsu2.apply_raise()\n",
    "print(emp_chulsu2.pay)  # 6000000"
   ]
  },
  {
   "cell_type": "markdown",
   "metadata": {},
   "source": [
    "## 이 작업을 못하게 막고 싶을 때 클래스 변수를 사용한다. (그냥 참고)\n"
   ]
  },
  {
   "cell_type": "code",
   "execution_count": 12,
   "metadata": {},
   "outputs": [
    {
     "name": "stdout",
     "output_type": "stream",
     "text": [
      "5000000\n",
      "5500000\n",
      "5000000\n",
      "5500000\n"
     ]
    }
   ],
   "source": [
    "# raise_amount에 주석을 빼고, self.raise_amount를 Employees.raise_amount로 바꿈\n",
    "\n",
    "class  Employees:\n",
    "    raise_amount = 1.1  # 클래스 변수\n",
    "    def __init__(self, first, last, pay): # __init__ : 객체가 만들어질때 바로 작동되는 함수\n",
    "        self.first = first              \n",
    "        self.last  = last\n",
    "        self.pay   = pay\n",
    "        self.email = first.lower() + '.' + last.lower() + '@gmail.com'\n",
    "        self.raise_amount = 1.1  # 인스턴스 변수\n",
    "\n",
    "    def full_name(self): #사원의 전체이름을 출력하는 함수\n",
    "        return  '{} {}'.format(self.first, self.last)\n",
    "    \n",
    "    # format을 이용해서 self.first는 첫번째 {}에 들어가고\n",
    "    # format을 이용해서 self.last는 두번째 {}에 들어간다.\n",
    "\n",
    "    def apply_raise(self): # 월급을 인상하는 함수\n",
    "        self.pay = int( self.pay * Employees.raise_amount)\n",
    "\n",
    "\n",
    "emp_chulsu = Employees('chulsu', 'kim', 5000000)\n",
    "print(emp_chulsu.pay)   # 5000000\n",
    "emp_chulsu.apply_raise()\n",
    "print(emp_chulsu.pay)  # 5500000\n",
    "\n",
    " \n",
    "\n",
    "emp_chulsu2 = Employees('chulsu2', 'kim', 5000000)\n",
    "emp_chulsu2.raise_amount = 1.2   #클래스 변수지정으로 인해 적용안됨.\n",
    "print(emp_chulsu2.pay)   # 5000000\n",
    "emp_chulsu2.apply_raise()\n",
    "print(emp_chulsu2.pay)  # 5500000"
   ]
  },
  {
   "cell_type": "markdown",
   "metadata": {},
   "source": [
    "## 예제55. 예외처리 이해하기(try ~except)\n",
    "\n",
    "프로그램을 작성하다 보면 뜻하지 않은 오류가 발생하는 코드가 있을 수 있습니다.\n",
    "프로그램이 실행되는 동안 오류가 발생하면 프로그램이 더 이상 진행될 수 없는 상태가 되는데 이를 예외상황이라고 한다.\n",
    "프로그램에 예외가 발생하더라도 프로그램을 중단 시키지 않고  \n",
    "예외에 대한 적절한 처리를 하여 프로그램을 계속 진행 시킬 수 있도록   \n",
    "하는 구문이 try ~ except 입니다.\n",
    "\n",
    "### 예제:\n",
    "\n",
    "try:\n",
    "    문제가 없을 경우 실행할 코드\n",
    "    \n",
    "except:\n",
    "    문제가 생겼을 경우 실행할 코드"
   ]
  },
  {
   "cell_type": "code",
   "execution_count": 36,
   "metadata": {},
   "outputs": [
    {
     "name": "stdout",
     "output_type": "stream",
     "text": [
      "분자의 숫자를 입력하세요 ~10\n",
      "분모의 숫자를 입력하세요 ~0\n"
     ]
    },
    {
     "ename": "ZeroDivisionError",
     "evalue": "division by zero",
     "output_type": "error",
     "traceback": [
      "\u001b[1;31m---------------------------------------------------------------------------\u001b[0m",
      "\u001b[1;31mZeroDivisionError\u001b[0m                         Traceback (most recent call last)",
      "\u001b[1;32m<ipython-input-36-78e79ee29459>\u001b[0m in \u001b[0;36m<module>\u001b[1;34m\u001b[0m\n\u001b[0;32m      8\u001b[0m     \u001b[1;32mreturn\u001b[0m \u001b[0mint\u001b[0m\u001b[1;33m(\u001b[0m\u001b[0mx\u001b[0m\u001b[1;33m)\u001b[0m \u001b[1;33m/\u001b[0m \u001b[0mint\u001b[0m\u001b[1;33m(\u001b[0m\u001b[0my\u001b[0m\u001b[1;33m)\u001b[0m\u001b[1;33m\u001b[0m\u001b[1;33m\u001b[0m\u001b[0m\n\u001b[0;32m      9\u001b[0m \u001b[1;33m\u001b[0m\u001b[0m\n\u001b[1;32m---> 10\u001b[1;33m \u001b[0mprint\u001b[0m\u001b[1;33m(\u001b[0m\u001b[0mmy_divide\u001b[0m\u001b[1;33m(\u001b[0m\u001b[1;33m)\u001b[0m\u001b[1;33m)\u001b[0m\u001b[1;33m\u001b[0m\u001b[1;33m\u001b[0m\u001b[0m\n\u001b[0m",
      "\u001b[1;32m<ipython-input-36-78e79ee29459>\u001b[0m in \u001b[0;36mmy_divide\u001b[1;34m()\u001b[0m\n\u001b[0;32m      6\u001b[0m     \u001b[0my\u001b[0m \u001b[1;33m=\u001b[0m \u001b[0minput\u001b[0m\u001b[1;33m(\u001b[0m\u001b[1;34m\"분모의 숫자를 입력하세요 ~\"\u001b[0m\u001b[1;33m)\u001b[0m\u001b[1;33m\u001b[0m\u001b[1;33m\u001b[0m\u001b[0m\n\u001b[0;32m      7\u001b[0m \u001b[1;33m\u001b[0m\u001b[0m\n\u001b[1;32m----> 8\u001b[1;33m     \u001b[1;32mreturn\u001b[0m \u001b[0mint\u001b[0m\u001b[1;33m(\u001b[0m\u001b[0mx\u001b[0m\u001b[1;33m)\u001b[0m \u001b[1;33m/\u001b[0m \u001b[0mint\u001b[0m\u001b[1;33m(\u001b[0m\u001b[0my\u001b[0m\u001b[1;33m)\u001b[0m\u001b[1;33m\u001b[0m\u001b[1;33m\u001b[0m\u001b[0m\n\u001b[0m\u001b[0;32m      9\u001b[0m \u001b[1;33m\u001b[0m\u001b[0m\n\u001b[0;32m     10\u001b[0m \u001b[0mprint\u001b[0m\u001b[1;33m(\u001b[0m\u001b[0mmy_divide\u001b[0m\u001b[1;33m(\u001b[0m\u001b[1;33m)\u001b[0m\u001b[1;33m)\u001b[0m\u001b[1;33m\u001b[0m\u001b[1;33m\u001b[0m\u001b[0m\n",
      "\u001b[1;31mZeroDivisionError\u001b[0m: division by zero"
     ]
    }
   ],
   "source": [
    "# try ~ except 를 사용 안했을 때의 예제\n",
    "\n",
    "\n",
    "def my_divide():\n",
    "    x = input(\"분자의 숫자를 입력하세요 ~\")\n",
    "    y = input(\"분모의 숫자를 입력하세요 ~\")\n",
    "    \n",
    "    return int(x) / int(y) \n",
    "\n",
    "print(my_divide()) #분모에 0을넣으면 오류가 발생함\n"
   ]
  },
  {
   "cell_type": "markdown",
   "metadata": {},
   "source": [
    "## 분모에 0을넣었을 때도 오류가 안나게 하려면 ?"
   ]
  },
  {
   "cell_type": "code",
   "execution_count": 38,
   "metadata": {},
   "outputs": [
    {
     "name": "stdout",
     "output_type": "stream",
     "text": [
      "분자의 숫자를 입력하세요 ~10\n",
      "분모의 숫자를 입력하세요 ~0\n",
      "나누기를 할 수 없습니다.\n"
     ]
    }
   ],
   "source": [
    "# try ~ except 를 사용 안했을 때의 예제\n",
    "\n",
    "def my_divide():\n",
    "    try:\n",
    "        x = input(\"분자의 숫자를 입력하세요 ~\")\n",
    "        y = input(\"분모의 숫자를 입력하세요 ~\")\n",
    "    \n",
    "        return int(x) / int(y) \n",
    "\n",
    "    except:\n",
    "        return '나누기를 할 수 없습니다.'\n",
    "\n",
    "print(my_divide())"
   ]
  },
  {
   "cell_type": "markdown",
   "metadata": {},
   "source": [
    "## 문제112. 오라클과 파이썬을 연동하여 이름과 월급을 출력하시오!"
   ]
  },
  {
   "cell_type": "code",
   "execution_count": 42,
   "metadata": {},
   "outputs": [
    {
     "name": "stdout",
     "output_type": "stream",
     "text": [
      "     ENAME     SAL\n",
      "0     KING  5000.0\n",
      "1    BLAKE  2850.0\n",
      "2    CLARK  2450.0\n",
      "3    JONES  2975.0\n",
      "4   MARTIN  1250.0\n",
      "5    ALLEN  1600.0\n",
      "6   TURNER  1500.0\n",
      "7    JAMES   950.0\n",
      "8     WARD  1250.0\n",
      "9     FORD  3000.0\n",
      "10   SMITH   800.0\n",
      "11   SCOTT  5000.0\n",
      "12   ADAMS  1100.0\n",
      "13  MILLER  1300.0\n"
     ]
    }
   ],
   "source": [
    "import  cx_Oracle\n",
    "\n",
    "import  pandas  as  pd\n",
    "\n",
    "dsn = cx_Oracle.makedsn(\"localhost\", 1521, \"orcl\")\n",
    "\n",
    "db = cx_Oracle.connect(\"scott\", \"tiger\", dsn)\n",
    "\n",
    "cursor = db.cursor()\n",
    "\n",
    "cursor.execute(\"select * from emp\")\n",
    "\n",
    "row = cursor.fetchall()\n",
    "\n",
    "colname = cursor.description\n",
    "\n",
    "cursor.close()\n",
    "\n",
    "col=[]\n",
    "\n",
    "for i in colname:\n",
    "    col.append(i[0])\n",
    "    \n",
    "emp = pd.DataFrame(row, columns=col)\n",
    "\n",
    "print (emp[['ENAME','SAL']] )"
   ]
  },
  {
   "cell_type": "markdown",
   "metadata": {},
   "source": [
    "## 문제113. 위의 코드를 수정해서 이름을 물어보게 하고 이름을 입력하면  \n",
    "## 해당사원의 이름과 월급이 출력되게 하시오!\n",
    "\n"
   ]
  },
  {
   "cell_type": "code",
   "execution_count": 12,
   "metadata": {},
   "outputs": [
    {
     "name": "stdout",
     "output_type": "stream",
     "text": [
      "이름을 입력하세요~SCOTT\n",
      "    ENAME     SAL\n",
      "11  SCOTT  5000.0\n"
     ]
    }
   ],
   "source": [
    "import  cx_Oracle\n",
    "\n",
    "import  pandas  as  pd\n",
    "\n",
    "dsn = cx_Oracle.makedsn(\"localhost\", 1521, \"orcl\")\n",
    "\n",
    "db = cx_Oracle.connect(\"scott\", \"tiger\", dsn)\n",
    "\n",
    "cursor = db.cursor()\n",
    "\n",
    "cursor.execute(\"select * from emp\")\n",
    "\n",
    "row = cursor.fetchall()\n",
    "\n",
    "colname = cursor.description\n",
    "\n",
    "cursor.close()\n",
    "\n",
    "col=[]\n",
    "\n",
    "for i in colname:\n",
    "    col.append(i[0])\n",
    "    \n",
    "emp = pd.DataFrame(row, columns=col)\n",
    "\n",
    "name = input(\"이름을 입력하세요~\")\n",
    "result = emp[['ENAME','SAL']][emp['ENAME'] == name.upper()]\n",
    "print (result)"
   ]
  },
  {
   "cell_type": "markdown",
   "metadata": {},
   "source": [
    "## 문제114. 위의 코드를 그대로 함수로 만들어서 아래와 같이 실행되게 하시오.\n",
    "\n",
    "print(find_emp())\n",
    "\n",
    "이름을 입력하세요~ scott\n",
    "\n",
    "결과:\n",
    "SCOTT 3000"
   ]
  },
  {
   "cell_type": "code",
   "execution_count": null,
   "metadata": {},
   "outputs": [],
   "source": [
    "def find_emp():\n",
    "\n",
    "    import  cx_Oracle\n",
    "    \n",
    "    import  pandas  as  pd\n",
    "    \n",
    "    dsn = cx_Oracle.makedsn(\"localhost\", 1521, \"orcl\")\n",
    "    \n",
    "    db = cx_Oracle.connect(\"scott\", \"tiger\", dsn)\n",
    "    \n",
    "    cursor = db.cursor()\n",
    "    \n",
    "    cursor.execute(\"select * from emp\")\n",
    "    \n",
    "    row = cursor.fetchall()\n",
    "    \n",
    "    colname = cursor.description\n",
    "    \n",
    "    cursor.close()\n",
    "    \n",
    "    col=[]\n",
    "    \n",
    "    for i in colname:\n",
    "        col.append(i[0])\n",
    "        \n",
    "    emp = pd.DataFrame(row, columns=col)\n",
    "    \n",
    "    name = input(\"이름을 입력하세요~\")\n",
    "    result = emp[['ENAME','SAL']][emp['ENAME'] == name.upper()].values[0]\n",
    "    return result\n",
    "\n",
    "print(find_emp())"
   ]
  },
  {
   "cell_type": "markdown",
   "metadata": {},
   "source": [
    "## 문제115. 이름을 물어보게해서 이름을 입력했을 때 해당하는 사원이 없으면  \n",
    "## \"해당하는 사원이 없습니다.\" 라는 메세지가 출력되게 하시오.  \n"
   ]
  },
  {
   "cell_type": "code",
   "execution_count": 52,
   "metadata": {},
   "outputs": [
    {
     "name": "stdout",
     "output_type": "stream",
     "text": [
      "이름을 입력하세요~SCOTT\n",
      "해당하는 사원이 없습니다.\n"
     ]
    }
   ],
   "source": [
    "def find_emp():\n",
    "    try:\n",
    "        import  cx_Oracle\n",
    "\n",
    "        import  pandas  as  pd\n",
    "\n",
    "        dsn = cx_Oracle.makedsn(\"localhost\", 1521, \"orcl\")\n",
    "\n",
    "        db = cx_Oracle.connect(\"scott\", \"tiger\", dsn)\n",
    "\n",
    "        cursor = db.cursor()\n",
    "\n",
    "        cursor.execute(\"select * from emp\")\n",
    "\n",
    "        row = cursor.fetchall()\n",
    "\n",
    "        colname = cursor.description\n",
    "\n",
    "        cursor.close()\n",
    "\n",
    "        col=[]\n",
    "\n",
    "        for i in colname:\n",
    "            col.append(i[0])\n",
    "\n",
    "        emp = pd.DataFrame(row, columns=col)\n",
    "\n",
    "        name = input(\"이름을 입력하세요~\")\n",
    "        result = emp[['ENAME','SAL']][emp['ENAME'] == name.upper()].values[0]\n",
    "        return result\n",
    "    except:\n",
    "        return '해당 사원은 없습니다.'\n",
    "    \n",
    "print(find_emp())\n"
   ]
  },
  {
   "cell_type": "markdown",
   "metadata": {},
   "source": [
    "## 예제56. 예외처리 이해하기(try ~ except ~ else)\n",
    "\n",
    "어떤 로직을 수행할 때 오류 상황이 아닐 경우에만 어떤 작업을 수행하는 코드를 작성해야할 때가 있다.\n",
    "이런 경우에 try ~ except ~ else 구문을 활용합니다.\n",
    "\n",
    "__예제:__\n",
    "\n",
    "try:  \n",
    "    실행할 코드 블럭  \n",
    "except:  \n",
    "    예외처리할 코드 블럭  \n",
    "else:  \n",
    "    except절을 만나지 않았을 경우 실행하는 코드 블럭  "
   ]
  },
  {
   "cell_type": "code",
   "execution_count": 13,
   "metadata": {},
   "outputs": [
    {
     "name": "stdout",
     "output_type": "stream",
     "text": [
      "이름을 입력하세요~SCOTT\n",
      "데이터 추출에 성공 했습니다.\n",
      "['SCOTT' 5000.0]\n"
     ]
    }
   ],
   "source": [
    "def find_emp():\n",
    "    try:\n",
    "        import  cx_Oracle\n",
    "\n",
    "        import  pandas  as  pd\n",
    "\n",
    "        dsn = cx_Oracle.makedsn(\"localhost\", 1521, \"orcl\")\n",
    "\n",
    "        db = cx_Oracle.connect(\"scott\", \"tiger\", dsn)\n",
    "\n",
    "        cursor = db.cursor()\n",
    "\n",
    "        cursor.execute(\"select * from emp\")\n",
    "\n",
    "        row = cursor.fetchall()\n",
    "\n",
    "        colname = cursor.description\n",
    "\n",
    "        cursor.close()\n",
    "\n",
    "        col=[]\n",
    "\n",
    "        for i in colname:\n",
    "            col.append(i[0])\n",
    "\n",
    "        emp = pd.DataFrame(row, columns=col)\n",
    "\n",
    "        name = input(\"이름을 입력하세요~\")\n",
    "        result = emp[['ENAME','SAL']][emp['ENAME'] == name.upper()].values[0]\n",
    "        \n",
    "    except:\n",
    "        return '해당 사원은 없습니다.'\n",
    "    \n",
    "    else:\n",
    "        print('데이터 추출에 성공 했습니다.')\n",
    "        return result\n",
    "\n",
    "print(find_emp())\n"
   ]
  },
  {
   "cell_type": "markdown",
   "metadata": {},
   "source": [
    "### 설명 :\n",
    "\n",
    "try:  \n",
    "    반드시 수행이 되어야하는 중요한 코드를 여기서 처리해야\n",
    "    else 이후의 다른 코드들이 돌게 하고 싶을 때 사용한다.\n",
    "    \n",
    "except\n",
    "\n",
    "else:\n",
    "    try와 except 사이의 코드가 문제가 없다는 것을 확실히 \n",
    "    눈으로 확인하고 넘어갈 수 있다.(else문으로 넘어간다)는 장점이 있다."
   ]
  },
  {
   "cell_type": "markdown",
   "metadata": {},
   "source": [
    "## 예제57. 예외처리하기3 (try ~ except ~ finally)\n",
    "\n",
    "오류 발생 유무와 상관없이 어떤 코드를 무조건 실행시키려면  \n",
    "try ~ except ~ finally 구문을 활용합니다.  \n",
    "무조건 실행시키려는 코드는 finally부분에 작성하면 됩니다.  \n"
   ]
  },
  {
   "cell_type": "code",
   "execution_count": 55,
   "metadata": {},
   "outputs": [
    {
     "name": "stdout",
     "output_type": "stream",
     "text": [
      "안녕하세요~\n",
      "저는 무조건 실행됩니다.\n"
     ]
    }
   ],
   "source": [
    "try:\n",
    "    print('안녕하세요~')\n",
    "        \n",
    "except:\n",
    "    print('예외가 발생 했습니다.')\n",
    "\n",
    "finally:\n",
    "    print('저는 무조건 실행됩니다.') # 성공하든 실패하든 무조건 발생함!"
   ]
  },
  {
   "cell_type": "markdown",
   "metadata": {},
   "source": [
    "## 문제116. (오늘의 마지막 문제) 두 숫자를 물어보게 해서 두 숫자를 나누는 \n",
    "## 함수를 생성하는데 성공하던 실패하던 아래의 메세지가 무조건 출력되게 하시오.\n",
    "\n",
    "\n",
    "print(my_divide())  \n",
    "분자 숫자를 입력하세요 ~ 10  \n",
    "분모 숫자를 입력하세요 ~ 5  \n",
    "  \n",
    "노민준이 만든 프로그램입니다.  "
   ]
  },
  {
   "cell_type": "code",
   "execution_count": 11,
   "metadata": {},
   "outputs": [
    {
     "name": "stdout",
     "output_type": "stream",
     "text": [
      "분자 숫자를 입력하세요~2\n",
      "분모 숫자를 입력하세요~5\n",
      "노민준이 만든 프로그램입니다\n",
      "0.4\n"
     ]
    }
   ],
   "source": [
    "def my_divide():\n",
    "    \n",
    "    try:\n",
    "        a = int(input('분자 숫자를 입력하세요~'))\n",
    "        b = int(input('분모 숫자를 입력하세요~'))\n",
    "        \n",
    "        result = int(a)/int(b)\n",
    "        \n",
    "        return result\n",
    "    \n",
    "    except:\n",
    "        return '나누기를 할 수 없습니다.'\n",
    "    \n",
    "    finally:\n",
    "        print('노민준이 만든 프로그램입니다')\n",
    "\n",
    "print(my_divide())"
   ]
  }
 ],
 "metadata": {
  "kernelspec": {
   "display_name": "Python 3",
   "language": "python",
   "name": "python3"
  },
  "language_info": {
   "codemirror_mode": {
    "name": "ipython",
    "version": 3
   },
   "file_extension": ".py",
   "mimetype": "text/x-python",
   "name": "python",
   "nbconvert_exporter": "python",
   "pygments_lexer": "ipython3",
   "version": "3.7.4"
  }
 },
 "nbformat": 4,
 "nbformat_minor": 2
}
