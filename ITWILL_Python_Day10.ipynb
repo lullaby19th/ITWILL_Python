{
 "cells": [
  {
   "cell_type": "markdown",
   "metadata": {},
   "source": [
    "## 예제87.  문자열에서 대소문자 변환하기 (upper, lower)\n",
    "\n",
    "문자열 객체의 upper() 메소드는 문자열에 있는 모든 알파벳을 대문자로 변환한 결과를 리턴합니다.  \n",
    "문자열 객체의 lower() 메소드는 문자열에 있는 모든 알파벳을 소문자로 변환한 결과를 리턴합니다.  \n",
    "upper()와 lower()은 원본 문자열을 변경시키지는 않습니다."
   ]
  },
  {
   "cell_type": "code",
   "execution_count": 2,
   "metadata": {},
   "outputs": [
    {
     "name": "stdout",
     "output_type": "stream",
     "text": [
      "A LOT OF THINGS OCCUR EACH DAY\n",
      "a lot of things occur each day\n"
     ]
    }
   ],
   "source": [
    "txt = 'A lot of things occur each day'\n",
    "ret1 = txt.upper()\n",
    "ret2 = txt.lower()\n",
    "print(ret1)\n",
    "print(ret2)"
   ]
  },
  {
   "cell_type": "markdown",
   "metadata": {},
   "source": [
    "## 문제163. 겨울왕국 대본을 모두 대문자로 출력하시오"
   ]
  },
  {
   "cell_type": "code",
   "execution_count": null,
   "metadata": {},
   "outputs": [],
   "source": [
    "text_file = open(\"d:\\\\data\\winter.txt\")\n",
    "text  =  text_file.read()  # 텍스트 파일을 통채로 읽는다.\n",
    "print ( text.upper() ) "
   ]
  },
  {
   "cell_type": "markdown",
   "metadata": {},
   "source": [
    "## 예제88. 문자열에서 좌우 공백 제거하기( lstrip, rstrip, strip)\n",
    "\n",
    "|  함수  |                       설명                      |\n",
    "|:------:|:-----------------------------------------------:|\n",
    "| lstrip |        문자열에 존재하는 왼쪽 공백을 제거       |\n",
    "| rstrip |       문자열에 존재하는 오른쪽 공백을 제거      |\n",
    "|  strip | 문자열에 존재하는 왼쪽, 오른쪽 공백을 모두 제거 |"
   ]
  },
  {
   "cell_type": "code",
   "execution_count": 5,
   "metadata": {},
   "outputs": [
    {
     "name": "stdout",
     "output_type": "stream",
     "text": [
      "      양쪽에 공백이 있는 문자열 입니다.     \n",
      "양쪽에 공백이 있는 문자열 입니다.     \n",
      "      양쪽에 공백이 있는 문자열 입니다.\n",
      "양쪽에 공백이 있는 문자열 입니다.\n"
     ]
    }
   ],
   "source": [
    "txt = '      양쪽에 공백이 있는 문자열 입니다.     '\n",
    "ret1 = txt.lstrip()\n",
    "ret2 = txt.rstrip()\n",
    "ret3 = txt.strip()\n",
    "print(txt)\n",
    "print(ret1)\n",
    "print(ret2)\n",
    "print(ret3)"
   ]
  },
  {
   "cell_type": "markdown",
   "metadata": {},
   "source": [
    "## 예제89. 문자열에서 문자 개수 구하기(count)\n",
    "\n",
    "문자열 객체의 count() 메소드는 문자열에서 특정 문자의 개수를 리턴합니다.  "
   ]
  },
  {
   "cell_type": "code",
   "execution_count": 6,
   "metadata": {},
   "outputs": [
    {
     "name": "stdout",
     "output_type": "stream",
     "text": [
      "3\n",
      "1\n"
     ]
    }
   ],
   "source": [
    "txt = 'A  lot  of  things  occur  each  day'\n",
    "word_count1  = txt.count('o')\n",
    "word_count2  = txt.count('day')\n",
    "print (word_count1)  #  3\n",
    "print (word_count2)  #  1"
   ]
  },
  {
   "cell_type": "markdown",
   "metadata": {},
   "source": [
    "## ※ 활용되는 경우\n",
    "\n",
    "\n",
    "1. 보험회사의 상담원 상담내용중에 금칙어가 있는지 확인  \n",
    "2. 신제품 출시시 소비자들의 반응이 긍정적인지 부정적인지 게시판로 분석  \n",
    "3. 아프리카 케냐에서는 은행 대출할 때 대출 신청자의 sns 글을 분석해서 긍정/부정적 성향을 파악해서  \n",
    "   대출 신청 수락 결정 \n"
   ]
  },
  {
   "cell_type": "markdown",
   "metadata": {},
   "source": [
    "## 문제164.   \n",
    "## 안철수 연선문에서 '국민' 이라는 단어가 몇번 나오는지 count로   \n",
    "## 확인하시오!\n"
   ]
  },
  {
   "cell_type": "code",
   "execution_count": 8,
   "metadata": {},
   "outputs": [
    {
     "name": "stdout",
     "output_type": "stream",
     "text": [
      "22\n"
     ]
    }
   ],
   "source": [
    "ahn = \"\"\" 안녕하십니까 안철수입니다.\n",
    "\n",
    " \n",
    "\n",
    "저는 지난 7월말에 말씀 드린 대로 국민들의 의견을 듣고자 많은 분들을 만났습니다.\n",
    "\n",
    " \n",
    "\n",
    "그 동안 저는 재미있는 별명도 얻었고.\n",
    "\n",
    "또 최근에는 저를 소재로 한 유머도 유행하더군요.\n",
    "\n",
    " \n",
    "\n",
    "그동안 제 답을 기다려오신 여러 분들의 애정이라고 생각하고 \n",
    "\n",
    "그 또한 무겁게 받아들이겠습니다.\n",
    "\n",
    " \n",
    "\n",
    "기업인과 교수의 삶을 살아온 저로서는,\n",
    "\n",
    "국가경영의 막중한 책임을 지는 결심에 이르기까지 \n",
    "\n",
    "정말 많은 생각을 하지 않을 수 없었습니다.\n",
    "\n",
    " \n",
    "\n",
    "저는 그동안 춘천에서 만난 어르신, 명예퇴직을 앞둔 중년의 가장, \n",
    "\n",
    "30대의 쌍둥이 엄마와 같은 많은 이웃들을 만나 뵈었고, \n",
    "\n",
    "각 분야에서 경륜과 전문성을 가진 분들도 만났습니다.\n",
    "\n",
    " \n",
    "\n",
    "가능하면 조용하게 경청하고 귀를 기울였습니다.\n",
    "\n",
    " \n",
    "\n",
    "어느 한분 힘들지 않은 분들이 없었습니다.\n",
    "\n",
    " \n",
    "\n",
    "중산층이 무너지고 저소득층이 너무 고통 받고 있었습니다.\n",
    "\n",
    " \n",
    "\n",
    "하지만 그렇게 힘들고 고단한 삶의 과정에서도 \n",
    "\n",
    "그분들은 끊임없이 희망을 만들고 계셨습니다.\n",
    "\n",
    " \n",
    "\n",
    "나 자신보다는 우리 아이들의 미래를 위해 \n",
    "\n",
    "참고 견디고 희생하고 헌신할 준비가 되어 있습니다.\n",
    "\n",
    " \n",
    "\n",
    "제가 희망을 드린 것이 아니라 제가 오히려 그분들께 힘과 용기를 얻었습니다.\n",
    "\n",
    "모두 고맙습니다.\n",
    "\n",
    "여러분이 제게는 스승입니다.\n",
    "\n",
    " \n",
    "\n",
    "그 분들이 저를 한걸음 더 나아가게 했습니다.\n",
    "\n",
    " \n",
    "\n",
    "그 분들이 제게 한결 같이 하신 말씀이 있습니다.\n",
    "\n",
    " \n",
    "\n",
    "'정치가 이래서는 안 된다'는 겁니다.\n",
    "\n",
    "'문제를 풀어야 할 정치가 문제를 만들고 있다'고 하셨습니다.\n",
    "\n",
    "'국민들의 삶을 외면하고 국민을 분열시키고, 국민을 무시하고, \n",
    "\n",
    "서로 싸우기만 하는 정치에 실망하고 절망했다' 하셨습니다.\n",
    "\n",
    " \n",
    "\n",
    "또 한 번도 정치에 발 딛지 않은 제가 '잘 할 수 있을까' 고민할 때 \n",
    "\n",
    "많은 분들이 왜 제게 지지를 보내는지 설명해 주셨습니다.\n",
    "\n",
    " \n",
    "\n",
    "'이제 좀 정치를 다르게 해보자, 새롭게 출발해보자'는 뜻이라는 겁니다.\n",
    "\n",
    " \n",
    "\n",
    "하지만 저는 제 역량에 대해 고민했습니다.\n",
    "\n",
    "국가의 리더라는 자리는 절대 한 개인이 영광으로 탐할 자리가 될 수도 없고, \n",
    "\n",
    "되어서도 안 된다고 생각합니다.\n",
    "\n",
    " \n",
    "\n",
    "저에게는 당선 여부보다는 잘 해낼 수 있느냐가 중요했습니다.\n",
    "\n",
    " \n",
    "\n",
    "그래서 스스로에게 거듭 질문을 던지고 대화를 통해 답을 찾고자 노력했습니다.\n",
    "\n",
    "저는 이제 제 자신 스스로에게 질문했던 답을 내어놓으려 합니다.\n",
    "\n",
    " \n",
    "\n",
    "지금까지 국민들은 저를 통해 정치쇄신에 대한 열망을 표현해주셨습니다.\n",
    "\n",
    " \n",
    "\n",
    "저는 이제 \n",
    "\n",
    "이번 18대 대통령 선거에 출마함으로써 \n",
    "\n",
    "그 열망을 실천해내는 사람이 되려 합니다.\n",
    "\n",
    " \n",
    "\n",
    "저에게 주어진 시대의 숙제를 감당하려고 합니다.\n",
    "\n",
    " \n",
    "\n",
    "저는 먼저 정치개혁은 선거과정에서부터 시작해야한다고 생각합니다.\n",
    "\n",
    "국민의 반을 적으로 돌리면서 통합을 외치는 것은 위선입니다.\n",
    "\n",
    "선거과정에서 부당하고 저급한 흑색선전과 이전투구를 계속하면, \n",
    "\n",
    "서로를 증오하고 지지자들을 분열시키며, 나아가서는 국민을 분열시킵니다.\n",
    "\n",
    "그렇게 선거가 끝나고 나면 선거에서 이겨도 국민의 절반 밖에 마음을 얻지 못합니다.\n",
    "\n",
    " \n",
    "\n",
    "앞으로도 이런 일이 계속 된다면 다음 5년도 \n",
    "\n",
    "분열과 증오의 시간을 보낼 수밖에 없을 겁니다.\n",
    "\n",
    "누가 대통령이 되더라도 통합과 사회문제 해결은 요원한 일일 것입니다.\n",
    "\n",
    " \n",
    "\n",
    "그래서 저는 저부터 선거과정에서의 쇄신을 약속드리겠습니다.\n",
    "\n",
    " \n",
    "\n",
    "저는 선거과정에서 어떤 어려움과 유혹이 있더라도 \n",
    "\n",
    "흑색선전과 같은 낡은 정치는 하지 않겠습니다.\n",
    "\n",
    " \n",
    "\n",
    "그리고 어떤 결과가 나오더라도 \n",
    "\n",
    "저를 지지하는 분들이 그 결과를 존중하고 같이 축하할수 있도록 노력하겠습니다.\n",
    "\n",
    " \n",
    "\n",
    "박근혜 후보와 문재인 후보께 제안합니다.\n",
    "\n",
    " \n",
    "\n",
    "모두 한자리에 모여, \n",
    "\n",
    "국민들을 증인으로 선의의 정책 경쟁을 할 것을 약속하면 어떻겠습니까?\n",
    "\n",
    " \n",
    "\n",
    "그리고 선거후에도 승리한 사람은 다른 후보들의 이야기에 귀를 기울이며, \n",
    "\n",
    "패배한 사람은 깨끗이 결과에 승복하여 \n",
    "\n",
    "더 나은 우리의 미래를 만들기 위해 협력할 것도 같이 약속하면 어떨까요? \n",
    "\n",
    " \n",
    "\n",
    "그래야 분열과 증오의 정치를 넘어서\n",
    "\n",
    "우리의 미래를 위한 에너지로 바꿔 놓을 수 있을 겁니다.\n",
    "\n",
    " \n",
    "\n",
    "누가 당선 되더라도 국민을 위해서라면 \n",
    "\n",
    "서로 도울 수 있고 또 함께 할 수 있는 \n",
    "\n",
    "통합의 시작점이 될 수 있습니다.\n",
    "\n",
    " \n",
    "\n",
    "그러한 정책 대결 속에서 제가 만약 당선된다면 \n",
    "\n",
    "다른 후보들의 더 나은 정책이 있다면 받아들이고 또 경청할 겁니다.\n",
    "\n",
    " \n",
    "\n",
    "이것이 바로 국민들이 원하는 덧셈의 정치, 통합의 정치라고 저는 생각합니다.\n",
    "\n",
    " \n",
    "\n",
    "많은 분들이 정치 경험도 없는데 \n",
    "\n",
    "막상 대통령이 되면 어떻게 할 것이냐고 걱정을 하셨습니다.\n",
    "\n",
    "정치라는 험한 곳에 들어가 괜히 만신창이가 되지 말라고도 하셨습니다.\n",
    "\n",
    "지금 이 자리에도 그런 생각을 가진 분들이 계실 겁니다.\n",
    "\n",
    " \n",
    "\n",
    "저는 정치경험뿐 아니라 조직도 없고, 세력도 없지만, 그만큼 빚진 것도 없습니다.\n",
    "\n",
    "정치경험 대신 국민들께 들은 이야기를 소중하게 가지고 가겠습니다.\n",
    "\n",
    "조직과 세력 대신 나라를 위해 애쓰시는 모든 분들과 함께 나아가겠습니다.\n",
    "\n",
    "빚진 게 없는 대신, 공직을 전리품으로 배분하는 일만큼은 결코 하지 않을 것입니다.\n",
    "\n",
    " \n",
    "\n",
    "사실 대통령 한 사람의 힘으로 5년 만에 모든 문제를 해결 할 수는 없습니다.\n",
    "\n",
    "그렇지만 대한민국은 이미 현명한 국민들과 많은 전문가들이 \n",
    "\n",
    "요소요소에서 각자가 역할을 하는 커다란 시스템을 이루고 있습니다.\n",
    "\n",
    " \n",
    "\n",
    "그 속에 이미 답이 있습니다.\n",
    "\n",
    " \n",
    "\n",
    "지금 대한민국은 낡은 체제와 미래가치가 충돌하고 있습니다.\n",
    "\n",
    "이제 낡은 물줄기를 새로운 미래를 향해 바꿔야 합니다.\n",
    "\n",
    "국민들의 민의를 반영하지 못하는 정치 시스템, \n",
    "\n",
    "빈부격차가 심해지고 일자리를 창출하지 못하는 경제 시스템,\n",
    "\n",
    "계층 간의 이동이 차단된 사회시스템, \n",
    "\n",
    "공정한 기회가 부여되지 않는 기득권 과보호구조,\n",
    "\n",
    "지식산업시대에 역행하는 옛날 방식의 의사결정구조, \n",
    "\n",
    " \n",
    "\n",
    "이와 같은 것들로는 미래를 열어갈 수 없습니다.\n",
    "\n",
    "더 이상 이대로는 안 됩니다.\n",
    "\n",
    " \n",
    "\n",
    "국민들은 이제 정치부터 바꿔야 한다고 이야기하십니다.\n",
    "\n",
    "앞으로 5년은 누가 대통령이 되더라도 매우 힘든 상황이 전개될 것입니다.\n",
    "\n",
    " \n",
    "\n",
    "국내의 가계부채와 부동산 문제가 정말 심각합니다. 세계적인 장기불황까지 겹쳐 한꺼번에 \n",
    "\n",
    "위기적 상황이 닥쳐올 가능성이 많습니다.\n",
    "\n",
    " \n",
    "\n",
    "이러한 상황 하에서 제가 혼자서 모든 문제를 해결하고 \n",
    "\n",
    "세상을 바꿀 수 있다고 생각하지 않습니다.\n",
    "\n",
    " \n",
    "\n",
    "저도 열심히 살려고 노력했지만 부족하고 실수도 하고 결점이 많은 사람이기 때문입니다.\n",
    "\n",
    " \n",
    "\n",
    "하지만, 현명한 국민들과 전문가들 속에서 답을 구하고, 지혜를 모으면 \n",
    "\n",
    "그래도 최소한 물줄기는 돌려놓을 수 있을 거라고 생각합니다.\n",
    "\n",
    " \n",
    "\n",
    "위기의 시대에 힘을 합쳐 함께 어려움을 헤쳐나갈 수 있다고 생각합니다.\n",
    "\n",
    " \n",
    "\n",
    "정치가 바뀌어야 우리 삶이 바뀔 수 있습니다.\n",
    "\n",
    "새로운 정치가 들어서야 민생경제 중심 경제가 들어섭니다.\n",
    "\n",
    " \n",
    "\n",
    "대한민국은 새로운 경제모델이 필요합니다.\n",
    "\n",
    "지금 논의되고 있는 경제민주화와 복지는 성장동력과 결합하는 경제혁신을 만들어야 합니다.\n",
    "\n",
    " \n",
    "\n",
    "평화체제는 역시 안보와 균형을 맞출 때 실현가능합니다.\n",
    "\n",
    " \n",
    "\n",
    "제 정책비전과 구상의 구체적 내용은 앞으로 선거과정에서 말씀드리겠습니다.\n",
    "\n",
    " \n",
    "\n",
    "저는 이번 선거 과정부터 \n",
    "\n",
    "국민의 생각이 하나로 모아지는 첫걸음을 시작했으면 좋겠습니다.\n",
    "\n",
    " \n",
    "\n",
    "이번 선거를 통해 새로운 변화를 원하는 국민의 마음이 하나로 모아지면 좋겠습니다.\n",
    "\n",
    " \n",
    "\n",
    "저는 세상을 움직이는 것은 진심이라고 생각합니다.\n",
    "\n",
    "진심의 정치를 하겠습니다.\n",
    "\n",
    " \n",
    "\n",
    "그 과정에서 저를 향한 공격이나 비난은 두렵지 않습니다. 극복하겠습니다.\n",
    "\n",
    "더 나은 미래를 만들기 위해 싸워야 한다면 정정당당하게 싸울 것입니다.\n",
    "\n",
    "사람의 선의가 가장 강력한 힘이 될 수 있다는 것을 \n",
    "\n",
    "국민여러분과 함께 증명하려고 합니다.\n",
    "\n",
    " \n",
    "\n",
    "저에게 많은 이야기를 들려주신 \n",
    "\n",
    "그리고 많은 지지를 보내주신 국민여러분 \n",
    "\n",
    "저와 함께 해주십시오.\n",
    "\n",
    " \n",
    "\n",
    "그래야 정치가 바뀌고 정치가 바뀌어야 우리의 삶이 바뀝니다.\n",
    "\n",
    "변화의 열쇠는 바로 국민 여러분께 있습니다.\n",
    "\n",
    "국민이 선택하는 새로운 변화가 시작됩니다.\n",
    "\n",
    " \n",
    "\n",
    "마지막으로 \n",
    "\n",
    "제가 좋아하는 작가, 윌리엄 깁슨의 말을 하나 소개하고 싶습니다.\n",
    "\n",
    " \n",
    "\n",
    "'미래는 이미 와 있다. 단지 널리 퍼져있지 않을 뿐이다'\n",
    "\n",
    "그렇습니다. 미래는 지금 우리 앞에 있습니다.\n",
    "\n",
    " \n",
    "\n",
    "고맙습니다.   \"\"\"\n",
    "\n",
    "\n",
    "print(ahn.count('국민'))"
   ]
  },
  {
   "cell_type": "markdown",
   "metadata": {},
   "source": [
    "## ■예제90.  문자열에서 특정 문자(열) 위치 찾기(find)\n",
    "\n",
    "문자열 객체의 find() 는 문자열에서 특정 문자나 문자열이 위치하는  \n",
    "인덱스를 리턴합니다.  find() 에 찾고자하는 문자를 입력하면 해당 문자나  \n",
    "문자열이 __최초로 나타나는 위치__에 대한 인덱스를 리턴합니다.   "
   ]
  },
  {
   "cell_type": "code",
   "execution_count": 10,
   "metadata": {},
   "outputs": [
    {
     "name": "stdout",
     "output_type": "stream",
     "text": [
      "22\n",
      "27\n"
     ]
    }
   ],
   "source": [
    "txt = 'A lot of things occur each day, every day.'\n",
    "\n",
    "result1 =  txt.find('e') # 'e'의 인덱스값을 나타냄. (단, 최초로 나타내는 위치만 나타냄!)\n",
    "result2 =  txt.find('day') # 'day'의 인덱스값을 나타냄. (단, 최초로 나타내는 위치만 나타냄!)\n",
    "print (result1)  # 22\n",
    "print (result2)  # 27"
   ]
  },
  {
   "cell_type": "markdown",
   "metadata": {},
   "source": [
    "## 문제165. 우리반 테이블(emp10.csv) 를 로드해서  이메일에서 @ 의 위치  \n",
    "## 인덱스번호를 출력하시오 ! "
   ]
  },
  {
   "cell_type": "code",
   "execution_count": null,
   "metadata": {},
   "outputs": [],
   "source": [
    "import csv\n",
    "file = open(\"d:\\\\data\\emp10.csv\", \"r\", encoding=\"UTF8\")\n",
    "# \"r\"은 읽는다는 의미 encoding = \"UTF8\"은 한글 들어갔을 때 오류안뜨게 해줌.  \n",
    "emp_csv = csv.reader(file)\n",
    "\n",
    "for emp_list in emp_csv:\n",
    "    data = emp_list[4]\n",
    "    print (data.find('@')) "
   ]
  },
  {
   "cell_type": "markdown",
   "metadata": {},
   "source": [
    "## 문제166. 우리반 이메일에서 도메인만 출력하시오 !"
   ]
  },
  {
   "cell_type": "code",
   "execution_count": null,
   "metadata": {},
   "outputs": [],
   "source": [
    "import csv\n",
    "file = open(\"d:\\\\data\\emp10.csv\", \"r\", encoding=\"UTF8\")\n",
    "# \"r\"은 읽는다는 의미 encoding = \"UTF8\"은 한글 들어갔을 때 오류안뜨게 해줌.  \n",
    "emp_csv = csv.reader(file)\n",
    "\n",
    "for emp_list in emp_csv:\n",
    "    data = emp_list[4]\n",
    "    a = data.find('@')\n",
    "    b = data.find('.')\n",
    "    print (data[a+1:b])"
   ]
  },
  {
   "cell_type": "markdown",
   "metadata": {},
   "source": [
    "## ■예제91. 문자열을 특정 문자(열) 로 분리하기(split)\n",
    "\n",
    "코드를 작성할 때 가장 많이 접하게 되는 경우가 구분자(separator)로 구분되어 있는 문자열을 파싱(parsing) 하는 일입니다.  \n",
    "이때 문자열 객체의 split() 를 활용하면 구분자를 기준으로 문자열을 쉽게 분리하여 파싱할 수 있습니다. "
   ]
  },
  {
   "cell_type": "code",
   "execution_count": 22,
   "metadata": {},
   "outputs": [
    {
     "name": "stdout",
     "output_type": "stream",
     "text": [
      "['http:', '', 'www.naver.com', 'news', 'today=20191204']\n"
     ]
    }
   ],
   "source": [
    "url = 'http://www.naver.com/news/today=20191204'\n",
    "result = url.split('/')\n",
    "print(result) "
   ]
  },
  {
   "cell_type": "markdown",
   "metadata": {},
   "source": [
    "## 문제167. 아래의 문자열에서  아래의 데이터를 추출하시오 !"
   ]
  },
  {
   "cell_type": "code",
   "execution_count": 2,
   "metadata": {},
   "outputs": [
    {
     "name": "stdout",
     "output_type": "stream",
     "text": [
      "['name:홍길동', 'age:17', 'major:경영학', 'nation:한국']\n",
      "name 홍길동\n",
      "age 17\n",
      "major 경영학\n",
      "nation 한국\n"
     ]
    }
   ],
   "source": [
    "log ='name:홍길동 age:17 major:경영학 nation:한국'\n",
    "result = log.split(' ')\n",
    "print(result) # 결과는 리스트 형태로 나타나짐\n",
    "for i in result:\n",
    "    a, b = i.split(':')\n",
    "    print (a, b) "
   ]
  },
  {
   "cell_type": "markdown",
   "metadata": {},
   "source": [
    "## ■ 예제92. 문자열을 특정 문자(열) 로 결합하기(join)\n",
    "\n",
    "문자열 객체의 join() 메소드는 split() 와는 반대로 __문자열이 요소인__     \n",
    "리스트를 인자로 받아 리스트 모든 요소를 특정 문자열로  \n",
    "연결하여 새로운 문자열로 만들어 리턴합니다.   "
   ]
  },
  {
   "cell_type": "code",
   "execution_count": 24,
   "metadata": {},
   "outputs": [
    {
     "name": "stdout",
     "output_type": "stream",
     "text": [
      "2019/06/21:200:ok:김인엽\n"
     ]
    }
   ],
   "source": [
    "loglist = ['2019/06/21', '200', 'ok', '김인엽']\n",
    "bond = ':'\n",
    "log = bond.join(loglist)\n",
    "print(log) "
   ]
  },
  {
   "cell_type": "markdown",
   "metadata": {},
   "source": [
    "## 문제168.  \n",
    "## join을 이용해서 우리반 데이터(emp10.csv)의 데이터 중 이름을 아래와   \n",
    "## 같이 출력하시오! (성씨로 정렬해서)\n",
    "\n",
    "## 결과 : 김인엽, 김윤정, 김재훈, ..................................................\n"
   ]
  },
  {
   "cell_type": "code",
   "execution_count": 31,
   "metadata": {},
   "outputs": [
    {
     "name": "stdout",
     "output_type": "stream",
     "text": [
      "권영훈,김다함,김보근,김보라,김서주,김아름,김윤정,김인엽,김재훈,김태영,김홍진,나성민,노민준,박상규,손명기,신현성,안다훈,양수영,오주석,우태용,이경관,이동근,이유진,이지연,이홍희,임수정,전형욱,최인선,황태민\n"
     ]
    }
   ],
   "source": [
    "import csv\n",
    "file = open(\"d:\\\\data\\emp10.csv\", \"r\", encoding = \"UTF8\")\n",
    "emp_csv = csv.reader(file)\n",
    "a = []\n",
    "for emp_list in emp_csv:\n",
    "    a.append(emp_list[1])\n",
    "a.sort()\n",
    "bond = ','\n",
    "log = bond.join(a)\n",
    "print(log[6:]) # ename을 잘라내기 위해서 log[6:]을 이용함."
   ]
  },
  {
   "cell_type": "markdown",
   "metadata": {},
   "source": [
    "## ■ 예제93.  문자열에서 특정 문자(열)을 다른 문자(열) 로 바꾸기(replace)\n",
    "\n",
    "문자열 객체의 replace() 메소드는 문자열에서 특정 문자나 문자열을 다른 문자나 문자열로 변경합니다."
   ]
  },
  {
   "cell_type": "code",
   "execution_count": 3,
   "metadata": {},
   "outputs": [
    {
     "name": "stdout",
     "output_type": "stream",
     "text": [
      "My password  is  0234\n"
     ]
    }
   ],
   "source": [
    "txt = 'My password  is  1234'\n",
    "result1 = txt.replace('1','0') # txt에 있는 1을 0으로 싹다 바꾼다.\n",
    "print (result1)"
   ]
  },
  {
   "cell_type": "markdown",
   "metadata": {},
   "source": [
    "## 문제169. 아래의 리스트의 결과를 아래와 같이 출력하시오!\n",
    "\n",
    "result = ['name:홍길동', 'age:17', 'major:경영학', 'nation:한국']\n",
    "\n",
    "__결과 :__\n",
    "\n",
    "name --> 홍길동  \n",
    "age   --> 17  \n",
    "major --> 경영학   \n",
    "nation --> 한국  \n"
   ]
  },
  {
   "cell_type": "code",
   "execution_count": 41,
   "metadata": {},
   "outputs": [
    {
     "name": "stdout",
     "output_type": "stream",
     "text": [
      "name --> 홍길동\n",
      "age --> 17\n",
      "major --> 경영학\n",
      "nation --> 한국\n"
     ]
    }
   ],
   "source": [
    "# 리스트형에다가 replace를 적용시키려면 반복문을 돌려야함 !!!\n",
    "\n",
    "result = ['name:홍길동', 'age:17', 'major:경영학', 'nation:한국']\n",
    "\n",
    "for i in result:\n",
    "    a = i.replace(':', ' --> ')\n",
    "    print(a)"
   ]
  },
  {
   "cell_type": "markdown",
   "metadata": {},
   "source": [
    "## 점심시간 문제.  키와 체중의 상관계수를 파이썬으로 구현하시오 ~"
   ]
  },
  {
   "cell_type": "code",
   "execution_count": null,
   "metadata": {},
   "outputs": [],
   "source": [
    "# 개선해서 더 간단하게 만들어볼것\n",
    "# list형태도  sum,max,min등등 적용 가능하다.\n",
    "# print(sum(tall)) 가능.\n",
    "# 시간 내서 def로 만들어볼것.\n",
    "\n",
    "import math\n",
    "\n",
    "tall = [147.9, 163.5, 159.8, 155.1, 163.3, 158.7, 172.0, 161.2, 153.9, 161.6]\n",
    "weight = [41.7, 60.2, 47.0, 53.2, 48.3, 55.2, 58.5, 49.0, 46.7, 52.5]\n",
    "\n",
    "sum1 = 0\n",
    "sum2 = 0\n",
    "\n",
    "for i in tall:\n",
    "    sum1 += i\n",
    "\n",
    "for i in weight:\n",
    "    sum2 += i\n",
    "\n",
    "t_mean = (sum1/len(tall))\n",
    "w_mean = (sum2/len(weight))\n",
    "\n",
    "print(t_mean) #키의 평균\n",
    "print(w_mean) #몸무게의 평균\n",
    "\n",
    "sum3 = 0\n",
    "sum4 = 0\n",
    "sum5 = 0\n",
    "\n",
    "for i in tall:\n",
    "    sum3 += pow((i-t_mean),2)\n",
    "\n",
    "for i in weight:\n",
    "    sum4 += pow((i-w_mean),2)\n",
    "\n",
    "for i in range(0,len(tall)):\n",
    "    sum5 += (tall[i] - t_mean) * (weight[i] - w_mean)\n",
    "\n",
    "tw_var = sum5/ len(tall)\n",
    "t_var = sum3 / len(tall)\n",
    "w_var = sum4 / len(weight)\n",
    "\n",
    "print(t_var) #키의 분산\n",
    "print(w_var) #몸무게의 분산\n",
    "print(tw_var) # 키와 몸무게의 공분산 \n",
    "\n",
    "t_std = math.sqrt(t_var)\n",
    "w_std = math.sqrt(w_var)\n",
    "\n",
    "print(t_std) #키의 표준편차\n",
    "print(w_std) #몸무게의 표준편차\n",
    "\n",
    "r = tw_var/(t_std*w_std) # 키와 몸무게의 상관계수\n",
    "\n",
    "print(r)"
   ]
  },
  {
   "cell_type": "markdown",
   "metadata": {},
   "source": [
    "## ■예제94. 문자열을 바이트 객체로 바꾸기 (encode)"
   ]
  },
  {
   "cell_type": "markdown",
   "metadata": {},
   "source": [
    "### ※  인코딩(encoding) 이란?\n",
    "\n",
    "   __인코딩이란 사람이 인지할 수 있는 형태의 데이터를 약속된 규칙에 의해  \n",
    "   컴퓨터가 사용하는 0 과 1 로 변환하는 과정을 말한다.__   \n",
    "   \n",
    "   \n",
    "   컴퓨터의 발명, 발전이 미국의 학계와 기업을 중심으로 이루어지다 보니  \n",
    "   문자 집합도 미국을 기준으로 제정되었다.  \n",
    "   미국에서는 제정된 ASCII(미국 정보 교환 표준 부호)는 1960년대에  \n",
    "   제정된 문자 집합으로 이후 개발된 문자 집합의 토대를 이루고 있다.   \n",
    "   ASCII 는 7비트(2^7 = 128) 만을 이용해서 음이 아닌 수 (0 ~127) 의 문자집합내의  \n",
    "   문자 할당 약속입니다.   "
   ]
  },
  {
   "cell_type": "code",
   "execution_count": 49,
   "metadata": {},
   "outputs": [
    {
     "name": "stdout",
     "output_type": "stream",
     "text": [
      "A\n",
      "65\n"
     ]
    }
   ],
   "source": [
    "# A 는 숫자 65 이다.  a 는 숫자 97 이다. \n",
    "u_text ='A'\n",
    "b_text = u_text.encode()\n",
    "print ( u_text )  # 인코딩 안한것 'A'\n",
    "print ( b_text[0] )  # 인코딩 한것 65\n",
    "\n",
    "# 더 자세한 사항은 구글에서 '아스키 코드표'로 검색해보면 된다."
   ]
  },
  {
   "cell_type": "markdown",
   "metadata": {},
   "source": [
    "## 문제170. chr 을 이용해서 숫자 65부터 127까지 어떤 문자인지 출력하시오!"
   ]
  },
  {
   "cell_type": "code",
   "execution_count": null,
   "metadata": {},
   "outputs": [],
   "source": [
    "for i in range(65,128):\n",
    "    print(i, ' ---> ', chr(i)) #chr은 숫자값을 아스키코드로 인식하여 문자로 변환해주는 함수이다."
   ]
  },
  {
   "cell_type": "markdown",
   "metadata": {},
   "source": [
    "### 이 아스키 코드표로 미국 엔지니어들은 행복하게 살아가고 있었지만\n",
    "### 다른 나라 사람들은 그러지 못했다. \n",
    "\n",
    "1. __서유럽__  \n",
    "   독일어의 움라우트, 스페인어의 물결표, 터키어의 시딜러, 프랑스어의 악센트  \n",
    "   는 7비트로 표현하지 못했다.   \n",
    "   그래서 미국 표준을 보완한 새로운 국제 표준이 등장했다.  \n",
    "   미국 표준인 0에서 127영역은 그대로 유지하고 128에서 255 영역의 서유럽어에서  \n",
    "   필요한 문자를 추가했다.   \n",
    "   129(2의 7승) 에 256(2의 8승) 인 8비트로 표현하는 문자 집합을 추가해서  \n",
    "   서유럽어는 컴퓨터로 구현 가능하게 되었다.   \n",
    "    \n",
    "    \n",
    "2. __아시아__   \n",
    "    아시아에서는 한자, 일본어, 한글이 8비트에 들어맞지 않았다.  \n",
    "    아시아를 위해서 더블 캐릭터 셋 16비트로 된 문자집합을 제공해서   \n",
    "    해결했다. 65,536(2의 16승) 개의 문자를 할당 할 수 있다.     \n",
    "    EUC-KR, CP949 가 여기에 해당된다.   \n",
    "    그런데 갑자기 크게 두가지 문제가 발생했다.   \n",
    "    \n",
    "    포스코 더 샾 아파트      \n",
    "\n",
    "    alter   table   emp  \n",
    "      add    address   varchar2(20);  \n",
    "\n",
    "    insert  into  emp(empno, ename, address)  \n",
    "     values(1111,'김인호', '포스코더샾');  \n",
    "\n",
    "    select * from  emp;  \n",
    "    1111    김인호   포스코더?  \n",
    "\n",
    "    이 문제를 어떻게 해결하기 위해서 나온게 바로  유니코드 이다.   \n",
    "     __UTF-7,  UTF-8, UTF-6, UTF-32__    \n",
    "\n",
    "    이중에 __UFT-8__ 을 가장 많이 사용한다.  \n",
    "\n",
    "    __file = open(\"d:\\\\emp10.csv\", \"r\", encoding=\"UTF-8\")__  \n",
    "      \n",
    "    파이썬에서 한글이 ?? 로 출력 안되려면 인코딩 UTF-8을 맞춰줘야한다.   "
   ]
  },
  {
   "cell_type": "markdown",
   "metadata": {},
   "source": [
    "## 문제171. 위의 코드를 comprehension을 이용해서 2줄로 실행하시오!"
   ]
  },
  {
   "cell_type": "code",
   "execution_count": 51,
   "metadata": {},
   "outputs": [
    {
     "name": "stdout",
     "output_type": "stream",
     "text": [
      "[1, 2, 3, 4, 5, 6, 7, 8, 9, 10]\n"
     ]
    }
   ],
   "source": [
    "a = [i for i in range(1,11)]\n",
    "print(a) "
   ]
  },
  {
   "cell_type": "markdown",
   "metadata": {},
   "source": [
    "## 문제172.  아래와 같이 결과를 출력하시오 !"
   ]
  },
  {
   "cell_type": "code",
   "execution_count": 52,
   "metadata": {},
   "outputs": [
    {
     "name": "stdout",
     "output_type": "stream",
     "text": [
      "[2, 4, 6, 8, 10, 12, 14, 16, 18]\n"
     ]
    }
   ],
   "source": [
    "# [ 2, 4, 6, 8, 10, 12, 14, 16, 18 ]\n",
    "\n",
    "a = [2*i for i in range(1,10)]\n",
    "print(a)"
   ]
  },
  {
   "cell_type": "markdown",
   "metadata": {},
   "source": [
    "## ■ 예제97. 리스트에서 특정 요소 얻기 \n",
    "\n",
    " 리스트의 특정 위치에 있는 요소값을 구하려면 인덱싱을 이용합니다.   \n",
    " 인덱스는 0 부터 시작 합니다.   "
   ]
  },
  {
   "cell_type": "code",
   "execution_count": null,
   "metadata": {},
   "outputs": [],
   "source": [
    "a = [ 1, 2, 'a', 'b', 'c', [ 4, 5, 6] ] \n",
    "print ( a[1] )   #  2 가 출력 "
   ]
  },
  {
   "cell_type": "markdown",
   "metadata": {},
   "source": [
    "## 문제173. 위의 a 리스트에서 숫자 4를 출력하시오 !"
   ]
  },
  {
   "cell_type": "code",
   "execution_count": 53,
   "metadata": {},
   "outputs": [
    {
     "name": "stdout",
     "output_type": "stream",
     "text": [
      "4\n"
     ]
    }
   ],
   "source": [
    "a = [ 1, 2, 'a', 'b', 'c', [ 4, 5, 6] ] \n",
    "print(a[5][0])"
   ]
  },
  {
   "cell_type": "markdown",
   "metadata": {},
   "source": [
    "## ■ 예제98.  리스트에서 특정 요소의 위치를 구하기 (index) \n",
    "\n",
    " 리스트 객체의 index() 메소드는 리스트에서 요소의 값을 알고 있을때  \n",
    " 그 요소가 최초로 나타나는 위치의 인덱스를 리턴 합니다.   (일종의 위치 찾기!)"
   ]
  },
  {
   "cell_type": "code",
   "execution_count": 54,
   "metadata": {},
   "outputs": [
    {
     "name": "stdout",
     "output_type": "stream",
     "text": [
      "1\n",
      "2\n"
     ]
    }
   ],
   "source": [
    "a = [ 1, 2, 'a', 'b', 'c', [ 4, 5, 6] ] \n",
    "print  (  a.index(2) )  # 숫자 1 출력\n",
    "print  (  a.index('a') )  # 숫자 2 출력"
   ]
  },
  {
   "cell_type": "markdown",
   "metadata": {},
   "source": [
    "## 문제174.  a 리스트의 숫자 4의 인덱스 번호를 출력하시오 !"
   ]
  },
  {
   "cell_type": "code",
   "execution_count": null,
   "metadata": {},
   "outputs": [],
   "source": [
    "a = [ 1, 2, 'a', 'b', 'c', [ 4, 5, 6] ] \n",
    "    \n",
    "print(a.index(4)) \n",
    "\n",
    "# 설명 : 리스트 안에 있는 리스트의 인덱스번호는 출력을 못한다."
   ]
  },
  {
   "cell_type": "markdown",
   "metadata": {},
   "source": [
    "## ■예제99.  리스트에서 특정 위치의 요소를 변경하기 "
   ]
  },
  {
   "cell_type": "code",
   "execution_count": 58,
   "metadata": {},
   "outputs": [
    {
     "name": "stdout",
     "output_type": "stream",
     "text": [
      "['z', 'b', 'c', 'd', 'e', 'f', 'g']\n"
     ]
    }
   ],
   "source": [
    "list_a = ['a', 'b', 'c', 'd', 'e', 'f', 'g' ]\n",
    "list_a[0] ='z'\n",
    "print ( list_a ) # ['z', 'b', 'c', 'd', 'e', 'f', 'g' ]     'a'가 'z'로 바뀐다."
   ]
  },
  {
   "cell_type": "markdown",
   "metadata": {},
   "source": [
    "## 문제175.  \n",
    "## 주머니속에 노란공 6개와 파란공 4개 총 10개의 공이 들어있는  \n",
    "## 리스트를 만드시오 !  "
   ]
  },
  {
   "cell_type": "code",
   "execution_count": null,
   "metadata": {},
   "outputs": [],
   "source": [
    "pocket=['y','y','y','y','y','y','b','b','b','b']"
   ]
  },
  {
   "cell_type": "markdown",
   "metadata": {},
   "source": [
    "## 문제176.  아래의 주머니에서 임의로 공 1개를 꺼내보시오 ~"
   ]
  },
  {
   "cell_type": "code",
   "execution_count": 4,
   "metadata": {},
   "outputs": [
    {
     "name": "stdout",
     "output_type": "stream",
     "text": [
      "['y', 'b']\n"
     ]
    }
   ],
   "source": [
    "import  random\n",
    "pocket=['y','y','y','y','y','y','b','b','b','b']\n",
    "ball = random.sample(pocket, 2)  # random.sample(가져올 리스트 자료형, 시행횟수)\n",
    "                                 # random.sample은 비복원 추출\n",
    "print (ball)"
   ]
  },
  {
   "cell_type": "markdown",
   "metadata": {},
   "source": [
    "## 문제177.     \n",
    "## 주머니속에 노란공 6개와 파란공 4개가 들어있다.  \n",
    "## 주머니에 들어있는 10개의 공 중에서 임의로 3개의 공을 꺼낼경우  \n",
    "## 이 중에서 2개의 공이 파란공일 확률을 구하시오 !  \n",
    "## (비복원추출로 수행하세요 ~)   "
   ]
  },
  {
   "cell_type": "code",
   "execution_count": 1,
   "metadata": {},
   "outputs": [
    {
     "name": "stdout",
     "output_type": "stream",
     "text": [
      "['b' 'y']\n",
      "<class 'numpy.ndarray'>\n",
      "b\n",
      "y\n",
      "98\n",
      "121\n"
     ]
    }
   ],
   "source": [
    "# test 코드\n",
    "\n",
    "import random\n",
    "import numpy as np\n",
    "\n",
    "pocket=['y','y','y','y','y','y','b','b','b','b']\n",
    "\n",
    "ball = np.random.choice(pocket, 2) # 결과는 numpy 자료형\n",
    "\n",
    "\n",
    "print(ball)\n",
    "print(type(ball))\n",
    "print(ball[0])\n",
    "print(ball[1])\n",
    "\n",
    "print(ord(ball[0]))  # b의 아스키 코드 값은 98\n",
    "print(ord(ball[1]))  # y의 아스키 코드 값은 121\n",
    "\n",
    "# 복원추출이면 \n",
    "# np.random.choice( pocket, 2 )"
   ]
  },
  {
   "cell_type": "code",
   "execution_count": 3,
   "metadata": {},
   "outputs": [
    {
     "name": "stdout",
     "output_type": "stream",
     "text": [
      "시행횟수를 입력하시오10000\n",
      "0.288\n"
     ]
    }
   ],
   "source": [
    "import random\n",
    "\n",
    "pocket=['y','y','y','y','y','y','b','b','b','b']\n",
    "\n",
    "t = int(input('시행횟수를 입력하시오'))\n",
    "cnt = 0\n",
    "\n",
    "for i in range(0,t):\n",
    "    ball = random.sample(pocket,3)\n",
    "    if ball.count('b') == 2:\n",
    "        cnt +=1\n",
    "\n",
    "x = cnt/t\n",
    "\n",
    "print(x)\n",
    "    "
   ]
  },
  {
   "cell_type": "markdown",
   "metadata": {},
   "source": [
    "## ■ 예제100. 리스트에서 특정 구간에 있는 요소 추출하기 \n",
    "\n",
    "리스트의 특정구간에 있는 요소를 추출하여 새로운 리스트를 만들려면  \n",
    "슬라이싱을 이용하면 됩니다. "
   ]
  },
  {
   "cell_type": "code",
   "execution_count": 176,
   "metadata": {},
   "outputs": [
    {
     "name": "stdout",
     "output_type": "stream",
     "text": [
      "['수성', '금성', '지구']\n",
      "['화성', '목성', '토성', '천왕성', '해왕성']\n"
     ]
    }
   ],
   "source": [
    "sol = ['태양', '수성', '금성', '지구', '화성', '목성', '토성', '천왕성', '해왕성']\n",
    "rock_planets = sol[1:4]\n",
    "gas_planets = sol[4: ]\n",
    "print ( rock_planets )\n",
    "print ( gas_planets ) "
   ]
  },
  {
   "cell_type": "markdown",
   "metadata": {},
   "source": [
    "## 문제178. 알파벳 a 부터 z 까지를 담는 리스트를 만드시오 !  "
   ]
  },
  {
   "cell_type": "code",
   "execution_count": 175,
   "metadata": {},
   "outputs": [
    {
     "name": "stdout",
     "output_type": "stream",
     "text": [
      "['a', 'b', 'c', 'd', 'e', 'f', 'g', 'h', 'i', 'j', 'k', 'l', 'm', 'n', 'o', 'p', 'q', 'r', 's', 't', 'u', 'v', 'w', 'x', 'y', 'z']\n"
     ]
    },
    {
     "data": {
      "text/plain": [
       "['a',\n",
       " 'b',\n",
       " 'c',\n",
       " 'd',\n",
       " 'e',\n",
       " 'f',\n",
       " 'g',\n",
       " 'h',\n",
       " 'i',\n",
       " 'j',\n",
       " 'k',\n",
       " 'l',\n",
       " 'm',\n",
       " 'n',\n",
       " 'o',\n",
       " 'p',\n",
       " 'q',\n",
       " 'r',\n",
       " 's',\n",
       " 't',\n",
       " 'u',\n",
       " 'v',\n",
       " 'w',\n",
       " 'x',\n",
       " 'y',\n",
       " 'z']"
      ]
     },
     "execution_count": 175,
     "metadata": {},
     "output_type": "execute_result"
    }
   ],
   "source": [
    "import  string \n",
    "list_b = [ i for i in string.ascii_lowercase ]\n",
    "print (list_b)\n",
    "\n",
    "['a', 'b', 'c', 'd', 'e', 'f', 'g', 'h', 'i', 'j', 'k', 'l', 'm', 'n', 'o', 'p', 'q', 'r', 's', 't', 'u', 'v', 'w', 'x', 'y', 'z']"
   ]
  },
  {
   "cell_type": "markdown",
   "metadata": {},
   "source": [
    "## 문제179.  위의 list_b 에서 알파벳 h 부터 끝까지를 담는 list_c 를 생성하시오"
   ]
  },
  {
   "cell_type": "code",
   "execution_count": 6,
   "metadata": {},
   "outputs": [
    {
     "name": "stdout",
     "output_type": "stream",
     "text": [
      "['h', 'i', 'j', 'k', 'l', 'm', 'n', 'o', 'p', 'q', 'r', 's', 't', 'u', 'v', 'w', 'x', 'y', 'z']\n"
     ]
    }
   ],
   "source": [
    "import  string \n",
    "list_b = [ i  for  i  in  string.ascii_lowercase ]\n",
    "h_index = list_b.index('h')\n",
    "list_c = list_b[ h_index :  ]\n",
    "print(list_c)"
   ]
  },
  {
   "cell_type": "markdown",
   "metadata": {},
   "source": [
    "## ■예제101. 리스트에서 짝수번째 요소만 추출하기 \n",
    "\n",
    " 리스트에서 짝수번째 요소를 추출하는 방법은 두번째 요소부터 끝까지  \n",
    " 스탭 2로 슬라이싱 하면 됩니다.   "
   ]
  },
  {
   "cell_type": "code",
   "execution_count": 180,
   "metadata": {},
   "outputs": [
    {
     "name": "stdout",
     "output_type": "stream",
     "text": [
      "[1, 2, 3, 4, 5, 6, 7, 8, 9, 10, 11, 12, 13, 14, 15, 16, 17, 18, 19, 20]\n",
      "[2, 4, 6, 8, 10, 12, 14, 16, 18, 20]\n"
     ]
    }
   ],
   "source": [
    "listdata = list(range(1, 21)) # range를 이용한 list를 만드는 방법 (참고)\n",
    "print(listdata)\n",
    "#[1, 2, 3, 4, 5, 6, 7, 8, 9, 10, 11, 12, 13, 14, 15, 16, 17, 18, 19, 20]\n",
    "\n",
    "evenlist = listdata[1: :2]\n",
    "print (evenlist)    \n",
    "#[2, 4, 6, 8, 10, 12, 14, 16, 18, 20]"
   ]
  },
  {
   "cell_type": "markdown",
   "metadata": {},
   "source": [
    "## 문제180. 위의 listdata 에서 홀수번째만 별도의 리스트에 담으시오 !\n",
    "\n",
    "print(oddlist)  \n",
    "[1, 3, 5, 7, 9, ............. 19 ]   "
   ]
  },
  {
   "cell_type": "code",
   "execution_count": 1,
   "metadata": {},
   "outputs": [
    {
     "name": "stdout",
     "output_type": "stream",
     "text": [
      "[1, 2, 3, 4, 5, 6, 7, 8, 9, 10, 11, 12, 13, 14, 15, 16, 17, 18, 19, 20]\n",
      "[1, 3, 5, 7, 9, 11, 13, 15, 17, 19]\n"
     ]
    }
   ],
   "source": [
    "listdata = list(range(1, 21))\n",
    "print(listdata)\n",
    "\n",
    "oddlist = listdata[0::2]\n",
    "print(oddlist)"
   ]
  },
  {
   "cell_type": "markdown",
   "metadata": {},
   "source": [
    "## ■ 예제102. 리스트에서 요소 순서를 역순으로 만들기  (reverse)\n",
    "\n",
    "  리스트 객체의 reverse() 메소드는 리스트의 모든 요소 순서를 거꾸로 만듭니다.   \n",
    "  \"reverse() 는 원본 리스트 자체가 변경 된다는것에 유의해야 합니다.\"  "
   ]
  },
  {
   "cell_type": "code",
   "execution_count": 7,
   "metadata": {},
   "outputs": [
    {
     "name": "stdout",
     "output_type": "stream",
     "text": [
      "[4, 3, 2, 1, 0]\n"
     ]
    }
   ],
   "source": [
    "listdata = list (range(5))\n",
    "listdata.reverse()\n",
    "print(listdata) "
   ]
  },
  {
   "cell_type": "markdown",
   "metadata": {},
   "source": [
    "## ■ 예제103. 리스트에서 요소 순서를 역순으로 만들기 2( reversed )\n",
    "\n",
    "리스트 요소 순서를 역순으로 만드는 또 다른 방법은 파이썬 내장 함수인 reversed() 를 이용하는 방법입니다.    \n",
    "reversed() 는 인자로 입력된 시퀀스 자료형의 요소 순서를 역순으로 새로운 시퀀스 자료형을 만들어 리턴합니다. \n",
    "\n",
    " __\" reversed() 는 원본 데이터를 변경하지 않습니다. !!!!  \"__"
   ]
  },
  {
   "cell_type": "code",
   "execution_count": 4,
   "metadata": {},
   "outputs": [
    {
     "name": "stdout",
     "output_type": "stream",
     "text": [
      "[0, 1, 2, 3, 4]\n",
      "[4, 3, 2, 1, 0]\n"
     ]
    }
   ],
   "source": [
    "listdata = list(range(5))\n",
    "print(listdata)\n",
    "result1 = reversed(listdata)\n",
    "# print(result1) --> <list_reverseiterator object at 0x000001424745A4C8> 오류가 아니라 result1의 메모리 주소를 나타냄\n",
    "print(list(result1))  # [4, 3, 2, 1, 0]\n"
   ]
  },
  {
   "cell_type": "markdown",
   "metadata": {},
   "source": [
    "## 문제181.    \n",
    "## 주사위의 눈 6개가 들어있는 리스트를 생성하시오 !  \n",
    "## dice 라는 이름으로 생성하시오 ~  "
   ]
  },
  {
   "cell_type": "code",
   "execution_count": 6,
   "metadata": {},
   "outputs": [
    {
     "name": "stdout",
     "output_type": "stream",
     "text": [
      "[1, 2, 3, 4, 5, 6]\n"
     ]
    }
   ],
   "source": [
    "dice = [i for i in range(1,7)]\n",
    "print(dice)"
   ]
  },
  {
   "cell_type": "code",
   "execution_count": 8,
   "metadata": {},
   "outputs": [
    {
     "name": "stdout",
     "output_type": "stream",
     "text": [
      "[1, 2, 3, 4, 5, 6]\n"
     ]
    }
   ],
   "source": [
    "dice = []\n",
    "for i in range(1,7):\n",
    "    dice.append(i)\n",
    "\n",
    "print(dice)"
   ]
  },
  {
   "cell_type": "markdown",
   "metadata": {},
   "source": [
    "## 문제182.  주사위를 10만번 던져서 짝수가 나올 확률이 어떻게 되는가?"
   ]
  },
  {
   "cell_type": "code",
   "execution_count": 132,
   "metadata": {},
   "outputs": [
    {
     "name": "stdout",
     "output_type": "stream",
     "text": [
      "0.50169\n"
     ]
    }
   ],
   "source": [
    "import random\n",
    "\n",
    "cnt = 0\n",
    "\n",
    "for i in range(100000):\n",
    "    d = random.randint(1,6) # random.radint는 range범위와는 다르게 1이상 6이하다.(양끝 전부다 포함한다.)\n",
    "    if d % 2 == 0:\n",
    "        cnt += 1\n",
    "\n",
    "print(cnt/100000)"
   ]
  },
  {
   "cell_type": "code",
   "execution_count": 126,
   "metadata": {},
   "outputs": [
    {
     "name": "stdout",
     "output_type": "stream",
     "text": [
      "0.50067\n"
     ]
    }
   ],
   "source": [
    "import  random\n",
    "\n",
    "size=100000\n",
    "count=0\n",
    "dice = [i for i in range(1,7)]\n",
    "\n",
    "for i in range(size):    \n",
    "    if random.choice(dice)%2 ==0: # random.choice(list형 변수명)를 잘 파악해두기\n",
    "        count += 1\n",
    "        \n",
    "print(count/size)\n"
   ]
  },
  {
   "cell_type": "markdown",
   "metadata": {},
   "source": [
    "## 문제183. 주사위 5개를 동시에 던져서 나온 눈의 합이 10일 확률은?"
   ]
  },
  {
   "cell_type": "code",
   "execution_count": 4,
   "metadata": {},
   "outputs": [
    {
     "name": "stdout",
     "output_type": "stream",
     "text": [
      "0.01551\n"
     ]
    }
   ],
   "source": [
    "def prob(y):\n",
    "    import random\n",
    "\n",
    "    dice = [i for i in range(1,7)]\n",
    "    cnt = 0\n",
    "\n",
    "    for i in range(y):\n",
    "        if random.choice(dice) + random.choice(dice) +random.choice(dice) +random.choice(dice) +random.choice(dice) == 10:\n",
    "            cnt += 1\n",
    "\n",
    "    prob = cnt/y\n",
    "    \n",
    "    return prob\n",
    "\n",
    "print(prob(100000))"
   ]
  },
  {
   "cell_type": "code",
   "execution_count": null,
   "metadata": {},
   "outputs": [],
   "source": [
    "import random\n",
    "\n",
    "dice = list(range(1,7))\n",
    "cnt = 0\n",
    "\n",
    "for i in range(100000) :\n",
    "\n",
    "    sumDice = 0\n",
    "\n",
    "    for j in range(5) :\n",
    "        sumDice += random.choice(dice)\n",
    "\n",
    "    if sumDice == 10 :\n",
    "        cnt += 1\n",
    "        \n",
    "print(cnt/100000)"
   ]
  },
  {
   "cell_type": "markdown",
   "metadata": {},
   "source": [
    "## 문제189.   \n",
    "## (오늘의 마지막 문제) 아래의 수학식의 도함수를 파이썬 함수로 구현하고   \n",
    "## 값을 4를 입력해서 실행하시오!  "
   ]
  },
  {
   "cell_type": "code",
   "execution_count": 155,
   "metadata": {},
   "outputs": [
    {
     "name": "stdout",
     "output_type": "stream",
     "text": [
      "0.25\n"
     ]
    }
   ],
   "source": [
    "def f_prime(x):\n",
    "    return 1/x\n",
    "\n",
    "print(f_prime(4))"
   ]
  }
 ],
 "metadata": {
  "kernelspec": {
   "display_name": "Python 3",
   "language": "python",
   "name": "python3"
  },
  "language_info": {
   "codemirror_mode": {
    "name": "ipython",
    "version": 3
   },
   "file_extension": ".py",
   "mimetype": "text/x-python",
   "name": "python",
   "nbconvert_exporter": "python",
   "pygments_lexer": "ipython3",
   "version": "3.7.4"
  }
 },
 "nbformat": 4,
 "nbformat_minor": 2
}
