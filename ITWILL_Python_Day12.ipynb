{
 "cells": [
  {
   "cell_type": "markdown",
   "metadata": {},
   "source": [
    "###  ■ (점심시간 문제) 동전 던지기의 확률 분포를 출력하고 그 값을 가지고 막대 그래프로 시각화 하세요 ~ \n",
    "\n",
    "파이썬으로 동전을 10번 던져서 0개 ~ 10개 앞면이 나올 확률의 확률분포표를 출력하고 막대 그래프로 시각화"
   ]
  },
  {
   "cell_type": "code",
   "execution_count": 3,
   "metadata": {},
   "outputs": [
    {
     "name": "stdout",
     "output_type": "stream",
     "text": [
      "시행횟수를 입력하시오!1000\n",
      "[0.001, 0.014, 0.042, 0.122, 0.187, 0.237, 0.224, 0.122, 0.04, 0.009, 0.002]\n"
     ]
    },
    {
     "data": {
      "image/png": "[encoded data removed]",
      "text/plain": [
       "<Figure size 432x288 with 1 Axes>"
      ]
     },
     "metadata": {
      "needs_background": "light"
     },
     "output_type": "display_data"
    }
   ],
   "source": [
    "import random\n",
    "\n",
    "t = int(input('시행횟수를 입력하시오!'))\n",
    "\n",
    "cnt = []\n",
    "\n",
    "y = []\n",
    "\n",
    "for i in range(t):\n",
    "\n",
    "        a = [random.randint(0,1) for i in range(10)] # 1을 앞면, 0을 뒷면이라 가정\n",
    "\n",
    "        cnt.append(sum(a))\n",
    "\n",
    "\n",
    "for i in range(11):\n",
    "\n",
    "    result = cnt.count(i)/t\n",
    "\n",
    "    y.append(result)\n",
    "\n",
    "\n",
    "print(y)\n",
    "\n",
    "import numpy as np\n",
    "import matplotlib.pyplot as plt\n",
    "\n",
    "y1_value = list(y)\n",
    "x_name=('0','1', '2', '3', '4', '5', '6', '7', '8', '9', '10')\n",
    "n_groups = len(x_name)\n",
    "\n",
    "index = np.arange(n_groups)\n",
    "\n",
    "plt.bar(index, y1_value, tick_label=x_name, align='center')\n",
    "plt.xlabel('front coin')\n",
    "plt.ylabel('probablity')\n",
    "plt.title('coin probablity')\n",
    "\n",
    "plt.xlim( -1, n_groups)\n",
    "plt.ylim( 0, 0.3)\n",
    "plt.show()"
   ]
  },
  {
   "cell_type": "markdown",
   "metadata": {},
   "source": [
    "## 문제212. 폐사진 이미지를 숫자로 변환하는 함수를 생성하시오!\n",
    "\n",
    "아나콘다 프롬프트 창에서\n",
    "\n",
    "conda install opencv"
   ]
  },
  {
   "cell_type": "code",
   "execution_count": null,
   "metadata": {},
   "outputs": [],
   "source": [
    "import os\n",
    "import re\n",
    "import cv2\n",
    "import numpy as np\n",
    "\n",
    "test_image = \"d:\\\\image\"\n",
    "\n",
    "def image_load(path):\n",
    "    file_list = os.listdir(path)\n",
    "    file_name = []\n",
    "    \n",
    "    for i in file_list:\n",
    "        a = int(re.sub('[^0-9]','',i)) # 숫자가 아닌것 '[^0-9]' 은 다  ''(null)으로 처리!\n",
    "        file_name.append(a)\n",
    "        file_name.sort()\n",
    "        \n",
    "    file_res = []\n",
    "    \n",
    "    for j in file_name:\n",
    "        file_res.append('%s\\\\%d.png' %(path,j))\n",
    "    \n",
    "    image = []\n",
    "    \n",
    "    for k in file_res:\n",
    "        img = cv2.imread(k) # 이미지를 숫자로 변환하는 역활\n",
    "        image.append(img)\n",
    "        \n",
    "    return np.array(image) # 숫자리스트를 numpy array 로 감싸서 리턴\n",
    "\n",
    "print(image_load(test_image))\n",
    "# 신경망에서는 행렬 연산이 일어나서 결론이 확률로 출력이 되기 때문에 행렬 연산을 편하고 빠르게 하기 위해서 np.array 형태로 반환을 한다."
   ]
  },
  {
   "cell_type": "markdown",
   "metadata": {},
   "source": [
    "## 예제117. 리스트의 모든 요소를 인덱스와 쌍으로 추출하기(enumerate)\n",
    "\n",
    "파이썬 내장함수 enumerate()는 시퀀스(리스트) 자료형을 인자로 받아 __각 요소를 인덱스와 함께 쌍으로 추출__ 할 수 있는 \n",
    "반복 가능한 자료인 enumerate 객체를 리턴합니다.  \n",
    "\n",
    "enumerate 객체는 주로 for문과 함께 자주 사용되고 list()를 이용해서 리스트 객체로 변환 할 수 있습니다."
   ]
  },
  {
   "cell_type": "code",
   "execution_count": 4,
   "metadata": {},
   "outputs": [
    {
     "name": "stdout",
     "output_type": "stream",
     "text": [
      "[(0, '김인엽'), (1, '최인선'), (2, '김재훈'), (3, '노민준')]\n"
     ]
    }
   ],
   "source": [
    "emp10 = ['김인엽', '최인선', '김재훈', '노민준']\n",
    "result1 = list(enumerate(emp10))\n",
    "print(result1)"
   ]
  },
  {
   "cell_type": "markdown",
   "metadata": {},
   "source": [
    "### 설명 \n",
    "\n",
    "enumerate는 자료형(리스트, 튜플)을 입력받아 인덱스 값을 포함하는 enumerate 객체를 리턴 합니다."
   ]
  },
  {
   "cell_type": "code",
   "execution_count": 6,
   "metadata": {
    "scrolled": true
   },
   "outputs": [
    {
     "name": "stdout",
     "output_type": "stream",
     "text": [
      "0 김인엽\n",
      "1 최인선\n",
      "2 김재훈\n",
      "3 노민준\n"
     ]
    }
   ],
   "source": [
    "emp10 = ['김인엽', '최인선', '김재훈', '노민준']\n",
    "for i, body in enumerate(emp10):\n",
    "    print (i,body)"
   ]
  },
  {
   "cell_type": "markdown",
   "metadata": {},
   "source": [
    "## 문제213. 우리반 학생들의 이름을 아래와 같이 출력하시오!"
   ]
  },
  {
   "cell_type": "code",
   "execution_count": 2,
   "metadata": {},
   "outputs": [
    {
     "name": "stdout",
     "output_type": "stream",
     "text": [
      "0 권영훈\n",
      "1 김다함\n",
      "2 김보근\n",
      "3 김보라\n",
      "4 김서주\n",
      "5 김아름\n",
      "6 김윤정\n",
      "7 김인엽\n",
      "8 김재훈\n",
      "9 김태영\n",
      "10 김홍진\n",
      "11 나성민\n",
      "12 노민준\n",
      "13 박상규\n",
      "14 손명기\n",
      "15 신현성\n",
      "16 안다훈\n",
      "17 양수영\n",
      "18 오주석\n",
      "19 우태용\n",
      "20 이경관\n",
      "21 이동근\n",
      "22 이유진\n",
      "23 이지연\n",
      "24 이홍희\n",
      "25 임수정\n",
      "26 전형욱\n",
      "27 최인선\n",
      "28 황태민\n"
     ]
    }
   ],
   "source": [
    "import csv\n",
    "file = open(\"d:\\\\data\\emp10.csv\", \"r\", encoding=\"UTF8\")\n",
    "emp_csv = csv.reader(file)\n",
    "\n",
    "empno = []\n",
    "\n",
    "for emp_list in emp_csv:\n",
    "    empno.append(emp_list[1])\n",
    "\n",
    "empno_1 = empno[1:]\n",
    "\n",
    "empno_1.sort()\n",
    "\n",
    "for i, name in enumerate(empno_1):\n",
    "    print(i,name)"
   ]
  },
  {
   "cell_type": "markdown",
   "metadata": {},
   "source": [
    "## 예제118. 리스트의 모든 요소의 합 구하기(sum)\n",
    "\n",
    "파이썬 내장함수 sum()을 이용해 list 모든 요소의 합을 출력합니다."
   ]
  },
  {
   "cell_type": "code",
   "execution_count": 13,
   "metadata": {},
   "outputs": [
    {
     "name": "stdout",
     "output_type": "stream",
     "text": [
      "55\n"
     ]
    }
   ],
   "source": [
    "listdata = [2,2,1,3,8,1,4,3,9,2,20]\n",
    "result = sum(listdata)\n",
    "print(result)"
   ]
  },
  {
   "cell_type": "markdown",
   "metadata": {},
   "source": [
    "## 문제214.   \n",
    "## 1부터 10사이의 숫자중 하나가 없는 리스트가 있다.  \n",
    "## 이중에 없는 숫자를 루프문을 쓰지 말고 출력하시오~  "
   ]
  },
  {
   "cell_type": "code",
   "execution_count": 16,
   "metadata": {},
   "outputs": [
    {
     "name": "stdout",
     "output_type": "stream",
     "text": [
      "8\n"
     ]
    }
   ],
   "source": [
    "a = [2,1,5,4,6,7,9,10,3]\n",
    "\n",
    "result1 = sum(a)\n",
    "\n",
    "result2 = 55 - result1\n",
    "\n",
    "print(result2)"
   ]
  },
  {
   "cell_type": "markdown",
   "metadata": {},
   "source": [
    "## 문제215. (수학자 가우스가 초등학교 때 답변 방식)  \n",
    "\n",
    "## 1부터 100까지의 합을 말해보세요.\n"
   ]
  },
  {
   "cell_type": "code",
   "execution_count": 46,
   "metadata": {},
   "outputs": [
    {
     "name": "stdout",
     "output_type": "stream",
     "text": [
      "5050.0\n"
     ]
    }
   ],
   "source": [
    "print((1+100)*100/2)"
   ]
  },
  {
   "cell_type": "markdown",
   "metadata": {},
   "source": [
    "## 예제119. 리스트의 요소가 모두 참인지 확인하기(all,any)\n",
    "\n",
    "리스트의 모든 요소가 참인지 또는 모든 요소가 거짓인지 판단해야하는 경우,  \n",
    "파이썬 내장 함수 __all()__ 이나 __any()__를 사용해야 된다.  \n",
    "__all()__ 은 인자로 입력되는 리스트의 모든 요소가 참인 경우에만 __True__를 리턴하고   \n",
    "거짓이 하나라도 포함되어져 있으면 __False__를 리턴합니다.  \n",
    "이와는 달리 __any()__는 인자로 입력되는 리스트의 모든 요소가 거짓인 경우에만 __False__를 리턴하고 참이 하나라도 존재하면   \n",
    "__True__를 리턴한다.  \n"
   ]
  },
  {
   "cell_type": "code",
   "execution_count": 24,
   "metadata": {},
   "outputs": [
    {
     "name": "stdout",
     "output_type": "stream",
     "text": [
      "True\n",
      "False\n",
      "True\n",
      "True\n"
     ]
    }
   ],
   "source": [
    "listdata1 = [True, True, True]\n",
    "listdata2 = [True, False, True]\n",
    "\n",
    "print(all(listdata1))\n",
    "print(all(listdata2))\n",
    "print(any(listdata1))\n",
    "print(any(listdata2))"
   ]
  },
  {
   "cell_type": "markdown",
   "metadata": {},
   "source": [
    "## 문제216. 아래의 리스트의 결과를 다음과 같이 출력하시오!"
   ]
  },
  {
   "cell_type": "code",
   "execution_count": 41,
   "metadata": {},
   "outputs": [
    {
     "name": "stdout",
     "output_type": "stream",
     "text": [
      "[[1 2]\n",
      " [0 0]]\n"
     ]
    }
   ],
   "source": [
    "# numpy를 안쓰고 만들기.\n",
    "import numpy as np\n",
    "x = [[1,2],[-3,-4]]\n",
    "\n",
    "for i in range(len(x)):\n",
    "    for j in range(len(x)):\n",
    "        if x[i][j] < 0:\n",
    "            x[i][j] = 0\n",
    "            \n",
    "print(np.array(x))"
   ]
  },
  {
   "cell_type": "code",
   "execution_count": 45,
   "metadata": {},
   "outputs": [
    {
     "name": "stdout",
     "output_type": "stream",
     "text": [
      "[[False False]\n",
      " [ True  True]]\n",
      "[[1 2]\n",
      " [0 0]]\n"
     ]
    }
   ],
   "source": [
    "# numpy를 써서 만들어보기. (Mask를 이용하자!, 루프문 안쓰고 후려치기)\n",
    "\n",
    "import numpy as np\n",
    "\n",
    "x = np.array([[1,2],[-3,-4]])\n",
    "mask = (x<=0) # 마스크에 x의 조건을 걸어준다 (x<=0)\n",
    "\n",
    "print(mask)\n",
    "\n",
    "\"\"\"\n",
    "[[False False]\n",
    " [ True  True]]\n",
    "\"\"\"\n",
    "\n",
    "x[ mask ] = 0 # True인 곳에 0이 들어가도록 설정!\n",
    "print(x)"
   ]
  },
  {
   "cell_type": "markdown",
   "metadata": {},
   "source": [
    "## 예제120. 사전에 요소 추가하기\n",
    "\n",
    "사전은 키:값 요소인 순서가 없는 자료형 입니다.\n",
    "따라서 사전은 인덱스가 아닌 키로 해당 요소와 값을 접근 할 수 있습니다.\n",
    "\n",
    "예를 들어, 사전 dict에서 키가 k1이고 그에 해당하는 값이 val이라면 dic[k1]은 val과 같습니다."
   ]
  },
  {
   "cell_type": "code",
   "execution_count": 48,
   "metadata": {
    "scrolled": true
   },
   "outputs": [
    {
     "name": "stdout",
     "output_type": "stream",
     "text": [
      "{'태양': 'sun'}\n"
     ]
    }
   ],
   "source": [
    "sol = {}\n",
    "sol['태양'] = 'sun'\n",
    "\n",
    "print(sol) #{'태양' : 'sun'}  --> 키 = '태양' , values = 'sun'"
   ]
  },
  {
   "cell_type": "markdown",
   "metadata": {},
   "source": [
    "## 문제217. 아래의 두개의 리스트를 만들고 아래와 같이 딕셔너리를 만드시오!"
   ]
  },
  {
   "cell_type": "code",
   "execution_count": 51,
   "metadata": {},
   "outputs": [
    {
     "name": "stdout",
     "output_type": "stream",
     "text": [
      "{'태양': 'sun', '수성': 'mercury', '금성': 'venus', '지구': 'earth', '화성': 'mars'}\n"
     ]
    }
   ],
   "source": [
    "\"\"\"\n",
    "sol_eng = ['sun', 'mercury', 'venus', 'earth', 'mars']\n",
    "sol_kor = ['태양'. '수성', '금성', '지구', '화성']\n",
    "\n",
    "결과 : {'태양':'sun', '수성':'mercury', '금성':'venus', 'earth':'지구', 'mars':'화성'}\n",
    "\"\"\"\n",
    "sol_eng = ['sun', 'mercury', 'venus', 'earth', 'mars']\n",
    "sol_kor = ['태양', '수성', '금성', '지구', '화성']\n",
    "sol = {}\n",
    "\n",
    "for i,j in zip(sol_kor, sol_eng):\n",
    "    sol[i] = j\n",
    "\n",
    "print(sol)\n"
   ]
  },
  {
   "cell_type": "markdown",
   "metadata": {},
   "source": [
    "## 예제121. 사전에 특정 요소값 변경하기\n",
    "\n",
    "사전 자료형의 특정 요소값을 변경하는 방법은 아래와 같다.\n",
    "\n",
    "예제 : dict[k] = val2\n",
    "\n",
    "사전 dict의 특정요소 k : val에서 키 k에 해당하는 값인 val의 값을 val2로 변경하는 방법입니다."
   ]
  },
  {
   "cell_type": "code",
   "execution_count": 53,
   "metadata": {},
   "outputs": [
    {
     "name": "stdout",
     "output_type": "stream",
     "text": [
      "SUN\n",
      "{'태양': 'aaaa', '금성': 'VENUS'}\n"
     ]
    }
   ],
   "source": [
    "dict = {}\n",
    "dict = {'태양' : 'SUN', '금성' : 'VENUS'}\n",
    "print(dict['태양']) #SUN\n",
    "dict['태양'] = 'aaaa'\n",
    "print(dict)"
   ]
  },
  {
   "cell_type": "markdown",
   "metadata": {},
   "source": [
    "## 문제218. 아래의 딕셔너리의 값 중에서 Fire을 피땀눈물로 변경하시오!"
   ]
  },
  {
   "cell_type": "code",
   "execution_count": 57,
   "metadata": {},
   "outputs": [
    {
     "name": "stdout",
     "output_type": "stream",
     "text": [
      "{'소녀시대': ['다시만난세계', 'Gee'], '방탄소년단': ['DNA', '피땀눈물']}\n"
     ]
    }
   ],
   "source": [
    "dict = {'소녀시대':['다시만난세계', 'Gee'], '방탄소년단' : ['DNA','Fire']}\n",
    "dict['방탄소년단'][1] = '피땀눈물'\n",
    "print(dict)"
   ]
  },
  {
   "cell_type": "markdown",
   "metadata": {},
   "source": [
    "## 예제122. 사전에 특정 요소 제거하기\n",
    "\n",
    "사전 dict에서 특정 요소 k : val을 제거하는 방법은 다음과 같다.\n",
    "\n",
    "del dict[k]"
   ]
  },
  {
   "cell_type": "markdown",
   "metadata": {},
   "source": [
    "## 문제219. 아래의 딕셔너리에서 '다시만난세계'를 지우시오~"
   ]
  },
  {
   "cell_type": "code",
   "execution_count": 6,
   "metadata": {},
   "outputs": [
    {
     "name": "stdout",
     "output_type": "stream",
     "text": [
      "{'소녀시대': ['Gee'], '방탄소년단': ['DNA', 'Fire']}\n",
      "<class 'dict'>\n"
     ]
    }
   ],
   "source": [
    "dict = {'소녀시대':['다시만난세계', 'Gee'], '방탄소년단' : ['DNA','Fire']}\n",
    "\n",
    "del dict['소녀시대'][0]\n",
    "print(dict)\n",
    "del dict\n",
    "print (dict)"
   ]
  },
  {
   "cell_type": "markdown",
   "metadata": {},
   "source": [
    "## 예제123. 사전의 모든 요소 제거하기(clear)\n",
    "\n",
    "사전의 모든 요소를 제거하여 빈 사전으로 만드는 방법은 사전 객체의 clear() 메소드를 이용하면 된다."
   ]
  },
  {
   "cell_type": "code",
   "execution_count": 62,
   "metadata": {},
   "outputs": [
    {
     "name": "stdout",
     "output_type": "stream",
     "text": [
      "{}\n"
     ]
    }
   ],
   "source": [
    "dict = {'소녀시대':['다시만난세계', 'Gee'], '방탄소년단' : ['DNA','Fire']}\n",
    "\n",
    "dict.clear()\n",
    "\n",
    "print(dict) #{}"
   ]
  },
  {
   "cell_type": "markdown",
   "metadata": {},
   "source": [
    "## 예제124. 사전에서 키만 추출하기(keys)\n",
    "\n",
    "__예제:__ 아래의 딕셔너리에서 key에 해당하는 부분만 추출하시오."
   ]
  },
  {
   "cell_type": "code",
   "execution_count": 3,
   "metadata": {},
   "outputs": [
    {
     "name": "stdout",
     "output_type": "stream",
     "text": [
      "소녀시대,방탄소년단,\n"
     ]
    }
   ],
   "source": [
    "dict = {'소녀시대':['다시만난세계', 'Gee'], '방탄소년단' : ['DNA','Fire']}\n",
    "\n",
    "#결과: 소녀시대, 방탄소년단\n",
    "pr_dic = ''\n",
    "for i in dict.keys():\n",
    "    pr_dic = pr_dic + i + ','\n",
    "    \n",
    "print(pr_dic[:]) # 소녀시대, 방탄소년단"
   ]
  },
  {
   "cell_type": "markdown",
   "metadata": {},
   "source": [
    "## 예제125. 사전에서 값만 추출하기(values)\n",
    "\n",
    "아래의 딕셔너리에서 값만 추출하시오!"
   ]
  },
  {
   "cell_type": "code",
   "execution_count": 73,
   "metadata": {},
   "outputs": [
    {
     "name": "stdout",
     "output_type": "stream",
     "text": [
      "['다시만난세계', 'Gee']\n",
      "['DNA', 'Fire']\n"
     ]
    }
   ],
   "source": [
    "dict = {'소녀시대':['다시만난세계', 'Gee'], '방탄소년단' : ['DNA','Fire']}\n",
    "\n",
    "for i in dict.values():\n",
    "    print(i)"
   ]
  },
  {
   "cell_type": "markdown",
   "metadata": {},
   "source": [
    "## 문제220. 위의 결과를 아래와 같이 출력하시오!"
   ]
  },
  {
   "cell_type": "code",
   "execution_count": 5,
   "metadata": {},
   "outputs": [
    {
     "name": "stdout",
     "output_type": "stream",
     "text": [
      "[['다시만난세계', 'Gee'], ['DNA', 'Fire']]\n"
     ]
    }
   ],
   "source": [
    "dict = {'소녀시대':['다시만난세계', 'Gee'], '방탄소년단' : ['DNA','Fire']}\n",
    "\n",
    "a = []\n",
    "\n",
    "for i in dict.values():\n",
    "    a.append(i)\n",
    "print(a)"
   ]
  },
  {
   "cell_type": "markdown",
   "metadata": {},
   "source": [
    "## 문제221. 위의 코드를 수정해서 아래와 같이 결과를 출력하시오!"
   ]
  },
  {
   "cell_type": "code",
   "execution_count": 79,
   "metadata": {},
   "outputs": [
    {
     "name": "stdout",
     "output_type": "stream",
     "text": [
      "다시만난세계,DNA,Gee,Fire\n",
      "['다시만난세계', 'DNA', 'Gee', 'Fire']\n"
     ]
    }
   ],
   "source": [
    "dict = {'소녀시대':['다시만난세계', 'Gee'], '방탄소년단' : ['DNA','Fire']}\n",
    "\n",
    "li = []\n",
    "\n",
    "for i in range(2): # 0, 1\n",
    "    for j in dict.values(): #['다시만난세계', 'Gee'], ['DNA','Fire']\n",
    "        li.append(j[i])\n",
    "\n",
    "bond = ','\n",
    "print(bond.join(li)) # 다시만난세계,DNA,Gee,Fire"
   ]
  },
  {
   "cell_type": "markdown",
   "metadata": {},
   "source": [
    "## 문제222. 아티스트의 노래가 3개여도 잘 shuffle 되는지 확인하시오! "
   ]
  },
  {
   "cell_type": "markdown",
   "metadata": {},
   "source": [
    "## 예제126. 사전 요소를 모두 추출하기 (items) "
   ]
  },
  {
   "cell_type": "markdown",
   "metadata": {},
   "source": [
    "### 딕셔너리 자료형에서 데이터를 추출하는 방법은 다음과 같습니다. \n",
    "\n",
    "1. key 만 추출 : dict.keys() \n",
    "\n",
    "2. 값 만 추출 : dict.values() \n",
    "\n",
    "3. 둘 다 추출 : dict.items() "
   ]
  },
  {
   "cell_type": "code",
   "execution_count": 1,
   "metadata": {},
   "outputs": [
    {
     "name": "stdout",
     "output_type": "stream",
     "text": [
      "dict_keys(['소녀시대', '방탄소년단', '오마이걸'])\n",
      "dict_values([['다시만난세계', 'Gee', '소원을 말해봐'], ['DNA', 'Fire', '피땀눈물'], ['비밀정원', '한발짝 두발짝', '다섯번째 계절']])\n",
      "dict_items([('소녀시대', ['다시만난세계', 'Gee', '소원을 말해봐']), ('방탄소년단', ['DNA', 'Fire', '피땀눈물']), ('오마이걸', ['비밀정원', '한발짝 두발짝', '다섯번째 계절'])])\n"
     ]
    }
   ],
   "source": [
    "dict = {'소녀시대':['다시만난세계','Gee','소원을 말해봐'], '방탄소년단':['DNA','Fire','피땀눈물'], \n",
    "        '오마이걸':['비밀정원', '한발짝 두발짝', '다섯번째 계절']} \n",
    "\n",
    "\n",
    "print(dict.keys())\n",
    "print(dict.values())\n",
    "print(dict.items())"
   ]
  },
  {
   "cell_type": "markdown",
   "metadata": {},
   "source": [
    "## 예제127. 사전 정렬하기 (sorted) \n",
    "\n",
    "파이썬 내장함수 sorted() 는 사전 자료를 인자로 입력받아 정렬 할 수 있습니다. \n",
    "\n",
    "사전의 각 요소는 키:값 으로 되어 있습니다. \n",
    "\n",
    "sorted() 함수에 사전을 인자로 입력하면 기본적으로 __사전의 키__를 __오름차순__으로 정렬 \n",
    "\n",
    "한 결과를 리스트로 리턴합니다. "
   ]
  },
  {
   "cell_type": "markdown",
   "metadata": {},
   "source": [
    "## 문제225. eval 을 이용해서 구구단 2단을 출력하시오 ! "
   ]
  },
  {
   "cell_type": "code",
   "execution_count": 7,
   "metadata": {},
   "outputs": [
    {
     "name": "stdout",
     "output_type": "stream",
     "text": [
      "2 * 1\n",
      "2\n",
      "2 * 2\n",
      "4\n",
      "2 * 3\n",
      "6\n",
      "2 * 4\n",
      "8\n",
      "2 * 5\n",
      "10\n",
      "2 * 6\n",
      "12\n",
      "2 * 7\n",
      "14\n",
      "2 * 8\n",
      "16\n",
      "2 * 9\n",
      "18\n",
      "3 * 1\n",
      "3\n",
      "3 * 2\n",
      "6\n",
      "3 * 3\n",
      "9\n",
      "3 * 4\n",
      "12\n",
      "3 * 5\n",
      "15\n",
      "3 * 6\n",
      "18\n",
      "3 * 7\n",
      "21\n",
      "3 * 8\n",
      "24\n",
      "3 * 9\n",
      "27\n",
      "4 * 1\n",
      "4\n",
      "4 * 2\n",
      "8\n",
      "4 * 3\n",
      "12\n",
      "4 * 4\n",
      "16\n",
      "4 * 5\n",
      "20\n",
      "4 * 6\n",
      "24\n",
      "4 * 7\n",
      "28\n",
      "4 * 8\n",
      "32\n",
      "4 * 9\n",
      "36\n",
      "5 * 1\n",
      "5\n",
      "5 * 2\n",
      "10\n",
      "5 * 3\n",
      "15\n",
      "5 * 4\n",
      "20\n",
      "5 * 5\n",
      "25\n",
      "5 * 6\n",
      "30\n",
      "5 * 7\n",
      "35\n",
      "5 * 8\n",
      "40\n",
      "5 * 9\n",
      "45\n",
      "6 * 1\n",
      "6\n",
      "6 * 2\n",
      "12\n",
      "6 * 3\n",
      "18\n",
      "6 * 4\n",
      "24\n",
      "6 * 5\n",
      "30\n",
      "6 * 6\n",
      "36\n",
      "6 * 7\n",
      "42\n",
      "6 * 8\n",
      "48\n",
      "6 * 9\n",
      "54\n",
      "7 * 1\n",
      "7\n",
      "7 * 2\n",
      "14\n",
      "7 * 3\n",
      "21\n",
      "7 * 4\n",
      "28\n",
      "7 * 5\n",
      "35\n",
      "7 * 6\n",
      "42\n",
      "7 * 7\n",
      "49\n",
      "7 * 8\n",
      "56\n",
      "7 * 9\n",
      "63\n",
      "8 * 1\n",
      "8\n",
      "8 * 2\n",
      "16\n",
      "8 * 3\n",
      "24\n",
      "8 * 4\n",
      "32\n",
      "8 * 5\n",
      "40\n",
      "8 * 6\n",
      "48\n",
      "8 * 7\n",
      "56\n",
      "8 * 8\n",
      "64\n",
      "8 * 9\n",
      "72\n",
      "9 * 1\n",
      "9\n",
      "9 * 2\n",
      "18\n",
      "9 * 3\n",
      "27\n",
      "9 * 4\n",
      "36\n",
      "9 * 5\n",
      "45\n",
      "9 * 6\n",
      "54\n",
      "9 * 7\n",
      "63\n",
      "9 * 8\n",
      "72\n",
      "9 * 9\n",
      "81\n"
     ]
    }
   ],
   "source": [
    "for i in range(2,10):\n",
    "    for j in range(1,10):\n",
    "        b = ('%d * %d' %(i, j)) #실행 가능한 문자열을 인자로 받아서 실행하는 함수가 eval\n",
    "        print(b)\n",
    "        print(eval(b))"
   ]
  },
  {
   "cell_type": "markdown",
   "metadata": {},
   "source": [
    "## 예제131. 이름없는 한줄짜리 함수 만들기 (lambda) \n",
    "\n",
    "파이썬에서 함수를 정의하는 방법은 일반적으로 다음과 같습니다. "
   ]
  },
  {
   "cell_type": "code",
   "execution_count": null,
   "metadata": {},
   "outputs": [],
   "source": [
    "\"\"\"\n",
    "def 함수이름(실행인자):\n",
    "    실행코드\n",
    "\"\"\"\n",
    "\n",
    "\"\"\"\n",
    "lambda 인자 : 실행코드\n",
    "\"\"\""
   ]
  },
  {
   "cell_type": "markdown",
   "metadata": {},
   "source": [
    "### lambda 함수는 위에서 설명한 함수 정의 방법과는 다르게 함수 이름 없이 한줄로 \n",
    "\n",
    "### 간단하게 정의되는 함수 입니다. "
   ]
  },
  {
   "cell_type": "code",
   "execution_count": 78,
   "metadata": {},
   "outputs": [
    {
     "name": "stdout",
     "output_type": "stream",
     "text": [
      "4\n"
     ]
    }
   ],
   "source": [
    "add = lambda x,y : x + y  # add = 함수이름 // x,y = 매개변수\n",
    "\n",
    "print ( add(1, 3) ) "
   ]
  },
  {
   "cell_type": "markdown",
   "metadata": {},
   "source": [
    "## 문제227. 아래의 리스트의 결과가 아래와 같이 수행 될 수 있도록 하시오 \n",
    "## lambda 를 이용해서 구현하세요 ! ) "
   ]
  },
  {
   "cell_type": "code",
   "execution_count": 3,
   "metadata": {},
   "outputs": [
    {
     "name": "stdout",
     "output_type": "stream",
     "text": [
      "[1, 4, 9, 16, 25]\n"
     ]
    }
   ],
   "source": [
    "\"\"\"\n",
    "a = [ 1, 2, 3, 4, 5 ] \n",
    "\n",
    "결과: [ 1, 4, 9, 16, 25 ] \n",
    "\"\"\"\n",
    "a = [1,2,3,4,5]     \n",
    "\n",
    "power = lambda x : x**2 \n",
    "\n",
    "print([power(i) for i in a]) "
   ]
  },
  {
   "cell_type": "markdown",
   "metadata": {},
   "source": [
    "## 예제132. 인자를 바꾸어 함수를 반복 호출하여 결과값 얻기(map) \n",
    "\n",
    "파이썬 내장함수 map() 은 리스트 A 와 함수 f 가 주어지면 리스트 A 의 요소를 함수 f 에 입력해서 출력하는 결과를 간단하게 출력해 줍니다. \n",
    "\n",
    "\n",
    "### ※ 설명: map( 함수명, 함수에 제공할 매개변수 값들 )    \n",
    "### 매개변수의 값들을 바꿔가면서 함수를 반복 실행할 때 사용한다. "
   ]
  },
  {
   "cell_type": "code",
   "execution_count": 97,
   "metadata": {},
   "outputs": [
    {
     "name": "stdout",
     "output_type": "stream",
     "text": [
      "[1, 2, 3, 4]\n"
     ]
    }
   ],
   "source": [
    "a = [1.2, 2.5, 3.7, 4.6]\n",
    "\n",
    "for i in range(len(a)):\n",
    "    a[i] = int(a[i])\n",
    "    \n",
    "print(a)"
   ]
  },
  {
   "cell_type": "code",
   "execution_count": null,
   "metadata": {},
   "outputs": [],
   "source": [
    "a = [1.2, 2.5, 3.7, 4.6]\n",
    "\n",
    "a = map(int, a)\n",
    "\n",
    "print(list(a))"
   ]
  },
  {
   "cell_type": "markdown",
   "metadata": {},
   "source": [
    "## 문제228. 아래의 두개의 리스트로 아래의 결과를 출력하시오! ( lambda 와 map 을 이용할것 ) "
   ]
  },
  {
   "cell_type": "code",
   "execution_count": 4,
   "metadata": {},
   "outputs": [
    {
     "name": "stdout",
     "output_type": "stream",
     "text": [
      "<map object at 0x0000021B573DD948>\n",
      "[11, 11, 11, 11, 11]\n"
     ]
    }
   ],
   "source": [
    "\"\"\"\n",
    "x = [1, 2, 3, 4, 5 ] \n",
    "\n",
    "y = [10, 9, 8, 7, 6 ] \n",
    "\n",
    "결과: [ 11, 11, 11, 11, 11 ] \n",
    "\"\"\"\n",
    " \n",
    "x = [1, 2, 3, 4, 5 ] \n",
    "\n",
    "y = [10, 9, 8, 7, 6 ] \n",
    "\n",
    "plus = lambda x,y : x+y \n",
    "\n",
    "result = map(plus, x, y) \n",
    "\n",
    "print(result)\n",
    "print(list(result))"
   ]
  },
  {
   "cell_type": "markdown",
   "metadata": {},
   "source": [
    "## ■ 중심극한 정리\n",
    "\n",
    "중심극한의 정리란 표본의 크기가 클 때 정규분포의 형태에 가까워진다라는 것입니다.  \n",
    "\n",
    "어떤 확률을 가진 사건을 무한히 시행하면 그 사건의 결과는  \n",
    "\n",
    "평균에 수렴한다는 것을 알 수 있습니다.  \n",
    "\n",
    "중심 극한 정리(CLT)는 동일한 확률분포를 가진 독립 확률 변수 n개의  \n",
    "\n",
    "평균의 분포는 n이 적당히 크다면 정규분포에 가까워진다는 정리입니다. \n",
    "\n",
    "즉, 알수 없는 모집단에서 표본이 충분히 크다면 이 표본평균의 분포는  \n",
    "\n",
    "정규분포에 근사한다고 할 수 있습니다. "
   ]
  },
  {
   "cell_type": "markdown",
   "metadata": {},
   "source": [
    "## 문제229. 주사위 100개를 만드세요 ~ "
   ]
  },
  {
   "cell_type": "code",
   "execution_count": null,
   "metadata": {},
   "outputs": [],
   "source": [
    "import random\n",
    "\n",
    "a = [1,2,3,4,5,6] * 100\n",
    "\n",
    "print(a)"
   ]
  },
  {
   "cell_type": "markdown",
   "metadata": {},
   "source": [
    "## 문제230. 위의 모집단의 평균값을 출력하시오 ! \n",
    "\n",
    "모집단 ?  통계적인 관찰의 대상이 되는 집단 전체"
   ]
  },
  {
   "cell_type": "code",
   "execution_count": 8,
   "metadata": {},
   "outputs": [
    {
     "name": "stdout",
     "output_type": "stream",
     "text": [
      "3.5\n"
     ]
    }
   ],
   "source": [
    "dice = [ 1, 2, 3, 4, 5, 6 ] * 100 \n",
    "\n",
    "import  numpy  as  np\n",
    "print( np.mean(dice) )   # 3.5 "
   ]
  },
  {
   "cell_type": "markdown",
   "metadata": {},
   "source": [
    "모평균을 예측하기 위해서 표본의 평균을 구하는 것이다.    \n",
    "5000천만 ---> 200명(표본추출) "
   ]
  },
  {
   "cell_type": "markdown",
   "metadata": {},
   "source": [
    "## 문제231. 주사위 100개의 눈에서 표본을 10개를 추출하시오 ~   \n",
    "## 10개의 표본의 평균값을 출력하시오 !   "
   ]
  },
  {
   "cell_type": "code",
   "execution_count": 6,
   "metadata": {},
   "outputs": [
    {
     "name": "stdout",
     "output_type": "stream",
     "text": [
      "[3, 3, 3, 3, 4, 5, 6, 6, 2, 5]\n",
      "4.0\n"
     ]
    }
   ],
   "source": [
    "import random\n",
    "import numpy as np\n",
    "\n",
    "dice = [1,2,3,4,5,6] * 100\n",
    "\n",
    "s = random.sample(dice,10)\n",
    "\n",
    "print(s)\n",
    "\n",
    "print(np.mean(s))"
   ]
  },
  {
   "cell_type": "markdown",
   "metadata": {},
   "source": [
    "## 문제232. 위의 주사위의 눈 중에서 표본을 10개씩 100번 추출하여  \n",
    "## 표본의 평균값들(100개)의 평균값을 출력하시오 "
   ]
  },
  {
   "cell_type": "code",
   "execution_count": 9,
   "metadata": {},
   "outputs": [
    {
     "name": "stdout",
     "output_type": "stream",
     "text": [
      "[4.0, 3.6, 3.1, 3.3, 3.7, 3.4, 3.1, 3.9, 3.3, 3.7, 2.7, 4.1, 3.7, 3.6, 3.7, 3.6, 3.8, 3.2, 3.0, 3.2, 4.4, 3.9, 2.7, 4.1, 4.2, 3.4, 3.3, 4.3, 3.2, 3.9, 3.1, 2.5, 3.5, 3.9, 4.2, 3.4, 4.1, 3.6, 3.6, 3.5, 3.8, 2.6, 5.0, 3.9, 3.3, 3.4, 3.3, 4.2, 4.2, 3.7, 3.1, 3.6, 3.7, 4.0, 3.5, 4.0, 3.8, 3.7, 4.3, 3.8, 3.9, 3.2, 3.7, 4.3, 3.4, 3.1, 2.9, 2.7, 3.9, 2.4, 3.1, 2.3, 2.0, 4.1, 3.1, 3.5, 3.2, 4.2, 4.0, 3.5, 4.9, 3.2, 3.4, 4.3, 3.8, 3.7, 4.6, 4.0, 3.6, 3.0, 3.4, 3.8, 4.6, 3.8, 2.7, 3.4, 3.6, 4.3, 3.3, 2.5]\n",
      "3.5780000000000007\n",
      "3.5780000000000007\n"
     ]
    }
   ],
   "source": [
    "import random\n",
    "import numpy as np\n",
    "\n",
    "size = 100\n",
    "c = []\n",
    "\n",
    "for i in range(size):\n",
    "    a = [1,2,3,4,5,6] * 100\n",
    "    b = random.sample(a,10)\n",
    "    c.append(np.mean(b))\n",
    "    \n",
    "print(c)\n",
    "print(np.mean(c))\n",
    "print(np.average(c)) #np.mean과 np.average는 기능이 같다."
   ]
  },
  {
   "cell_type": "markdown",
   "metadata": {},
   "source": [
    "## 문제233.(오늘의 마지막 문제 ) map 함수를 이용해서 표본의 갯수가 많을수록   \n",
    "## 표본 평균이 모평균에 근사해 지는지 확인하시오!   "
   ]
  },
  {
   "cell_type": "markdown",
   "metadata": {},
   "source": [
    "### 참고\n",
    "\n",
    "dice= [1, 2, 3, 4, 5, 6 ] * 100000\n",
    "\n",
    "cnt = [ 10, 100,  500, 1000 ]\n",
    "\n",
    "result = map( me_f,  cnt ) \n",
    "\n",
    "결과: [ 3.381  ,  3.402,  3.405,  3.505 ]"
   ]
  },
  {
   "cell_type": "code",
   "execution_count": null,
   "metadata": {},
   "outputs": [],
   "source": [
    "# 모평균\n",
    "\n",
    "import numpy as np\n",
    "import random\n",
    "\n",
    "size = int(input('주사위 개수를 입력하시오'))\n",
    "a = [1,2,3,4,5,6] * size\n",
    "\n",
    "print(np.mean(a))"
   ]
  },
  {
   "cell_type": "code",
   "execution_count": 1,
   "metadata": {},
   "outputs": [
    {
     "name": "stdout",
     "output_type": "stream",
     "text": [
      "<class 'map'>\n",
      "[3.5200000000000005, 3.502, 3.5010000000000003, 3.4612000000000003, 3.5168000000000004]\n"
     ]
    }
   ],
   "source": [
    "def dice_average(cnt):\n",
    "\n",
    "    import random\n",
    "    import numpy as np\n",
    "\n",
    "    dice = 100000\n",
    "    c = []\n",
    "\n",
    "    for i in range(cnt):\n",
    "        a = [1,2,3,4,5,6] * dice\n",
    "        b = random.sample(a, 10)\n",
    "        c.append(np.mean(b))\n",
    "        \n",
    "    d = np.mean(c)\n",
    "    return d\n",
    "\n",
    "cnt = [10,50,100,500,1000]\n",
    "\n",
    "result = map(dice_average, cnt)\n",
    "\n",
    "print(type(result)) # result의 type은 map인 상태\n",
    "\n",
    "print(list(result)) # 따라서, 결과를 보고싶으면 list를 앞에 감싸주어야한다."
   ]
  }
 ],
 "metadata": {
  "kernelspec": {
   "display_name": "Python 3",
   "language": "python",
   "name": "python3"
  },
  "language_info": {
   "codemirror_mode": {
    "name": "ipython",
    "version": 3
   },
   "file_extension": ".py",
   "mimetype": "text/x-python",
   "name": "python",
   "nbconvert_exporter": "python",
   "pygments_lexer": "ipython3",
   "version": "3.7.4"
  }
 },
 "nbformat": 4,
 "nbformat_minor": 2
}
