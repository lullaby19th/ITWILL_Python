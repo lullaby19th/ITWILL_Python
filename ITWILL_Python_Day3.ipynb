{
 "cells": [
  {
   "cell_type": "markdown",
   "metadata": {},
   "source": [
    "## ■ (11/22) 점심시간문제\n",
    "## 동전을 십만번 던졌을 때 십만번중 동전이 앞면이 나올 확률은?"
   ]
  },
  {
   "cell_type": "code",
   "execution_count": 7,
   "metadata": {},
   "outputs": [
    {
     "name": "stdout",
     "output_type": "stream",
     "text": [
      "시행횟수를 입력하시오~!100000\n",
      "0.49899\n"
     ]
    }
   ],
   "source": [
    "import random\n",
    "\n",
    "y = int(input('시행횟수를 입력하시오~!'))\n",
    "b = 0\n",
    "x = 0\n",
    "\n",
    "while True:\n",
    "    x += 1\n",
    "    b += random.randint(0,1)\n",
    "    if x == y:\n",
    "        print(b/x)\n",
    "        break\n"
   ]
  },
  {
   "cell_type": "markdown",
   "metadata": {},
   "source": [
    "## ■ None\n",
    "\n",
    "None은 아무것도 없다는 의미의 상수이다.\n",
    "아무것도 없다는 것을 나타내기 위해 주로 활용된다.\n",
    "\n",
    "|           For 루프문          \t|                 While 루프문                \t|\n",
    "|:-----------------------------:\t|:-------------------------------------------:\t|\n",
    "| For i range(10):     print(i) \t| x=0 where x < 10:      print(x)     x = x+1 \t|\n",
    "\n",
    "위의 while loop 문의 경우는 숫자만 담기는 변수 x이다.\n",
    "어떨 때는 숫자가 들어갈 수도 있는 변수를 선언해야 할때에는 ?\n",
    "\n"
   ]
  },
  {
   "cell_type": "code",
   "execution_count": 8,
   "metadata": {},
   "outputs": [
    {
     "name": "stdout",
     "output_type": "stream",
     "text": [
      "[1, 2, 3]\n"
     ]
    }
   ],
   "source": [
    "#예제\n",
    "\n",
    "val = None # None이 대입된 변수는 아무런 값도 없는 빈 깡통변수라고 생각하면됨\n",
    "          # 빈깡통변수라서 아무 자료형이나 뚜드리 넣어도됨.\n",
    "condition = 1\n",
    "\n",
    "if condition == 1:\n",
    "    val=[1,2,3]\n",
    "else:\n",
    "    val = 'I love Python'\n",
    "print(val)\n"
   ]
  },
  {
   "cell_type": "markdown",
   "metadata": {},
   "source": [
    "#### 즉, 값이 존재하지 않는 변수에 대입하여 이 변수에 아무런 값이 없다는 것을 나타내기 위해 주로 활용된다."
   ]
  },
  {
   "cell_type": "markdown",
   "metadata": {},
   "source": [
    "## 문제20. \n",
    "## emp_comm.csv를 파이썬으로 로드하고 커미션 null인 사원들의 이름과 커미션을 출력하시오!"
   ]
  },
  {
   "cell_type": "code",
   "execution_count": null,
   "metadata": {},
   "outputs": [],
   "source": [
    "import csv\n",
    "file = open(\"d:\\\\emp_comm.csv\", \"r\")\n",
    "emp_csv = csv.reader(file)\n",
    "for emp_list in emp_csv:\n",
    "    if emp_list[6] == ''                     #데이터에서 null을 검색하고자 할 때\n",
    "        print( emp_list[1], emp_list[6])\n"
   ]
  },
  {
   "cell_type": "markdown",
   "metadata": {},
   "source": [
    "## 문제21.\n",
    "## 커미션이 null이 아닌 사원들의 이름과 커미션을 출력하시오!"
   ]
  },
  {
   "cell_type": "code",
   "execution_count": null,
   "metadata": {},
   "outputs": [],
   "source": [
    "import csv\n",
    "file = open(\"d:\\\\emp_comm.csv\", \"r\")\n",
    "emp_csv = csv.reader(file)\n",
    "for emp_list in emp_csv:\n",
    "    print(emp_list)\n",
    "    if emp_list[6] !=    ''    # != 은 같지않다는 것을 의미\n",
    "    print( emp_list[1], emp_list[6])\n"
   ]
  },
  {
   "cell_type": "markdown",
   "metadata": {},
   "source": [
    "## ■ 예제16. 정수형 자료형  \n",
    "\n",
    "자연수(1,2,3, ….) 와 음수(-1,-2,-3,….) 와 0으로 이루어진 수의 체계를 정수라고한다.\n",
    "\n",
    "__예__\n",
    "\n",
    "a = 123\n",
    "b = -178\n",
    "c = 0\n",
    "\n",
    "일반 프로그래밍에서 지원하는 정수형 상수의 범위는  \n",
    "-2,147,473,647 ~ 2,147,473,647 인데 (2의 31승)\n"
   ]
  },
  {
   "cell_type": "markdown",
   "metadata": {},
   "source": [
    "## 문제22.\n",
    "## 위의 말이 맞는지 for loop 문으로 테스트 하시오!\n",
    "## 파이썬에서 정수형 변수가 담을 수 있는 상수의 범위가 어떻게 되는지 테스트 하시오!"
   ]
  },
  {
   "cell_type": "code",
   "execution_count": null,
   "metadata": {},
   "outputs": [],
   "source": [
    " for i in range(1000000000000000000000000000000000000000000000000):\n",
    "     a = i\n",
    "     print(a)\n"
   ]
  },
  {
   "cell_type": "markdown",
   "metadata": {},
   "source": [
    "## ■ 예제17. 실수형 자료 이해하기\n",
    "\n",
    "실수는 소수로 나타낼 수 있는 유리수와 소수로 나타낼 수 없는 무리수로 구성된 집합이다.  \n",
    "(무리수의 예 : 원주율, 오일러 자연상수 e)  \n",
    "파이썬은 실수를 지원하기 위해서 부동 소수형을 제공한다.  \n",
    "\n",
    "- 부동 소수형의 특징\n",
    "\n",
    "    1. 8바이트만 이용해서 수를 표현한다. 즉 한정된 범위의 수만 표현할 수 있다.\n",
    "    2. 디지털 방식으로 소수를 표현해야하므로 정밀도의 한계가 있다.\n",
    "\n",
    "__예제__ : 소수 43.2에서 소수 43.1을 빼면 얼마인지 파이썬으로 구현하시오!"
   ]
  },
  {
   "cell_type": "code",
   "execution_count": null,
   "metadata": {},
   "outputs": [],
   "source": [
    " print(43.2-43.1)"
   ]
  },
  {
   "cell_type": "markdown",
   "metadata": {},
   "source": [
    "__※설명__\n",
    "\n",
    "부동 소수형은 정밀도의 한계를 가지고 있다.  \n",
    "이것은 파이썬만의 문제가 아니라, 부동 소수형이 어떻게 구성되고 동작되는가를 정의하는 표준인  \n",
    "IEEE 754를 따르는 모든 컴퓨터 시스템의 문제이다.  \n",
    "IEEE 754는 제한된 메모리를 이용해서(파이썬의 경우는 8바이트) 실수를 표현하기 때문에  \n",
    "제한된 정밀도를 가진다."
   ]
  },
  {
   "cell_type": "markdown",
   "metadata": {},
   "source": [
    "## ■ 예제18. 복수형 자료 이해하기\n",
    "\n",
    "- 허수 : i 를 제곱하면 -1이 되는 수\n",
    "\n",
    "- 복소수는 실수부와 허수부로 되어있으며 허수부는 숫자 뒤에 문자 i를 이용하는데 파이썬에서는 j를 사용한다."
   ]
  },
  {
   "cell_type": "code",
   "execution_count": null,
   "metadata": {},
   "outputs": [],
   "source": [
    "import math\n",
    "\n",
    "c1 = 1 + 7j\n",
    "\n",
    "print(c1.imag) #복소수형 자료에서 허수부만 취한다 #7j\n",
    "\n",
    "c2 = complex(2,3) #실수부가 2이고, 허수부가 3인 복소수를 만든다. # c2 = 2+3j\n",
    "\n",
    "print(c2)"
   ]
  },
  {
   "cell_type": "code",
   "execution_count": null,
   "metadata": {},
   "outputs": [],
   "source": [
    "import math\n",
    "\n",
    "x = 2\n",
    "\n",
    "\n",
    "\n",
    "c1 = complex(x, math.sqrt(5))\n",
    "c2 = complex(x, -math.sqrt(5))\n",
    "\n",
    "c3 = c1 * c2\n",
    "\n",
    "print(c3)\n"
   ]
  },
  {
   "cell_type": "markdown",
   "metadata": {},
   "source": [
    "## ■예제19. 대입 연산자 이해하기(=)\n",
    "\n",
    "변수에 값을 대입하는데 사용되는 기호는 =(등호)이다.  \n",
    "\n",
    "수학에서 =는 =왼쪽과 오른쪽의 값이 같다는 의미를 가지지만,  \n",
    "\n",
    "파이썬을 포함한 컴퓨터 프로그래밍 언어에서 =는   \n",
    "\n",
    "=왼쪽 변수에  = 오른쪽 값을 대입한다는 의미이다.  \n",
    "\n",
    "__- 예제 : a = 1__\n",
    "\n",
    "__＊ 대입 연산자와 일반 연산자를 비교__\n",
    "\n",
    "1. = : 대입 연산자\n",
    "2. == : (값이) 같다.\n",
    "3. in : 여러개의 값 비교\n"
   ]
  },
  {
   "cell_type": "markdown",
   "metadata": {},
   "source": [
    "## 문제24.   \n",
    "## 직업이 SALESMAN, ANALYST인 사원들의 이름과 월급과 직업을 출력하시오!  \n",
    "## (emp2.csv를 이용하시오~)\n"
   ]
  },
  {
   "cell_type": "code",
   "execution_count": null,
   "metadata": {},
   "outputs": [],
   "source": [
    "import csv # csv 파일을 파이썬에서 읽게 도와주는 모듈 csv를 임폴트한다.\n",
    "\n",
    "file = open('d:\\\\emp2.csv', 'r') # os에 있는 emp2.csv를 읽어서 file 변수에 입력. \n",
    "                                 # r은 read를 뜻함.\n",
    "emp_csv = csv.reader(file) # emp2.csv 을 읽어서 emp_csv 변수에 넣는다.\n",
    "for emp_list in emp_csv: #emp_csv의 내용을 한줄씩 읽어서 emp_list 라는 리스트에 넣는다.\n",
    "    if emp_list[2] in ('SALESMAN', 'ANALYST'):\n",
    "        print(emp_list[1], emp_list[2], emp_list[5]) \n"
   ]
  },
  {
   "cell_type": "markdown",
   "metadata": {},
   "source": [
    "## ■예제20. 사칙 연산자 이해하기 (*,/,+,-)\n",
    "\n",
    "### 연산자 오라클과 비교\n",
    "\n",
    "\n",
    "| 오라클 \t|         파이썬         \t|\n",
    "|:------:\t|:----------------------:\t|\n",
    "|    +   \t|            +           \t|\n",
    "|    -   \t|            -           \t|\n",
    "|    *   \t|            *           \t|\n",
    "|    /   \t|            /           \t|\n",
    "|   mod  \t|            %           \t|\n",
    "| power  \t| Pow(2,3), 2**3         \t|\n",
    "| sqrt   \t| import math math.sqrt  \t|\n",
    "| log2   \t| import math math.log2  \t|\n",
    "| log10  \t| import math math.log10 \t|"
   ]
  },
  {
   "cell_type": "markdown",
   "metadata": {},
   "source": [
    "## 문제25. 아래의 수학식을 파이썬으로 구현하시오  "
   ]
  },
  {
   "cell_type": "code",
   "execution_count": null,
   "metadata": {},
   "outputs": [],
   "source": [
    "import math\n",
    "\n",
    "a = 2 * math.log2(10)\n",
    "b = 1/3 * math.log2(20)\n",
    "print(a+b)\n"
   ]
  },
  {
   "cell_type": "markdown",
   "metadata": {},
   "source": [
    "## ■ 예제21. 연산자 축약 이해하기  \n",
    "\n",
    "변수의 값을 사칙연산하여 그 결과를 동일한 변수에 대입할 때 연산자를 축약해서 대입할 수 있다.\n",
    "\n",
    "__예) a = a+2 는 a+=2로 쓸 수 있다.__\n",
    "\n",
    "a=0  \n",
    "a+=1 # a= a+1 이니깐 a의 값은 1  \n",
    "a-=5 # a= a-5 이니깐 a의 값은 -4  \n",
    "a*=2 # a= a*2 이니깐 a의 값은 -8  \n",
    "a/=4 # a= a/4 이니깐 a의 값은 -2  \n",
    "print(a) #나눗셈을 수행하였으므로 a는 실수형 상수를 담은 변수가 된다."
   ]
  },
  {
   "cell_type": "markdown",
   "metadata": {},
   "source": [
    "## ■ 예제22. True와 False 이해하기\n",
    "\n",
    "참을 나타내는 True와 거짓을 나타내는 False이다.  \n",
    "조건을 판단해서 그 조건이 참이면 True, 거짓이면 False를 리턴한다.  \n",
    "True는 1, False는 0값을 가진다. 참과 거짓을 나타낼 때는 True와 False로 표현하면  \n",
    "더 직관적이고 프로그램 코드 가독성을 높일 수 있다.  \n"
   ]
  },
  {
   "cell_type": "code",
   "execution_count": 9,
   "metadata": {},
   "outputs": [
    {
     "name": "stdout",
     "output_type": "stream",
     "text": [
      "True\n",
      "False\n"
     ]
    }
   ],
   "source": [
    "#예제\n",
    "\n",
    "a = True  \n",
    "b = False  \n",
    "print(a==1) # True가 출력됨.  \n",
    "print(b!=0) # False가 출력됨.  "
   ]
  },
  {
   "cell_type": "markdown",
   "metadata": {},
   "source": [
    "## ■ 예제23. 관계연산자 이해하기\n",
    "\n",
    "| 오라클 \t| 파이썬 \t|\n",
    "|:------:\t|:------:\t|\n",
    "|    >   \t|    >   \t|\n",
    "|   >=   \t|   >=   \t|\n",
    "|    <   \t|    <   \t|\n",
    "|   <=   \t|   <=   \t|\n",
    "|    =   \t|   ==   \t|\n",
    "|   !=   \t|   !=   \t|\n",
    "|   in   \t|   in   \t|"
   ]
  },
  {
   "cell_type": "markdown",
   "metadata": {},
   "source": [
    "## 문제26. 아래의 리스트 변수에 positive라는 단어가 몇개가 나오는가?"
   ]
  },
  {
   "cell_type": "code",
   "execution_count": 10,
   "metadata": {},
   "outputs": [
    {
     "name": "stdout",
     "output_type": "stream",
     "text": [
      "2\n"
     ]
    }
   ],
   "source": [
    "word = ['winter', 'cold', 'positive', 'negative', 'positive']\n",
    "sum = 0 \n",
    "for i in word:\n",
    "    if i == 'positive':\n",
    "        sum = sum +1\n",
    "print(sum)\n"
   ]
  },
  {
   "cell_type": "markdown",
   "metadata": {},
   "source": [
    "## 문제27. 겨울왕국 대본에는 ANNA가 몇 번 나오는가?"
   ]
  },
  {
   "cell_type": "code",
   "execution_count": null,
   "metadata": {},
   "outputs": [],
   "source": [
    "winter = open(\"d:\\\\winter.txt\", \"r\")\n",
    "winter = winter.read().split(' ') # 안의 스크립트들을 공백으로 분리해라\n",
    "\n",
    "for i in winter:\n",
    "    print(i)\n"
   ]
  },
  {
   "cell_type": "markdown",
   "metadata": {},
   "source": [
    "## 문제28. 공백으로 분리한 단어들이 총 몇개인지 count하시오!  "
   ]
  },
  {
   "cell_type": "code",
   "execution_count": null,
   "metadata": {},
   "outputs": [],
   "source": [
    "winter = open(\"d:\\\\winter.txt\", \"r\")\n",
    "winter = winter.read().split(' ') # 안의 스크립트들을 공백으로 분리해라\n",
    "sum = 0\n",
    "for i in winter:\n",
    "    sum = sum +1\n",
    "print(sum)\n"
   ]
  },
  {
   "cell_type": "markdown",
   "metadata": {},
   "source": [
    "## 문제29. 겨울왕국에 anna가 몇번 나오는지 확인하시오!"
   ]
  },
  {
   "cell_type": "code",
   "execution_count": null,
   "metadata": {},
   "outputs": [],
   "source": [
    "winter = open(\"d:\\\\winter.txt\", \"r\")\n",
    "winter = winter.read().split(' ') # 안의 스크립트들을 공백으로 분리해라\n",
    "sum = 0\n",
    "\n",
    "for i in winter:\n",
    "    if i.lower() == 'anna':\n",
    "        sum = sum+1\n",
    "print(sum) # for문 끝난다음 sum울 구하여야 깔끔하게 결과값이 나온다."
   ]
  },
  {
   "cell_type": "markdown",
   "metadata": {},
   "source": [
    "## 문제30.   \n",
    "## positive-words.txt 긍정단어집을 이용해서   \n",
    "## 겨울왕국에 긍정단어가 몇번 나오는지 출력하시오."
   ]
  },
  {
   "cell_type": "code",
   "execution_count": null,
   "metadata": {},
   "outputs": [],
   "source": [
    "file1 = open(\"d:\\\\winter.txt\", \"r\")\n",
    "winter = file1.read().split(' ') # 안의 스크립트들을 공백으로 분리해라\n",
    "file2 = open(\"d:\\\\positive-words.txt\", \"r\")\n",
    "positive_line = file2.read().split('\\n') #엔터로 구분하겠다.\n",
    "sum = 0\n",
    "\n",
    "for i in winter:\n",
    "    if i.lower() in positive_line:\n",
    "        sum = sum + 1\n",
    "\n",
    "print(sum)\n"
   ]
  },
  {
   "cell_type": "markdown",
   "metadata": {},
   "source": [
    "## 문제31. 우리반 테이블을 파이썬으로 로드하시오!"
   ]
  },
  {
   "cell_type": "code",
   "execution_count": null,
   "metadata": {},
   "outputs": [],
   "source": [
    "import csv # csv 파일을 파이썬에서 읽게 도와주는 모듈 csv를 임폴트한다.\n",
    "\n",
    "file = open(\"d:\\\\data\\\\emp10.csv\", \"r\")\n",
    "emp_csv = csv.reader(file) \n",
    "for emp_list in emp_csv: \n",
    "    print(emp_list)\n"
   ]
  },
  {
   "cell_type": "markdown",
   "metadata": {},
   "source": [
    "## 문제32. 나이가 30살 이상인 학생들의 이름과 나이를 출력하시오!"
   ]
  },
  {
   "cell_type": "code",
   "execution_count": null,
   "metadata": {},
   "outputs": [],
   "source": [
    "import csv \n",
    "file = open(\"d:\\\\data\\\\emp10.csv\", \"r\")\n",
    "emp_csv = csv.reader(file) \n",
    "for emp_list in emp_csv: \n",
    "    if int(emp_list[2]) >= 30 :\n",
    "        print(emp_list[1], emp_list[2])\n"
   ]
  },
  {
   "cell_type": "markdown",
   "metadata": {},
   "source": [
    "## 문제33. 통신사가 kt이고 나이가 30살 이상인 학생들의 이름과 나이와 통신사를 출력하시오!"
   ]
  },
  {
   "cell_type": "code",
   "execution_count": null,
   "metadata": {},
   "outputs": [],
   "source": [
    "import csv \n",
    "\n",
    "file = open(\"d:\\\\data\\\\emp10.csv\", \"r\")\n",
    "\n",
    "emp_csv = csv.reader(file) \n",
    "\n",
    "for emp_list in emp_csv: \n",
    "    \n",
    "    if int(emp_list[2]) >= 25 and int(emp_list[2]) < 30:\n",
    "        \n",
    "        print(emp_list[1], emp_list[2])\n"
   ]
  },
  {
   "cell_type": "markdown",
   "metadata": {},
   "source": [
    "## ■ 예제25. 판다스(pandas) 사용법!\n",
    "\n",
    "### ＊what is pandas?\n",
    "\n",
    "1. 데이터 분석을 위한 파이썬 패키지\n",
    "2. 엑셀의 스프레드시트와 관계형 데이터 베이스의 데이터 처리능력\n",
    "3. 판다스는 Dataframe이라는 기본 자료구조를 사용한다."
   ]
  },
  {
   "cell_type": "code",
   "execution_count": null,
   "metadata": {},
   "outputs": [],
   "source": [
    "# 예제\n",
    "\n",
    "import pandas as pd #판다스 모듈을 사용하겠다. 그리고 pandas 별칭을 pd로 지정함.\n",
    "emp = pd.read_csv(\"d:\\\\data\\\\emp3.csv\")\n",
    "print(emp)"
   ]
  },
  {
   "cell_type": "markdown",
   "metadata": {},
   "source": [
    "즉, 판다스 모듈 (pd)을 이용하면 코드를 심플하게 작성할 수 있다.  \n",
    "고속 병렬 처리를 해서 데이터 검색 속도를 빠르게 한다.  "
   ]
  },
  {
   "cell_type": "markdown",
   "metadata": {},
   "source": [
    "## 문제35. 이름과 월급을 출력하시오!"
   ]
  },
  {
   "cell_type": "code",
   "execution_count": null,
   "metadata": {},
   "outputs": [],
   "source": [
    "import pandas as pd\n",
    "emp = pd.read_csv(\"D:\\\\data\\\\emp3.csv\")\n",
    "print( emp[['ename', 'sal']])\n"
   ]
  },
  {
   "cell_type": "markdown",
   "metadata": {},
   "source": [
    "## 문제36. 월급이 3000이상인 사원들의 이름과 월급을 출력하시오!\n",
    "\n",
    "#### __★판다스 오브젝트 [열] [행] [조건]__"
   ]
  },
  {
   "cell_type": "code",
   "execution_count": null,
   "metadata": {},
   "outputs": [],
   "source": [
    "import pandas as pd\n",
    "emp = pd.read_csv(\"D:\\\\data\\\\emp3.csv\")\n",
    "print( emp[ ['ename','sal'] ] [ 0:10 ] [emp['sal'] >=3000 ]  )\n"
   ]
  },
  {
   "cell_type": "markdown",
   "metadata": {},
   "source": [
    "## 문제37. 직업이 SALESMAN인 사원들의 이름과 직업을 출력하시오!  "
   ]
  },
  {
   "cell_type": "code",
   "execution_count": null,
   "metadata": {},
   "outputs": [],
   "source": [
    "import pandas as pd\n",
    "emp = pd.read_csv(\"D:\\\\data\\\\emp3.csv\")\n",
    "print( emp [ ['ename','job'] ]    [ emp['job'] == 'SALESMAN' ]  )"
   ]
  },
  {
   "cell_type": "markdown",
   "metadata": {},
   "source": [
    "## ＊ 오라클의 기타 비교연산자를 파이썬의 판다스와 비교\n",
    "\n",
    "|     오라클     \t|   파이썬   \t|\n",
    "|:--------------:\t|:----------:\t|\n",
    "| Between... and \t|            \t|\n",
    "|       in       \t|    isin    \t|\n",
    "|      like      \t| Apply 함수 \t|\n",
    "|     in null    \t|  innull()  \t|"
   ]
  },
  {
   "cell_type": "markdown",
   "metadata": {},
   "source": [
    "## 문제38. 월급이 1000에서 3000사이인 사원들의 이름과 월급을 출력하시오!\n",
    "\n",
    "SQL>\n",
    "\n",
    "Select ename, sal  \n",
    "From emp  \n",
    "Where sal between 1000 and 3000;  "
   ]
  },
  {
   "cell_type": "code",
   "execution_count": null,
   "metadata": {},
   "outputs": [],
   "source": [
    "# PANDAS>\n",
    "\n",
    "import pandas as pd\n",
    "emp = pd.read_csv(\"D:\\\\data\\\\emp3.csv\")\n",
    "print( emp[ ['ename','sal'] ] [emp['sal'].between(1000, 3000)] )\n",
    "\n",
    "#Print( emp[   열    ] [    조건   ] )\n"
   ]
  },
  {
   "cell_type": "markdown",
   "metadata": {},
   "source": [
    "## 문제40. 직업이 SALESMAN, ANALYST 인 사원들의 이름과 직업을 출력하시오\n",
    "\n",
    "SQL>  \n",
    "Select ename, job  \n",
    "    From emp  \n",
    "    Where job in ('SALESMAN', 'ANALYST');  "
   ]
  },
  {
   "cell_type": "code",
   "execution_count": null,
   "metadata": {},
   "outputs": [],
   "source": [
    "# PANDAS>\n",
    "import pandas as pd\n",
    "emp = pd.read_csv(\"D:\\\\data\\\\emp3.csv\")\n",
    "print( emp[ ['ename','job'] ] [ emp['job'].isin( ['SALESMAN', 'ANALYST'] ) ] )"
   ]
  },
  {
   "cell_type": "markdown",
   "metadata": {},
   "source": [
    "## 문제41. 직업이 SALESMAN, ANALYST가 아닌 사원들의 이름과 직업을 출력하시오!"
   ]
  },
  {
   "cell_type": "code",
   "execution_count": null,
   "metadata": {},
   "outputs": [],
   "source": [
    "import pandas as pd\n",
    "emp = pd.read_csv(\"D:\\\\data\\\\emp3.csv\")\n",
    "print( emp[ ['ename','job'] ] [~ emp['job'].isin( ['SALESMAN', 'ANALYST'] ) ] )"
   ]
  },
  {
   "cell_type": "markdown",
   "metadata": {},
   "source": [
    "## 문제42. 커미션이 null인 사원들의 이름과 커미션을 출력하시오!\n",
    "\n",
    "SQL>  \n",
    "\n",
    "Select ename, comm  \n",
    " From emp  \n",
    " Where comm is null;"
   ]
  },
  {
   "cell_type": "code",
   "execution_count": null,
   "metadata": {},
   "outputs": [],
   "source": [
    "# PANDAS>\n",
    "\n",
    "import pandas as pd\n",
    "emp = pd.read_csv(\"D:\\\\data\\\\emp3.csv\")\n",
    "print( emp[ ['ename','comm'] ] [ emp['comm'].isnull() ])\n"
   ]
  },
  {
   "cell_type": "markdown",
   "metadata": {},
   "source": [
    "## 문제43. 커미션이 null이 아닌 사원들의 이름과 커미션을 출력하시오!"
   ]
  },
  {
   "cell_type": "code",
   "execution_count": null,
   "metadata": {},
   "outputs": [],
   "source": [
    "# PANDAS>\n",
    "\n",
    "import pandas as pd\n",
    "emp = pd.read_csv(\"D:\\\\data\\\\emp3.csv\")\n",
    "print( emp[ ['ename','comm'] ] [~ emp['comm'].isnull() ])\n"
   ]
  },
  {
   "cell_type": "markdown",
   "metadata": {},
   "source": [
    "## ■예제26. 시퀀스 자료형 이해하기!\n",
    "\n",
    "시퀀스 자료형은 어떤 객체가 순서를 가지고 나열되어 있는 것을 말한다.  \n",
    "예를 들면 문자열 'abcde'는 문자 a,b,c,d,e 가 순서를 가지고 차례대로 나열 되어 있는 것이다.  "
   ]
  },
  {
   "cell_type": "code",
   "execution_count": null,
   "metadata": {},
   "outputs": [],
   "source": [
    "# Strdate 변수에서 알파벳 a만 출력하시오~\n",
    "\n",
    "strdata = 'abcde'\n",
    "\n",
    "print( strdata[0] )"
   ]
  },
  {
   "cell_type": "code",
   "execution_count": null,
   "metadata": {},
   "outputs": [],
   "source": [
    "# Strdata 변수에서 알파벳 e만 출력하시오!\n",
    "\n",
    "strdata = 'abcde'\n",
    "print(strdata[-1])"
   ]
  },
  {
   "cell_type": "markdown",
   "metadata": {},
   "source": [
    "## 문제44. pandas를 이용하지 말고 사원테이블에서 이름만 출력하시오!"
   ]
  },
  {
   "cell_type": "code",
   "execution_count": null,
   "metadata": {},
   "outputs": [],
   "source": [
    "import csv \n",
    "\n",
    "file = open(\"d:\\\\data\\\\emp3.csv\", \"r\")\n",
    "\n",
    "emp_csv = csv.reader(file) \n",
    "\n",
    "for emp_list in emp_csv: \n",
    "         \n",
    "        print(emp_list[2])\n"
   ]
  },
  {
   "cell_type": "markdown",
   "metadata": {},
   "source": [
    "## 문제45. 이름의 첫번째 철자만 출력하시오!"
   ]
  },
  {
   "cell_type": "code",
   "execution_count": null,
   "metadata": {},
   "outputs": [],
   "source": [
    "import csv \n",
    "\n",
    "file = open(\"d:\\\\data\\\\emp3.csv\", \"r\")\n",
    "\n",
    "emp_csv = csv.reader(file) \n",
    "\n",
    "for emp_list in emp_csv: \n",
    "         \n",
    "        print(emp_list[2][0])"
   ]
  },
  {
   "cell_type": "markdown",
   "metadata": {},
   "source": [
    "## ★ 문제46. 이름의 첫번째 철자가 A로 시작하는 사원들의 이름과 월급을 출력하시오!\n",
    "\n",
    "__SQL>__  \n",
    "Select ename  \n",
    " from emp  \n",
    " where ename like 'A%'  "
   ]
  },
  {
   "cell_type": "code",
   "execution_count": null,
   "metadata": {},
   "outputs": [],
   "source": [
    "# Pandas 이용하지 않았을 때\n",
    "\n",
    "import csv \n",
    "\n",
    "file = open(\"d:\\\\data\\\\emp3.csv\", \"r\")\n",
    "\n",
    "emp_csv = csv.reader(file) \n",
    "\n",
    "for emp_list in emp_csv: \n",
    "    if emp_list[2][0] != 'A':        \n",
    "        print(emp_list[1], emp_list[6])\n"
   ]
  },
  {
   "cell_type": "code",
   "execution_count": null,
   "metadata": {},
   "outputs": [],
   "source": [
    "# Pandas 이용했을 때\n",
    "\n",
    "import pandas as pd\n",
    "\n",
    "emp = pd.read_csv(\"D:\\\\data\\\\emp3.csv\")\n",
    "\n",
    "result = emp['ename'].apply(lambda x:x[0] == 'A')\n",
    "\n",
    "result2 = emp[['ename']][result == True]\n",
    "\n",
    "print(result2)\n"
   ]
  },
  {
   "cell_type": "markdown",
   "metadata": {},
   "source": [
    "__※ 설명1__  \n",
    "\n",
    "apply 함수는 emp['ename'].apply(조건)  \n",
    "           ename 중에 조건에 만족한 ename 만 True가 된다.\n",
    "           \n",
    "__※ 설명2__  \n",
    "\n",
    "lambda는 이름 없는 함수  \n",
    "lambda x:x[0] == 'A'  \n",
    "\n",
    "X = 입력값    ---> ename이 들어감\n",
    "\n",
    "__Ex)__ SCOTT : SCOTT[0] == 'A' (False)  \n"
   ]
  },
  {
   "cell_type": "markdown",
   "metadata": {},
   "source": [
    "## 문제47. (오늘의 마지막 문제) 이름의 끝글자가 T로 끝나는 사원들의 이름을 출력하시오\n",
    "\n",
    "__SQL>__  \n",
    "\n",
    "Select ename  \n",
    " from emp  \n",
    " where ename like '%T'  "
   ]
  },
  {
   "cell_type": "code",
   "execution_count": null,
   "metadata": {},
   "outputs": [],
   "source": [
    "# Pandas를 이용하지 않았을 때\n",
    "\n",
    "import csv \n",
    "\n",
    "file = open(\"d:\\\\data\\\\emp3.csv\", \"r\")\n",
    "\n",
    "emp_csv = csv.reader(file) \n",
    "\n",
    "for emp_list in emp_csv: \n",
    "    if emp_list[2][-1] != 'T':        \n",
    "        print(emp_list[2])\n"
   ]
  },
  {
   "cell_type": "code",
   "execution_count": null,
   "metadata": {},
   "outputs": [],
   "source": [
    "#  Pandas를 이용했을때\n",
    "\n",
    "import pandas as pd\n",
    "emp = pd.read_csv(\"D:\\\\data\\\\emp3.csv\")\n",
    "result = emp['ename'].apply(lambda x:x[-1] == 'T')\n",
    "print(result)\n",
    "result2 = emp[['ename']][result == True]\n",
    "print(result2)"
   ]
  }
 ],
 "metadata": {
  "kernelspec": {
   "display_name": "Python 3",
   "language": "python",
   "name": "python3"
  },
  "language_info": {
   "codemirror_mode": {
    "name": "ipython",
    "version": 3
   },
   "file_extension": ".py",
   "mimetype": "text/x-python",
   "name": "python",
   "nbconvert_exporter": "python",
   "pygments_lexer": "ipython3",
   "version": "3.7.4"
  }
 },
 "nbformat": 4,
 "nbformat_minor": 2
}
