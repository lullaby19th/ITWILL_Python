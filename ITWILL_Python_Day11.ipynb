{
 "cells": [
  {
   "cell_type": "markdown",
   "metadata": {},
   "source": [
    "## ■ 점심시간 문제. 인구 100만명을 리스트에 담고 그 중에 랜덤으로 20%를 흡연자로 변경하세요\n",
    "\n",
    "1.   리스트명 : people\n",
    "\n",
    "2.   흡연자는 숫자 : 1, 비흡연자 숫자 :  0 \n",
    "\n",
    "__결과:__  \n",
    "\n",
    "print ( people )\n",
    "\n",
    "[ 0, 1, 0, 0, 0, 0, 0, 0 , ...........................................................................................................] "
   ]
  },
  {
   "cell_type": "code",
   "execution_count": null,
   "metadata": {},
   "outputs": [],
   "source": [
    "# shuffle을 안쓰고 만드는 방법을 def로 표현\n",
    "def s_people():\n",
    "    import  random\n",
    "    \n",
    "    size=int(input('인구수를 입력하세요.'))\n",
    "    \n",
    "    count=0\n",
    "    \n",
    "    people = [random.randint(0,1) for i in range(size)]\n",
    "    \n",
    "    print(people)\n",
    "    \n",
    "    for i in range(size):\n",
    "    \n",
    "        if sum(people) == (0.2 * size):\n",
    "    \n",
    "            break\n",
    "    \n",
    "        else:\n",
    "           people[i] = 0\n",
    "    return people\n",
    "\n",
    "print(s_people())"
   ]
  },
  {
   "cell_type": "code",
   "execution_count": null,
   "metadata": {},
   "outputs": [],
   "source": [
    "# shuffle을 써서 만드는 방법\n",
    "\n",
    "def s_people():\n",
    "    people = int(input('인구수를 입력하세요'))\n",
    "    a = []\n",
    "\n",
    "    for i in range(int(0.2*people)):\n",
    "        a.append(1)\n",
    "    for i in range(int(0.8*people)):\n",
    "        a.append(0)\n",
    "        \n",
    "    shuffle(a)\n",
    "    return a\n",
    "print(s_people())"
   ]
  },
  {
   "cell_type": "markdown",
   "metadata": {},
   "source": [
    "## 예제104. 리스트 합치기(+)\n",
    "\n",
    "두개의 리스트를 연결하여 새로운 리스트를 만드는 방법은 + 연산자를 이용해 두 개의 리스트를 더하면 됩니다."
   ]
  },
  {
   "cell_type": "code",
   "execution_count": 2,
   "metadata": {},
   "outputs": [
    {
     "name": "stdout",
     "output_type": "stream",
     "text": [
      "['a', 'b', 'c', 'd', 'e', 'f', 'g', 'h', 'i', 'j']\n"
     ]
    }
   ],
   "source": [
    "listdata1 = ['a','b','c','d','e']\n",
    "listdata2 = ['f','g','h','i','j']\n",
    "\n",
    "listdata3 = listdata1 + listdata2\n",
    "\n",
    "print(listdata3)"
   ]
  },
  {
   "cell_type": "markdown",
   "metadata": {},
   "source": [
    "## 문제189. (확률문제) 6개의 제품이 들어있는 상자가 있는데, 그 중 2개가 불량품이라고 하자  \n",
    "## 제품검사를 위해 3개를 추출했을 때, 적어도 1개의 불량품이 발견될 확률은?"
   ]
  },
  {
   "cell_type": "code",
   "execution_count": 284,
   "metadata": {},
   "outputs": [
    {
     "name": "stdout",
     "output_type": "stream",
     "text": [
      "0.80103\n"
     ]
    }
   ],
   "source": [
    "import random\n",
    "\n",
    "box = ['y','y','y','y','n','n']\n",
    "\n",
    "cnt = 0\n",
    "\n",
    "for i in range(100000):\n",
    "    x = random.sample(box,3)\n",
    "    if x.count('n') == 2 or x.count('n') == 1:\n",
    "        cnt += 1\n",
    "\n",
    "print(cnt/100000)\n",
    "\n",
    "\n",
    "# random.sample(변수 , 몇개 ) --> 리스트 자료형(비복원추출)\n",
    "# np.random.choice(변수, 몇개 ) --> numpy 자료형(복원추출)"
   ]
  },
  {
   "cell_type": "markdown",
   "metadata": {},
   "source": [
    "## 예제105. 리스트 반복하기(*)\n",
    "\n",
    "list * n 은 리스트를 n번 반복해서 새로운 리스트를 만든다.  \n",
    "예를 들어, list*2와 list+list는 동일한 결과가 나온다."
   ]
  },
  {
   "cell_type": "code",
   "execution_count": 14,
   "metadata": {},
   "outputs": [
    {
     "name": "stdout",
     "output_type": "stream",
     "text": [
      "[0, 1, 2, 0, 1, 2, 0, 1, 2]\n"
     ]
    }
   ],
   "source": [
    "listdata = list(range(3))\n",
    "result = listdata * 3\n",
    "print(result)"
   ]
  },
  {
   "cell_type": "markdown",
   "metadata": {},
   "source": [
    "## 문제191. 아래의 엄마와 아기가 함께하는 수영교실 나이 리스트를 생성하시오.\n",
    "\n",
    "결과 : [34,34,34,34,34,34,34,34,34,34,2,2,2,2,2,2,2,2,2,2]\n"
   ]
  },
  {
   "cell_type": "code",
   "execution_count": 16,
   "metadata": {},
   "outputs": [
    {
     "name": "stdout",
     "output_type": "stream",
     "text": [
      "[34, 34, 34, 34, 34, 34, 34, 34, 34, 34, 2, 2, 2, 2, 2, 2, 2, 2, 2, 2]\n"
     ]
    }
   ],
   "source": [
    "listdata1 = [34]\n",
    "listdata2 = [2]\n",
    "\n",
    "print(listdata1*10 + listdata2*10)"
   ]
  },
  {
   "cell_type": "code",
   "execution_count": 15,
   "metadata": {},
   "outputs": [
    {
     "name": "stdout",
     "output_type": "stream",
     "text": [
      "[34, 34, 34, 34, 34, 34, 34, 34, 34, 34, 2, 2, 2, 2, 2, 2, 2, 2, 2, 2]\n"
     ]
    }
   ],
   "source": [
    "listdata1 = [34 for i in range(10)]\n",
    "listdata2 = [2 for i in range(10)]\n",
    "\n",
    "print(listdata1 + listdata2)"
   ]
  },
  {
   "cell_type": "markdown",
   "metadata": {},
   "source": [
    "## 문제193. 엄마와 아기와 함께하는 수영교실의 나이의 평균값과 중앙값을 출력하시오."
   ]
  },
  {
   "cell_type": "code",
   "execution_count": 17,
   "metadata": {},
   "outputs": [
    {
     "name": "stdout",
     "output_type": "stream",
     "text": [
      "18.0\n",
      "18.0\n"
     ]
    }
   ],
   "source": [
    "import numpy as np\n",
    "\n",
    "a = [34, 34, 34, 34, 34, 34, 34, 34, 34, 34, 2, 2, 2, 2, 2, 2, 2, 2, 2, 2]\n",
    "\n",
    "\n",
    "print(np.mean(a))\n",
    "print(np.median(a))"
   ]
  },
  {
   "cell_type": "markdown",
   "metadata": {},
   "source": [
    "## 문제194. 엄마와 아기가 함께하는 수영교실 나이 데이터의 최빈값을 출력하시오!"
   ]
  },
  {
   "cell_type": "code",
   "execution_count": 34,
   "metadata": {},
   "outputs": [
    {
     "name": "stdout",
     "output_type": "stream",
     "text": [
      "[2]\n",
      "[34 34 34 34 34 34 34 34 34 34  2  2  2  2  2  2  2  2  2  2]\n"
     ]
    }
   ],
   "source": [
    "import numpy as np\n",
    "\n",
    "from scipy import stats # scipy 패키지(scipy : 통계모듈 패키지)에 있는 stats 모듈을 가지고온다.( stats : 통계모듈 )\n",
    "\n",
    "\n",
    "swim = [34, 34, 34, 34, 34, 34, 34, 34, 34, 34, 2, 2, 2, 2, 2, 2, 2, 2, 2, 2]\n",
    "\n",
    "\n",
    "a = np.array(swim)\n",
    "\n",
    "m = stats.mode(a) # numpy 형태로 바꾸어주어야 결과를 출력해준다!\n",
    "\n",
    "print(m[0])\n",
    "\n",
    "print(a)\n"
   ]
  },
  {
   "cell_type": "markdown",
   "metadata": {},
   "source": [
    "## 예제106. 리스트에 요소 추가하기(append)\n",
    "\n",
    "리스트 객체의 append() 메소드는 인자로 입력된 값을 리스트의 맨 마지막 요소로 추가합니다."
   ]
  },
  {
   "cell_type": "code",
   "execution_count": 289,
   "metadata": {},
   "outputs": [
    {
     "name": "stdout",
     "output_type": "stream",
     "text": [
      "리스트에 추가할 값을 입력하세요~1\n",
      "['1']\n",
      "리스트에 추가할 값을 입력하세요~2\n",
      "['1', '2']\n",
      "리스트에 추가할 값을 입력하세요~3\n",
      "['1', '2', '3']\n",
      "['1', '2', '3']\n"
     ]
    }
   ],
   "source": [
    "listdata = []\n",
    "for i in range(3):\n",
    "    txt = input('리스트에 추가할 값을 입력하세요~')\n",
    "    listdata.append(txt)\n",
    "    print(listdata)\n",
    "    \n",
    "\"\"\"\n",
    "리스트에 추가할 값을 입력하세요~1\n",
    "['1']\n",
    "리스트에 추가할 값을 입력하세요~2\n",
    "['1', '2']\n",
    "리스트에 추가할 값을 입력하세요~3\n",
    "['1', '2', '3']\n",
    "\"\"\"\n",
    "final = listdata\n",
    "print(final)"
   ]
  },
  {
   "cell_type": "markdown",
   "metadata": {},
   "source": [
    "## 문제195. 사원 테이블의 월급을 sallist라는 리스트에 다 담으시오~"
   ]
  },
  {
   "cell_type": "code",
   "execution_count": 42,
   "metadata": {},
   "outputs": [
    {
     "name": "stdout",
     "output_type": "stream",
     "text": [
      "[5000, 2850, 2450, 2975, 1250, 1600, 1500, 950, 1250, 3000, 800, 3000, 1100, 1300]\n"
     ]
    }
   ],
   "source": [
    "import csv\n",
    "\n",
    "file = open(\"d:\\\\data\\emp2.csv\", \"r\")\n",
    "\n",
    "emp_csv = csv.reader(file)\n",
    "\n",
    "sallist = []\n",
    "\n",
    "for emp_list in emp_csv:\n",
    "    sallist.append(int(emp_list[5]))\n",
    "\n",
    "print(sallist)\n"
   ]
  },
  {
   "cell_type": "markdown",
   "metadata": {},
   "source": [
    "## 문제196.  \n",
    "## 사원 테이블의 월급의 최대값, 최소값, 평균값, 토탈값, 분산값, 표준편차값을 출력하시오!"
   ]
  },
  {
   "cell_type": "code",
   "execution_count": 45,
   "metadata": {},
   "outputs": [
    {
     "name": "stdout",
     "output_type": "stream",
     "text": [
      "[5000, 2850, 2450, 2975, 1250, 1600, 1500, 950, 1250, 3000, 800, 3000, 1100, 1300]\n",
      "5000\n",
      "800\n",
      "2073.214285714286\n",
      "29025\n",
      "1298434.31122449\n",
      "1139.4886182952816\n"
     ]
    }
   ],
   "source": [
    "import random \n",
    "\n",
    "import csv\n",
    "\n",
    "file = open(\"d:\\\\data\\emp2.csv\", \"r\")\n",
    "\n",
    "emp_csv = csv.reader(file)\n",
    "\n",
    "sallist = []\n",
    "\n",
    "for emp_list in emp_csv:\n",
    "    sallist.append(int(emp_list[5]))\n",
    "\n",
    "print(sallist) # list형으로 출력됨.\n",
    "\n",
    "\n",
    "a = np.array(sallist)\n",
    "# numpy로 안바꾸고 리스트 형태로도 밑에것들이 다 가능하다.\n",
    "\n",
    "print(np.max(a)) # 최대값\n",
    "\n",
    "print(np.min(a)) # 최소값\n",
    "\n",
    "print(np.mean(a)) # 평균값\n",
    "\n",
    "print(np.sum(a)) # 토탈값\n",
    "\n",
    "print(np.var(a)) # 분산값\n",
    "\n",
    "print(np.std(a)) # 표준편차값"
   ]
  },
  {
   "cell_type": "markdown",
   "metadata": {},
   "source": [
    "## 문제197.  \n",
    "## 초등학생 키를 십만개를 파이썬을 만드는데 평균을 150으로 하고 표준편차 5로 해서  \n",
    "## 십만개의 키 숫자를 생성하시오~"
   ]
  },
  {
   "cell_type": "code",
   "execution_count": null,
   "metadata": {},
   "outputs": [],
   "source": [
    "import numpy as np\n",
    "\n",
    "a = np.random.randn(100000) \n",
    "# 가우시안 정규분포를 따르는 숫자가 random으로 100000개가 생성됨 & 평균 = 0 , 표준편차 = 1\n",
    "\n",
    "height = np.random.randn(100000) * 5 + 150\n",
    "# 가우시안 정규분포를 따르는 숫자가 random으로 100000개가 생성됨 & 평균 = 150 , 표준편차 = 5\n",
    "\n",
    "print(height)\n",
    "\n",
    "print(np.mean(height))\n",
    "\n",
    "print(np.std(height))"
   ]
  },
  {
   "cell_type": "markdown",
   "metadata": {},
   "source": [
    "## 문제198. 위의 초등학생 키 데이터를 가지고 히스토그램 그래프를 그리시오!"
   ]
  },
  {
   "cell_type": "code",
   "execution_count": 6,
   "metadata": {},
   "outputs": [
    {
     "name": "stdout",
     "output_type": "stream",
     "text": [
      "[ 3209  6015  9788 13338 15640 15636 13106  9547  6153  3155]\n",
      "[140 142 144 146 148 150 152 154 156 158 160]\n"
     ]
    },
    {
     "data": {
      "text/plain": [
       "(array([ 3209.,  6015.,  9788., 13338., 15640., 15636., 13106.,  9547.,\n",
       "         6153.,  3155.]),\n",
       " array([140, 142, 144, 146, 148, 150, 152, 154, 156, 158, 160]),\n",
       " <a list of 10 Patch objects>)"
      ]
     },
     "execution_count": 6,
     "metadata": {},
     "output_type": "execute_result"
    },
    {
     "data": {
      "image/png": "[encoded data removed]",
      "text/plain": [
       "<Figure size 432x288 with 1 Axes>"
      ]
     },
     "metadata": {
      "needs_background": "light"
     },
     "output_type": "display_data"
    }
   ],
   "source": [
    "import matplotlib.pyplot as plt\n",
    "import numpy as np\n",
    "\n",
    "height = np.random.randn(100000)*5  + 150\n",
    "\n",
    "bins = np.arange(140,161,2) # 140 ~ 160 까지 '간격 = 2' 로 나눔.\n",
    "\n",
    "hist1, bins1 = np.histogram(height, bins) # 히스토그램 확인하려고 적은 코드 그래서 없어도 되긴함.\n",
    "\n",
    "print(hist1) # 해당 키에 속하는 초등학생들의 숫자(도수= 건수)를 hist로 나타냄\n",
    "print(bins1) # 140 ~ 161을 2간격으로 나눈 리스트\n",
    "\n",
    "# bins1과 hist1은 그냥 설명하기 위해서 설정한 변수명임\n",
    "\n",
    "plt.xticks(bins, fontsize = 10) # 히스토그램의 x축을 설정함. fontsize = x축의 숫자의 글자크기\n",
    "\n",
    "plt.grid() # 감옥마냥 줄그어서 바둑판처럼 보여주는 코드\n",
    "\n",
    "plt.hist(height, bins, rwidth = 0.8, alpha=0.7, color = 'red') # 여기에서 hist는 함수이름임.\n",
    "\n",
    "\n",
    "# 히스토그램에서는 막대그래프와는 다르게 단순하게 세로축이 아니라, 도수(건수)를 나타낸다.\n",
    "# 히스토그램 막대그래프 차이를 검색 해볼것.\n",
    "\n",
    "\n",
    "# plt.hist에서 height(세로)는 height에 해당하는 도수(건수), bins(가로)는 그냥 가로축\n",
    "# rwidth : 히스토그램간의 간격\n",
    "# alpha : 색깔의 진함과 흐림을 나타냄."
   ]
  },
  {
   "cell_type": "markdown",
   "metadata": {},
   "source": [
    "## 예제119. 리스트 요소를 무작위로 섞어버리기(shuffle)\n",
    "\n",
    "파이썬 기본모듈인 random은 의사 난수(Pseudo random number) 발생기를 구현한 모듈입니다.  \n",
    "이 모듈이 제공하는 shuffle()은 리스트의 요소를 무작위로 섞는데 활용됩니다."
   ]
  },
  {
   "cell_type": "code",
   "execution_count": 82,
   "metadata": {},
   "outputs": [
    {
     "name": "stdout",
     "output_type": "stream",
     "text": [
      "[1, 2, 3, 4, 5, 6, 7, 8, 9, 10]\n",
      "[3, 2, 1, 6, 7, 8, 9, 4, 5, 10]\n"
     ]
    }
   ],
   "source": [
    "from random import shuffle\n",
    "listdata = list(range(1,11))\n",
    "\n",
    "print(listdata) \n",
    "shuffle(listdata)\n",
    "print(listdata)"
   ]
  },
  {
   "cell_type": "code",
   "execution_count": 38,
   "metadata": {},
   "outputs": [
    {
     "name": "stdout",
     "output_type": "stream",
     "text": [
      "인구수를 입력하세요10\n",
      "[1, 1, 0, 0, 0, 0, 0, 0, 0, 0]\n",
      "[0, 0, 0, 0, 0, 1, 0, 1, 0, 0]\n"
     ]
    }
   ],
   "source": [
    "from random import shuffle\n",
    "people = int(input('인구수를 입력하세요'))\n",
    "a = []\n",
    "\n",
    "for i in range(int(0.2*people)):\n",
    "    a.append(1)\n",
    "for i in range(int(0.8*people)):\n",
    "    a.append(0)\n",
    "\n",
    "print(a)\n",
    "shuffle(a)\n",
    "print(a)"
   ]
  },
  {
   "cell_type": "markdown",
   "metadata": {},
   "source": [
    "## 문제199. 아래의 음악 리스트를 생성하고 랜덤으로 shuffle을 시키시오"
   ]
  },
  {
   "cell_type": "code",
   "execution_count": 39,
   "metadata": {},
   "outputs": [
    {
     "name": "stdout",
     "output_type": "stream",
     "text": [
      "['다시 만나 세계', 'Gee', 'DNA', 'Fire']\n",
      "['DNA', 'Fire', '다시 만나 세계', 'Gee']\n"
     ]
    }
   ],
   "source": [
    "from random import shuffle\n",
    "\n",
    "artist = ['소녀시대','소녀시대','방탄소년단','방탄소년단']\n",
    "music = ['다시 만나 세계', 'Gee', 'DNA', 'Fire']\n",
    "\n",
    "print(music)\n",
    "shuffle(music)\n",
    "print(music)"
   ]
  },
  {
   "cell_type": "markdown",
   "metadata": {},
   "source": [
    "## ■ defaultdict 이란?\n",
    "\n",
    "defaultdict() 이란 말 그대로 dictionary의 기본값을 정의하고   \n",
    "값이 없더라도 에러를 출력하지 않고 기본값을 출력한다."
   ]
  },
  {
   "cell_type": "code",
   "execution_count": 4,
   "metadata": {},
   "outputs": [
    {
     "name": "stdout",
     "output_type": "stream",
     "text": [
      "{'one': 'a'}\n",
      "{'one': 'a', 'two': 'b'}\n"
     ]
    }
   ],
   "source": [
    "d = {}\n",
    "d['one'] = 'a'\n",
    "print(d) \n",
    "d['two'] = 'b'\n",
    "print(d)"
   ]
  },
  {
   "cell_type": "markdown",
   "metadata": {},
   "source": [
    "### __그런데, defaultdict()을 사용하면 키만 생성하고 값이 없어도 에러가 나지 않는다.__"
   ]
  },
  {
   "cell_type": "code",
   "execution_count": null,
   "metadata": {},
   "outputs": [],
   "source": [
    " # 그냥 딕셔너리를 사용했을 때 : 오류 발생\n",
    " # 딕셔너리는 key : value로 구성되어 있음.\n",
    "d2 = {}\n",
    "d2['one']\n",
    "print(d2)"
   ]
  },
  {
   "cell_type": "code",
   "execution_count": 10,
   "metadata": {},
   "outputs": [
    {
     "name": "stdout",
     "output_type": "stream",
     "text": [
      "defaultdict(<class 'list'>, {'one': [], 'two': []})\n"
     ]
    }
   ],
   "source": [
    "# defaultdict를 사용했을 때 : 오류발생 x\n",
    "\n",
    "from collections import defaultdict\n",
    "\n",
    "d3 = defaultdict(list)\n",
    "\n",
    "d3['one']\n",
    "d3['two']\n",
    "\n",
    "print(d3)\n",
    "# defaultdict(<class 'list'>, {'one': [], 'two': []})"
   ]
  },
  {
   "cell_type": "markdown",
   "metadata": {},
   "source": [
    "## defaultdict 을 이용해서 가수를 키로 구성하고 음악을 값으로 구성한다."
   ]
  },
  {
   "cell_type": "code",
   "execution_count": 18,
   "metadata": {},
   "outputs": [
    {
     "name": "stdout",
     "output_type": "stream",
     "text": [
      "0 소녀시대\n",
      "1 소녀시대\n",
      "2 방탄소년단\n",
      "3 방탄소년단\n",
      "defaultdict(<class 'list'>, {'소녀시대': ['다시 만나 세계', 'Gee'], '방탄소년단': ['DNA', 'Fire']})\n"
     ]
    }
   ],
   "source": [
    "from collections import defaultdict\n",
    "\n",
    "artist = ['소녀시대','소녀시대','방탄소년단','방탄소년단']\n",
    "music = ['다시 만나 세계', 'Gee', 'DNA', 'Fire']\n",
    "\n",
    "box = defaultdict(list)\n",
    "\n",
    "for i, arti in enumerate(artist): # enumerate기능 : arti를 나열할때 index번호도 같이 나오게 한다.\n",
    "    print(i,arti)\n",
    "    #0 소녀시대\n",
    "    #1 소녀시대\n",
    "    #2 방탄소년단\n",
    "    #3 방탄소년단\n",
    "    \n",
    "    box[arti].append(music[i])\n",
    "\n",
    "# box['소녀시대'] = '다시 만난 세계'\n",
    "# box['소녀시대'] = 'Gee'\n",
    "# box['방탄 소년단'] = 'DNA'\n",
    "# box['방탄 소년단'] = 'Fire'\n",
    "\n",
    "\n",
    "print(box)"
   ]
  },
  {
   "cell_type": "markdown",
   "metadata": {},
   "source": [
    "### ※ enumerate 가 for 문으로 리스트의 요소를 빼올 때 인덱스 번호까지 같이 추출하는 파이썬 내장함수."
   ]
  },
  {
   "cell_type": "markdown",
   "metadata": {},
   "source": [
    "## 문제200. 위의 box 딕셔너리에서 음악만 추출해서 아래와 같이 출력하시오!\n",
    "\n",
    "결과 : ['다시 만난 세계', 'Gee', 'DNA', 'Fire']"
   ]
  },
  {
   "cell_type": "code",
   "execution_count": 133,
   "metadata": {},
   "outputs": [
    {
     "name": "stdout",
     "output_type": "stream",
     "text": [
      "0 소녀시대\n",
      "1 소녀시대\n",
      "2 방탄 소년단\n",
      "3 방탄 소년단\n",
      "defaultdict(<class 'list'>, {'소녀시대': ['다시 만난 세계', ' Gee'], '방탄 소년단': ['DNA', 'Fire']})\n",
      "[['다시 만난 세계', ' Gee'], ['DNA', 'Fire']]\n",
      "['다시 만난 세계', ' Gee', 'DNA', 'Fire']\n"
     ]
    }
   ],
   "source": [
    "from collections import defaultdict\n",
    "\n",
    "artist = ['소녀시대', '소녀시대', '방탄 소년단','방탄 소년단']\n",
    "music = ['다시 만난 세계', ' Gee', 'DNA', 'Fire']\n",
    "\n",
    "box = defaultdict(list)\n",
    "\n",
    "for i, arti in enumerate(artist):\n",
    "    box[arti].append(music[i])\n",
    "    print(i,arti)\n",
    "\n",
    "print(box)    \n",
    "a = []\n",
    "b = []\n",
    "\n",
    "for i in box.values():\n",
    "    b.append(i)\n",
    "    for k in i:\n",
    "        a.append(k)\n",
    "        \n",
    "print(b)        \n",
    "print(a)"
   ]
  },
  {
   "cell_type": "code",
   "execution_count": 25,
   "metadata": {},
   "outputs": [
    {
     "name": "stdout",
     "output_type": "stream",
     "text": [
      "['다시 만나 세계', 'Gee', 'DNA', 'Fire']\n"
     ]
    }
   ],
   "source": [
    "from collections import defaultdict\n",
    "\n",
    "artist = ['소녀시대','소녀시대','방탄소년단','방탄소년단']\n",
    "music = ['다시 만나 세계', 'Gee', 'DNA', 'Fire']\n",
    "\n",
    "a = defaultdict(list)\n",
    "enumerate(music)\n",
    "print(music)"
   ]
  },
  {
   "cell_type": "code",
   "execution_count": 295,
   "metadata": {},
   "outputs": [
    {
     "name": "stdout",
     "output_type": "stream",
     "text": [
      "defaultdict(<class 'list'>, {'소녀시대': ['다시 만나 세계', 'Gee'], '방탄소년단': ['DNA', 'Fire']})\n",
      "dict_keys(['소녀시대', '방탄소년단'])\n"
     ]
    },
    {
     "data": {
      "text/plain": [
       "['다시 만나 세계', 'Gee', 'DNA', 'Fire']"
      ]
     },
     "execution_count": 295,
     "metadata": {},
     "output_type": "execute_result"
    }
   ],
   "source": [
    "from collections import defaultdict\n",
    "\n",
    "artist = ['소녀시대','소녀시대','방탄소년단','방탄소년단']\n",
    "music = ['다시 만나 세계', 'Gee', 'DNA', 'Fire']\n",
    "\n",
    "box = defaultdict(list)\n",
    "\n",
    "for i, arti in enumerate(artist):  # enumerate기능 : arti를 나열할때 index번호도 같이 나오게 한다.\n",
    "    box[arti].append(music[i])\n",
    "\n",
    "\n",
    "print(box)\n",
    "print(box.keys())\n",
    "\n",
    "result = []\n",
    "\n",
    "for i in box.keys() :\n",
    "    result += box[i]\n",
    "    \n",
    "result"
   ]
  },
  {
   "cell_type": "markdown",
   "metadata": {},
   "source": [
    "## 문제201.(오늘의 마지막 문제) shuffle을 이용해서 아래와 같이 수행되게 하시오.\n",
    "\n",
    "['다만세', 'Fire', 'Gee', 'DNA']\n",
    "\n",
    "['DNA', '다만세', 'Fire', 'Gee']\n",
    "\n",
    "\" 같은 아티스트의 노래가 옆에 나오지 않게 shuffle을 시키시오! \""
   ]
  },
  {
   "cell_type": "code",
   "execution_count": 299,
   "metadata": {},
   "outputs": [
    {
     "name": "stdout",
     "output_type": "stream",
     "text": [
      "defaultdict(<class 'list'>, {'소녀시대': ['다시 만난 세계', ' Gee'], '방탄 소년단': ['DNA', 'Fire']})\n",
      "[['다시 만난 세계', ' Gee'], ['DNA', 'Fire']]\n",
      "['다시 만난 세계', ' Gee', 'DNA', 'Fire']\n"
     ]
    }
   ],
   "source": [
    "# -*- coding: utf-8 -*-\n",
    "\"\"\"\n",
    "Created on Fri Dec  6 10:58:01 2019\n",
    "\n",
    "@author: wdp\n",
    "\"\"\"\n",
    "\n",
    "from collections import defaultdict\n",
    "import random\n",
    "\n",
    "artist = ['소녀시대','소녀시대','방탄','방탄']\n",
    "music = ['다시 만난 세계', 'Gee', 'DNA', 'Fire']\n",
    "\n",
    "\n",
    "box = defaultdict(list)\n",
    "for i, arti in enumerate(artist):    \n",
    "    box[arti].append(music[i])\n",
    "\n",
    "new_list_artist = []\n",
    "\n",
    "print(box)\n",
    "\n",
    "i=0\n",
    "while True:\n",
    "   \n",
    "    a = random.sample(artist,1)[0]   # [0]을 안쓰면 리스트 값으로 출력되기 때문에 [0]을 써서 값만 추출한다.\n",
    "   \n",
    "    if i>0 and new_list_artist[i-1] == a : \n",
    "        continue\n",
    "   \n",
    "    artist.remove(a)\n",
    "    new_list_artist.append(a)   \n",
    "   \n",
    "    if len(artist) == 0: \n",
    "        break\n",
    "  \n",
    "    i += 1\n",
    "\n",
    "\n",
    "play_list = []\n",
    "\n",
    "\n",
    "for i in new_list_artist:\n",
    "    b = random.sample(box[i],1)[0]\n",
    "    box[i].remove(b) # remove로 값을 지워줌으로써 중복을 방지할 수 있다.\n",
    "    play_list.append(b)\n",
    "   \n",
    "print(play_list)"
   ]
  },
  {
   "cell_type": "markdown",
   "metadata": {},
   "source": [
    "## 예제107. 리스트의 특정위치에 요소 입력하기(insert)\n",
    "\n",
    "리스트 객체의 insert() 메소드는 리스트의 특정위치에 새로운 요소를 입력합니다."
   ]
  },
  {
   "cell_type": "code",
   "execution_count": 120,
   "metadata": {},
   "outputs": [
    {
     "name": "stdout",
     "output_type": "stream",
     "text": [
      "[1, 2, 'a', 3, 4, 5]\n"
     ]
    }
   ],
   "source": [
    "a = [1,2,3,4,5]\n",
    "a.insert(2,'a') # 2는 인덱스 번호, 'a'는 주입할 문자\n",
    "print(a) #[1, 2, 'a', 3, 4, 5]"
   ]
  },
  {
   "cell_type": "markdown",
   "metadata": {},
   "source": [
    "## 문제202. 아래의 a 리스트에서 화성 다음에 소행성을 입력 하시오!"
   ]
  },
  {
   "cell_type": "code",
   "execution_count": 122,
   "metadata": {},
   "outputs": [
    {
     "name": "stdout",
     "output_type": "stream",
     "text": [
      "['태양', '수성', '금성', '지구', '화성', '소행성', '소행성', '토성', '천왕성', '해왕성']\n"
     ]
    }
   ],
   "source": [
    "a = ['태양','수성','금성','지구','화성','소행성','토성','천왕성','해왕성']\n",
    "\n",
    "a.insert(a.index('화성')+1,'소행성')\n",
    "print(a)"
   ]
  },
  {
   "cell_type": "markdown",
   "metadata": {},
   "source": [
    "## del과 remove의 차이?\n",
    "\n",
    "__remove__는 요소명으로 삭제하는 것이고\n",
    "\n",
    "__del__은 리스트의 인덱스 번호로 삭제하는것"
   ]
  },
  {
   "cell_type": "code",
   "execution_count": null,
   "metadata": {},
   "outputs": [],
   "source": [
    "\"\"\"\n",
    "a = ['태양','수성','금성','지구','화성','소행성','토성','천왕성','해왕성']\n",
    "\n",
    "a.remove('토성')\n",
    "\n",
    "del(a[-3])\n",
    "\n",
    "위의 둘의 결과는 같다.\n",
    "\"\"\""
   ]
  },
  {
   "cell_type": "markdown",
   "metadata": {},
   "source": [
    "## 예제109. 리스트의 특정 위치에 요소 제거하기(remove)\n",
    "\n",
    "리스트에서 특정 요소의 값을 알고 있을 떄 그 요소를 제거하는 방법은 리스트 객체의 remove() 메소드를 이용하면 된다."
   ]
  },
  {
   "cell_type": "markdown",
   "metadata": {},
   "source": [
    "## 예제110. 리스트의 특정 구간에 있는 모든 요소 제거하기\n",
    "\n",
    "리스트 객체에서 특정 구간에 있는 요소들을 제거하려면  \n",
    "del과 슬라이싱을 이용하면 된다."
   ]
  },
  {
   "cell_type": "markdown",
   "metadata": {},
   "source": [
    "## 예제 : 아래 리스트에서 금성부터 목성까지 지우시오!"
   ]
  },
  {
   "cell_type": "code",
   "execution_count": 124,
   "metadata": {},
   "outputs": [
    {
     "name": "stdout",
     "output_type": "stream",
     "text": [
      "['태양', '수성', '토성', '천왕성', '해왕성']\n"
     ]
    }
   ],
   "source": [
    "a = ['태양','수성','금성','지구','화성','목성','토성','천왕성','해왕성']\n",
    "\n",
    "del(a[2:a.index('목성')+1])\n",
    "\n",
    "print(a)"
   ]
  },
  {
   "cell_type": "markdown",
   "metadata": {},
   "source": [
    "## 문제203. a 리스트에 있는 모든 요소를 다 지우시오!"
   ]
  },
  {
   "cell_type": "code",
   "execution_count": 125,
   "metadata": {},
   "outputs": [
    {
     "name": "stdout",
     "output_type": "stream",
     "text": [
      "[]\n"
     ]
    }
   ],
   "source": [
    "a = ['태양','수성','금성','지구','화성','목성','토성','천왕성','해왕성']\n",
    "\n",
    "del(a[:])\n",
    "\n",
    "print(a)"
   ]
  },
  {
   "cell_type": "markdown",
   "metadata": {},
   "source": [
    "### ※설명 : del a는  a리스트를 메모리에서 제거하는 명령어이다.  (주의)"
   ]
  },
  {
   "cell_type": "markdown",
   "metadata": {},
   "source": [
    "## 예제111. 리스트에 있는 요소 개수를 구하기(len)\n",
    "\n",
    "파이썬 내장함수 len()은 시퀀스 자료형의 크기를 구하는 함수이다.  \n",
    "len()을 리스트에 적용하면 리스트의 모든 요소의 개수를 리턴한다.  "
   ]
  },
  {
   "cell_type": "code",
   "execution_count": 128,
   "metadata": {},
   "outputs": [
    {
     "name": "stdout",
     "output_type": "stream",
     "text": [
      "9\n"
     ]
    }
   ],
   "source": [
    "a = ['태양','수성','금성','지구','화성','목성','토성','천왕성','해왕성']\n",
    "\n",
    "print(len(a))"
   ]
  },
  {
   "cell_type": "markdown",
   "metadata": {},
   "source": [
    "## 문제204. 아래의 SQL을 파이썬으로 구현하시오"
   ]
  },
  {
   "cell_type": "code",
   "execution_count": 130,
   "metadata": {},
   "outputs": [
    {
     "name": "stdout",
     "output_type": "stream",
     "text": [
      "14\n"
     ]
    }
   ],
   "source": [
    "\"\"\"\n",
    "SQL>\n",
    "select count(empno)\n",
    "    from emp;\n",
    "\"\"\"\n",
    "\n",
    "import csv\n",
    "file = open(\"d:\\\\data\\emp2.csv\", \"r\")\n",
    "emp_csv = csv.reader(file)\n",
    "empno = []\n",
    "\n",
    "for emp_list in emp_csv:\n",
    "    empno.append(int(emp_list[0]))\n",
    "\n",
    "print(len(empno))"
   ]
  },
  {
   "cell_type": "code",
   "execution_count": 131,
   "metadata": {},
   "outputs": [
    {
     "name": "stdout",
     "output_type": "stream",
     "text": [
      "0     7839\n",
      "1     7698\n",
      "2     7782\n",
      "3     7566\n",
      "4     7654\n",
      "5     7499\n",
      "6     7844\n",
      "7     7900\n",
      "8     7521\n",
      "9     7902\n",
      "10    7369\n",
      "11    7788\n",
      "12    7876\n",
      "13    7934\n",
      "Name: empno, dtype: int64\n",
      "14\n"
     ]
    }
   ],
   "source": [
    "\"\"\"\n",
    "SQL>\n",
    "select count(empno)\n",
    "    from emp;\n",
    "\"\"\"\n",
    "# pandas 이용하였을 때\n",
    "import pandas as pd\n",
    "\n",
    "emp = pd.read_csv(\"d:\\\\data\\emp3.csv\")\n",
    "\n",
    "print(emp['empno'])\n",
    "\n",
    "print(len(emp['empno']))"
   ]
  },
  {
   "cell_type": "markdown",
   "metadata": {},
   "source": [
    "## 예제113. 리스트 제거하기\n",
    "\n",
    "del 키워드는 어떤 객체나 요소를 제거하기 위해 사용된다."
   ]
  },
  {
   "cell_type": "code",
   "execution_count": null,
   "metadata": {},
   "outputs": [],
   "source": [
    "listdata = [2,2,1,3,8,5,7]\n",
    "del listdata\n",
    "print(listdata)\n",
    "\n",
    "#설명 : listdata를 메모리에서 제거 한다."
   ]
  },
  {
   "cell_type": "markdown",
   "metadata": {},
   "source": [
    "## 예제114. 리스트 요소 정렬하기(sort)\n",
    "\n",
    "코드를 작성하다 보면 리스트에 있는 요소를 정렬해야 하는 경우가 있다.  \n",
    "이 경우 리스트 객체의 sort() 메소드를 이요하면 된다.  \n",
    "주의 할점은 리스트 객체의 sort()는 원본 리스트의 내용을 정렬 형태로 변경한다는 것이다.  "
   ]
  },
  {
   "cell_type": "code",
   "execution_count": 136,
   "metadata": {},
   "outputs": [
    {
     "name": "stdout",
     "output_type": "stream",
     "text": [
      "[1, 2, 2, 3, 5, 7, 8]\n"
     ]
    }
   ],
   "source": [
    "listdata = [2,2,1,3,8,5,7]\n",
    "\n",
    "listdata.sort()\n",
    "print(listdata)"
   ]
  },
  {
   "cell_type": "markdown",
   "metadata": {},
   "source": [
    "## 문제205. listdata를 역순으로 정렬하시오!"
   ]
  },
  {
   "cell_type": "code",
   "execution_count": 138,
   "metadata": {},
   "outputs": [
    {
     "name": "stdout",
     "output_type": "stream",
     "text": [
      "[8, 7, 5, 3, 2, 2, 1]\n"
     ]
    }
   ],
   "source": [
    "listdata = [2,2,1,3,8,5,7]\n",
    "\n",
    "listdata.sort(reverse = True)\n",
    "print(listdata)"
   ]
  },
  {
   "cell_type": "markdown",
   "metadata": {},
   "source": [
    "## 문제206. 사원 테이블의 월급을 높은것부터 정렬해서 리스트에 담으시오!"
   ]
  },
  {
   "cell_type": "code",
   "execution_count": 144,
   "metadata": {},
   "outputs": [
    {
     "name": "stdout",
     "output_type": "stream",
     "text": [
      "[5000, 2850, 2450, 2975, 1250, 1600, 1500, 950, 1250, 3000, 800, 3000, 1100, 1300]\n",
      "[5000, 3000, 3000, 2975, 2850, 2450, 1600, 1500, 1300, 1250, 1250, 1100, 950, 800]\n"
     ]
    }
   ],
   "source": [
    "import csv\n",
    "\n",
    "file = open(\"d:\\\\data\\emp2.csv\", \"r\")\n",
    "emp_csv = csv.reader(file)\n",
    "sal = []\n",
    "\n",
    "for emp_list in emp_csv:\n",
    "    sal.append(int(emp_list[5]))\n",
    "\n",
    "print(sal)\n",
    "\n",
    "sal.sort(reverse = True)\n",
    "\n",
    "print(sal)"
   ]
  },
  {
   "cell_type": "markdown",
   "metadata": {},
   "source": [
    "## 예제115. 리스트 요소 정렬하기(sorted)\n",
    "\n",
    "파이썬 내장 함수 sorted()를 이용하여 리스트를 정렬할 수 있다.  \n",
    "리스트 객체의 sort() 메소드와 다른점은 리스트 객체의 sort()는  \n",
    "원본 리스트를 정렬한 형태로 변경하지만 sorted()는 원본 리스트는 그대로 두고 정렬한 결과 리스트를 반영합니다.  \n",
    "\n",
    "__즉, sorted()는 원본데이터가 변하지 않는다.__"
   ]
  },
  {
   "cell_type": "code",
   "execution_count": 243,
   "metadata": {},
   "outputs": [
    {
     "name": "stdout",
     "output_type": "stream",
     "text": [
      "[2, 2, 1, 3, 8, 5, 7]\n",
      "[1, 2, 2, 3, 5, 7, 8]\n",
      "[8, 7, 5, 3, 2, 2, 1]\n"
     ]
    }
   ],
   "source": [
    "listdata = [2,2,1,3,8,5,7]\n",
    "\n",
    "result1 = sorted(listdata)\n",
    "\n",
    "result2 = sorted(listdata,reverse=True)\n",
    "\n",
    "print(listdata)\n",
    "print(result1)\n",
    "print(result2)"
   ]
  },
  {
   "cell_type": "markdown",
   "metadata": {},
   "source": [
    "## 문제207. d드라이브 밑에 image폴더에 있는 사진들의 이름을 불러오는 함수를 생성하시오!"
   ]
  },
  {
   "cell_type": "code",
   "execution_count": 258,
   "metadata": {},
   "outputs": [
    {
     "name": "stdout",
     "output_type": "stream",
     "text": [
      "['1.png', '10.png', '100.png', '11.png', '12.png', '13.png', '14.png', '15.png', '16.png', '17.png', '18.png', '19.png', '2.png', '20.png', '21.png', '22.png', '23.png', '24.png', '25.png', '26.png', '27.png', '28.png', '29.png', '3.png', '30.png', '31.png', '32.png', '33.png', '34.png', '35.png', '36.png', '37.png', '38.png', '39.png', '4.png', '40.png', '41.png', '42.png', '43.png', '44.png', '45.png', '46.png', '47.png', '48.png', '49.png', '5.png', '50.png', '51.png', '52.png', '53.png', '54.png', '55.png', '56.png', '57.png', '58.png', '59.png', '6.png', '60.png', '61.png', '62.png', '63.png', '64.png', '65.png', '66.png', '67.png', '68.png', '69.png', '7.png', '70.png', '71.png', '72.png', '73.png', '74.png', '75.png', '76.png', '77.png', '78.png', '79.png', '8.png', '80.png', '81.png', '82.png', '83.png', '84.png', '85.png', '86.png', '87.png', '88.png', '89.png', '9.png', '90.png', '91.png', '92.png', '93.png', '94.png', '95.png', '96.png', '97.png', '98.png', '99.png']\n"
     ]
    }
   ],
   "source": [
    "import os\n",
    "\n",
    "test_image = \"d:\\\\image\"\n",
    "\n",
    "def image_load(path):\n",
    "    file_list = os.listdir(path)\n",
    "    return file_list\n",
    "\n",
    "print(image_load(test_image))"
   ]
  },
  {
   "cell_type": "markdown",
   "metadata": {},
   "source": [
    "## 문제208. 위의 결과에서 숫자만 나오게 하시오~"
   ]
  },
  {
   "cell_type": "code",
   "execution_count": 271,
   "metadata": {},
   "outputs": [
    {
     "name": "stdout",
     "output_type": "stream",
     "text": [
      "[1, 2, 3, 4, 5, 6, 7, 8, 9, 10, 11, 12, 13, 14, 15, 16, 17, 18, 19, 20, 21, 22, 23, 24, 25, 26, 27, 28, 29, 30, 31, 32, 33, 34, 35, 36, 37, 38, 39, 40, 41, 42, 43, 44, 45, 46, 47, 48, 49, 50, 51, 52, 53, 54, 55, 56, 57, 58, 59, 60, 61, 62, 63, 64, 65, 66, 67, 68, 69, 70, 71, 72, 73, 74, 75, 76, 77, 78, 79, 80, 81, 82, 83, 84, 85, 86, 87, 88, 89, 90, 91, 92, 93, 94, 95, 96, 97, 98, 99, 100]\n"
     ]
    }
   ],
   "source": [
    "import os\n",
    "import re\n",
    "\n",
    "test_image = \"d:\\\\image\"\n",
    "\n",
    "def image_load(path):\n",
    "    file_list = os.listdir(path)\n",
    "    file_name = []\n",
    "    for i in file_list:\n",
    "        a = int(re.sub('[^0-9]','',i)) # 숫자가 아닌것 '[^0-9]' 은 다 ''(null)으로 처리!\n",
    "        file_name.append(a)\n",
    "        file_name.sort()\n",
    "    return file_name\n",
    "\n",
    "print(image_load(test_image))"
   ]
  },
  {
   "cell_type": "markdown",
   "metadata": {},
   "source": [
    "## 문제209. 다시 숫자뒤에 .png를 붙여서 아래와 같이 리스트를 구성하시오.\n",
    "\n",
    "['1.png', '2.png', '3.png', '4.png',..............]\n"
   ]
  },
  {
   "cell_type": "code",
   "execution_count": 272,
   "metadata": {},
   "outputs": [
    {
     "name": "stdout",
     "output_type": "stream",
     "text": [
      "['1.png', '2.png', '3.png', '4.png', '5.png', '6.png', '7.png', '8.png', '9.png', '10.png', '11.png', '12.png', '13.png', '14.png', '15.png', '16.png', '17.png', '18.png', '19.png', '20.png', '21.png', '22.png', '23.png', '24.png', '25.png', '26.png', '27.png', '28.png', '29.png', '30.png', '31.png', '32.png', '33.png', '34.png', '35.png', '36.png', '37.png', '38.png', '39.png', '40.png', '41.png', '42.png', '43.png', '44.png', '45.png', '46.png', '47.png', '48.png', '49.png', '50.png', '51.png', '52.png', '53.png', '54.png', '55.png', '56.png', '57.png', '58.png', '59.png', '60.png', '61.png', '62.png', '63.png', '64.png', '65.png', '66.png', '67.png', '68.png', '69.png', '70.png', '71.png', '72.png', '73.png', '74.png', '75.png', '76.png', '77.png', '78.png', '79.png', '80.png', '81.png', '82.png', '83.png', '84.png', '85.png', '86.png', '87.png', '88.png', '89.png', '90.png', '91.png', '92.png', '93.png', '94.png', '95.png', '96.png', '97.png', '98.png', '99.png', '100.png']\n"
     ]
    }
   ],
   "source": [
    "import os\n",
    "import re\n",
    "\n",
    "test_image = \"d:\\\\image\"\n",
    "\n",
    "def image_load(path):\n",
    "    file_list = os.listdir(path)\n",
    "    file_name = []\n",
    "    \n",
    "    for i in file_list:\n",
    "        a = int(re.sub('[^0-9]','',i)) # 숫자가 아닌것 '[^0-9]' 은 다  ''(null)으로 처리!\n",
    "        file_name.append(a)\n",
    "        file_name.sort()\n",
    "        \n",
    "    file_res = []\n",
    "    \n",
    "    for j in file_name:\n",
    "        file_res.append('%d.png' %j)\n",
    "        \n",
    "    return file_res\n",
    "\n",
    "print(image_load(test_image))"
   ]
  },
  {
   "cell_type": "markdown",
   "metadata": {},
   "source": [
    "## 문제210. 이미지 이름 앞에 절대 경로가 아래처럼 붙게 하시오.\n",
    "\n",
    "print(image_load(test_image))\n",
    "\n",
    "['d:\\\\data\\\\1.png','d:\\\\data\\\\2.png', .....]"
   ]
  },
  {
   "cell_type": "code",
   "execution_count": 3,
   "metadata": {},
   "outputs": [
    {
     "name": "stdout",
     "output_type": "stream",
     "text": [
      "['d:\\\\image\\\\1.png', 'd:\\\\image\\\\2.png', 'd:\\\\image\\\\3.png', 'd:\\\\image\\\\4.png', 'd:\\\\image\\\\5.png', 'd:\\\\image\\\\6.png', 'd:\\\\image\\\\7.png', 'd:\\\\image\\\\8.png', 'd:\\\\image\\\\9.png', 'd:\\\\image\\\\10.png', 'd:\\\\image\\\\11.png', 'd:\\\\image\\\\12.png', 'd:\\\\image\\\\13.png', 'd:\\\\image\\\\14.png', 'd:\\\\image\\\\15.png', 'd:\\\\image\\\\16.png', 'd:\\\\image\\\\17.png', 'd:\\\\image\\\\18.png', 'd:\\\\image\\\\19.png', 'd:\\\\image\\\\20.png', 'd:\\\\image\\\\21.png', 'd:\\\\image\\\\22.png', 'd:\\\\image\\\\23.png', 'd:\\\\image\\\\24.png', 'd:\\\\image\\\\25.png', 'd:\\\\image\\\\26.png', 'd:\\\\image\\\\27.png', 'd:\\\\image\\\\28.png', 'd:\\\\image\\\\29.png', 'd:\\\\image\\\\30.png', 'd:\\\\image\\\\31.png', 'd:\\\\image\\\\32.png', 'd:\\\\image\\\\33.png', 'd:\\\\image\\\\34.png', 'd:\\\\image\\\\35.png', 'd:\\\\image\\\\36.png', 'd:\\\\image\\\\37.png', 'd:\\\\image\\\\38.png', 'd:\\\\image\\\\39.png', 'd:\\\\image\\\\40.png', 'd:\\\\image\\\\41.png', 'd:\\\\image\\\\42.png', 'd:\\\\image\\\\43.png', 'd:\\\\image\\\\44.png', 'd:\\\\image\\\\45.png', 'd:\\\\image\\\\46.png', 'd:\\\\image\\\\47.png', 'd:\\\\image\\\\48.png', 'd:\\\\image\\\\49.png', 'd:\\\\image\\\\50.png', 'd:\\\\image\\\\51.png', 'd:\\\\image\\\\52.png', 'd:\\\\image\\\\53.png', 'd:\\\\image\\\\54.png', 'd:\\\\image\\\\55.png', 'd:\\\\image\\\\56.png', 'd:\\\\image\\\\57.png', 'd:\\\\image\\\\58.png', 'd:\\\\image\\\\59.png', 'd:\\\\image\\\\60.png', 'd:\\\\image\\\\61.png', 'd:\\\\image\\\\62.png', 'd:\\\\image\\\\63.png', 'd:\\\\image\\\\64.png', 'd:\\\\image\\\\65.png', 'd:\\\\image\\\\66.png', 'd:\\\\image\\\\67.png', 'd:\\\\image\\\\68.png', 'd:\\\\image\\\\69.png', 'd:\\\\image\\\\70.png', 'd:\\\\image\\\\71.png', 'd:\\\\image\\\\72.png', 'd:\\\\image\\\\73.png', 'd:\\\\image\\\\74.png', 'd:\\\\image\\\\75.png', 'd:\\\\image\\\\76.png', 'd:\\\\image\\\\77.png', 'd:\\\\image\\\\78.png', 'd:\\\\image\\\\79.png', 'd:\\\\image\\\\80.png', 'd:\\\\image\\\\81.png', 'd:\\\\image\\\\82.png', 'd:\\\\image\\\\83.png', 'd:\\\\image\\\\84.png', 'd:\\\\image\\\\85.png', 'd:\\\\image\\\\86.png', 'd:\\\\image\\\\87.png', 'd:\\\\image\\\\88.png', 'd:\\\\image\\\\89.png', 'd:\\\\image\\\\90.png', 'd:\\\\image\\\\91.png', 'd:\\\\image\\\\92.png', 'd:\\\\image\\\\93.png', 'd:\\\\image\\\\94.png', 'd:\\\\image\\\\95.png', 'd:\\\\image\\\\96.png', 'd:\\\\image\\\\97.png', 'd:\\\\image\\\\98.png', 'd:\\\\image\\\\99.png', 'd:\\\\image\\\\100.png']\n"
     ]
    }
   ],
   "source": [
    "import os\n",
    "import re\n",
    "\n",
    "test_image = \"d:\\\\image\"\n",
    "\n",
    "def image_load(path):\n",
    "    file_list = os.listdir(path)\n",
    "    file_name = []\n",
    "    \n",
    "    for i in file_list:\n",
    "        a = int(re.sub('[^0-9]','',i)) # 숫자가 아닌것 '[^0-9]' 은 다  ''(null)으로 처리!\n",
    "        file_name.append(a)\n",
    "        file_name.sort()\n",
    "        \n",
    "    file_res = []\n",
    "    \n",
    "    for j in file_name:\n",
    "        file_res.append('%s\\\\%d.png' %(path,j))\n",
    "        \n",
    "    return file_res\n",
    "\n",
    "print(image_load(test_image))"
   ]
  },
  {
   "cell_type": "markdown",
   "metadata": {},
   "source": [
    "## 마지막 문제 : 두 개 중에 하나를 하세요~\n",
    "\n",
    "    1. 음악 shuffle 문제\n",
    "    2. 초등학생 십만명들의 데이터중 100명을 표본추출하여 그 100명 중에서 평균키가 157~158 사이에 있을 확률을 구하시오!\n",
    "    (100명씩 1000번 표본추출하시오!)"
   ]
  },
  {
   "cell_type": "markdown",
   "metadata": {},
   "source": [
    "## 마지막문제2(초등학생문제)"
   ]
  },
  {
   "cell_type": "code",
   "execution_count": 296,
   "metadata": {},
   "outputs": [
    {
     "name": "stdout",
     "output_type": "stream",
     "text": [
      "0.025360000000000018\n"
     ]
    }
   ],
   "source": [
    "import numpy as np\n",
    "import random\n",
    "\n",
    "height = list(np.random.randn(100000) * 5 + 150)\n",
    "\n",
    "a = 0\n",
    "\n",
    "for i in range(1000):  \n",
    "    cnt = 0\n",
    "    x = random.sample(height,100)\n",
    "    for j in x:\n",
    "        if j >= 157 and j <= 158:\n",
    "            cnt += 1\n",
    "            \n",
    "    b = cnt/100\n",
    "\n",
    "    a += b\n",
    "\n",
    "print(a/1000)"
   ]
  },
  {
   "cell_type": "code",
   "execution_count": 298,
   "metadata": {},
   "outputs": [
    {
     "name": "stdout",
     "output_type": "stream",
     "text": [
      "0.0\n"
     ]
    }
   ],
   "source": [
    "import matplotlib.pyplot as plt\n",
    "import numpy as np\n",
    "\n",
    "\n",
    "height = np.random.randn(100000)*5 + 150\n",
    "\n",
    "size = 100\n",
    "count = 0\n",
    "\n",
    "for i in range(size):\n",
    "    height_sampled = np.random.choice(height,100, replace = False)\n",
    "   \n",
    "    \n",
    "    if np.average(height_sampled) >= 157 and np.average(height_sampled) <= 158:\n",
    "        count += 1       \n",
    "       \n",
    "print(count/size)"
   ]
  }
 ],
 "metadata": {
  "kernelspec": {
   "display_name": "Python 3",
   "language": "python",
   "name": "python3"
  },
  "language_info": {
   "codemirror_mode": {
    "name": "ipython",
    "version": 3
   },
   "file_extension": ".py",
   "mimetype": "text/x-python",
   "name": "python",
   "nbconvert_exporter": "python",
   "pygments_lexer": "ipython3",
   "version": "3.7.4"
  }
 },
 "nbformat": 4,
 "nbformat_minor": 2
}
