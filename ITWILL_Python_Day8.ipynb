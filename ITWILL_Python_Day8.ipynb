{
 "cells": [
  {
   "cell_type": "markdown",
   "metadata": {},
   "source": [
    "## 점심시간 문제 \n",
    "\n",
    "\n",
    "### 문제1. 분산과 표준편차를 코드로 구현하세요 ~\n",
    "\n",
    "\n",
    "\n",
    "### 우리반 나이 데이터의 분산값과 표준편차를 파이썬 코드로 출력하세요 ! 아래의 리스트를 사용하세요!\n",
    "\n",
    "\n",
    "\n",
    "### [32,30,26,25,34,25,27,31,27,28,32,30,29,27,34,26,31,27,25,27,27,25,32,26,31,24,25,29,40]\n",
    "\n",
    "\n",
    "\n",
    "### numpy의 var 과 std 를 사용하지 말고 구현하세요 ~  "
   ]
  },
  {
   "cell_type": "code",
   "execution_count": 17,
   "metadata": {},
   "outputs": [
    {
     "name": "stdout",
     "output_type": "stream",
     "text": [
      "    AGE\n",
      "0    32\n",
      "1    30\n",
      "2    26\n",
      "3    25\n",
      "4    34\n",
      "5    25\n",
      "6    27\n",
      "7    31\n",
      "8    27\n",
      "9    28\n",
      "10   32\n",
      "11   30\n",
      "12   29\n",
      "13   27\n",
      "14   34\n",
      "15   26\n",
      "16   31\n",
      "17   27\n",
      "18   25\n",
      "19   27\n",
      "20   27\n",
      "21   25\n",
      "22   32\n",
      "23   26\n",
      "24   31\n",
      "25   24\n",
      "26   25\n",
      "27   29\n",
      "28   40\n",
      "[24, 25, 25, 25, 25, 25, 26, 26, 26, 27, 27, 27, 27, 27, 27, 28, 29, 29, 30, 30, 31, 31, 31, 32, 32, 32, 34, 34, 40]\n",
      "28.689655172413794\n",
      "366.2068965517242\n",
      "12.627824019024972\n",
      "3.5535649732381387\n"
     ]
    }
   ],
   "source": [
    "import  cx_Oracle  # 오라클과 파이썬을 연동하기 위한 모듈\n",
    "\n",
    "import  pandas  as  pd\n",
    "\n",
    "dsn = cx_Oracle.makedsn(\"localhost\", 1521, \"orcl\")\n",
    "\n",
    "db = cx_Oracle.connect(\"scott\", \"tiger\", dsn)\n",
    "\n",
    "cursor = db.cursor()\n",
    "\n",
    "cursor.execute(\"select * from emp10\")\n",
    "\n",
    "row = cursor.fetchall()\n",
    "\n",
    "colname = cursor.description\n",
    "\n",
    "cursor.close()\n",
    "\n",
    "\n",
    "\n",
    "col=[]\n",
    "\n",
    "for i in colname:\n",
    "\n",
    "    col.append(i[0])\n",
    "\n",
    "emp = pd.DataFrame(row, columns=col)\n",
    "\n",
    "print(emp[['AGE']])\n",
    "\n",
    "a = []\n",
    "\n",
    "for k in emp['AGE']:\n",
    "    a.append(k)\n",
    "    a.sort()\n",
    "    \n",
    "print(a)\n",
    "b=0\n",
    "\n",
    "for i in a:\n",
    "    b += i\n",
    "    y = b / len(a)\n",
    "\n",
    "print(y) # 리스트값들의 평균\n",
    "\n",
    "c=0\n",
    "s=0\n",
    "var = 0\n",
    "for i in a:\n",
    "    c += ((i-y)**2)\n",
    "\n",
    "var = c/len(a)\n",
    "std = var**0.5\n",
    "\n",
    "print(c) # 편차의 제곱의 합\n",
    "print(var) # 편차의 제곱의 합의 평균 = 분산\n",
    "print(std) # 표준편차"
   ]
  },
  {
   "cell_type": "markdown",
   "metadata": {},
   "source": [
    "## 분산과 표준편차가 필요한 이유?\n",
    "\n",
    "### 1. 데이터 분석가 : 기본적으로 알아야 하는 개념\n",
    "\n",
    "### 2. 딥러닝 개발자 : 신경망안에 학습이 잘되게 조정하는 기법 \n",
    "\n",
    "#### 배치정규화의 수학식을 이해하려면 알아야한다."
   ]
  },
  {
   "cell_type": "markdown",
   "metadata": {},
   "source": [
    "## 분산 \n",
    " 데이터의 퍼짐 정도를 나타내는 수치\n",
    " \n",
    "## 표준편차  \n",
    " 분산값에 루트를 씌운값( 실제값과 평균값과의 편차)"
   ]
  },
  {
   "cell_type": "markdown",
   "metadata": {},
   "source": [
    "## 예제58. 예외처리 이해하기 4 (try ~ except Excepton as e)\n",
    "\n",
    "코드에서 예외가 발생하면 이에 대한 자세한 내용을 파악하는 것이 중요합니다.\n",
    "파이썬은 발생 가능한 예외에 대해 exception 객체로 미리 정의해두고 있는데\n",
    "이에 대한 내용은 다음 링크에서 확인할 수 있습니다.\n",
    "\n",
    "### 예외처리 URL 확인해보기 : http:docs.python.org/3/library/exceptions.html"
   ]
  },
  {
   "cell_type": "code",
   "execution_count": null,
   "metadata": {},
   "outputs": [],
   "source": [
    "def my_divide():\n",
    "    try:\n",
    "        x = input('분자의 숫자를 입력하세요~')\n",
    "        y = input('분모의 숫자를 입력하세요~')\n",
    "\n",
    "        return int(x)/int(y)\n",
    "\n",
    "    except ZeroDivisionError: # 파이썬에서 미리 정해놓은 에러 (0으로 나누었을때의 예외상황) #대소문자 주의\n",
    "        return ('0으로 나눌 수 없습니다.')\n",
    "\n",
    "    except KeyboardInterrupt: \n",
    "        return ('사용자에 의해서 프로그램이 종료됩니다.')\n",
    "\n",
    "    except:\n",
    "        return('나누기를 할 수 없습니다.')\n",
    "\n",
    "print(my_divide())"
   ]
  },
  {
   "cell_type": "markdown",
   "metadata": {},
   "source": [
    "## 예외로 코드상의 오류를 확인하는 방법"
   ]
  },
  {
   "cell_type": "code",
   "execution_count": null,
   "metadata": {},
   "outputs": [],
   "source": [
    "try:\n",
    "    print(param) # param을 정의하지 않아서 실행이 안되는 코드.\n",
    "\n",
    "except Exception as e: # 실행이 안되는 이유를 e를 통해서 알려줌!\n",
    "    print(e)\n",
    "\n",
    "# name 'param' is not defined"
   ]
  },
  {
   "cell_type": "markdown",
   "metadata": {},
   "source": [
    "## 예제59. 사용자 정의 예외처리\n",
    "\n",
    "파이썬 입장에서 봤을 때는 오류가 아닌데 프로그래머가 '이건 오류이다.'  라고 일부러 프로그램이  \n",
    "안돌게 오류 메세지를 출력하는 경우에 사용한다.\n",
    "\n",
    "__예제__ : 금융권 프로그램에서 금액이 안맞는 프로그램이 있다면 사고로 이어지게 되므로 금액이 안맞으면  \n",
    "프로그램을 종료해라고 예외처리를 할 수 있다. \n"
   ]
  },
  {
   "cell_type": "code",
   "execution_count": null,
   "metadata": {},
   "outputs": [],
   "source": [
    "#예제:\n",
    "\n",
    "\n",
    "def 함수명:  \n",
    "    실행코드  \n",
    "    if 어떤 조건:  \n",
    "        raise Exception(\"예외가 발생 했습니다.\")  \n",
    "    else:    \n",
    "        return 변수명  "
   ]
  },
  {
   "cell_type": "markdown",
   "metadata": {},
   "source": [
    "## 문제117. 이름을 물어보게 하고 이름을 입력하면 해당 사원의 월급이 출력되는 파이썬 코드를  \n",
    "## 작성하시오!(판다스 사용)\n",
    "\n",
    "print( find_sal())\n",
    "\n",
    "사원이름을 입력하세요 ~ king\n",
    "5000\n"
   ]
  },
  {
   "cell_type": "code",
   "execution_count": 4,
   "metadata": {},
   "outputs": [
    {
     "name": "stdout",
     "output_type": "stream",
     "text": [
      "사원 이름을 입력하세요~SCOTT\n",
      "3000\n"
     ]
    }
   ],
   "source": [
    "#답 \n",
    "def find_sal():\n",
    "    import pandas as pd\n",
    "    emp = pd.read_csv(\"d:\\\\data\\emp3.csv\")\n",
    "    name = input('사원 이름을 입력하세요~')\n",
    "    sal = emp['sal'][emp['ename'] == name.upper()].values[0] #values[0]\n",
    "    return sal\n",
    "\n",
    "print(find_sal())"
   ]
  },
  {
   "cell_type": "markdown",
   "metadata": {},
   "source": [
    "## 문제118. 위의 코드에 사용자 정의 예외처리를 이용해서 월급이 고소득자는 해당 사원의  \n",
    "## 월급을 볼 수 없습니다. 라는 메세지가 출력되게 하시오!"
   ]
  },
  {
   "cell_type": "code",
   "execution_count": 7,
   "metadata": {
    "scrolled": true
   },
   "outputs": [
    {
     "name": "stdout",
     "output_type": "stream",
     "text": [
      "사원 이름을 입력하세요~SCOTT\n"
     ]
    },
    {
     "ename": "Exception",
     "evalue": "월급을 볼 수 없습니다.",
     "output_type": "error",
     "traceback": [
      "\u001b[1;31m---------------------------------------------------------------------------\u001b[0m",
      "\u001b[1;31mException\u001b[0m                                 Traceback (most recent call last)",
      "\u001b[1;32m<ipython-input-7-257d04e03680>\u001b[0m in \u001b[0;36m<module>\u001b[1;34m\u001b[0m\n\u001b[0;32m     10\u001b[0m         \u001b[1;32mreturn\u001b[0m \u001b[0msal\u001b[0m\u001b[1;33m\u001b[0m\u001b[1;33m\u001b[0m\u001b[0m\n\u001b[0;32m     11\u001b[0m \u001b[1;33m\u001b[0m\u001b[0m\n\u001b[1;32m---> 12\u001b[1;33m \u001b[0mprint\u001b[0m\u001b[1;33m(\u001b[0m\u001b[0mfind_sal\u001b[0m\u001b[1;33m(\u001b[0m\u001b[1;33m)\u001b[0m\u001b[1;33m)\u001b[0m\u001b[1;33m\u001b[0m\u001b[1;33m\u001b[0m\u001b[0m\n\u001b[0m",
      "\u001b[1;32m<ipython-input-7-257d04e03680>\u001b[0m in \u001b[0;36mfind_sal\u001b[1;34m()\u001b[0m\n\u001b[0;32m      6\u001b[0m \u001b[1;33m\u001b[0m\u001b[0m\n\u001b[0;32m      7\u001b[0m     \u001b[1;32mif\u001b[0m \u001b[0msal\u001b[0m \u001b[1;33m>=\u001b[0m \u001b[1;36m3000\u001b[0m\u001b[1;33m:\u001b[0m\u001b[1;33m\u001b[0m\u001b[1;33m\u001b[0m\u001b[0m\n\u001b[1;32m----> 8\u001b[1;33m         \u001b[1;32mraise\u001b[0m \u001b[0mException\u001b[0m\u001b[1;33m(\u001b[0m\u001b[1;34m\"월급을 볼 수 없습니다.\"\u001b[0m\u001b[1;33m)\u001b[0m\u001b[1;33m\u001b[0m\u001b[1;33m\u001b[0m\u001b[0m\n\u001b[0m\u001b[0;32m      9\u001b[0m     \u001b[1;32melse\u001b[0m\u001b[1;33m:\u001b[0m\u001b[1;33m\u001b[0m\u001b[1;33m\u001b[0m\u001b[0m\n\u001b[0;32m     10\u001b[0m         \u001b[1;32mreturn\u001b[0m \u001b[0msal\u001b[0m\u001b[1;33m\u001b[0m\u001b[1;33m\u001b[0m\u001b[0m\n",
      "\u001b[1;31mException\u001b[0m: 월급을 볼 수 없습니다."
     ]
    }
   ],
   "source": [
    "def find_sal():\n",
    "    import pandas as pd\n",
    "    emp = pd.read_csv(\"d:\\\\data\\emp3.csv\")\n",
    "    name = input('사원 이름을 입력하세요~')\n",
    "    sal = emp[['sal']][emp['ename'] == name.upper()].values[0]\n",
    "    \n",
    "    if sal >= 3000:\n",
    "        raise Exception(\"월급을 볼 수 없습니다.\")\n",
    "    else:\n",
    "        return sal\n",
    "\n",
    "print(find_sal())"
   ]
  },
  {
   "cell_type": "markdown",
   "metadata": {},
   "source": [
    "## 예제60. 사용자(값) 입력 받기(input)\n",
    "\n",
    "파이썬 내장 함수 input은 사용자가 키보드로 입력한 값을 __문자열__로 리턴합니다.\n",
    "input()의 인자는 사용자 입력을 돕기 위한 안내 문구나 힌트 등을 표시하는 문자열이 됩니다.\n"
   ]
  },
  {
   "cell_type": "code",
   "execution_count": null,
   "metadata": {},
   "outputs": [],
   "source": [
    "k = input('<값> 을 입력하세요 ~')\n",
    "print('당신이 입력한 값은 < '+ k + '> 입니다.')"
   ]
  },
  {
   "cell_type": "markdown",
   "metadata": {},
   "source": [
    "## ★★ 문제119★★. 위의 코드를 다시 실행하는데 아무것도 입력하지 않으면 입력할때까지 계속 물어보게 하시오~\n"
   ]
  },
  {
   "cell_type": "code",
   "execution_count": null,
   "metadata": {},
   "outputs": [],
   "source": [
    "k = input('<값> 을 입력하세요 ~')\n",
    "while k == '':                       # while문을 계속 물어보게 시키자!\n",
    "    k = input('<값> 을 입력하세요 ~')\n",
    "print('당신이 입력한 값은 < '+ k + '> 입니다.')"
   ]
  },
  {
   "cell_type": "markdown",
   "metadata": {},
   "source": [
    "## 문제120. 이름을 물어보게하고 이름을 입력하면 월급이 출력되어지는 find_sal()함수를 수정해서  \n",
    "## 이름을 입력하지 않으면 계속 물어보게 하시오!.\n",
    "\n",
    "print(find_sal())  \n",
    "이름을 입력하세요~  \n",
    "이름을 입력하세요~  \n",
    "이름을 입력하세요~  \n",
    "이름을 입력하세요~  \n"
   ]
  },
  {
   "cell_type": "code",
   "execution_count": null,
   "metadata": {},
   "outputs": [],
   "source": [
    "def find_sal():\n",
    "    import pandas as pd\n",
    "    emp = pd.read_csv(\"d:\\\\data\\emp3.csv\")\n",
    "    name = input('사원 이름을 입력하세요~')\n",
    "    while name == '':\n",
    "        name = input('사원 이름을 입력하세요~')\n",
    "    \n",
    "    sal = emp[['sal']][emp['ename'] == name.upper()].values[0]\n",
    "    \n",
    "\n",
    "    if sal >= 3000:\n",
    "        raise Exception(\"월급을 볼 수 없습니다.\")\n",
    "    else:\n",
    "        return sal\n",
    "\n",
    "print(find_sal())"
   ]
  },
  {
   "cell_type": "markdown",
   "metadata": {},
   "source": [
    "## 문제121. 위의 코드를 수정해서 없는 사원이름을 입력하면  \n",
    "## \"해당 사원은 없습니다.\" 라는 메세지가 출력되게 하시오.\n",
    "\n"
   ]
  },
  {
   "cell_type": "code",
   "execution_count": 7,
   "metadata": {},
   "outputs": [
    {
     "name": "stdout",
     "output_type": "stream",
     "text": [
      "사원 이름을 입력하세요~wkler\n",
      "해당 사원은 없습니다.\n"
     ]
    }
   ],
   "source": [
    "def find_sal():\n",
    "    try : \n",
    "        import pandas as pd\n",
    "        emp = pd.read_csv(\"d:\\\\data\\emp3.csv\")\n",
    "        name = input('사원 이름을 입력하세요~')\n",
    "\n",
    "        while name == '':\n",
    "            name = input('사원 이름을 입력하세요~')\n",
    "\n",
    "        sal = emp[['sal']][emp['ename'] == name.upper()].values[0]\n",
    "\n",
    "\n",
    "\n",
    "        if sal >= 3000:\n",
    "            raise Exception(\"월급을 볼 수 없습니다.\")\n",
    "        else:\n",
    "            return sal\n",
    "    except LookupError:\n",
    "        return ('해당 사원은 없습니다.')\n",
    "\n",
    "print(find_sal())"
   ]
  },
  {
   "cell_type": "markdown",
   "metadata": {},
   "source": [
    "## 예제61. 자료형 확인하기(type)\n",
    "\n",
    "파이썬의 자료형은 하나의 클래스이다. 파이썬은 숫자나 문자, 문자열, 리스트, 튜플, 사전, 함수 등을 각각의 하나의 클래스로 취급한다.  \n",
    "코드를 작성하다가 변수 이름만 보고 이 자료가 어떤 자료형인지 확인해야하는 경우가 있다.  \n",
    "이때 파이썬 내장함수인 type()을 활용하면 자료형을 쉽게 확인할 수 있다.  \n"
   ]
  },
  {
   "cell_type": "code",
   "execution_count": 8,
   "metadata": {},
   "outputs": [
    {
     "name": "stdout",
     "output_type": "stream",
     "text": [
      "<class 'int'>\n",
      "<class 'str'>\n",
      "<class 'list'>\n"
     ]
    }
   ],
   "source": [
    "numdata = 57\n",
    "print(type(numdata)) # <class 'int'>\n",
    "strdata = '파이썬'\n",
    "print(type(strdata)) # <class 'str'>\n",
    "listdata = [1,2,3]\n",
    "print(type(listdata)) # <class 'list'>"
   ]
  },
  {
   "cell_type": "markdown",
   "metadata": {},
   "source": [
    "## 문제122. 딕셔너리 자료형을 만들고 위와 같이 type을 확인하시오!"
   ]
  },
  {
   "cell_type": "code",
   "execution_count": 10,
   "metadata": {},
   "outputs": [
    {
     "name": "stdout",
     "output_type": "stream",
     "text": [
      "<class 'dict'>\n"
     ]
    }
   ],
   "source": [
    "dicdata = {'a':1, 'b':2}\n",
    "print(type(dicdata)) # <class 'dict'>"
   ]
  },
  {
   "cell_type": "markdown",
   "metadata": {},
   "source": [
    "## 예제62. 나눗셈에서 나머지만 구하기(%)\n",
    "\n",
    "나누기 연산에서 나머지만 구하는 연산을 모듈로(modulo)연산이라 하며 기호는 mod로 표시합니다."
   ]
  },
  {
   "cell_type": "code",
   "execution_count": 11,
   "metadata": {},
   "outputs": [
    {
     "name": "stdout",
     "output_type": "stream",
     "text": [
      "0\n",
      "2\n"
     ]
    }
   ],
   "source": [
    "print(12%3)\n",
    "print(12%5)"
   ]
  },
  {
   "cell_type": "markdown",
   "metadata": {},
   "source": [
    "## 문제123. 아래와 같이 두개의 숫자를 각각 물어보게 하고 아래의 메세지가 출력되게 하시오!"
   ]
  },
  {
   "cell_type": "code",
   "execution_count": null,
   "metadata": {},
   "outputs": [],
   "source": [
    "x = int(input('첫번째 숫자를 입력하세요~!'))\n",
    "y = int(input('두번째 숫자를 입력하세요~!'))\n",
    "c = x%y\n",
    "print('%d을 %d 으로 나누면 %d 가 나머지로 남습니다.' , %(x,y,c))"
   ]
  },
  {
   "cell_type": "markdown",
   "metadata": {},
   "source": [
    "## 예제63. 몫과 나머지 구하기(divmod)"
   ]
  },
  {
   "cell_type": "code",
   "execution_count": null,
   "metadata": {},
   "outputs": [],
   "source": [
    "a = 1123\n",
    "b = 23\n",
    "\n",
    "ret1, ret2 = divmod(a,b) # ret1은 몫, ret2 는 나머지\n",
    "\n",
    "print(ret1,ret2)"
   ]
  },
  {
   "cell_type": "markdown",
   "metadata": {},
   "source": [
    "## 예제64. Pandas를 이용한 데이터 검색\n",
    "\n",
    "### SQL -> Pandas  \n",
    "\n",
    "\n",
    "### Pandas --> SQL\n",
    "\n",
    "\n",
    "예제 : emp[['ename','sal']] [emp['ename'] == 'SCOTT'] 검색하려고 하는 열이 2개이상일때  \n",
    "예제 : emp['ename'] [emp['ename']== 'SCOTT'] 검색하려고 하는 열이 1개일때"
   ]
  },
  {
   "cell_type": "code",
   "execution_count": 21,
   "metadata": {},
   "outputs": [
    {
     "name": "stdout",
     "output_type": "stream",
     "text": [
      "    ename   sal\n",
      "0    KING  5000\n",
      "9    FORD  3000\n",
      "11  SCOTT  3000\n"
     ]
    }
   ],
   "source": [
    "import pandas as pd\n",
    "emp = pd.read_csv(\"d:\\\\data\\emp3.csv\")\n",
    "print(emp[['ename','sal']] [emp['sal'] >= 3000])"
   ]
  },
  {
   "cell_type": "markdown",
   "metadata": {},
   "source": [
    "## 문제124. 아래의 SQL을 Pandas로 구현하시오!\n",
    "\n",
    "SQL> \n",
    "\n",
    "select ename, sal  \n",
    "    from emp  \n",
    "    where sal between 1000 and 3000;   "
   ]
  },
  {
   "cell_type": "code",
   "execution_count": null,
   "metadata": {},
   "outputs": [],
   "source": [
    "import pandas as pd\n",
    "emp = pd.read_csv(\"d:\\\\data\\emp3.csv\")\n",
    "print(emp[['ename','sal']] [emp['sal'].between(1000,3000)])"
   ]
  },
  {
   "cell_type": "markdown",
   "metadata": {},
   "source": [
    "## 문제125. 아래의 SQL을 Pandas로 구현하시오!\n",
    "\n",
    "SQL>\n",
    "\n",
    "select ename, sal  \n",
    "    from emp  \n",
    "    where sal not between 1000 and 3000;"
   ]
  },
  {
   "cell_type": "code",
   "execution_count": 23,
   "metadata": {},
   "outputs": [
    {
     "name": "stdout",
     "output_type": "stream",
     "text": [
      "    ename   sal\n",
      "0    KING  5000\n",
      "7   JAMES   950\n",
      "10  SMITH   800\n"
     ]
    }
   ],
   "source": [
    "import pandas as pd\n",
    "emp = pd.read_csv(\"d:\\\\data\\emp3.csv\")\n",
    "print(emp[['ename','sal']] [~emp['sal'].between(1000,3000)])"
   ]
  },
  {
   "cell_type": "markdown",
   "metadata": {},
   "source": [
    "## 문제126. 아래의 SQL을 Pandas로 구현하시오!\n",
    "\n",
    "SQL>\n",
    "\n",
    "select ename, job  \n",
    "  from emp  \n",
    "  where job in('SALESMAN', 'ANALYST');\n",
    "  "
   ]
  },
  {
   "cell_type": "code",
   "execution_count": null,
   "metadata": {},
   "outputs": [],
   "source": [
    "import pandas as pd\n",
    "emp = pd.read_csv(\"d:\\\\data\\emp3.csv\")\n",
    "print(emp[['ename','job']] [emp['job'].isin(['SALESMAN','ANALYST'])]) #isin 안에 조건도 리스트형으로 나타내 주어야 한다."
   ]
  },
  {
   "cell_type": "markdown",
   "metadata": {},
   "source": [
    "## 예제65. Pandas를 이용한 조인\n",
    "\n",
    "SQL>  \n",
    "select e.ename, d.loc  \n",
    "    from emp e, dept d  \n",
    "    where e.deptno = d.deptno;  "
   ]
  },
  {
   "cell_type": "code",
   "execution_count": 30,
   "metadata": {},
   "outputs": [
    {
     "name": "stdout",
     "output_type": "stream",
     "text": [
      "     ename       loc\n",
      "0     KING  NEW YORK\n",
      "1    CLARK  NEW YORK\n",
      "2   MILLER  NEW YORK\n",
      "3    BLAKE   CHICAGO\n",
      "4   MARTIN   CHICAGO\n",
      "5    ALLEN   CHICAGO\n",
      "6   TURNER   CHICAGO\n",
      "7    JAMES   CHICAGO\n",
      "8     WARD   CHICAGO\n",
      "9    JONES    DALLAS\n",
      "10    FORD    DALLAS\n",
      "11   SMITH    DALLAS\n",
      "12   SCOTT    DALLAS\n",
      "13   ADAMS    DALLAS\n"
     ]
    }
   ],
   "source": [
    "import pandas as pd\n",
    "emp = pd.read_csv(\"d:\\\\data\\emp3.csv\")\n",
    "dept = pd.read_csv(\"d:\\\\data\\dept.csv\")\n",
    "result = pd.merge(emp, dept, on = \"deptno\") #조인은 merge로 한다 on=\"deptno\"는 조인조건\n",
    "print (result[['ename','loc']])"
   ]
  },
  {
   "cell_type": "markdown",
   "metadata": {},
   "source": [
    "## 문제127. 아래의 SQL을 Pandas로 구현하시오!\n",
    "\n",
    "SQL>\n",
    "\n",
    "SELEct e.ename, d.loc   \n",
    "  from emp e, dept d  \n",
    "  where e.deptno = d.deptno and d.loc = 'DALLAS';  "
   ]
  },
  {
   "cell_type": "code",
   "execution_count": 33,
   "metadata": {},
   "outputs": [
    {
     "name": "stdout",
     "output_type": "stream",
     "text": [
      "    ename     loc\n",
      "9   JONES  DALLAS\n",
      "10   FORD  DALLAS\n",
      "11  SMITH  DALLAS\n",
      "12  SCOTT  DALLAS\n",
      "13  ADAMS  DALLAS\n"
     ]
    }
   ],
   "source": [
    "import pandas as pd\n",
    "emp = pd.read_csv(\"d:\\\\data\\emp3.csv\")\n",
    "dept = pd.read_csv(\"d:\\\\data\\dept.csv\")\n",
    "result = pd.merge(emp, dept, on = \"deptno\") #조인은 merge로 한다 on=\"deptno\"는 조인조건\n",
    "print (result[['ename','loc']][result['loc'] == 'DALLAS'])"
   ]
  },
  {
   "cell_type": "markdown",
   "metadata": {},
   "source": [
    "## 문제128. 아래의 SQL을 Pandas로 구현하시오!\n",
    "\n",
    "SQL>\n",
    "\n",
    "Select e.ename, d.loc  \n",
    "    from emp e, dept d  \n",
    "    where e.deptno = d.deptno(+);"
   ]
  },
  {
   "cell_type": "code",
   "execution_count": 39,
   "metadata": {},
   "outputs": [
    {
     "name": "stdout",
     "output_type": "stream",
     "text": [
      "     ename       loc\n",
      "0     KING  NEW YORK\n",
      "1    BLAKE   CHICAGO\n",
      "2    CLARK  NEW YORK\n",
      "3    JONES    DALLAS\n",
      "4   MARTIN   CHICAGO\n",
      "5    ALLEN   CHICAGO\n",
      "6   TURNER   CHICAGO\n",
      "7    JAMES   CHICAGO\n",
      "8     WARD   CHICAGO\n",
      "9     FORD    DALLAS\n",
      "10   SMITH    DALLAS\n",
      "11   SCOTT    DALLAS\n",
      "12   ADAMS    DALLAS\n",
      "13  MILLER  NEW YORK\n"
     ]
    }
   ],
   "source": [
    "import pandas as pd\n",
    "emp = pd.read_csv(\"d:\\\\data\\emp3.csv\")\n",
    "dept = pd.read_csv(\"d:\\\\data\\dept.csv\")\n",
    "result = pd.merge(emp, dept, on = \"deptno\", how ='left') # outer join 은 how = 'left' or 'right'로 표현한다.\n",
    "print (result[['ename','loc']])"
   ]
  },
  {
   "cell_type": "markdown",
   "metadata": {},
   "source": [
    "## 문제129. 아래의 SQL을 Pandas로 구현하시오!\n",
    "\n",
    "SQL>\n",
    "\n",
    "select e.ename, d.loc  \n",
    "    from emp e full outer join dept d  \n",
    "    on (e.deptno = d.deptno);  "
   ]
  },
  {
   "cell_type": "code",
   "execution_count": 38,
   "metadata": {},
   "outputs": [
    {
     "name": "stdout",
     "output_type": "stream",
     "text": [
      "     ename       loc\n",
      "0     KING  NEW YORK\n",
      "1    CLARK  NEW YORK\n",
      "2   MILLER  NEW YORK\n",
      "3    BLAKE   CHICAGO\n",
      "4   MARTIN   CHICAGO\n",
      "5    ALLEN   CHICAGO\n",
      "6   TURNER   CHICAGO\n",
      "7    JAMES   CHICAGO\n",
      "8     WARD   CHICAGO\n",
      "9    JONES    DALLAS\n",
      "10    FORD    DALLAS\n",
      "11   SMITH    DALLAS\n",
      "12   SCOTT    DALLAS\n",
      "13   ADAMS    DALLAS\n",
      "14     NaN    BOSTON\n"
     ]
    }
   ],
   "source": [
    "import pandas as pd\n",
    "emp = pd.read_csv(\"d:\\\\data\\emp3.csv\")\n",
    "dept = pd.read_csv(\"d:\\\\data\\dept.csv\")\n",
    "result = pd.merge(emp, dept, on = \"deptno\", how ='outer') # full outer join 은 how = 'outer'로 바꾸어 주면된다.\n",
    "print (result[['ename','loc']])"
   ]
  },
  {
   "cell_type": "markdown",
   "metadata": {},
   "source": [
    "## 예제66. Pandas를 이용한 서브쿼리\n",
    "\n",
    "\n",
    "## 문제130. 아래의 SQL을 Pandas로 구현하시오!\n",
    "\n",
    "SQL>  \n",
    "seelct ename, sal    \n",
    "    from emp    \n",
    "    where sal = (select max(sal)   \n",
    "                    from emp);  "
   ]
  },
  {
   "cell_type": "code",
   "execution_count": 40,
   "metadata": {},
   "outputs": [
    {
     "name": "stdout",
     "output_type": "stream",
     "text": [
      "  ename   sal\n",
      "0  KING  5000\n"
     ]
    }
   ],
   "source": [
    "import pandas as pd\n",
    "emp = pd.read_csv(\"d:\\\\data\\emp3.csv\")\n",
    "maxsal = emp['sal'].max()\n",
    "result = emp[['ename','sal']] [emp['sal'] == maxsal ]\n",
    "print(result)"
   ]
  },
  {
   "cell_type": "markdown",
   "metadata": {},
   "source": [
    "## 문제131. 아래의 SQL을 Pandas로 구현하시오!\n",
    "\n",
    "SQL>  \n",
    "Select ename, sal  \n",
    "from emp  \n",
    "where sal > (select sal   \n",
    "                from emp  \n",
    "                where ename ='JONES');"
   ]
  },
  {
   "cell_type": "code",
   "execution_count": 55,
   "metadata": {},
   "outputs": [
    {
     "name": "stdout",
     "output_type": "stream",
     "text": [
      "     sal  ename\n",
      "0   5000   KING\n",
      "9   3000   FORD\n",
      "11  3000  SCOTT\n"
     ]
    }
   ],
   "source": [
    "import pandas as pd\n",
    "emp = pd.read_csv(\"d:\\\\data\\emp3.csv\")\n",
    "j_sal = int(emp['sal'][emp['ename'] == 'JONES']) # int로 자료형 바꾸어주기\n",
    "result = emp[['sal', 'ename']][emp['sal'] > j_sal]\n",
    "\n",
    "print(result)"
   ]
  },
  {
   "cell_type": "markdown",
   "metadata": {},
   "source": [
    "## 예제67. Pandas와 오라클 그룹함수 비교\n",
    "\n",
    "SQL>\n",
    "\n",
    "Select max(sal)  \n",
    "    from emp;  \n",
    " "
   ]
  },
  {
   "cell_type": "code",
   "execution_count": null,
   "metadata": {},
   "outputs": [],
   "source": [
    "import pandas as pd\n",
    "emp = pd.read_csv(\"d:\\\\data\\emp3.csv\")\n",
    "\n",
    "print(emp['sal'].max())\n",
    "print(emp['sal'].min())\n",
    "print(emp['sal'].sum())\n",
    "print(emp['sal'].var()) #분산\n",
    "print(emp['sal'].std()) #표준편차"
   ]
  },
  {
   "cell_type": "markdown",
   "metadata": {},
   "source": [
    "## 문제132. 아래의 SQL을 Pandas로 구현하시오!\n",
    "\n",
    "\n",
    "SQL>\n",
    "\n",
    "select max(sal)  \n",
    "from emp  \n",
    "where deptno = 20;  "
   ]
  },
  {
   "cell_type": "code",
   "execution_count": 59,
   "metadata": {},
   "outputs": [
    {
     "name": "stdout",
     "output_type": "stream",
     "text": [
      "3000\n"
     ]
    }
   ],
   "source": [
    "import pandas as pd\n",
    "emp = pd.read_csv(\"d:\\\\data\\emp3.csv\")\n",
    "\n",
    "print(emp['sal'][emp['deptno'] == 20 ].max())\n"
   ]
  },
  {
   "cell_type": "markdown",
   "metadata": {},
   "source": [
    "## 문제133. 아래의 SQL을 Pandas로 구현하시오!\n",
    "\n",
    "SQL>\n",
    "\n",
    "Select min(sal)  \n",
    "    from emp  \n",
    "    where job = 'SALESMAN';  "
   ]
  },
  {
   "cell_type": "code",
   "execution_count": 62,
   "metadata": {},
   "outputs": [
    {
     "name": "stdout",
     "output_type": "stream",
     "text": [
      "4    1250\n",
      "5    1600\n",
      "6    1500\n",
      "8    1250\n",
      "Name: sal, dtype: int64\n",
      "1250\n"
     ]
    }
   ],
   "source": [
    "import pandas as pd\n",
    "emp = pd.read_csv(\"d:\\\\data\\emp3.csv\")\n",
    "\n",
    "print(emp['sal'][emp['job'] == 'SALESMAN' ].min())\n"
   ]
  },
  {
   "cell_type": "markdown",
   "metadata": {},
   "source": [
    "## 문제134. 아래의 SQL을 Pandas로 구현하시오!\n",
    "\n",
    "SQL>  \n",
    "select job, max(sal)  \n",
    "  from emp  \n",
    "  group by job;  "
   ]
  },
  {
   "cell_type": "code",
   "execution_count": 66,
   "metadata": {},
   "outputs": [
    {
     "name": "stdout",
     "output_type": "stream",
     "text": [
      "job\n",
      "ANALYST      3000\n",
      "CLERK        1300\n",
      "MANAGER      2975\n",
      "PRESIDENT    5000\n",
      "SALESMAN     1600\n",
      "Name: sal, dtype: int64\n"
     ]
    }
   ],
   "source": [
    "import pandas as pd\n",
    "emp = pd.read_csv(\"d:\\\\data\\emp3.csv\")\n",
    "result = emp.groupby('job')['sal'].max()\n",
    "print(result)"
   ]
  },
  {
   "cell_type": "code",
   "execution_count": 67,
   "metadata": {},
   "outputs": [
    {
     "name": "stdout",
     "output_type": "stream",
     "text": [
      "         job   sal\n",
      "0    ANALYST  3000\n",
      "1      CLERK  1300\n",
      "2    MANAGER  2975\n",
      "3  PRESIDENT  5000\n",
      "4   SALESMAN  1600\n"
     ]
    }
   ],
   "source": [
    "import pandas as pd\n",
    "emp = pd.read_csv(\"d:\\\\data\\emp3.csv\")\n",
    "result = emp.groupby('job')['sal'].max().reset_index()\n",
    "print(result)"
   ]
  },
  {
   "cell_type": "markdown",
   "metadata": {},
   "source": [
    "### ※ reset_index()는 series로 저장하는게 아니라 data frame(=table)로 저장하는 방법 입니다."
   ]
  },
  {
   "cell_type": "markdown",
   "metadata": {},
   "source": [
    "## 문제135. 아래의 SQL을 Pandas로 구현하시오!\n",
    "\n",
    "SQL>\n",
    "\n",
    "select deptno, sum(sal)  \n",
    "    from emp  \n",
    "    group by deptno;  "
   ]
  },
  {
   "cell_type": "code",
   "execution_count": null,
   "metadata": {},
   "outputs": [],
   "source": [
    "import pandas as pd\n",
    "emp = pd.read_csv(\"d:\\\\data\\emp3.csv\")\n",
    "\n",
    "result = emp.groupby('deptno')['sal'].sum().reset_index()\n",
    "print(result)"
   ]
  },
  {
   "cell_type": "markdown",
   "metadata": {},
   "source": [
    "## 문제136. 아래의 SQL을 Pandas로 구현하시오!\n",
    "\n",
    "SQL>\n",
    "select deptno, sum(sal)  \n",
    "    from emp  \n",
    "    where deptno != 20  \n",
    "    group by deptno;  \n",
    "    "
   ]
  },
  {
   "cell_type": "code",
   "execution_count": 8,
   "metadata": {},
   "outputs": [
    {
     "name": "stdout",
     "output_type": "stream",
     "text": [
      "<class 'pandas.core.frame.DataFrame'>\n",
      "   deptno   sal\n",
      "0      10  8750\n",
      "2      30  9400\n",
      "   deptno    sal\n",
      "0      10   8750\n",
      "1      20  10875\n",
      "2      30   9400\n"
     ]
    }
   ],
   "source": [
    "import pandas as pd\n",
    "emp = pd.read_csv(\"d:\\\\data\\emp3.csv\")\n",
    "\n",
    "result = emp.groupby('deptno')['sal'].sum().reset_index()\n",
    "\n",
    "print(type(result))\n",
    "print(result[['deptno','sal']] [result['deptno'] != 20])\n",
    "print(result)"
   ]
  },
  {
   "cell_type": "markdown",
   "metadata": {},
   "source": [
    "## 문제137. 아래의 SQL을 판다스로 구현하시오!\n",
    "\n",
    "SQL>\n",
    "select deptno, sum(sal)  \n",
    "    from emp  \n",
    "    group by deptno  \n",
    "    order by sum(sal) desc;  \n",
    "    "
   ]
  },
  {
   "cell_type": "code",
   "execution_count": 83,
   "metadata": {},
   "outputs": [
    {
     "name": "stdout",
     "output_type": "stream",
     "text": [
      "   deptno    sal\n",
      "0      20  10875\n",
      "1      30   9400\n",
      "2      10   8750\n"
     ]
    }
   ],
   "source": [
    "import pandas as pd\n",
    "emp = pd.read_csv(\"d:\\\\data\\emp3.csv\")\n",
    "\n",
    "result = emp.groupby('deptno')['sal'].sum()\n",
    "result2 = result.sort_values(ascending = False) # SQL에서 Orderby를 오라클로 구사하려면 따로 코드를 정의해야한다.\n",
    "print(result2.reset_index())"
   ]
  },
  {
   "cell_type": "markdown",
   "metadata": {},
   "source": [
    "## 문제138. 아래의 SQL을 Pandas로 구현하시오!\n",
    "\n",
    "SQL>  \n",
    "\n",
    "Select ename, sal, job  \n",
    "    from emp  \n",
    "    where job = 'SALESMAN'  \n",
    "    order by sal desc;"
   ]
  },
  {
   "cell_type": "code",
   "execution_count": 84,
   "metadata": {},
   "outputs": [
    {
     "name": "stdout",
     "output_type": "stream",
     "text": [
      "    ename   sal       job\n",
      "5   ALLEN  1600  SALESMAN\n",
      "6  TURNER  1500  SALESMAN\n",
      "4  MARTIN  1250  SALESMAN\n",
      "8    WARD  1250  SALESMAN\n"
     ]
    }
   ],
   "source": [
    "import pandas as pd\n",
    "emp = pd.read_csv(\"d:\\\\data\\emp3.csv\")\n",
    "emp2 = emp[['ename', 'sal', 'job']][emp['job'] == 'SALESMAN']\n",
    "emp2 = emp2.sort_values('sal', ascending = False )\n",
    "print(emp2)"
   ]
  },
  {
   "cell_type": "markdown",
   "metadata": {},
   "source": [
    "## 문제139. 아래의 SQL을 pandas로 구현하시오!\n",
    "\n",
    "SQL>\n",
    "\n",
    "select job, sum(sal)  \n",
    "    from emp  \n",
    "    where job != 'SALESMAN'  \n",
    "    group by job  \n",
    "    order by sum(sal) desc;  "
   ]
  },
  {
   "cell_type": "code",
   "execution_count": 87,
   "metadata": {},
   "outputs": [
    {
     "name": "stdout",
     "output_type": "stream",
     "text": [
      "         job   sal\n",
      "2    MANAGER  8275\n",
      "0    ANALYST  6000\n",
      "3  PRESIDENT  5000\n",
      "1      CLERK  4150\n"
     ]
    }
   ],
   "source": [
    "import pandas as pd\n",
    "\n",
    "emp = pd.read_csv(\"d:\\\\data\\emp3.csv\")\n",
    "\n",
    "result = emp.groupby('job')['sal'].sum().reset_index()\n",
    "\n",
    "result2 = result[['job','sal']] [result['job'] != 'SALESMAN']\n",
    "\n",
    "result2 = result2.sort_values('sal', ascending = False)\n",
    "\n",
    "print(result2)"
   ]
  },
  {
   "cell_type": "markdown",
   "metadata": {},
   "source": [
    "## Pandas를 이용해서 순위를 출력하는 방법\n",
    "\n",
    "SQL>\n",
    "\n",
    "select ename, sal, rank() over (order by sal desc) 순위  \n",
    "from emp;"
   ]
  },
  {
   "cell_type": "code",
   "execution_count": null,
   "metadata": {},
   "outputs": [],
   "source": [
    "import pandas as pd\n",
    "\n",
    "emp = pd.read_csv(\"d:\\\\data\\emp3.csv\")\n",
    "# 판다스를 이용해서 파생변수를 생성 하는 방법\n",
    "\n",
    "emp['rnk'] = emp['sal'].rank(ascending = False).apply(int)  # 컬럼 'rnk' 추가하기 apply.(int) 정수로 적용해라!\n",
    "print(emp['rnk'])\n",
    "emp = emp.sort_values('rnk', ascending = True)\n",
    "print(emp[['ename', 'sal', 'rnk']])"
   ]
  },
  {
   "cell_type": "code",
   "execution_count": 90,
   "metadata": {},
   "outputs": [
    {
     "name": "stdout",
     "output_type": "stream",
     "text": [
      "0      1.0\n",
      "1      5.0\n",
      "2      6.0\n",
      "3      4.0\n",
      "4     10.5\n",
      "5      7.0\n",
      "6      8.0\n",
      "7     13.0\n",
      "8     10.5\n",
      "9      2.5\n",
      "10    14.0\n",
      "11     2.5\n",
      "12    12.0\n",
      "13     9.0\n",
      "Name: rnk, dtype: object\n",
      "     ename   sal   rnk\n",
      "0     KING  5000   1.0\n",
      "4   MARTIN  1250  10.5\n",
      "8     WARD  1250  10.5\n",
      "12   ADAMS  1100  12.0\n",
      "7    JAMES   950  13.0\n",
      "10   SMITH   800  14.0\n",
      "9     FORD  3000   2.5\n",
      "11   SCOTT  3000   2.5\n",
      "3    JONES  2975   4.0\n",
      "1    BLAKE  2850   5.0\n",
      "2    CLARK  2450   6.0\n",
      "5    ALLEN  1600   7.0\n",
      "6   TURNER  1500   8.0\n",
      "13  MILLER  1300   9.0\n"
     ]
    }
   ],
   "source": [
    "import pandas as pd\n",
    "\n",
    "emp = pd.read_csv(\"d:\\\\data\\emp3.csv\")\n",
    "# 판다스를 이용해서 파생변수를 생성 하는 방법\n",
    "\n",
    "emp['rnk'] = emp['sal'].rank(ascending = False).apply(str)  # 컬럼 'rnk' 추가하기 apply.(str) 이면 ?\n",
    "print(emp['rnk'])\n",
    "emp = emp.sort_values('rnk', ascending = True)\n",
    "print(emp[['ename', 'sal', 'rnk']])"
   ]
  },
  {
   "cell_type": "markdown",
   "metadata": {},
   "source": [
    "## 문제140. 아래의 SQL을 판다스로 구현하시오!\n",
    "\n",
    "SQL>  \n",
    "select ename, sal, job, rank() over (order by sal desc) 순위  \n",
    "    from emp  \n",
    "    where job = 'SALESMAN';\n",
    "    "
   ]
  },
  {
   "cell_type": "code",
   "execution_count": 93,
   "metadata": {},
   "outputs": [
    {
     "name": "stdout",
     "output_type": "stream",
     "text": [
      "    ename   sal  rnk\n",
      "5   ALLEN  1600    1\n",
      "6  TURNER  1500    2\n",
      "4  MARTIN  1250    3\n",
      "8    WARD  1250    3\n"
     ]
    }
   ],
   "source": [
    "import pandas as pd\n",
    "\n",
    "emp = pd.read_csv(\"d:\\\\data\\emp3.csv\")\n",
    "emp2 = emp[['ename','sal','job']][emp['job'] == 'SALESMAN']\n",
    "# 판다스를 이용해서 파생변수를 생성 하는 방법\n",
    "\n",
    "emp2['rnk'] = emp2['sal'].rank(ascending = False).apply(int)  \n",
    "\n",
    "emp2 = emp2.sort_values('rnk', ascending = True)\n",
    "print(emp2[['ename', 'sal', 'rnk']])"
   ]
  },
  {
   "cell_type": "markdown",
   "metadata": {},
   "source": [
    "## 예제68. 반올림수 구하기(round)\n",
    "\n",
    "파이썬 내장함수 round()는 인자로 입력된 수치형 자리수에서 반올림한 결과를 리턴합니다.\n",
    "\n",
    "__예제:__  \n",
    "print(round(16.554)) # 소수점 첫째 자리에서 반올림  \n",
    "print(round(16.554,0))"
   ]
  },
  {
   "cell_type": "code",
   "execution_count": 96,
   "metadata": {},
   "outputs": [
    {
     "name": "stdout",
     "output_type": "stream",
     "text": [
      "17\n",
      "17.0\n",
      "16.6\n",
      "16.55\n",
      "142\n"
     ]
    }
   ],
   "source": [
    "print(round(16.554)) # 소수점 첫째 자리에서 반올림  \n",
    "print(round(16.554,0))\n",
    "print(round(16.554,1)) # 소수점 두번째 자리에서 반올림\n",
    "print(round(16.554,2)) # 소수점 세번째 자리에서 반올림\n",
    "\n",
    "print(round(142.5)) # 142가 나온다!!!!!\n"
   ]
  },
  {
   "cell_type": "markdown",
   "metadata": {},
   "source": [
    "## print(round(142.5)) # 142가 나온다!!!!!\n",
    "\n",
    "\" R과 파이썬은 짝수를 좋아한다.\"\n",
    "\n",
    "<반올림시>  \n",
    "142.5 --> 142     \n",
    "187.5 --> 188          \n",
    "\n",
    "2        2.5        3  \n",
    "7        7.5        8\n",
    "\n",
    "\n",
    "__파이썬은 기본적으로 이것을 해결하는 함수가 없다.  \n",
    "0.5일 때는 짝수를 좋아하겠금 반올림되고 0.51일때는 반올림된다.__  "
   ]
  },
  {
   "cell_type": "markdown",
   "metadata": {},
   "source": [
    "## ＊ 파이썬의 변환 함수정리 \n",
    "\n",
    "|          | 데이터 유형 | 변환 함수 |\n",
    "|:--------:|:-----------:|:---------:|\n",
    "|  정수형  |     int     |   int()   |\n",
    "|  문자형  |     str     |   str()   |\n",
    "|  실수형  |    float    |  float()  |\n",
    "| 리스트형 |     list    |   list()  |\n",
    "|  튜플형  |    tuple    |  tuple()  |\n",
    "\n",
    "\n",
    "코드 작성시 수학 연산을 하다보면 정수끼리만 계산해야하는 경우가 있다.  \n",
    "이때 우리가 가진 데이터가 실수형이라 하면 실수형 자료를 정수형으로 변환한 후에 계산을 해주어야 한다.  \n",
    "파이썬 내장함수 int() 는 인자로 입력된 실수형 자료를 정수형 자료로 변환해준다.  \n",
    "int()는 입력된 실수형 자료의 __소수 부분은 버리고 정수부분만 취하여__ 정수값으로 리턴한다.   "
   ]
  },
  {
   "cell_type": "code",
   "execution_count": 97,
   "metadata": {},
   "outputs": [
    {
     "name": "stdout",
     "output_type": "stream",
     "text": [
      "-5\n"
     ]
    }
   ],
   "source": [
    "print(int(-5.4))"
   ]
  },
  {
   "cell_type": "markdown",
   "metadata": {},
   "source": [
    "## 문제141. 이름과 월급을 출력하는데 월급을 출력할 때 소숫점이하가 나오게 하시오!\n",
    "\n",
    "예 : 3000.0"
   ]
  },
  {
   "cell_type": "code",
   "execution_count": 109,
   "metadata": {},
   "outputs": [
    {
     "name": "stdout",
     "output_type": "stream",
     "text": [
      "     ename     sal\n",
      "0     KING  5000.0\n",
      "1    BLAKE  2850.0\n",
      "2    CLARK  2450.0\n",
      "3    JONES  2975.0\n",
      "4   MARTIN  1250.0\n",
      "5    ALLEN  1600.0\n",
      "6   TURNER  1500.0\n",
      "7    JAMES   950.0\n",
      "8     WARD  1250.0\n",
      "9     FORD  3000.0\n",
      "10   SMITH   800.0\n",
      "11   SCOTT  3000.0\n",
      "12   ADAMS  1100.0\n",
      "13  MILLER  1300.0\n"
     ]
    }
   ],
   "source": [
    "import pandas as pd\n",
    "\n",
    "emp = pd.read_csv(\"d:\\\\data\\emp3.csv\")\n",
    "emp['sal'] = emp['sal'].apply(float)\n",
    "print(emp[['ename','sal']])"
   ]
  },
  {
   "cell_type": "markdown",
   "metadata": {},
   "source": [
    "## 예제70. 정수형 자료를 실수형 자료로 변환하기(float)\n",
    "\n",
    "이미지 처리나 공학용 프로그램을 작성할 떄 실수형 끼리만 계산 해야하는 경우가 많다.  \n",
    "이때 우리가 가진 데이터가 정수형이라고 하면  \n",
    "정수형 자료를 실수형 자료로 변환한 후에 계산해 주어야 한다.  \n",
    "파이썬 내장함수 float()은 인자로 입력된 정수형 자료를 실수형으로 변환해 준다.  "
   ]
  },
  {
   "cell_type": "code",
   "execution_count": 110,
   "metadata": {},
   "outputs": [
    {
     "name": "stdout",
     "output_type": "stream",
     "text": [
      "10.0\n"
     ]
    }
   ],
   "source": [
    "print(float(10)) "
   ]
  },
  {
   "cell_type": "markdown",
   "metadata": {},
   "source": [
    "## 예제71. 정수형 리스트에서 짝수만 걸러내기(filter)\n",
    "\n",
    "파이썬 내장함수인 filter()는 리스트와 같이 반복 가능한 자료에서 \n",
    "특정 조건을 만족하는 값 만을 편리하게 추출할 수 있는 방법을 제공한다.  \n",
    "filter()의 첫번째 인자는 특정 조건의 값을 추출하는 함수가 입력되며,  \n",
    "두번째 인자는 리스트와 같이 반복가능한 자료가 입력된다.  "
   ]
  },
  {
   "cell_type": "markdown",
   "metadata": {},
   "source": [
    "## 예제1. 숫자를 입력해서 짝수면 값을 리턴하고 홀수이면 값을 리턴하지 않게 하는 함수를 생성\n"
   ]
  },
  {
   "cell_type": "code",
   "execution_count": 113,
   "metadata": {},
   "outputs": [
    {
     "name": "stdout",
     "output_type": "stream",
     "text": [
      "24\n",
      "None\n",
      "[2, 4, 6, 8, 10]\n"
     ]
    }
   ],
   "source": [
    "def get_even(num):\n",
    "    if num%2 ==0:\n",
    "        return num\n",
    "    else:\n",
    "        return\n",
    "\n",
    "print(get_even(24)) #24\n",
    "print(get_even(25)) #None\n",
    "\n",
    "listdata = [1,2,3,4,5,6,7,8,9,10]\n",
    "result = filter(get_even, listdata) #filter 첫번째 인자 : 함수명 , filter 두번째인자 : 처리해야할 리스트\n",
    "\n",
    "print(list(result))\n"
   ]
  },
  {
   "cell_type": "markdown",
   "metadata": {},
   "source": [
    "## 문제142.(오늘의 마지막문제)  \n",
    "## 아래의 리스트에서 소수만 걸러내시오~\n",
    "\n",
    "result = filter(getPrime,listdata)  \n",
    "print(result)\n",
    "\n",
    "[2,3,5,7]\n",
    "\n",
    "소수란 1과 자기자신만을 약수로 가지는 숫자"
   ]
  },
  {
   "cell_type": "code",
   "execution_count": 122,
   "metadata": {},
   "outputs": [
    {
     "name": "stdout",
     "output_type": "stream",
     "text": [
      "[2, 3, 5, 7]\n"
     ]
    }
   ],
   "source": [
    "def getPrime(num):\n",
    "    if num == 1:\n",
    "        return \n",
    "    \n",
    "    else:\n",
    "        for i in range(2,num):\n",
    "            if num%i == 0:\n",
    "                return \n",
    "\n",
    "\n",
    "        else:\n",
    "            return num \n",
    "\n",
    "listdata = [1,2,3,4,5,6,7,8,9,10]\n",
    "result = filter(getPrime,listdata)\n",
    "print(list(result))"
   ]
  }
 ],
 "metadata": {
  "kernelspec": {
   "display_name": "Python 3",
   "language": "python",
   "name": "python3"
  },
  "language_info": {
   "codemirror_mode": {
    "name": "ipython",
    "version": 3
   },
   "file_extension": ".py",
   "mimetype": "text/x-python",
   "name": "python",
   "nbconvert_exporter": "python",
   "pygments_lexer": "ipython3",
   "version": "3.7.4"
  }
 },
 "nbformat": 4,
 "nbformat_minor": 2
}
