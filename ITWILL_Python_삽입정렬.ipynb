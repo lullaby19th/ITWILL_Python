{
 "cells": [
  {
   "cell_type": "markdown",
   "metadata": {},
   "source": [
    "## ■ 알고리즘 삽입정렬 (Week 3-2)\n",
    "\n",
    "### ※ 삽입정렬이란 무엇인가 ?\n",
    "\n",
    "정렬되지 않은 숫자들을 하나씩 빼서  \n",
    "졍렬되어 있는 숫자 사이의  \n",
    "올바른 위치에 삽입하는 정렬방법\n",
    "\n",
    "링크 : https://www.youtube.com/watch?v=L4U2i462Ozo"
   ]
  },
  {
   "cell_type": "markdown",
   "metadata": {},
   "source": [
    "## ■ 삽입정렬되는 과정을 출력하시오!\n",
    "\n",
    "a = [5,4,3,2,1,8,7,10]"
   ]
  },
  {
   "cell_type": "code",
   "execution_count": null,
   "metadata": {},
   "outputs": [],
   "source": [
    "#%% 삽입정렬 코드 ver1\n",
    "# insert 함수로 앞의 자리에 작은 수를 넣어준 후\n",
    "# del 함수로 뒤에 남아있는 작은 수를 지워준다.\n",
    "# insert, del 순서 뒤바뀌면 안됨.\n",
    "\n",
    "a = [5, 4, 3, 2, 1, 8, 7, 10]\n",
    "\n",
    "for i in range(1,len(a)): # 'cafe 삽입정렬'에서 i,j 범위 참고\n",
    "    for j in range(i):  \n",
    "        if a[i] < a[j]: # 작은값 a[i]\n",
    "                        # 큰값 a[j]\n",
    "            a.insert(j,a[i])\n",
    "            del(a[i+1])\n",
    "            \n",
    "            print(a)\n",
    "            continue\n",
    "        \n",
    "        else:        # 그 외의 경우에는 아무런 변화를 주지않고 for문을 다시돌림.\n",
    "            print(a)\n",
    "            continue"
   ]
  },
  {
   "cell_type": "code",
   "execution_count": null,
   "metadata": {},
   "outputs": [],
   "source": [
    "#%% def 를 써서 삽입정렬 코드를 정의 ver2\n",
    "def insert_sort(a):\n",
    "    for i in range(1,len(a)): # 'cafe 삽입정렬'에서 i,j 범위 참고\n",
    "        for j in range(i):  \n",
    "            if a[i] < a[j]: # 작은값 a[i]\n",
    "                            # 큰값 a[j]\n",
    "                a.insert(j,a[i])\n",
    "                del(a[i+1])\n",
    "                \n",
    "                print(a)\n",
    "                continue\n",
    "            \n",
    "            else:        # 그 외의 경우에는 아무런 변화를 주지않고 for문을 다시돌림.\n",
    "                print(a)\n",
    "    return a\n",
    "\n",
    "a = [5, 4, 3, 2, 1, 8, 7, 10, 11, 24, 6]\n",
    "\n",
    "print(insert_sort(a))"
   ]
  },
  {
   "cell_type": "code",
   "execution_count": null,
   "metadata": {},
   "outputs": [],
   "source": [
    "#%%\n",
    "# Upgrade Final.ver\n",
    "# 어떠한 랜덤 list 자료형을 만들더라도 \n",
    "# '버블 정렬'이 가능하도록 만들어보기.\n",
    "\n",
    "def insert_sort():\n",
    "    import random\n",
    "    y = int(input('몇개의 리스트를 만들건가요?'))\n",
    "    x = int(input('0부터 몇까지의 숫자를 범위로 정할건가요?'))\n",
    "    a = [random.randint(0,x) for i in range(y)]\n",
    "    for i in range(1,len(a)): # 'cafe 삽입정렬'에서 i,j 범위 참고\n",
    "        for j in range(i):  \n",
    "            if a[i] < a[j]: # 작은값 a[i]\n",
    "                            # 큰값 a[j]\n",
    "                a.insert(j,a[i])\n",
    "                del(a[i+1])\n",
    "                \n",
    "                print(a)\n",
    "                continue\n",
    "            \n",
    "            else:        # 그 외의 경우에는 아무런 변화를 주지않고 for문을 다시돌림.\n",
    "                print(a)\n",
    "    return a\n",
    "\n",
    "print(insert_sort())"
   ]
  }
 ],
 "metadata": {
  "kernelspec": {
   "display_name": "Python 3",
   "language": "python",
   "name": "python3"
  },
  "language_info": {
   "codemirror_mode": {
    "name": "ipython",
    "version": 3
   },
   "file_extension": ".py",
   "mimetype": "text/x-python",
   "name": "python",
   "nbconvert_exporter": "python",
   "pygments_lexer": "ipython3",
   "version": "3.7.4"
  }
 },
 "nbformat": 4,
 "nbformat_minor": 2
}
