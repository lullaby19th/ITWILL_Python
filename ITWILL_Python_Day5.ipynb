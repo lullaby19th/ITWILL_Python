{
 "cells": [
  {
   "cell_type": "markdown",
   "metadata": {},
   "source": [
    "## 예제37. 튜플 이해하기({ })\n",
    "\n",
    "튜플은 리스트와 비슷한 성질을 가지고 있는 자료형이지만 요소의 값을 변경할 수 없다는 특징이 있다.  \n",
    "리스트는 대괄호 [ ]로 요소들을 감쌌는데 튜플은 소괄호( )로 요소를 감싼다.  \n",
    "데이터가 변경이 안되므로 튜플로 만든 데이터에 대한 신뢰도가 높아진다.  \n",
    "\n"
   ]
  },
  {
   "cell_type": "code",
   "execution_count": 9,
   "metadata": {},
   "outputs": [
    {
     "name": "stdout",
     "output_type": "stream",
     "text": [
      "(1, 'a', 'abc', [1, 2, 3, 4, 5])\n",
      "1\n"
     ]
    }
   ],
   "source": [
    "tuple1 = (1,2,3,4,5)  \n",
    "tuple2 = ('a','b','c')  \n",
    "tuple3 = (1, 'a', 'abc', [1,2,3,4,5])    \n",
    "print(tuple3)\n",
    "print(tuple1[0]) #1\n",
    "\n",
    "#주의 :이렇게 tuple1[0] = 6 로는 변경을 못함 에러뜸!! \n",
    "#typeerror : 'tuple' object does not support item assignments"
   ]
  },
  {
   "cell_type": "markdown",
   "metadata": {},
   "source": [
    "## 문제73. 위의 예제 tuple3에서 숫자 5를 출력하시오!"
   ]
  },
  {
   "cell_type": "code",
   "execution_count": 10,
   "metadata": {},
   "outputs": [
    {
     "name": "stdout",
     "output_type": "stream",
     "text": [
      "5\n"
     ]
    }
   ],
   "source": [
    "tuple3 = (1,'a','abc',[1,2,3,4,5])\n",
    "print(tuple3[3][4])"
   ]
  },
  {
   "cell_type": "markdown",
   "metadata": {},
   "source": [
    "## 예제38. 사전 이해하기({})\n",
    "\n",
    "사전은 키와 값을 하나의 요소로 하는 순서가 없는 집합이다.  \n",
    "그러므로 사전은 시퀀스 자료형이 아니며 인덱싱으로 값을 접근 할 수도 없다.  \n",
    "사전의 키와 값은 임의 객체가 될 수 있다.  \n",
    "사전은 \"키:값\" 쌍이 하나의 요소이다.  "
   ]
  },
  {
   "cell_type": "code",
   "execution_count": 12,
   "metadata": {},
   "outputs": [
    {
     "name": "stdout",
     "output_type": "stream",
     "text": [
      "{'파이썬': 'www.python.org', '애플': 'www.apple.com'}\n",
      "dict_keys(['파이썬', '애플'])\n",
      "dict_values(['www.python.org', 'www.apple.com'])\n"
     ]
    }
   ],
   "source": [
    "dict = {} #비어있는 딕셔너리를 생성\n",
    "dict['파이썬'] = 'www.python.org'\n",
    "dict['애플'] = 'www.apple.com'\n",
    "\n",
    "print(dict)\n",
    "print(dict.keys()) #키값들이 출력됨\n",
    "print(dict.values()) #value 값들이 출력됨."
   ]
  },
  {
   "cell_type": "markdown",
   "metadata": {},
   "source": [
    "## 예제2. dict 딕셔너리에 애플의 값을 www.apple.co.kr 로 변경하시오!\n"
   ]
  },
  {
   "cell_type": "code",
   "execution_count": 13,
   "metadata": {},
   "outputs": [
    {
     "name": "stdout",
     "output_type": "stream",
     "text": [
      "{'파이썬': 'www.python.org', '애플': 'www.apple.co.kr'}\n"
     ]
    }
   ],
   "source": [
    "dict['애플'] = 'www.apple.co.kr'\n",
    "print(dict)"
   ]
  },
  {
   "cell_type": "markdown",
   "metadata": {},
   "source": [
    "## 예제3. dict 자료형 변수의 요소중에서 애플을 삭제하시오!"
   ]
  },
  {
   "cell_type": "code",
   "execution_count": 14,
   "metadata": {},
   "outputs": [
    {
     "name": "stdout",
     "output_type": "stream",
     "text": [
      "{'파이썬': 'www.python.org'}\n"
     ]
    }
   ],
   "source": [
    "dict.pop('애플')\n",
    "print(dict)"
   ]
  },
  {
   "cell_type": "markdown",
   "metadata": {},
   "source": [
    "## 예제4. dict 자료형의 모든 요소를 삭제하시오!"
   ]
  },
  {
   "cell_type": "code",
   "execution_count": 15,
   "metadata": {},
   "outputs": [
    {
     "name": "stdout",
     "output_type": "stream",
     "text": [
      "{}\n"
     ]
    }
   ],
   "source": [
    "dict.clear()\n",
    "print(dict)"
   ]
  },
  {
   "cell_type": "markdown",
   "metadata": {},
   "source": [
    "## 문제74.  \n",
    "## 다시 dict 딕셔너리의 아래의 요소를 추가하고 for문을 이용해서 key 값들만 출력하시오!"
   ]
  },
  {
   "cell_type": "code",
   "execution_count": 16,
   "metadata": {
    "scrolled": true
   },
   "outputs": [
    {
     "name": "stdout",
     "output_type": "stream",
     "text": [
      "{'파이썬': 'www.python.org', '애플': 'www.apple.com'}\n",
      "파이썬\n",
      "애플\n"
     ]
    }
   ],
   "source": [
    "dict['파이썬'] = 'www.python.org'\n",
    "dict['애플'] = 'www.apple.com'\n",
    "\n",
    "print(dict)\n",
    "\n",
    "for i in dict.keys():\n",
    "    print(i)"
   ]
  },
  {
   "cell_type": "markdown",
   "metadata": {},
   "source": [
    "## 문제75. dict 딕셔너리에서 값들만 출력하시오!"
   ]
  },
  {
   "cell_type": "code",
   "execution_count": 17,
   "metadata": {},
   "outputs": [
    {
     "name": "stdout",
     "output_type": "stream",
     "text": [
      "{'파이썬': 'www.python.org', '애플': 'www.apple.com'}\n",
      "www.python.org\n",
      "www.apple.com\n"
     ]
    }
   ],
   "source": [
    "dict['파이썬'] = 'www.python.org'\n",
    "dict['애플'] = 'www.apple.com'\n",
    "\n",
    "print(dict)\n",
    "\n",
    "for i in dict.values():\n",
    "    print(i)"
   ]
  },
  {
   "cell_type": "markdown",
   "metadata": {},
   "source": [
    "## 예제39. 함수 이해하기(def)\n",
    "\n",
    "함수란 특정 목적을 가진 코드의 집합이며 독립적으로 호출될 수 있는 것을 말한다.\n",
    "\n",
    "__- 프로그래밍을 할 때 함수 생성시 꼭 명심해야할 사항 2가지__\n",
    "\n",
    "    1. 함수는 기능이 하나여야 한다.  \n",
    "    2. 함수는 재사용이 가능해야 한다.  \n",
    "    "
   ]
  },
  {
   "cell_type": "markdown",
   "metadata": {},
   "source": [
    "| 오라클 함수 |   파이썬 내장 함수  |\n",
    "|:-----------:|:-------------------:|\n",
    "|    upper    |       upper()       |\n",
    "|    lower    |       lower()       |\n",
    "|   initcap   |   직접 생성해야함   |\n",
    "|    substr   |   직접 생성해야함   |\n",
    "|   replace   |      replace()      |\n",
    "|    length   |       length()      |\n",
    "|    rtrim    |       rstrip()      |\n",
    "|    ltrim    |       lstrip()      |\n",
    "|     rapd    |   직접 생성해야함   |\n",
    "|     lpad    |   직접 생성해야함   |\n",
    "|    instr    |   직접 생성해야함   |\n",
    "|    round    |       round()       |\n",
    "|    trunc    |       trunc()       |\n",
    "|     mod     |          %          |\n",
    "|    power    |       **, pow       |\n",
    "|   to_char   |        str()        |\n",
    "|  to_number  |    int(), float()   |\n",
    "|   to_date   | datetime.strptime() |\n",
    "|     nvl     |   직접 생성해야함   |\n",
    "|    decode   |         if문        |\n",
    "|     case    |         if문        |"
   ]
  },
  {
   "cell_type": "code",
   "execution_count": 20,
   "metadata": {},
   "outputs": [
    {
     "name": "stdout",
     "output_type": "stream",
     "text": [
      "25\n"
     ]
    }
   ],
   "source": [
    "# 예제1.\n",
    "\n",
    "def add_number(n1,n2):   # (:) 과 return 잘 넣어주자!!\n",
    "    result = n1 + n2    # n1, n2 = 매개변수(퍼라미터)\n",
    "    return result\n",
    "\n",
    "print( add_number(10,15))\n"
   ]
  },
  {
   "cell_type": "markdown",
   "metadata": {},
   "source": [
    "## 문제76.   \n",
    "## 오라클의 initcap 함수를 파이썬으로 직접 생성하시오!  \n",
    "## 힌트 : upper(), lower(), +, 문자열 슬라이싱"
   ]
  },
  {
   "cell_type": "code",
   "execution_count": 25,
   "metadata": {},
   "outputs": [
    {
     "name": "stdout",
     "output_type": "stream",
     "text": [
      "Smith\n"
     ]
    }
   ],
   "source": [
    "def initcap(val): # 매개변수 : val\n",
    "    \n",
    "    result = val[0].upper() + val[1:].lower()\n",
    "\n",
    "    return result\n",
    "\n",
    "print(initcap('smith'))"
   ]
  },
  {
   "cell_type": "markdown",
   "metadata": {},
   "source": [
    "## 문제77. 오라클의 instr함수를 파이썬으로 직접 생성하시오!  \n",
    "## (for loop 문과 break를 이용해야한다.)  "
   ]
  },
  {
   "cell_type": "code",
   "execution_count": 34,
   "metadata": {},
   "outputs": [
    {
     "name": "stdout",
     "output_type": "stream",
     "text": [
      "2\n"
     ]
    }
   ],
   "source": [
    "def instr(word, alphabet):\n",
    "    num = 0\n",
    "    for i in range(0,len(word)):\n",
    "        num += 1\n",
    "        if word[i] == alphabet:\n",
    "            \n",
    "            result = i\n",
    "        \n",
    "        \n",
    "            break\n",
    "    \n",
    "    \n",
    "    return num\n",
    "\n",
    "print(instr('smith', 'm')) # smith 문자에서 철자 m의 위치를 출력"
   ]
  },
  {
   "cell_type": "markdown",
   "metadata": {},
   "source": [
    "## 문제78.   \n",
    "## 위의 코드를 수정해서 또는 자신의 코드의 수정해서 없는 철자를 넣으면   \n",
    "## 숫자가 0이 출력되게 하시오!  \n"
   ]
  },
  {
   "cell_type": "code",
   "execution_count": 61,
   "metadata": {},
   "outputs": [
    {
     "name": "stdout",
     "output_type": "stream",
     "text": [
      "0\n"
     ]
    }
   ],
   "source": [
    "def instr(str,word):\n",
    "    \n",
    "    index = 0\n",
    "    \n",
    "    for i in str:\n",
    "        \n",
    "        index += 1\n",
    "        \n",
    "        if i == word:\n",
    "            \n",
    "            return index\n",
    "        \n",
    "    else:\n",
    "        return 0\n",
    "\n",
    "print(instr('smith', 'k')) # smith 문자에서 철자 m의 위치를 출력"
   ]
  },
  {
   "cell_type": "markdown",
   "metadata": {},
   "source": [
    "## 문제79. 오라클과 파이썬을 연동해서 이름을 출력하시오!\n"
   ]
  },
  {
   "cell_type": "code",
   "execution_count": null,
   "metadata": {
    "scrolled": true
   },
   "outputs": [],
   "source": [
    "import  cx_Oracle  # 오라클과 파이썬을 연동하기 위한 모듈\n",
    "\n",
    "import  pandas  as  pd\n",
    "\n",
    "dsn = cx_Oracle.makedsn(\"localhost\", 1521, \"orcl\")\n",
    "\n",
    "db = cx_Oracle.connect(\"scott\", \"tiger\", dsn)\n",
    "\n",
    "cursor = db.cursor()\n",
    "\n",
    "cursor.execute(\"select * from emp\")\n",
    "\n",
    "row = cursor.fetchall()\n",
    "\n",
    "colname = cursor.description\n",
    "\n",
    "cursor.close()\n",
    "\n",
    "\n",
    "\n",
    "col=[]\n",
    "\n",
    "for i in colname:\n",
    "\n",
    "    col.append(i[0])\n",
    "\n",
    "emp = pd.DataFrame(row, columns=col)\n",
    "\n",
    "print(emp[['ENAME']])\n",
    "\n"
   ]
  },
  {
   "cell_type": "markdown",
   "metadata": {},
   "source": [
    "## 문제80.  \n",
    "## 방금 만든 initcap 함수를 이용해서 이름을 출력 하는데  \n",
    "## 이름의 첫번째 철자 대문자 나머지 철자는 소문자로 출력하시오!"
   ]
  },
  {
   "cell_type": "code",
   "execution_count": 75,
   "metadata": {},
   "outputs": [
    {
     "name": "stdout",
     "output_type": "stream",
     "text": [
      "    EMPNO   ENAME        JOB     MGR   HIREDATE     SAL    COMM  DEPTNO  \\\n",
      "0    7839    KING  PRESIDENT     NaN 1981-11-17  5000.0  9000.0      10   \n",
      "1    7698   BLAKE    MANAGER  7839.0 1981-05-01  2850.0  9000.0      30   \n",
      "2    7782   CLARK    MANAGER  7839.0 1981-05-09  2450.0  9000.0      10   \n",
      "3    7566   JONES    MANAGER  7839.0 1981-04-01  2975.0  9000.0      20   \n",
      "4    7654  MARTIN   SALESMAN  7698.0 1981-09-10  1250.0  9000.0      30   \n",
      "5    7499   ALLEN   SALESMAN  7698.0 1981-02-11  1600.0   300.0      30   \n",
      "6    7844  TURNER   SALESMAN  7698.0 1981-08-21  1500.0  9000.0      30   \n",
      "7    7900   JAMES      CLERK  7698.0 1981-12-11   950.0  9000.0      30   \n",
      "8    7521    WARD   SALESMAN  7698.0 1981-02-23  1250.0  9000.0      30   \n",
      "9    7902    FORD    ANALYST  7566.0 1981-12-11  3000.0  9000.0      20   \n",
      "10   7369   SMITH      CLERK  7902.0 1980-12-09   800.0     NaN      30   \n",
      "11   7788   SCOTT    ANALYST  7566.0 1982-12-22  5000.0  9000.0      20   \n",
      "12   7876   ADAMS      CLERK  7788.0 1983-01-15  1100.0  9000.0      20   \n",
      "13   7934  MILLER      CLERK  7782.0 1982-01-11  1300.0  9000.0      10   \n",
      "\n",
      "      SAL2       LOC  GRADE  \n",
      "0   5000.0  NEW YORK      5  \n",
      "1   2850.0   CHICAGO      4  \n",
      "2   2450.0  NEW YORK      4  \n",
      "3   2975.0    DALLAS      4  \n",
      "4   1250.0   CHICAGO      2  \n",
      "5   1600.0   CHICAGO      3  \n",
      "6   1500.0   CHICAGO      3  \n",
      "7    950.0   CHICAGO      1  \n",
      "8   1250.0   CHICAGO      2  \n",
      "9   3000.0    DALLAS      4  \n",
      "10   800.0   CHICAGO      1  \n",
      "11  3000.0    DALLAS      5  \n",
      "12  1100.0    DALLAS      1  \n",
      "13  1300.0  NEW YORK      2  \n"
     ]
    }
   ],
   "source": [
    "import  cx_Oracle  # 오라클과 파이썬을 연동하기 위한 모듈\n",
    "\n",
    "import  cx_Oracle  # 오라클과 파이썬을 연동하기 위한 모듈\n",
    "\n",
    "import  pandas  as  pd\n",
    "\n",
    "dsn = cx_Oracle.makedsn(\"localhost\", 1521, \"orcl\")\n",
    "\n",
    "db = cx_Oracle.connect(\"scott\", \"tiger\", dsn)\n",
    "\n",
    "cursor = db.cursor()\n",
    "\n",
    "cursor.execute(\"select * from emp\")\n",
    "\n",
    "row = cursor.fetchall()\n",
    "\n",
    "colname = cursor.description\n",
    "\n",
    "cursor.close()\n",
    "\n",
    "\n",
    "\n",
    "col=[]\n",
    "\n",
    "for i in colname:\n",
    "\n",
    "    col.append(i[0])\n",
    "\n",
    "emp = pd.DataFrame(row, columns=col)\n",
    "\n",
    "\n",
    "print(initcap(emp[['ENAME']]))"
   ]
  },
  {
   "cell_type": "markdown",
   "metadata": {},
   "source": [
    "## 점심시간 문제:\n",
    "## 몬테카를로 알고리즘을 원주율 구하는 코드를 아래와 같이     \n",
    "## 함수로 구현하시오!  \n",
    "## print(monteca(100000))   -> 3.14949..."
   ]
  },
  {
   "cell_type": "code",
   "execution_count": 40,
   "metadata": {},
   "outputs": [
    {
     "name": "stdout",
     "output_type": "stream",
     "text": [
      "3.14096\n"
     ]
    }
   ],
   "source": [
    "import random\n",
    "\n",
    "def monteca(val):\n",
    "    \n",
    "    a = val\n",
    "    c = 0\n",
    "\n",
    "    for i in range(0,a+1):\n",
    "\n",
    "        if pow(random.uniform(0,1),2) + pow(random.uniform(0,1),2) <= 1:\n",
    "            c += 1\n",
    "\n",
    "    result = (c/a * 4)\n",
    "    \n",
    "    return result\n",
    "\n",
    "print(monteca(100000))"
   ]
  },
  {
   "cell_type": "markdown",
   "metadata": {},
   "source": [
    "## 예제40. 함수 인자 이해하기\n",
    "\n",
    "인자의 위치에 실제값을 대입하여 함수를 호출하면   \n",
    "인자 순서에 대응되는 값을 함수 코드에 대입하여 실행하게 된다.\n"
   ]
  },
  {
   "cell_type": "code",
   "execution_count": 5,
   "metadata": {},
   "outputs": [
    {
     "name": "stdout",
     "output_type": "stream",
     "text": [
      "파이썬 베스트\n",
      "None\n"
     ]
    }
   ],
   "source": [
    "def add_text(t1, t2):\n",
    "    print(t1 + ' ' + t2)\n",
    "    \n",
    "print(add_text('파이썬','베스트'))"
   ]
  },
  {
   "cell_type": "code",
   "execution_count": 3,
   "metadata": {},
   "outputs": [
    {
     "name": "stdout",
     "output_type": "stream",
     "text": [
      "파이썬 베스트\n"
     ]
    }
   ],
   "source": [
    "def add_text(t1, t2):\n",
    "    return(t1 + ' ' + t2)\n",
    "    \n",
    "print(add_text('파이썬','베스트'))"
   ]
  },
  {
   "cell_type": "code",
   "execution_count": 2,
   "metadata": {},
   "outputs": [
    {
     "name": "stdout",
     "output_type": "stream",
     "text": [
      "파이썬 최고\n"
     ]
    }
   ],
   "source": [
    "def add_text(t1,t2= '최고'): # t2 = '최고' 라고 default값을 명시\n",
    "    return(t1 + ' ' + t2)\n",
    "    \n",
    "print(add_text('파이썬'))"
   ]
  },
  {
   "cell_type": "code",
   "execution_count": 4,
   "metadata": {},
   "outputs": [
    {
     "name": "stdout",
     "output_type": "stream",
     "text": [
      "파이썬 베스트\n"
     ]
    }
   ],
   "source": [
    "def add_text(t1,t2= '최고'): # t2 = '최고' 라고 default값을 명시\n",
    "    return(t1 + ' ' + t2)\n",
    "    \n",
    "print(add_text('파이썬', '베스트'))"
   ]
  },
  {
   "cell_type": "code",
   "execution_count": null,
   "metadata": {},
   "outputs": [],
   "source": [
    "def add_text(t1,t2= '최고'): # t2 = '최고' 라고 default값을 명시\n",
    "    return(t1 + ' ' + t2)\n",
    "\n",
    "print(add_text('파이썬'))    #t2 값을 따로 명시하지 않았으므로 '최고' 라는 값이 들어감.\n",
    "print(add_text('파이썬', '베스트'))"
   ]
  },
  {
   "cell_type": "markdown",
   "metadata": {},
   "source": [
    "## 문제81. 아래와 같이 실행을 하면 아래의 결과가 출력 될 수 있도록  \n",
    "## add_text 함수를 생성하시오!\n",
    "\n",
    "print(add_text())\n",
    "파이썬 최고"
   ]
  },
  {
   "cell_type": "code",
   "execution_count": 7,
   "metadata": {},
   "outputs": [
    {
     "name": "stdout",
     "output_type": "stream",
     "text": [
      "파이썬 최고\n"
     ]
    }
   ],
   "source": [
    "def add_text(t1 = '파이썬', t2 = '최고'):\n",
    "    return(t1 + ' ' + t2)\n",
    "\n",
    "print(add_text())"
   ]
  },
  {
   "cell_type": "code",
   "execution_count": 8,
   "metadata": {},
   "outputs": [
    {
     "name": "stdout",
     "output_type": "stream",
     "text": [
      "자바 좋음\n"
     ]
    }
   ],
   "source": [
    "#참고: default값을 안넣었을 경우!\n",
    "\n",
    "def add_text(t1 = '파이썬', t2 = '최고'):\n",
    "    return(t1 + ' ' + t2)\n",
    "\n",
    "print(add_text('자바', '좋음'))"
   ]
  },
  {
   "cell_type": "markdown",
   "metadata": {},
   "source": [
    "## ※가변 매개변수 사용하는 방법"
   ]
  },
  {
   "cell_type": "code",
   "execution_count": 9,
   "metadata": {},
   "outputs": [
    {
     "name": "stdout",
     "output_type": "stream",
     "text": [
      "(2,)\n",
      "(2, 3, 4)\n",
      "(1, 2, 3, 4, 5, 6)\n"
     ]
    }
   ],
   "source": [
    "def func1(*args): # 변수를 몇개를 넣어도 상관이없다 ( *매개변수명 )\n",
    "    return(args)\n",
    "\n",
    "print(func1(2))\n",
    "print(func1(2,3,4))\n",
    "print(func1(1,2,3,4,5,6)) #결과는 튜플형태로 나옴"
   ]
  },
  {
   "cell_type": "markdown",
   "metadata": {},
   "source": [
    "## 문제82.  \n",
    "## 가변 매개변수를 이용해서 문자 단어를 여러개 담아 출력하는 함수를  \n",
    "## 아래와 같이 생성하시오!\n",
    "\n",
    "print(merge_string('아버지가', '방에', '들어가시려다가', '부엌으로', '가셔서',  \n",
    "'짜장면이', '싫다고', '하셨어요') )  \n",
    "\n",
    "__결과__ : 아버지가 방에 들어가시려다가 부엌으로 가셔서 짜장면이 싫다고 하셨어요.  "
   ]
  },
  {
   "cell_type": "code",
   "execution_count": 11,
   "metadata": {},
   "outputs": [
    {
     "name": "stdout",
     "output_type": "stream",
     "text": [
      "아버지가 방에 들어가시려다가 부엌으로 가셔서 짜장면이 싫다고 하셨어요 \n"
     ]
    }
   ],
   "source": [
    "def merge_string(*text_list):\n",
    "    \n",
    "    result = ''\n",
    "    for text in text_list: # 튜플안에 요소들을 빼내려면('' 을 빼내려면) for문을 써야한다.\n",
    "        result = result + text + ' '\n",
    "    return result\n",
    "\n",
    "\n",
    "print(merge_string('아버지가', '방에', '들어가시려다가', '부엌으로', '가셔서',\n",
    "'짜장면이', '싫다고', '하셨어요') )"
   ]
  },
  {
   "cell_type": "markdown",
   "metadata": {},
   "source": [
    "### ※ 가변 매개변수를 이용해서 함수를 생성하면 실행할 때 매개변수를 10개,20개,   \n",
    "### ... 몇개를 입력해도 제대로 동작한다."
   ]
  },
  {
   "cell_type": "markdown",
   "metadata": {},
   "source": [
    "## 예제41. 지역변수와 전역변수 이해하기\n",
    "\n",
    "변수는 자신이 생성된 범위(코드블럭) 안에서만 유효하다.  \n",
    "함수 안에서 만든 변수는 함수 안에서만 살아 있다가  \n",
    "함수 코드의 실행이 종료되면 그 생명을 다한다.  \n",
    "이것을 __'지역변수'__ 라고 한다.   __as like '스타벅스 전용 머그컵'__\n",
    "\n",
    "이와는 반대로 함수 외부에서 만든 변수는 프로그램이 살아있는 동안에  \n",
    "함께 살아있다가 프로그램이 종료되면 같이 소멸된다.  \n",
    "이렇게 프로그램 전체를 유효범위로 가지는 변수를 __'전역변수'__ 라고 한다.  __as like '텀블러'__\n"
   ]
  },
  {
   "cell_type": "code",
   "execution_count": 12,
   "metadata": {},
   "outputs": [
    {
     "name": "stdout",
     "output_type": "stream",
     "text": [
      "지역변수\n"
     ]
    }
   ],
   "source": [
    "strdata = '전역변수'\n",
    "def func1(): #매개변수가 없이 만들때 이렇게 이용\n",
    "    strdata = '지역변수'\n",
    "    return strdata\n",
    "\n",
    "print(func1())"
   ]
  },
  {
   "cell_type": "code",
   "execution_count": 15,
   "metadata": {},
   "outputs": [
    {
     "name": "stdout",
     "output_type": "stream",
     "text": [
      "10\n"
     ]
    }
   ],
   "source": [
    "param = 10\n",
    "\n",
    "def func2(param):\n",
    "    param = 1\n",
    "\n",
    "func2(param)\n",
    "\n",
    "print(param)"
   ]
  },
  {
   "cell_type": "code",
   "execution_count": null,
   "metadata": {},
   "outputs": [],
   "source": [
    "param = 10\n",
    "def func3():\n",
    "    global param #함수 내부에서 함수 바깥에서 선언한 전역변수를 \n",
    "    param = 50 # 사용하려면 global이라는 키워드를 명시하면 된다.\n",
    "    \n",
    "func3()\n",
    "print(param)"
   ]
  },
  {
   "cell_type": "markdown",
   "metadata": {},
   "source": [
    "## 설명 : 대부분 지역변수를 사용한다.\n",
    "\n",
    "- __전역변수는 언제 사용하는가?__\n",
    "\n",
    "프로그램 전체에서 공통적으로 사용되고 잘 변하지 않는 데이터는 전역변수로 사용한다.\n",
    "\n",
    "__예 >__\n",
    "\n",
    "pi = 3.141592653589793"
   ]
  },
  {
   "cell_type": "code",
   "execution_count": null,
   "metadata": {},
   "outputs": [],
   "source": [
    "pi = 3.141592653589793\n",
    "\n",
    "def cycle_func1(v_r): #원의 넓이를 구하는 함수\n",
    "    global pi\n",
    "    return (pi* v_r * v_r)\n",
    "\n",
    "def cycle_func2(v_r): #원의 1/4인 부채꼴의 넓이를 구하는 함수\n",
    "    global pi #global이 붙으면 지역변수 아니면, 싹다 지역변수\n",
    "    return (1/4 * (pi*v_r*v_r))\n",
    "\n",
    "print( cycle_func1(5))\n",
    "print( cycle_func2(5))"
   ]
  },
  {
   "cell_type": "markdown",
   "metadata": {},
   "source": [
    "## 예제42. 리턴값 이해하기(return)\n",
    "\n",
    "모든 함수는 이름을 가지고 있다.  \n",
    "이 이름을 불러주면 파이썬은 그 이름 아래에 정의되어 있는 코드를 실행한다.  \n",
    "이때 함수를 부르는 행위를 ___호출___이라고 하고  \n",
    "함수를 부르는 코드를 ___호출자___라고 한다.  \n",
    "함수가 호출자에게 결과를 돌려주는 것을 ___반환(return)___이라고 한다."
   ]
  },
  {
   "cell_type": "code",
   "execution_count": null,
   "metadata": {},
   "outputs": [],
   "source": [
    "def monteca(size):\n",
    "    count = 0\n",
    "    for i in range(size):\n",
    "        a = random.uniform(0,1)\n",
    "        b = random.uniform(0,1)\n",
    "        \n",
    "        if a**2 + b**2 <1 : \n",
    "            count+=1\n",
    "        return(count/size*4)\n",
    "\n",
    "print(monteca(100000)) #호출자"
   ]
  },
  {
   "cell_type": "markdown",
   "metadata": {},
   "source": [
    "## 절대값 출력하는 함수 (무조건 양수로 출력하는 함수)"
   ]
  },
  {
   "cell_type": "code",
   "execution_count": 22,
   "metadata": {},
   "outputs": [
    {
     "name": "stdout",
     "output_type": "stream",
     "text": [
      "9\n",
      "9\n"
     ]
    }
   ],
   "source": [
    "print(abs(-9)) \n",
    "print(abs(9))"
   ]
  },
  {
   "cell_type": "markdown",
   "metadata": {},
   "source": [
    "## 문제83. abs 함수를 사용하지 말고 if 문을 이용해서 절대값을 출력하는\n",
    "## my_abs라는 함수를 생성하시오!  \n",
    "\n",
    "\n",
    "print(my_abs(-9) #9  \n",
    "print(my_abs(9)) #9  "
   ]
  },
  {
   "cell_type": "code",
   "execution_count": 34,
   "metadata": {},
   "outputs": [
    {
     "name": "stdout",
     "output_type": "stream",
     "text": [
      "9\n",
      "9\n",
      "0\n"
     ]
    }
   ],
   "source": [
    "def my_abs(val):\n",
    "    \n",
    "    if val > 0:\n",
    "        val = val\n",
    "    elif val < 0:\n",
    "        val = -val\n",
    "    \n",
    "    else:\n",
    "        val = 0\n",
    "    \n",
    "    return val\n",
    "\n",
    "print(my_abs(-9))\n",
    "print(my_abs(9))\n",
    "print(my_abs(0))"
   ]
  },
  {
   "cell_type": "code",
   "execution_count": 32,
   "metadata": {},
   "outputs": [
    {
     "name": "stdout",
     "output_type": "stream",
     "text": [
      "9\n",
      "9\n",
      "0\n"
     ]
    }
   ],
   "source": [
    "def my_abs(data):\n",
    "    if data < 0:\n",
    "        return -1 * data\n",
    "    \n",
    "    else:\n",
    "        return data\n",
    "    \n",
    "print(my_abs(-9))\n",
    "print(my_abs(9))\n",
    "print(my_abs(0))"
   ]
  },
  {
   "cell_type": "markdown",
   "metadata": {},
   "source": [
    "## 예제43. 파이썬 모듈 이해하기\n",
    "\n",
    "파이썬에서는 각각의 소스 파일을 일컬어 모듈이라고 한다.  \n",
    "이미 만들어져 있고 안정성이 검증된 함수들을 성격에 맞게  \n",
    "하나의 파일로 묶어 놓은 것을 __모듈__이라고 한다.  __(여러가지 함수를 묶어서 보관하는 소스코드 = 모듈)__\n",
    "\n",
    "외부의 모듈에 있는 함수를 사용하려면 이 모듈을 먼저 우리 코드로 가져와서  \n",
    "자유롭게 사용할 수 있도록 해야 하는데 이런 일을 파이썬에서는  \n",
    "모듈을 __import__한다라고 한다."
   ]
  },
  {
   "cell_type": "code",
   "execution_count": null,
   "metadata": {},
   "outputs": [],
   "source": [
    "import time\n",
    "print('5초간 프로그램을 정지 합니다.')\n",
    "time.sleep(5)\n",
    "print('5초가 지났습니다.')"
   ]
  },
  {
   "cell_type": "markdown",
   "metadata": {},
   "source": [
    "## 문제84.  \n",
    "## 메모장을 열고 아래의 2개의 함수를 가지고 있는 모듈을 생성하고 저장을하는데  \n",
    "## oracle_func.py 라는 이름으로 저장하시오! "
   ]
  },
  {
   "cell_type": "markdown",
   "metadata": {},
   "source": [
    "## 예제44. 파이썬 패키지 이해하기  \n",
    "\n",
    "우리가 음악파일을 저장할 때도 장르별로 폴더를 만들어서 별도로 저장하듯이  \n",
    "파이썬 모듈도 음악처럼 갯수가 많아지면 폴더(모듈 꾸러미) 별로  \n",
    "별도 관리를 해야 관리가 편해지는데 이 폴더가 바로 __\"패키지\"__이다.\n",
    "\n",
    "( many 함수 --> 모듈   \n",
    "  many 모듈 --> 패키지)  \n",
    "\n",
    "- 파이썬 패키지를 만드는 단계\n",
    "\n",
    "    1. 아래의 디렉토리에 my_loc라는 폴더를 생성한다.\n",
    "    \n",
    "    c:\\users\\stu\n",
    "    \n",
    "    c:\\users\\stu\\my_loc  \n",
    "    \n",
    "    2. 이 평범한 폴더가 패키지로 인정을 받으려면 반드시 갖고 있어야하는 파일이 있다.\n",
    "    \n",
    "      __init__.py  (대체로 이 파일의 내용을 비워둔다.)  \n",
    "      \n",
    "      \n",
    "    3. my_loc 폴더에서 oracle_func.py를 가져다 놓는다.  \n",
    "    (원래 폴더에 있었던 oracle_func.py는 삭제한다.)\n",
    "    \n",
    "    \n",
    "    c:\\users\\stu\\my_loc\n",
    "    \n",
    "                     l  \n",
    "                     oracle_func.py  \n",
    "                     __init__.py\n",
    "                     \n",
    "    4. 스파이더에서 아래의 코드를 실행한다."
   ]
  },
  {
   "cell_type": "code",
   "execution_count": null,
   "metadata": {},
   "outputs": [],
   "source": [
    "from my_loc import oracle_func # from 패키지 import 모듈명\n",
    "\n",
    "print( oracle_func.instr('smith','m'))"
   ]
  },
  {
   "cell_type": "markdown",
   "metadata": {},
   "source": [
    "## 문제85.   \n",
    "## 점심시간 문제로 만든 moteca 함수를 저장하는 모듈과  \n",
    "## 패키지를 만들고 아래와 같이 실행될 수 있도록 하시오!  \n",
    "\n",
    "from my_loc2 import probability\n",
    "\n",
    "print(probability.moteca(10000))\n",
    "\n",
    "3.14....."
   ]
  },
  {
   "cell_type": "code",
   "execution_count": null,
   "metadata": {},
   "outputs": [],
   "source": [
    "#메모장에 moteca 함수내용을 붙여넣기한후 파일이름을 probability.py로 저장\n",
    "# stu폴더 my_loc2를 만든후 붙여넣기\n",
    "# __init__.py 파일 만들기\n",
    "\n",
    "\n",
    "\n",
    "from my_loc import probability\n",
    "\n",
    "print( probability.monteca(10000))"
   ]
  },
  {
   "cell_type": "markdown",
   "metadata": {},
   "source": [
    "## 문제86.  \n",
    "## 패키지 안에 __init__.py를 비워두는게 보통인데 이파일에 내용을 채워넣는 경우는 언제인가?  \n",
    "\n",
    "\n",
    "### 답:\n",
    "\\__init__.py 열어서 아래의 내용을 적고 저장한다.  \n",
    "\\__all__  = ['oracle_fun', 'machine_learn', 'status_func']\n",
    "\n",
    "c:\\\\users\\stu\\my_loc\n",
    "\n",
    "                  l\n",
    "                  __init__.py  \n",
    "                  oracle_func.py  \n",
    "                  mahcine_learn.py  \n",
    "                  status_func.py  \n",
    "                  \n",
    "이렇게 해놓으면  \n",
    "\n",
    "from my_loc import * 를 사용할 수 있다.  \n"
   ]
  },
  {
   "cell_type": "markdown",
   "metadata": {},
   "source": [
    "## 예제45. 파이썬 모듈 임포트 이해하기 (import)\n",
    "\n",
    "이미 만들어져 있는 어떤 함수를 우리가 작성하는 코드에서  \n",
    "자유롭게 활용할 수 있으려면 해당 함수가 포함된 모듈을 임폴트 해야한다.  \n",
    "입폴트 하는 방법은 다음과 같다.  \n",
    "\n",
    "import 모듈이름  \n",
    "import 패키지이름.모듈이름  \n",
    "from 패키지 import 모듈이름  \n",
    "\n",
    "\n",
    "__예제:__\n",
    "\n",
    "import pandas  \n",
    "import math  \n",
    "import time  \n",
    "\n",
    "\n",
    "- 패키지 이름을 안주고 잘 실행 된다는 것은?\n",
    "\n",
    "    1. 파이썬 내장모듈  \n",
    "    2. sys.path에 정의되어 있는 모듈\n",
    "\n",
    "- import문을 만나면 파이썬 모듈을 찾는 순서\n",
    "    \n",
    "    1. 파이썬 내장 모듈  \n",
    "    2. sys.path에 정의 되어있는 디렉토리\n",
    "    \n",
    "    \n",
    "- 파이썬 내장 모듈이 무엇이 있는지 확인하는 방법"
   ]
  },
  {
   "cell_type": "code",
   "execution_count": 44,
   "metadata": {},
   "outputs": [
    {
     "name": "stdout",
     "output_type": "stream",
     "text": [
      "('_abc', '_ast', '_bisect', '_blake2', '_codecs', '_codecs_cn', '_codecs_hk', '_codecs_iso2022', '_codecs_jp', '_codecs_kr', '_codecs_tw', '_collections', '_contextvars', '_csv', '_datetime', '_functools', '_heapq', '_imp', '_io', '_json', '_locale', '_lsprof', '_md5', '_multibytecodec', '_opcode', '_operator', '_pickle', '_random', '_sha1', '_sha256', '_sha3', '_sha512', '_signal', '_sre', '_stat', '_string', '_struct', '_symtable', '_thread', '_tracemalloc', '_warnings', '_weakref', '_winapi', 'array', 'atexit', 'audioop', 'binascii', 'builtins', 'cmath', 'errno', 'faulthandler', 'gc', 'itertools', 'marshal', 'math', 'mmap', 'msvcrt', 'nt', 'parser', 'sys', 'time', 'winreg', 'xxsubtype', 'zipimport', 'zlib')\n"
     ]
    }
   ],
   "source": [
    "import sys\n",
    "print(sys.builtin_module_names)"
   ]
  },
  {
   "cell_type": "markdown",
   "metadata": {},
   "source": [
    "- sys.path에 정의된 디렉토리가 무엇인지 확인하는 방법"
   ]
  },
  {
   "cell_type": "code",
   "execution_count": 46,
   "metadata": {},
   "outputs": [
    {
     "name": "stdout",
     "output_type": "stream",
     "text": [
      "C:\\Users\\wdp\\Desktop\\Pythonlesson\n",
      "C:\\Users\\wdp\\Anaconda3\\python37.zip\n",
      "C:\\Users\\wdp\\Anaconda3\\DLLs\n",
      "C:\\Users\\wdp\\Anaconda3\\lib\n",
      "C:\\Users\\wdp\\Anaconda3\n",
      "\n",
      "C:\\Users\\wdp\\Anaconda3\\lib\\site-packages\n",
      "C:\\Users\\wdp\\Anaconda3\\lib\\site-packages\\win32\n",
      "C:\\Users\\wdp\\Anaconda3\\lib\\site-packages\\win32\\lib\n",
      "C:\\Users\\wdp\\Anaconda3\\lib\\site-packages\\Pythonwin\n",
      "C:\\Users\\wdp\\Anaconda3\\lib\\site-packages\\IPython\\extensions\n",
      "C:\\Users\\wdp\\.ipython\n"
     ]
    }
   ],
   "source": [
    "import sys\n",
    "for path in sys.path:\n",
    "    print(path)"
   ]
  },
  {
   "cell_type": "markdown",
   "metadata": {},
   "source": [
    "C:\\Users\\wdp\\Desktop\\Pythonlesson\n",
    "C:\\Users\\wdp\\Anaconda3\\python37.zip\n",
    "C:\\Users\\wdp\\Anaconda3\\DLLs\n",
    "C:\\Users\\wdp\\Anaconda3\\lib\n",
    "C:\\Users\\wdp\\Anaconda3\n",
    "\n",
    "### C:\\Users\\wdp\\Anaconda3\\lib\\site-packages (매우중요)\n",
    "C:\\Users\\wdp\\Anaconda3\\lib\\site-packages\\win32\n",
    "C:\\Users\\wdp\\Anaconda3\\lib\\site-packages\\win32\\lib\n",
    "C:\\Users\\wdp\\Anaconda3\\lib\\site-packages\\Pythonwin\n",
    "C:\\Users\\wdp\\Anaconda3\\lib\\site-packages\\IPython\\extensions\n",
    "C:\\Users\\wdp\\.ipython\n",
    "\n",
    "### site-packages 란?\n",
    "\n",
    "site-packages 란 파이썬의 기본 라이브러리 패키지 외에 추가적인 패키지를 설치하는 디렉토리다.  \n",
    "site-packages 디렉토리에 여러가지 소프트웨어가 사용할 공통 모듈을 넣어두면 물리적인 장소에 구애받지 않고  \n",
    "모듈에 접근하여 반입할 수 있다.\n",
    "\n",
    "\n",
    "site-packages 경로에만 있으면, 어디로 설치를 하던 상관없이 import 된다!\n",
    "\n"
   ]
  },
  {
   "cell_type": "markdown",
   "metadata": {},
   "source": [
    "## 5시에 스터디 진행. 스터디 조장의 지도하에 알고리즘 스터디 진행"
   ]
  },
  {
   "cell_type": "code",
   "execution_count": null,
   "metadata": {},
   "outputs": [],
   "source": []
  }
 ],
 "metadata": {
  "kernelspec": {
   "display_name": "Python 3",
   "language": "python",
   "name": "python3"
  },
  "language_info": {
   "codemirror_mode": {
    "name": "ipython",
    "version": 3
   },
   "file_extension": ".py",
   "mimetype": "text/x-python",
   "name": "python",
   "nbconvert_exporter": "python",
   "pygments_lexer": "ipython3",
   "version": "3.7.4"
  }
 },
 "nbformat": 4,
 "nbformat_minor": 2
}
