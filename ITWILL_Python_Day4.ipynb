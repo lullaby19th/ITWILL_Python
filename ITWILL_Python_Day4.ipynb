{
 "cells": [
  {
   "cell_type": "markdown",
   "metadata": {},
   "source": [
    "# ＊점심시간 문제(11월 25일)\n",
    "\n",
    "### 동전 2개를 동시에 던졌을 때 둘다 앞면이 나올 확률은?\n",
    "\n",
    "### 동전 2개를 동시에 10만번 던지시오."
   ]
  },
  {
   "cell_type": "code",
   "execution_count": 5,
   "metadata": {
    "scrolled": true
   },
   "outputs": [
    {
     "name": "stdout",
     "output_type": "stream",
     "text": [
      "0.25159\n"
     ]
    }
   ],
   "source": [
    "import random\n",
    "\n",
    "a = 0\n",
    "b = 0\n",
    "x = 0\n",
    "for i in range(100000):\n",
    "\n",
    "    a = random.randint(0,1)\n",
    "    b = random.randint(0,1)\n",
    "\n",
    "    if a==1 and b==1:\n",
    "        x+=1\n",
    "        \n",
    "print(x/100000)"
   ]
  },
  {
   "cell_type": "markdown",
   "metadata": {},
   "source": [
    "#  ■예제27. 시퀀스 자료 인덱싱 이해하기\n",
    "\n",
    "인덱싱(indexing) 이란 시퀀스 자료형에서 인덱스를 통해 해당하는 값을 얻는 방법이다.\n",
    "파이썬에서는 인덱스를 0부터 시작하며, 음수인 인덱수도 사용이 가능하다.\n",
    "음수 인덱스는 '끝에서 몇 번째' 라는 의미와 같다.\n"
   ]
  },
  {
   "cell_type": "markdown",
   "metadata": {},
   "source": [
    "## 문제48. SALESMAN이 들어있는 strdata 변수에서 맨 끝에 N을 출력하시오."
   ]
  },
  {
   "cell_type": "code",
   "execution_count": 6,
   "metadata": {},
   "outputs": [
    {
     "name": "stdout",
     "output_type": "stream",
     "text": [
      "N\n"
     ]
    }
   ],
   "source": [
    "strdata = 'SALESMAN'\n",
    "\n",
    "print(strdata[-1])"
   ]
  },
  {
   "cell_type": "markdown",
   "metadata": {},
   "source": [
    "## 문제49. 아래의 listdata 변수에서 숫자 4를 출력하시오!\n",
    "\n",
    "listdata = [1,2,[4,5,6]"
   ]
  },
  {
   "cell_type": "code",
   "execution_count": 18,
   "metadata": {},
   "outputs": [
    {
     "name": "stdout",
     "output_type": "stream",
     "text": [
      "4\n"
     ]
    }
   ],
   "source": [
    "listdata = [1,2,[4,5,6]]\n",
    "\n",
    "print(listdata[2][0])"
   ]
  },
  {
   "cell_type": "markdown",
   "metadata": {},
   "source": [
    "print(listdata[0]) #1\n",
    "\n",
    "print(listdata[1]) #2\n",
    "\n",
    "print(listdata[2]) #[4,5,6]\n",
    "\n",
    "print(listdata[2][0]) #4"
   ]
  },
  {
   "attachments": {},
   "cell_type": "markdown",
   "metadata": {},
   "source": [
    "## ＊예제28. 시퀀스 자료 슬라이싱 이해하기\n",
    "\n",
    "인덱싱은 인덱스에 해당하는 요소 하나를 취하는 방법이지만\n",
    "슬라이싱은 시퀀스 자료에서 일정 범위에 해당하는 부분을 취하는 방법이다.\n",
    "\n",
    "__예 : [시작 인덱스 : 끝 인덱스: 스텝]__\n",
    "\n",
    "strdata = 'Time is money'\n",
    "\n",
    "print(strdata[1:5])  #ime\n",
    "\n",
    "print(strdata[:7]) #time is\n",
    "\n",
    "print(strdata[9:]) #oney\n",
    "\n",
    "print(strdata[:-3]) #time is mo\n",
    "\n",
    "print(strdata[-3:]) #ney\n",
    "\n",
    "print(strdata[:]) #time is money\n",
    "\n",
    "\n",
    "### Tip.\n",
    "\n",
    "print(strdata[::2]) #2는 step을 의미함 따라서, #Tm smny\n",
    "\n",
    "#### 처음부터 끝까지 읽는데 스텝을 2로해서 읽어라!\n"
   ]
  },
  {
   "attachments": {},
   "cell_type": "markdown",
   "metadata": {},
   "source": [
    "## 문제50. emp2.csv에서 이름을 출력하는데 이름의 첫번째 철자부터 세번째 철자까지만 출력하시오!\n",
    "## (판다스를 사용하지 말고 출력해볼것!)\n"
   ]
  },
  {
   "cell_type": "code",
   "execution_count": 9,
   "metadata": {},
   "outputs": [
    {
     "ename": "FileNotFoundError",
     "evalue": "[Errno 2] No such file or directory: 'd:\\\\data\\\\emp2.csv'",
     "output_type": "error",
     "traceback": [
      "\u001b[1;31m---------------------------------------------------------------------------\u001b[0m",
      "\u001b[1;31mFileNotFoundError\u001b[0m                         Traceback (most recent call last)",
      "\u001b[1;32m<ipython-input-9-dc108ef525f2>\u001b[0m in \u001b[0;36m<module>\u001b[1;34m\u001b[0m\n\u001b[0;32m      1\u001b[0m \u001b[1;32mimport\u001b[0m \u001b[0mcsv\u001b[0m\u001b[1;33m\u001b[0m\u001b[1;33m\u001b[0m\u001b[0m\n\u001b[0;32m      2\u001b[0m \u001b[1;33m\u001b[0m\u001b[0m\n\u001b[1;32m----> 3\u001b[1;33m \u001b[0mfile\u001b[0m \u001b[1;33m=\u001b[0m \u001b[0mopen\u001b[0m\u001b[1;33m(\u001b[0m\u001b[1;34m\"d:\\\\data\\emp2.csv\"\u001b[0m\u001b[1;33m,\u001b[0m \u001b[1;34m'r'\u001b[0m\u001b[1;33m)\u001b[0m\u001b[1;33m\u001b[0m\u001b[1;33m\u001b[0m\u001b[0m\n\u001b[0m\u001b[0;32m      4\u001b[0m \u001b[1;33m\u001b[0m\u001b[0m\n\u001b[0;32m      5\u001b[0m \u001b[0memp_csv\u001b[0m \u001b[1;33m=\u001b[0m \u001b[0mcsv\u001b[0m\u001b[1;33m.\u001b[0m\u001b[0mreader\u001b[0m\u001b[1;33m(\u001b[0m\u001b[0mfile\u001b[0m\u001b[1;33m)\u001b[0m\u001b[1;33m\u001b[0m\u001b[1;33m\u001b[0m\u001b[0m\n",
      "\u001b[1;31mFileNotFoundError\u001b[0m: [Errno 2] No such file or directory: 'd:\\\\data\\\\emp2.csv'"
     ]
    }
   ],
   "source": [
    "import csv\n",
    "\n",
    "file = open(\"d:\\\\data\\emp2.csv\", 'r')\n",
    "\n",
    "emp_csv = csv.reader(file)\n",
    "\n",
    "for emp_list in emp_csv:\n",
    "    print(emp_list[1][0:3])"
   ]
  },
  {
   "attachments": {},
   "cell_type": "markdown",
   "metadata": {},
   "source": [
    "## 문제51. 아래의 SQL을 파이썬으로 구현하시오.\n",
    "\n",
    "__SQL>__ \n",
    "\n",
    "select substr(ename, -3)\n",
    "\n",
    "  from emp;\n",
    "\n"
   ]
  },
  {
   "cell_type": "code",
   "execution_count": null,
   "metadata": {},
   "outputs": [],
   "source": [
    "import csv\n",
    "\n",
    "file = open(\"d:\\\\data\\emp2.csv\", 'r')\n",
    "\n",
    "emp_csv = csv.reader(file)\n",
    "\n",
    "for emp_list in emp_csv:\n",
    "    print(emp_list[1][-3:])\n"
   ]
  },
  {
   "attachments": {},
   "cell_type": "markdown",
   "metadata": {},
   "source": [
    "## 예제29. 시퀀스 자료 연결 이해하기(+)\n",
    "자료형이 동일한 두 개의 시퀀스 자료는 + 연산자로 순서있게 연결하여 새로운 시퀀스 자료로 만들 수 있다.\n",
    "\n",
    "\n",
    "문자열 + 문자열, 리스트 + 리스트, 튜플 + 튜플과 같이 두 개의 동일한 시퀀스 자료형에 대해 '+' 연산자로 연결이 가능하다.\n",
    "\n",
    "예)\n",
    "\n",
    "strdata1 = 'I love  '\n",
    "\n",
    "strdata2 = 'Python'\n",
    "\n",
    "print( strdata1 + strdata2)!"
   ]
  },
  {
   "attachments": {},
   "cell_type": "markdown",
   "metadata": {},
   "source": [
    "## 문제52. 아래의 두개의 리스트를 연결하여 출력하시오!\n"
   ]
  },
  {
   "cell_type": "code",
   "execution_count": 10,
   "metadata": {},
   "outputs": [
    {
     "name": "stdout",
     "output_type": "stream",
     "text": [
      "[2, 3, 4, 5, 9, 2, 4, 8]\n"
     ]
    }
   ],
   "source": [
    "listdata1 = [2,3,4,5]\n",
    "\n",
    "listdata2 = [9,2,4,8]\n",
    "\n",
    "print(listdata1 + listdata2)"
   ]
  },
  {
   "attachments": {},
   "cell_type": "markdown",
   "metadata": {},
   "source": [
    "## 문제53. 아래의 SQL을 파이썬으로 구현하시오!\n",
    "__SQL>__\n",
    "\n",
    "Select initcap(ename)\n",
    "\n",
    "\n",
    " from emp;\n",
    " \n",
    " \n",
    "힌트 \n",
    "\n",
    "Emp_list[1].lower()   <---- 이름을 소문자로\n",
    "\n",
    "Emp_list[2].upper()   <--- 이름을 대문자로!"
   ]
  },
  {
   "cell_type": "code",
   "execution_count": 12,
   "metadata": {},
   "outputs": [
    {
     "ename": "FileNotFoundError",
     "evalue": "[Errno 2] No such file or directory: 'd:\\\\data\\\\emp2.csv'",
     "output_type": "error",
     "traceback": [
      "\u001b[1;31m---------------------------------------------------------------------------\u001b[0m",
      "\u001b[1;31mFileNotFoundError\u001b[0m                         Traceback (most recent call last)",
      "\u001b[1;32m<ipython-input-12-2d8da7898889>\u001b[0m in \u001b[0;36m<module>\u001b[1;34m\u001b[0m\n\u001b[0;32m      1\u001b[0m \u001b[1;32mimport\u001b[0m \u001b[0mcsv\u001b[0m\u001b[1;33m\u001b[0m\u001b[1;33m\u001b[0m\u001b[0m\n\u001b[0;32m      2\u001b[0m \u001b[1;33m\u001b[0m\u001b[0m\n\u001b[1;32m----> 3\u001b[1;33m \u001b[0mfile\u001b[0m \u001b[1;33m=\u001b[0m \u001b[0mopen\u001b[0m\u001b[1;33m(\u001b[0m\u001b[1;34m\"d:\\\\data\\\\emp2.csv\"\u001b[0m\u001b[1;33m,\u001b[0m \u001b[1;34m\"r\"\u001b[0m\u001b[1;33m)\u001b[0m\u001b[1;33m\u001b[0m\u001b[1;33m\u001b[0m\u001b[0m\n\u001b[0m\u001b[0;32m      4\u001b[0m \u001b[0memp_csv\u001b[0m \u001b[1;33m=\u001b[0m \u001b[0mcsv\u001b[0m\u001b[1;33m.\u001b[0m\u001b[0mreader\u001b[0m\u001b[1;33m(\u001b[0m\u001b[0mfile\u001b[0m\u001b[1;33m)\u001b[0m\u001b[1;33m\u001b[0m\u001b[1;33m\u001b[0m\u001b[0m\n\u001b[0;32m      5\u001b[0m \u001b[1;33m\u001b[0m\u001b[0m\n",
      "\u001b[1;31mFileNotFoundError\u001b[0m: [Errno 2] No such file or directory: 'd:\\\\data\\\\emp2.csv'"
     ]
    }
   ],
   "source": [
    "import csv \n",
    "\n",
    "file = open(\"d:\\\\data\\\\emp2.csv\", \"r\")\n",
    "emp_csv = csv.reader(file) \n",
    "\n",
    "for emp_list in emp_csv: \n",
    "    \n",
    "  \n",
    "    print(emp_list[1][0].upper() + emp_list[1][1:].lower())\n"
   ]
  },
  {
   "cell_type": "markdown",
   "metadata": {},
   "source": [
    "## 예제30. 시퀀스 자료 반복 이해하기(*)\n",
    "\n",
    "동일한 시퀀스 자료를 반복하여 새로운 시퀀스 자료를 만들고자 하면 별표(*) 연산자를 사용한다.\n",
    "\n",
    "__예제__\n",
    "\n",
    "print('a' * 7) #aaaaaaa\n",
    "\n",
    "print([1,2,3] * 5) #[1,2,3,1,2,3,1,2,3,1,2,3,1,2,3]"
   ]
  },
  {
   "cell_type": "markdown",
   "metadata": {},
   "source": [
    "## 문제54. 숫자를 물어보게 하고 숫자를 입력하면 아래의 결과가 출력되게 하시오!  \n",
    "(줄바꿈 = 띄워쓰기 두번후 enter)  \n",
    "\n",
    "숫자를 입력하세요 ~ 5  \n",
    "\n",
    "★  \n",
    "★★  \n",
    "★★★  \n",
    "★★★★  \n",
    "★★★★★  \n"
   ]
  },
  {
   "cell_type": "code",
   "execution_count": 13,
   "metadata": {},
   "outputs": [
    {
     "name": "stdout",
     "output_type": "stream",
     "text": [
      "숫자를 입력하세요5\n",
      "\n",
      "★\n",
      "★★\n",
      "★★★\n",
      "★★★★\n",
      "★★★★★\n"
     ]
    }
   ],
   "source": [
    "a = int(input('숫자를 입력하세요'))\n",
    "\n",
    "for i in range(0,a+1):\n",
    "    print(i*'★')\n",
    "    "
   ]
  },
  {
   "attachments": {},
   "cell_type": "markdown",
   "metadata": {},
   "source": [
    "## 문제55. 아래의 결과를 출력하시오!  \n",
    "\n",
    "숫자를 입력하세요 ~ 5\n",
    "\n",
    "             ★  \n",
    "           ★★  \n",
    "         ★★★  \n",
    "       ★★★★\n",
    "     ★★★★★  "
   ]
  },
  {
   "cell_type": "code",
   "execution_count": 17,
   "metadata": {},
   "outputs": [
    {
     "name": "stdout",
     "output_type": "stream",
     "text": [
      "숫자를 입력하세요5\n",
      "        ★\n",
      "      ★★\n",
      "    ★★★\n",
      "  ★★★★\n",
      "★★★★★\n"
     ]
    }
   ],
   "source": [
    "num = int(input('숫자를 입력하세요'))\n",
    "\n",
    "for i in range(1, num+1):\n",
    "    print((num-i) * '  ' + i*'★')"
   ]
  },
  {
   "cell_type": "markdown",
   "metadata": {},
   "source": [
    "## 예제31. 시퀀스 자료 크기 이해하기(len)\n",
    "\n",
    "모든 시퀀스 자료는 고정된 길이 또는 크기를 가지고 있습니다.\n",
    "시퀀스 자료의 크기는 시퀀스 자료를 구성하는 요소의 개수입니다.\n"
   ]
  },
  {
   "cell_type": "code",
   "execution_count": 19,
   "metadata": {},
   "outputs": [
    {
     "name": "stdout",
     "output_type": "stream",
     "text": [
      "7\n",
      "5\n"
     ]
    }
   ],
   "source": [
    "strdata = 'abcdefg'\n",
    "listdata = ['a', 'b', 'c', 'd', 'e']\n",
    "print(len(strdata)) #7\n",
    "print(len(listdata)) #5"
   ]
  },
  {
   "attachments": {},
   "cell_type": "markdown",
   "metadata": {},
   "source": [
    "## 문제56. 아래의 SQL을 파이썬으로 구현하시오!\n",
    "\n",
    "__SQL>__  \n",
    "select ename, length(ename)  \n",
    "from emp;"
   ]
  },
  {
   "cell_type": "code",
   "execution_count": null,
   "metadata": {},
   "outputs": [],
   "source": [
    "import csv\n",
    "file = open(\"d:\\\\data\\emp2.csv\", \"r\")\n",
    "emp_csv = csv.reader(file)\n",
    "for emp_list in emp_csv:\n",
    "    print(emp_list[1], len(emp_list[1]))"
   ]
  },
  {
   "cell_type": "markdown",
   "metadata": {},
   "source": [
    "## 예제32. 멤버체크 이해하기(in)\n",
    "\n",
    "In은 자료에 어떤 값이 있는지 없는지 확인할 때 사용하는 키워드이다.  \n",
    "활용하는 방법은 다음과 같다.\n",
    "\n",
    "__예제:__  \n",
    "\n",
    "값이 자료에 있으면 결과를 True이, 없으면 False가 된다.  \n"
   ]
  },
  {
   "cell_type": "code",
   "execution_count": 20,
   "metadata": {},
   "outputs": [
    {
     "name": "stdout",
     "output_type": "stream",
     "text": [
      "False\n",
      "True\n"
     ]
    }
   ],
   "source": [
    "listdata = [1,2,3,4]\n",
    "\n",
    "ret1 = 5 in listdata\n",
    "ret2 = 4 in listdata\n",
    "\n",
    "print(ret1) #False\n",
    "print(ret2) #True"
   ]
  },
  {
   "cell_type": "markdown",
   "metadata": {},
   "source": [
    "## 문제57. 겨울왕국 대본의 스크립트 한라인 한리인을 각각 list변수에 담으시오!"
   ]
  },
  {
   "cell_type": "code",
   "execution_count": null,
   "metadata": {},
   "outputs": [],
   "source": [
    "file = open(\"d:\\\\data\\winter.txt\", \"r\")\n",
    "for i in file:\n",
    "    a = i.split(' ')\n",
    "    print(a)"
   ]
  },
  {
   "cell_type": "markdown",
   "metadata": {},
   "source": [
    "### ※ 파이썬에서 콜론(:)을 사용하는 경우  \n",
    "\n",
    "1. if문\n",
    "2. loop 문\n",
    "3. 함수 이름\n",
    "4. 클래스 이름"
   ]
  },
  {
   "cell_type": "markdown",
   "metadata": {},
   "source": [
    "## 문제58. 위의 결과 리스트중 아무거나 하나 복사해서 아래와 같이 코드를 작성하시오!"
   ]
  },
  {
   "cell_type": "code",
   "execution_count": 21,
   "metadata": {},
   "outputs": [
    {
     "name": "stdout",
     "output_type": "stream",
     "text": [
      "talk\n",
      "like\n",
      "that.\n",
      "\n"
     ]
    }
   ],
   "source": [
    "k = ['talk', 'like', 'that.\\n']\n",
    "\n",
    "\n",
    "for j in k:\n",
    "    print(j)"
   ]
  },
  {
   "cell_type": "markdown",
   "metadata": {},
   "source": [
    "## 문제59. (점심시간문제2) 겨울왕국 대본 전체를 위와 같이 단어별로 출력되게 하시오.  \n",
    "## (힌트 : 이중 루프문을 사용하시오!!)"
   ]
  },
  {
   "cell_type": "code",
   "execution_count": null,
   "metadata": {},
   "outputs": [],
   "source": [
    "file = open(\"d:\\\\data\\winter.txt\", \"r\")\n",
    "for i in file:\n",
    "    a = i.split(' ')\n",
    "    for j in a:\n",
    "        print(j)\n"
   ]
  },
  {
   "cell_type": "markdown",
   "metadata": {},
   "source": [
    "## 문제60. 위의 스크립트에서 count함수를 사용해서 elsa가 나오면 1로 카운트 되게 하시오!"
   ]
  },
  {
   "cell_type": "code",
   "execution_count": null,
   "metadata": {},
   "outputs": [],
   "source": [
    "file = open(\"d:\\\\data\\winter.txt\", \"r\")\n",
    "for i in file:\n",
    "    a = i.split(' ')\n",
    "    for k in a:\n",
    "        print(k.lower(), k.lower().count('elsa'))"
   ]
  },
  {
   "cell_type": "markdown",
   "metadata": {},
   "source": [
    "## 문제61. 그러면 겨울왕국에서 elsa가 몇번 나오는가?"
   ]
  },
  {
   "cell_type": "code",
   "execution_count": null,
   "metadata": {},
   "outputs": [],
   "source": [
    "file = open(\"d:\\\\data\\winter.txt\", \"r\")\n",
    "sum = 0\n",
    "for i in file:\n",
    "    a = i.split(' ')\n",
    "    for k in a:\n",
    "        sum = sum + k.lower().count('elsa')\n",
    "print(sum)\n"
   ]
  },
  {
   "cell_type": "markdown",
   "metadata": {},
   "source": [
    "## 예제33. 문자열 이해하기\n",
    "\n",
    "문자열은 문자나 기호 순서로 나열되어 있는 시퀀스 자료이다.\n",
    "\n",
    "\n",
    "### ●문자열을 선언하는 방법 3가지  \n",
    "\n",
    "1. '문자열'      \n",
    "2. \"문자열\"   \n",
    "3. \"\"\"문자열\"\"\"    \n",
    "\n",
    "__예제:__  \n",
    "문자에 더블 쿼테이션 마크와 싱글 쿼테이션 마크가 섞여있는 경우에는 세번째인 \"\"\"__\"\"\"를 사용하면 된다.\n",
    "\n",
    "b = \"\"\" my son's name is \"john\" \"\"\""
   ]
  },
  {
   "cell_type": "markdown",
   "metadata": {},
   "source": [
    "## ※cx_Oracle 모듈 설치하는 방법\n",
    "\n",
    "1. 아나콘다 프롬프트 창을 연다.  \n",
    "2. conda install 명령어로 cx_Oracle 모듈을 설치한다.  \n",
    "   conda install cx_Oracle  \n",
    "3. cx_Oracle 모듈이 설치가 잘 되었는지 확인한다.  \n",
    "    conda list"
   ]
  },
  {
   "cell_type": "markdown",
   "metadata": {},
   "source": [
    "## 문제62. 오라클과 파이썬을 연동하시오!"
   ]
  },
  {
   "cell_type": "code",
   "execution_count": null,
   "metadata": {},
   "outputs": [],
   "source": [
    "import cx_Oracle #오라클과 파이썬을 연동하기 위한 모듈\n",
    "import pandas as pd # 엑셀또는 database의 테이블 형태의 데이터를 \n",
    "                    # 검색하기에 최적화된 모듈\n",
    "dsn = cx_Oracle.makedsn('localhost', 1521, 'orcl') # localhost = ip주소\n",
    "                                                    #1521 = 포트번호\n",
    "                                                    #orcl = db이름x\n",
    "                                            \n",
    "db = cx_Oracle.connect('scott','tiger',dsn)\n",
    "cursor = db.cursor()   # 데이터를 담을 메모리 이름을 cursor로 선언한다.\n",
    "cursor.execute(\"\"\" select * from emp \"\"\") \n",
    "                                    #이 sql의 결과가 cursor 메모리에 담긴다.\n",
    "row = cursor.fetchall() #cursor 메모리에 담긴 데이터를 하니씩 가져온다.\n",
    "emp = pd.DataFrame(row) # 그 데이터를 테이블화(데이터프레임) 시킨다.\n",
    "print(emp)"
   ]
  },
  {
   "cell_type": "markdown",
   "metadata": {},
   "source": [
    "## 문제63. 연동된 상태에서 사원 테이블에서 컬럼명도 출력하시오! (참고)"
   ]
  },
  {
   "cell_type": "code",
   "execution_count": null,
   "metadata": {},
   "outputs": [],
   "source": [
    "import  cx_Oracle  # 오라클과 파이썬을 연동하기 위한 모듈\n",
    "\n",
    "import  pandas  as  pd\n",
    "\n",
    "dsn = cx_Oracle.makedsn(\"localhost\", 1521, \"orcl\")\n",
    "\n",
    "db = cx_Oracle.connect(\"scott\", \"tiger\", dsn)\n",
    "\n",
    "cursor = db.cursor()\n",
    "\n",
    "cursor.execute(\"select * from emp\")\n",
    "\n",
    "row = cursor.fetchall()\n",
    "\n",
    "colname = cursor.description\n",
    "\n",
    "cursor.close()\n",
    "\n",
    "\n",
    "\n",
    "col=[]\n",
    "\n",
    "for i in colname:\n",
    "\n",
    "    col.append(i[0])\n",
    "\n",
    "emp = pd.DataFrame(row, columns=col)\n",
    "\n",
    "print(emp)"
   ]
  },
  {
   "attachments": {},
   "cell_type": "markdown",
   "metadata": {},
   "source": [
    "## 예제34. 문자열 포맷팅 이해하기\n",
    "\n",
    "문자열 포맷팅이란 변하는 값을 포함하는 문자열을 표현하기 위해   \n",
    "하나의 양식으로 문자열을 만드는 것이다.  \n",
    "문자열 포맷팅에서는 변하는 값을 나타내기 위해 사용하는 기호를  \n",
    "'포맷 문자열' 이라고 하며, 자주 사용하는 포맷 문자열은 다음과 같다.  \n",
    "\n",
    "| 포맷 문자열  \t|            설명            \t|\n",
    "|:------------:\t|:--------------------------:\t|\n",
    "|      %s      \t|       문자열에 대응됨      \t|\n",
    "|      %c      \t| 문자나 기호 한 개에 대응됨 \t|\n",
    "|      %f      \t|        실수에 대응됨       \t|\n",
    "|      %d      \t|        정수에 대응됨       \t|\n",
    "|      %%      \t|  %라는 기호 자체를 표시함  \t|\n",
    "\n",
    "### 예제1:"
   ]
  },
  {
   "cell_type": "code",
   "execution_count": 23,
   "metadata": {},
   "outputs": [
    {
     "name": "stdout",
     "output_type": "stream",
     "text": [
      "나는 자바보다 파이썬에 더 익숙합니다\n"
     ]
    }
   ],
   "source": [
    "\n",
    "\n",
    "txt1 = '자바'\n",
    "txt2 = '파이썬'\n",
    "\n",
    "num1 = 5\n",
    "num2 = 10\n",
    "\n",
    "print('나는 %s보다 %s에 더 익숙합니다' %(txt1,txt2))\n",
    "\n"
   ]
  },
  {
   "cell_type": "markdown",
   "metadata": {},
   "source": [
    "###  예제2 : 변하는 값을 포함하는 문자열을 나타내는 코드\n"
   ]
  },
  {
   "cell_type": "code",
   "execution_count": null,
   "metadata": {},
   "outputs": [],
   "source": [
    "from time import sleep #time 모듈의 sleep 함수를 가져와라~\n",
    "\n",
    "for i in range(100):\n",
    "    print(i)\n",
    "    sleep(0.1) # 출력 중간중간 0.1초 수행을 멈춘다.\n"
   ]
  },
  {
   "cell_type": "markdown",
   "metadata": {},
   "source": [
    "## 문제64.   \n",
    "### 겨울왕국에 elsa가 몇건이 존재하는지 찾는 문제61번  코드와\n",
    "### 방금 배운 변하는 문자열 포맷문법을 이용하여  \n",
    "### elsa를 찾을 때마다 찾은 갯수가 변해서 출력되게 하시오!"
   ]
  },
  {
   "cell_type": "code",
   "execution_count": null,
   "metadata": {},
   "outputs": [],
   "source": [
    "from time import sleep \n",
    "\n",
    "file = open(\"d:\\\\data\\winter.txt\", \"r\")\n",
    "sum = 0\n",
    "for i in file:\n",
    "    a = i.split(' ')\n",
    "    for k in a:\n",
    "        sum = sum + k.lower().count('elsa')\n",
    "        msg = '\\r 찾은개수 : %d' %(sum) \n",
    "        print(msg, end = '')\n",
    "        sleep(0.00001)"
   ]
  },
  {
   "attachments": {},
   "cell_type": "markdown",
   "metadata": {},
   "source": [
    "## 예제35. 이스케이프 문자 이해하기\n",
    "\n",
    "이스케이프 문자는 키보드로 입력하기 어려운 기호를 나타내기 위해  \n",
    "역슬래쉬 \" \\ \"로 시작하는 문자입니다.  \n",
    "파이썬에서 자주 사용되는 이스케이프 문자는 다음과 같습니다.  \n",
    "\n",
    "\n",
    "| 이스케이프 문자 \t|                   설명                   \t|\n",
    "|:---------------:\t|:----------------------------------------:\t|\n",
    "|        \\n       \t|                 줄 바꾸기                \t|\n",
    "|        \\t       \t|                    텝                    \t|\n",
    "|      \\enter     \t| 줄 계속(다음줄에도 계속 한줄이라는 표시) \t|\n",
    "|        \\\\       \t|                \\ 기호 자체               \t|\n",
    "|    \\' 또는 \\\"   \t|          ' 기호 또는 \" 기호 자체         \t|"
   ]
  },
  {
   "cell_type": "code",
   "execution_count": 1,
   "metadata": {},
   "outputs": [
    {
     "name": "stdout",
     "output_type": "stream",
     "text": [
      "나는 파이썬을 배웁니다. \n",
      " 파이썬은 자바보다 훨씬 쉽습니다.\n"
     ]
    }
   ],
   "source": [
    "print('나는 파이썬을 배웁니다. \\n 파이썬은 자바보다 \\\n",
    "훨씬 쉽습니다.')"
   ]
  },
  {
   "cell_type": "markdown",
   "metadata": {},
   "source": [
    "## 예제35. 리스트 이해하기 ( [ ] )\n",
    "\n",
    "리스트는 파이썬에서 가장 많이 활용되는 시퀀스 자료형 중 하나이다.  \n",
    "리스트 [ ] 로 표시하면 [ ] 안의 요소를 콤마(,) 로 구분하여 순서있게 나열한다.  "
   ]
  },
  {
   "cell_type": "code",
   "execution_count": 3,
   "metadata": {},
   "outputs": [
    {
     "name": "stdout",
     "output_type": "stream",
     "text": [
      "1\n"
     ]
    }
   ],
   "source": [
    "a = [1,2,3,4,5]\n",
    "\n",
    "print(a[0])"
   ]
  },
  {
   "cell_type": "markdown",
   "metadata": {},
   "source": [
    "## 문제66. 아래의 b 리스트에서 숫자 2를 출력하시오!\n",
    "\n",
    "b = [[1,2], [3,4]]"
   ]
  },
  {
   "cell_type": "code",
   "execution_count": 4,
   "metadata": {},
   "outputs": [
    {
     "name": "stdout",
     "output_type": "stream",
     "text": [
      "2\n"
     ]
    }
   ],
   "source": [
    "b = [[1,2], [3,4]]\n",
    "print(b[0][1])\n"
   ]
  },
  {
   "cell_type": "markdown",
   "metadata": {},
   "source": [
    "## 문제67. 아래의 행렬의 합을 파이썬 리스트 자료형으로 구현하시오!\n"
   ]
  },
  {
   "cell_type": "code",
   "execution_count": null,
   "metadata": {},
   "outputs": [],
   "source": [
    "a = [[2,4], [6,7]]\n",
    "print(a)\n"
   ]
  },
  {
   "cell_type": "markdown",
   "metadata": {},
   "source": [
    "## 문제68. 위의 a 행렬의 숫자 2,4,6,7 을 아래와 같이 출력하시오!\n",
    "\n",
    "a = [[2,4], [6,7]]\n",
    "\n",
    "결과 :  \n",
    "2  \n",
    "4  \n",
    "6  \n",
    "7  \n"
   ]
  },
  {
   "cell_type": "code",
   "execution_count": 6,
   "metadata": {},
   "outputs": [
    {
     "name": "stdout",
     "output_type": "stream",
     "text": [
      "2\n",
      "4\n",
      "6\n",
      "7\n"
     ]
    }
   ],
   "source": [
    "a = [[2,4],[6,7]]\n",
    "\n",
    "\n",
    "\n",
    "for i in range(2):\n",
    "    for j in range(2):\n",
    "        print(a[i][j])"
   ]
  },
  {
   "cell_type": "code",
   "execution_count": 5,
   "metadata": {},
   "outputs": [
    {
     "name": "stdout",
     "output_type": "stream",
     "text": [
      "2\n",
      "4\n",
      "6\n",
      "7\n"
     ]
    }
   ],
   "source": [
    "#참고\n",
    "a = [[2,4],[6,7]]\n",
    "\n",
    "print(a[0][0])\n",
    "print(a[0][1])\n",
    "print(a[1][0])\n",
    "print(a[1][1])"
   ]
  },
  {
   "cell_type": "markdown",
   "metadata": {},
   "source": [
    "## 문제69. 아래의 0으로 채워진 리스트에 첫번째 리스트를 숫자 8로 채우시오!"
   ]
  },
  {
   "cell_type": "code",
   "execution_count": 7,
   "metadata": {},
   "outputs": [
    {
     "name": "stdout",
     "output_type": "stream",
     "text": [
      "[[8, 0], [0, 0]]\n"
     ]
    }
   ],
   "source": [
    "c = [ [0,0], [0,0]]\n",
    "c[0][0] = 8\n",
    "print(c)"
   ]
  },
  {
   "cell_type": "markdown",
   "metadata": {},
   "source": [
    "## 문제70. 아래의 행렬의 합을 파이썬 리스트 자료형으로 구현하시오!\n",
    "\n",
    "a = [[2,4],[6,7]]  \n",
    "b = [[5,3],[2,1]]\n",
    "\n",
    "a + b = ?"
   ]
  },
  {
   "cell_type": "code",
   "execution_count": 8,
   "metadata": {},
   "outputs": [
    {
     "name": "stdout",
     "output_type": "stream",
     "text": [
      "[[5, 7], [6, 6]]\n"
     ]
    }
   ],
   "source": [
    "a = [[2,3],[4,1]]\n",
    "b = [[3,4],[2,5]]\n",
    "c = [[0,0],[0,0]]\n",
    "\n",
    "\n",
    "\n",
    "\n",
    "for i in range(2):\n",
    "    for j in range(2):\n",
    "        c[i][j] = a[i][j] + b[i][j]        \n",
    "\n",
    "print(c)"
   ]
  },
  {
   "cell_type": "markdown",
   "metadata": {},
   "source": [
    "## 문제71. 아래의 행렬들의 곱을 파이썬 리스트 자료현으로 구현하시오!  \n",
    "\n",
    "a = [[2,4],[6,7]]  \n",
    "b = [[5,3],[2,1]]\n",
    "\n",
    "a * b = ?"
   ]
  },
  {
   "cell_type": "code",
   "execution_count": 9,
   "metadata": {},
   "outputs": [
    {
     "name": "stdout",
     "output_type": "stream",
     "text": [
      "[[12, 23], [14, 21]]\n"
     ]
    }
   ],
   "source": [
    "a = [[2,3],[4,1]]\n",
    "b = [[3,4],[2,5]]\n",
    "c = [[0,0],[0,0]]\n",
    "\n",
    "\n",
    "\n",
    "\n",
    "for i in range(2):\n",
    "    for j in range(2):\n",
    "        c[i][j] = (a[i][0] * b[0][j]) + (a[i][1] * b[1][j])        \n",
    "\n",
    "print(c)"
   ]
  },
  {
   "cell_type": "markdown",
   "metadata": {},
   "source": [
    "## 문제72.   \n",
    "## 동전 한개와 주사위 한개를 동시에 던져서  \n",
    "## 동전 앞면과 주사위의 눈이 5가 나올 확률이 어떻게 되는지 출력하시오!"
   ]
  },
  {
   "cell_type": "code",
   "execution_count": 11,
   "metadata": {},
   "outputs": [
    {
     "name": "stdout",
     "output_type": "stream",
     "text": [
      "시행횟수를 입력하시오.100000\n",
      "0.0835\n"
     ]
    }
   ],
   "source": [
    "import random\n",
    "\n",
    "\n",
    "x = 0\n",
    "y = int(input('시행횟수를 입력하시오.'))\n",
    "\n",
    "\n",
    "\n",
    "for i in range(y+1):\n",
    "    a = random.randint(0,1)\n",
    "    b = random.randint(0,5)\n",
    "\n",
    "    if a==1 and b==5:\n",
    "        x += 1\n",
    "\n",
    "print(x/y)"
   ]
  }
 ],
 "metadata": {
  "kernelspec": {
   "display_name": "Python 3",
   "language": "python",
   "name": "python3"
  },
  "language_info": {
   "codemirror_mode": {
    "name": "ipython",
    "version": 3
   },
   "file_extension": ".py",
   "mimetype": "text/x-python",
   "name": "python",
   "nbconvert_exporter": "python",
   "pygments_lexer": "ipython3",
   "version": "3.7.4"
  }
 },
 "nbformat": 4,
 "nbformat_minor": 2
}
