{
 "cells": [
  {
   "cell_type": "markdown",
   "metadata": {},
   "source": [
    "## ■ 11월 27일 (점심시간 문제) 동전 2개를 동시에 던졌을때의 확률분포를 출력하시오 !"
   ]
  },
  {
   "cell_type": "code",
   "execution_count": null,
   "metadata": {},
   "outputs": [],
   "source": [
    "import random\n",
    "\n",
    "s1 = 0\n",
    "s2 = 0\n",
    "s3 = 0\n",
    "y = int(input('시행횟수를 입력하시오'))\n",
    "\n",
    "for i in range(y+1):\n",
    "    a = random.randint(0,1) \n",
    "    b = random.randint(0,1)\n",
    "\n",
    "    if a+b == 2:\n",
    "        s1 += 1\n",
    "        continue\n",
    "    \n",
    "    elif a+b == 1:\n",
    "        s2 += 1\n",
    "        continue\n",
    "    \n",
    "    else:\n",
    "        s3 += 1\n",
    "        continue\n",
    "\n",
    "print('앞면의 갯수 2 --> 확률: ', s1/y) # 앞면의 갯수2\n",
    "\n",
    "print('앞면의 갯수 1 --> 확률: ', s2/y) # 앞면의 갯수1\n",
    "\n",
    "print('앞면의 갯수 0 --> 확률: ', s3/y) #앞면의 갯수0"
   ]
  },
  {
   "cell_type": "markdown",
   "metadata": {},
   "source": [
    "## if)  \n",
    "## c:\\\\users\\stu <-- 이 위치 말고 다른 위치에서 my_loc 패키지를 불러오고 싶다면?\n",
    "\n",
    "\" my_loc 폴더를 site_packages에 넣어두면 된다. \""
   ]
  },
  {
   "cell_type": "markdown",
   "metadata": {},
   "source": [
    "## 예제1. my_loc 폴더를 site_packages로 복사하고  \n",
    "## c:\\users\\stu 밑에서는 지우시오~\n",
    "\n",
    "\n",
    "### ※ 설명 : 깃허브에 받은 패키지를 다운 받아 구현하고 싶다면?\n",
    "  \n",
    "그 패키지(폴더)를 실행 코드가 있는 디렉토리(c:\\users\\stu)에 두던지 아니면 site-packages에 넣어두면  \n",
    "어느 디렉토리에서든지 무조건 불러 올 수 있다."
   ]
  },
  {
   "cell_type": "markdown",
   "metadata": {},
   "source": [
    "## 예제46. numpy모듈 사용하기1\n",
    "\n",
    "\n",
    "- numpy란 ?\n",
    "\n",
    "python 언어에서 기본적으로 지원하지 않는 배열(array) 또는 행렬(matrix)의 계산을 쉽게 해주는 라이브러리다.  \n",
    "머신러닝에서 많이 사용하는 선형대수갛겡 관련된 수식들을 python에서 쉽게 프로그래밍 할 수 있다.\n",
    "\n",
    "1. 행렬합 구현\n",
    "\n",
    "예제1. 아래의 행렬을 numpy array로 생성하시오!"
   ]
  },
  {
   "cell_type": "code",
   "execution_count": 2,
   "metadata": {},
   "outputs": [
    {
     "name": "stdout",
     "output_type": "stream",
     "text": [
      "[[1 2]\n",
      " [3 4]]\n"
     ]
    }
   ],
   "source": [
    "import numpy as np\n",
    "\n",
    "a = np.array([[1,2],[3,4]])\n",
    "\n",
    "print(a)"
   ]
  },
  {
   "cell_type": "markdown",
   "metadata": {},
   "source": [
    "## 예제2. 아래의 행렬의 합을 numpy 로 구현하시오!"
   ]
  },
  {
   "cell_type": "code",
   "execution_count": 3,
   "metadata": {},
   "outputs": [
    {
     "name": "stdout",
     "output_type": "stream",
     "text": [
      "[[7 7]\n",
      " [8 8]]\n"
     ]
    }
   ],
   "source": [
    "import numpy as np\n",
    "\n",
    "a = np.array([[2,4],[6,7]])\n",
    "b = np.array([[5,3],[2,1]])\n",
    "\n",
    "print(a+b)"
   ]
  },
  {
   "cell_type": "markdown",
   "metadata": {},
   "source": [
    "__※ 설명 : numpy를 안쓰고 list형을 더하려면 for loop문을 돌려야하는데 이런 수고로움을 간단하게 처리할 수 있다.__"
   ]
  },
  {
   "cell_type": "markdown",
   "metadata": {},
   "source": [
    "## 예제3. 아래의 행렬곱을 numpy로 구현하시오!"
   ]
  },
  {
   "cell_type": "code",
   "execution_count": 9,
   "metadata": {},
   "outputs": [
    {
     "name": "stdout",
     "output_type": "stream",
     "text": [
      "[[1 2]\n",
      " [3 4]]\n",
      "[[5 6]\n",
      " [7 8]]\n",
      "[[ 5 12]\n",
      " [21 32]]\n",
      "[[19 22]\n",
      " [43 50]]\n"
     ]
    }
   ],
   "source": [
    "import numpy as np\n",
    "\n",
    "a = np.array([[1,2],[3,4]])\n",
    "b = np.array([[5,6],[7,8]])\n",
    "\n",
    "print(a)\n",
    "\n",
    "print(b)\n",
    "\n",
    "print(a*b) #이건 원소값끼리 곱하는것(합성곱)\n",
    "\n",
    "print(np.dot(a,b)) # 행렬의 내적 = 행렬곱"
   ]
  },
  {
   "cell_type": "markdown",
   "metadata": {},
   "source": [
    "## 예제4. 아래의 행렬 곱을 numpy로 구현하시오!"
   ]
  },
  {
   "cell_type": "code",
   "execution_count": 10,
   "metadata": {},
   "outputs": [
    {
     "name": "stdout",
     "output_type": "stream",
     "text": [
      "[[ 46  52]\n",
      " [109 124]]\n"
     ]
    }
   ],
   "source": [
    "import numpy as np\n",
    "\n",
    "a = np.array([[1,2,3],[4,5,6]])\n",
    "\n",
    "b = np.array([[5,6],[7,8],[9,10]])\n",
    "\n",
    "c = np.dot(a,b)\n",
    "\n",
    "print(c)"
   ]
  },
  {
   "cell_type": "markdown",
   "metadata": {},
   "source": [
    "## 문제87. 아래의 행렬의 3제곱을 출력하시오!"
   ]
  },
  {
   "cell_type": "code",
   "execution_count": 19,
   "metadata": {},
   "outputs": [
    {
     "name": "stdout",
     "output_type": "stream",
     "text": [
      "[[ 37  54]\n",
      " [ 81 118]]\n"
     ]
    }
   ],
   "source": [
    "import numpy as np\n",
    "\n",
    "a = np.array([[1,2],[3,4]])\n",
    "\n",
    "print(np.dot(np.dot(a,a),a))"
   ]
  },
  {
   "cell_type": "markdown",
   "metadata": {},
   "source": [
    "## 예제47. numpy 모듈 사용하기2\n",
    "\n",
    "numpy모듈로 최대값, 최소값, 평균값, 중앙값, 최빈값, 분산값, 표준편차, 공분산값, 상관계수의 통계값들을 쉽게 출력할 수 있다.\n",
    "\n",
    "### 예제1. 아래의 리스트에서 최대값을 출력하시오!\n",
    "\n",
    "a = [28, 23, 21, 29, 30. 40, 23, 21]"
   ]
  },
  {
   "cell_type": "code",
   "execution_count": 1,
   "metadata": {},
   "outputs": [
    {
     "name": "stdout",
     "output_type": "stream",
     "text": [
      "[28 23 21 29 30 40 23 21]\n",
      "40\n",
      "40\n"
     ]
    }
   ],
   "source": [
    "import numpy as np\n",
    "\n",
    "a = [28, 23, 21, 29, 30, 40, 23, 21]\n",
    "\n",
    "a_np = np.array(a)\n",
    "\n",
    "print(a_np)\n",
    "print(np.max(a_np))\n",
    "print(np.max(a))"
   ]
  },
  {
   "cell_type": "markdown",
   "metadata": {},
   "source": [
    "## 예제2. 아래의 리스트에서 평균값을 출력하시오!"
   ]
  },
  {
   "cell_type": "code",
   "execution_count": 31,
   "metadata": {},
   "outputs": [
    {
     "name": "stdout",
     "output_type": "stream",
     "text": [
      "26.875\n",
      "26.875\n"
     ]
    }
   ],
   "source": [
    "import numpy as np\n",
    "\n",
    "a = [28, 23, 21, 29, 30, 40, 23, 21]\n",
    "\n",
    "a_np = np.array(a)\n",
    "\n",
    "print(np.mean(a))\n",
    "print(np.mean(a_np))"
   ]
  },
  {
   "cell_type": "markdown",
   "metadata": {},
   "source": [
    "## 문제88. 위의 방법을 numpy를 사용하지 말고 출력하시오!"
   ]
  },
  {
   "cell_type": "code",
   "execution_count": 36,
   "metadata": {},
   "outputs": [
    {
     "name": "stdout",
     "output_type": "stream",
     "text": [
      "26.875\n"
     ]
    }
   ],
   "source": [
    "def numavg(a):\n",
    "    a = [28, 23, 21, 29, 30, 40, 23, 21]\n",
    "    sum = 0\n",
    "    x = 0\n",
    "    for i in range(0,8):\n",
    "        sum += a[i]\n",
    "\n",
    "        x += 1\n",
    "    \n",
    "    result = sum/x\n",
    "    return result\n",
    "\n",
    "print(numavg(a))\n"
   ]
  },
  {
   "cell_type": "code",
   "execution_count": 37,
   "metadata": {},
   "outputs": [
    {
     "name": "stdout",
     "output_type": "stream",
     "text": [
      "26.875\n"
     ]
    }
   ],
   "source": [
    "a = [28,23,21,29,30,40,23,21]\n",
    "a_sum = 0\n",
    "\n",
    "for i in a :\n",
    "    a_sum += i\n",
    "\n",
    "print(a_sum/len(a))"
   ]
  },
  {
   "cell_type": "markdown",
   "metadata": {},
   "source": [
    "## 문제89. numpy를 이용해서 아래의 리스트의 중앙값을 구하시오!\n",
    "\n",
    "__홀수__ = 28,23,21,29,30,40,23,21,30\n",
    "\n",
    "__(값의 크기가) 중앙값__ = 28\n",
    "\n",
    "__짝수__ = 28,23,21,29,30,40,23,21\n",
    "\n",
    "__(값의 크기가) 중앙값__ = (23+28)/2 = 25.5"
   ]
  },
  {
   "cell_type": "code",
   "execution_count": 2,
   "metadata": {},
   "outputs": [
    {
     "name": "stdout",
     "output_type": "stream",
     "text": [
      "25.5\n",
      "25.5\n",
      "28.0\n"
     ]
    }
   ],
   "source": [
    "import numpy as np\n",
    "\n",
    "a = [28,23,21,29,30,40,23,21]\n",
    "b = [28,23,21,29,30,40,23,21,30]\n",
    "a_np = np.array(a)\n",
    "\n",
    "print(np.median(a_np))\n",
    "\n",
    "print(np.median(a))\n",
    "\n",
    "print(np.median(b))"
   ]
  },
  {
   "cell_type": "markdown",
   "metadata": {},
   "source": [
    "## 정렬코드 사용하기\n"
   ]
  },
  {
   "cell_type": "code",
   "execution_count": 62,
   "metadata": {},
   "outputs": [
    {
     "name": "stdout",
     "output_type": "stream",
     "text": [
      "[21, 21, 23, 23, 28, 29, 30, 30, 40]\n"
     ]
    }
   ],
   "source": [
    "h = [28,23,21,29,30,40,23,21,30] #홀수\n",
    "h.sort() # 오름차순(asc)로 출력\n",
    "print(h)"
   ]
  },
  {
   "cell_type": "markdown",
   "metadata": {},
   "source": [
    "## 문제90. 아래의 2개의 리스트의 중앙값을 출력하시오! (11/28까지 보류)"
   ]
  },
  {
   "cell_type": "code",
   "execution_count": 5,
   "metadata": {},
   "outputs": [
    {
     "name": "stdout",
     "output_type": "stream",
     "text": [
      "[21, 21, 23, 23, 28, 29, 30, 30, 40]\n",
      "[21, 21, 23, 23, 28, 29, 30, 40]\n"
     ]
    }
   ],
   "source": [
    "h = [28,23,21,29,30,40,23,21,30] #홀수\n",
    "g = [28,23,21,29,30,40,23,21] #짝수\n",
    "\n",
    "h.sort()\n",
    "g.sort()\n",
    "\n",
    "print(h)\n",
    "print(g)\n"
   ]
  },
  {
   "cell_type": "markdown",
   "metadata": {},
   "source": [
    "## 예제48. 파일 열고 닫기(open,close)\n",
    "\n",
    "파일은 텍스트 파일과 바이너라 피일 두가지 종류가 있습니다.  \n",
    "텍스트 파일은 사람이 읽을 수 있는 글자로 저장된 파일이고  \n",
    "바이너리 파일은 컴퓨터가 읽고 이해할 수 있는 이진 데이터를 기록한 파일입니다.  \n",
    "예를 들면 윈도우에서 제공하는 메모장 프로그램을 이용하여 내용을 적고 저장하면 텍스트 파일로 저장됩니다.  \n",
    "이미지 뷰어로 볼 수 있는 JPG이미지 파일은 이진 데이터를 JPG형식의 파일로 저장한 바이너리 파일입니다.  \n",
    "파이썬에서 파일을 다루기 위해서 가장 먼저 해야할 일은 파일을 오픈 하는 것입니다.  \n",
    "파일을 오픈하기 위해서는 open()함수를 이용합니다.  \n",
    "\n",
    "문법 : open(파일이름, 모드)\n",
    "\n",
    "| 모드  | 설명                 |\n",
    "|-------|----------------------|\n",
    "| r     | 텍스트 모드로 읽기   |\n",
    "| w     | 텍스트 모드로 쓰기   |\n",
    "| rb    | 바이너리 모드로 읽기 |\n",
    "| wb    | 바이너리 모드로 쓰기 |"
   ]
  },
  {
   "cell_type": "markdown",
   "metadata": {},
   "source": [
    "## 예제1. 이미지 파일을 파이썬에서 여는 방법\n",
    "\n",
    "1. lena.png 파일을 내려받아 d:\\\\lena.png에 저장한다\n",
    "2. 아래의 코드를 실행한다.\n"
   ]
  },
  {
   "cell_type": "code",
   "execution_count": 112,
   "metadata": {},
   "outputs": [
    {
     "name": "stdout",
     "output_type": "stream",
     "text": [
      "[[[255 255 255]\n",
      "  [255 255 255]\n",
      "  [255 255 255]\n",
      "  ...\n",
      "  [255 255 255]\n",
      "  [255 255 255]\n",
      "  [255 255 255]]\n",
      "\n",
      " [[255 255 255]\n",
      "  [255 255 255]\n",
      "  [255 255 255]\n",
      "  ...\n",
      "  [255 255 255]\n",
      "  [255 255 255]\n",
      "  [255 255 255]]\n",
      "\n",
      " [[255 255 255]\n",
      "  [255 255 255]\n",
      "  [255 255 255]\n",
      "  ...\n",
      "  [255 255 255]\n",
      "  [255 255 255]\n",
      "  [255 255 255]]\n",
      "\n",
      " ...\n",
      "\n",
      " [[255 255 255]\n",
      "  [255 255 255]\n",
      "  [255 255 255]\n",
      "  ...\n",
      "  [255 255 255]\n",
      "  [255 255 255]\n",
      "  [255 255 255]]\n",
      "\n",
      " [[255 255 255]\n",
      "  [255 255 255]\n",
      "  [255 255 255]\n",
      "  ...\n",
      "  [255 255 255]\n",
      "  [255 255 255]\n",
      "  [255 255 255]]\n",
      "\n",
      " [[255 255 255]\n",
      "  [255 255 255]\n",
      "  [255 255 255]\n",
      "  ...\n",
      "  [255 255 255]\n",
      "  [255 255 255]\n",
      "  [255 255 255]]]\n"
     ]
    },
    {
     "data": {
      "text/plain": [
       "<matplotlib.image.AxesImage at 0x232ae2f3fc8>"
      ]
     },
     "execution_count": 112,
     "metadata": {},
     "output_type": "execute_result"
    },
    {
     "data": {
      "image/png": "[encoded data removed]",
      "text/plain": [
       "<Figure size 432x288 with 1 Axes>"
      ]
     },
     "metadata": {
      "needs_background": "light"
     },
     "output_type": "display_data"
    }
   ],
   "source": [
    "import PIL.Image as pilimg\n",
    "import numpy as np\n",
    "import matplotlib.pyplot as plt ## matplotlib(시각화 관련) 패키지 안에 pyplot 모듈을 불러와야 이미지를 볼 수 있다.\n",
    "\n",
    "%matplotlib inline # jupyter notebook에 쓰면 오류방지 가능하다!\n",
    "\n",
    "im = pilimg.open(\"d:\\\\lena.png\")\n",
    "pix = np.array(im)\n",
    "print(pix)\n",
    "plt.imshow(pix)"
   ]
  },
  {
   "cell_type": "markdown",
   "metadata": {},
   "source": [
    "## 문제92. 폐사진을 파이썬으로 로드해서 시각화 하시오!"
   ]
  },
  {
   "cell_type": "code",
   "execution_count": 113,
   "metadata": {},
   "outputs": [
    {
     "name": "stdout",
     "output_type": "stream",
     "text": [
      "[[[ 16  16  16]\n",
      "  [ 16  16  16]\n",
      "  [ 16  16  16]\n",
      "  ...\n",
      "  [182 182 182]\n",
      "  [187 187 187]\n",
      "  [191 191 191]]\n",
      "\n",
      " [[ 16  16  16]\n",
      "  [ 16  16  16]\n",
      "  [ 16  16  16]\n",
      "  ...\n",
      "  [173 173 173]\n",
      "  [179 179 179]\n",
      "  [186 186 186]]\n",
      "\n",
      " [[ 16  16  16]\n",
      "  [ 16  16  16]\n",
      "  [ 16  16  16]\n",
      "  ...\n",
      "  [170 170 170]\n",
      "  [173 173 173]\n",
      "  [176 176 176]]\n",
      "\n",
      " ...\n",
      "\n",
      " [[108 108 108]\n",
      "  [108 108 108]\n",
      "  [109 109 109]\n",
      "  ...\n",
      "  [ 75  75  75]\n",
      "  [ 75  75  75]\n",
      "  [ 78  78  78]]\n",
      "\n",
      " [[ 85  85  85]\n",
      "  [ 85  85  85]\n",
      "  [ 86  86  86]\n",
      "  ...\n",
      "  [ 77  77  77]\n",
      "  [ 77  77  77]\n",
      "  [ 80  80  80]]\n",
      "\n",
      " [[ 86  86  86]\n",
      "  [ 86  86  86]\n",
      "  [ 87  87  87]\n",
      "  ...\n",
      "  [ 87  87  87]\n",
      "  [ 87  87  87]\n",
      "  [ 90  90  90]]]\n"
     ]
    },
    {
     "data": {
      "text/plain": [
       "<matplotlib.image.AxesImage at 0x232ae35d648>"
      ]
     },
     "execution_count": 113,
     "metadata": {},
     "output_type": "execute_result"
    },
    {
     "data": {
      "image/png": "[encoded data removed]",
      "text/plain": [
       "<Figure size 432x288 with 1 Axes>"
      ]
     },
     "metadata": {
      "needs_background": "light"
     },
     "output_type": "display_data"
    }
   ],
   "source": [
    "import PIL.Image as pilimg\n",
    "import numpy as np\n",
    "import matplotlib.pyplot as plt ## matplotlib(시각화 관련) 패키지 안에 pyplot 모듈을 불러와야 이미지를 볼 수 있다.\n",
    "%matplotlib inline\n",
    "\n",
    "im = pilimg.open(\"d:\\\\1.png\")\n",
    "pix = np.array(im)\n",
    "print(pix)\n",
    "plt.imshow(pix)"
   ]
  },
  {
   "cell_type": "markdown",
   "metadata": {},
   "source": [
    "## 예제49. 클래스 이해하기(class)\n",
    "\n",
    "객체 지향 프로그램에서 중요한 단어가 바로 클래스 입니다.  \n",
    "클래스는 프로그래머가 지정한 이름을 만든 하나의 독립된 공간이며,  \n",
    "이름공간(name space) 이라 부릅니다.  \n",
    "클래스를 구성하는 주요요소는 클래스에서 변수 역활을 하는 클래스 멤버와  \n",
    "함수와 동일한 역활을 하는 클래스 메소드 입니다.  \n",
    "\n",
    "객체 = 클래스\n",
    "\n",
    "학원에서 보내준 총.png 그림 저장해서 참고하자!"
   ]
  },
  {
   "cell_type": "markdown",
   "metadata": {},
   "source": [
    "## 예제1. 총 클래스(설계도)를 생성하고 객체화 시키시오!"
   ]
  },
  {
   "cell_type": "code",
   "execution_count": 121,
   "metadata": {},
   "outputs": [
    {
     "name": "stdout",
     "output_type": "stream",
     "text": [
      "탕!\n",
      "탕!\n",
      "탕!\n",
      "탕!\n",
      "탕!\n",
      "탕!\n",
      "탕!\n",
      "탕!\n",
      "탕!\n",
      "탕!\n"
     ]
    }
   ],
   "source": [
    "class Gun(): # 클래스 이름의 첫철자는 대문자로 권장합니다.\n",
    "    def __init__(self): # 클래스(설계도)를 가지고 객체를 만드는 순간 바로 작동하는 함수\n",
    "        self.bullet = 0 \n",
    "        \n",
    "    def charge(self, num): # 총알 충전하는 함수\n",
    "        self.bullet = num\n",
    "    \n",
    "    def shoot(self,num): # 총 쏘는 함수\n",
    "        for i in range(num):\n",
    "            if self.bullet > 0:\n",
    "                print('탕!')\n",
    "                self.bullet -= 1\n",
    "                \n",
    "            elif self.bullet == 0:\n",
    "                print('총알이 없습니다.')\n",
    "                break\n",
    "                \n",
    "#총 설계도를 가지고 총 하나를 생산한다.\n",
    "gun1 = Gun()\n",
    "\n",
    "#총알을 충전한다.\n",
    "gun1.charge(10)\n",
    "\n",
    "# 총을 쏜다\n",
    "gun1.shoot(10)\n"
   ]
  },
  {
   "cell_type": "markdown",
   "metadata": {},
   "source": [
    "## 문제92. 다시 gun1 총의 총알을 10발 충전하고 1발만 쏘시오"
   ]
  },
  {
   "cell_type": "code",
   "execution_count": 124,
   "metadata": {},
   "outputs": [
    {
     "name": "stdout",
     "output_type": "stream",
     "text": [
      "탕!\n"
     ]
    }
   ],
   "source": [
    "class Gun(): # 클래스 이름의 첫철자는 대문자로 권장합니다.\n",
    "    def __init__(self): # 클래스(설계도)를 가지고 객체를 만드는 순간 바로 작동하는 함수\n",
    "        self.bullet = 0 \n",
    "        \n",
    "    def charge(self, num): # 총알 충전하는 함수\n",
    "        self.bullet = num\n",
    "        print('총', num, '발 충전되었습니다.')\n",
    "    def shoot(self,num): # 총 쏘는 함수\n",
    "        for i in range(num):\n",
    "            if self.bullet > 0:\n",
    "                print('탕!')\n",
    "                self.bullet -= 1\n",
    "                \n",
    "            elif self.bullet == 0:\n",
    "                print('총알이 없습니다.')\n",
    "                break\n",
    "                \n",
    "#총 설계도를 가지고 총 하나를 생산한다.\n",
    "\n",
    "gun1 = Gun()  # 객체이름.함수이름\n",
    "\n",
    "#총알을 충전한다.\n",
    "\n",
    "gun1.charge(10)\n",
    "\n",
    "# 총을 쏜다\n",
    "\n",
    "gun1.shoot(1)\n"
   ]
  },
  {
   "cell_type": "markdown",
   "metadata": {},
   "source": [
    "## 문제93. gun2 총을 생산하시오~"
   ]
  },
  {
   "cell_type": "code",
   "execution_count": 128,
   "metadata": {},
   "outputs": [
    {
     "name": "stdout",
     "output_type": "stream",
     "text": [
      "탕!\n",
      "총알이 없습니다.\n"
     ]
    }
   ],
   "source": [
    "gun2 = Gun()\n",
    "gun2.shoot(1) # Gun1과 Gun2는 다른총이다 !!!       \n",
    "gun1.shoot(1) # Gun1은 현재 장전 되어있는 상태"
   ]
  },
  {
   "cell_type": "markdown",
   "metadata": {},
   "source": [
    "### ※ 클래스 생성할 때 함수마다 self를 코딩해 주어야 하는 이유는 객체 나 자신을 나타내기 위해서이다."
   ]
  },
  {
   "cell_type": "markdown",
   "metadata": {},
   "source": [
    "## 문제94. 총 클래스를 다시 생성하는데 총 충전할 때 몇발 충전되었습니다.   \n",
    "## 메세지가 출력되게 다시 클래스를 생성하고 다시 객체를 생성하시오!\n",
    "\n",
    "gun3 = Gun()\n",
    "\n",
    "gun3.charge(10) '10발이 충전되었습니다'"
   ]
  },
  {
   "cell_type": "code",
   "execution_count": 129,
   "metadata": {},
   "outputs": [
    {
     "name": "stdout",
     "output_type": "stream",
     "text": [
      "총 10 발 충전되었습니다.\n"
     ]
    }
   ],
   "source": [
    "class Gun(): # 클래스 이름의 첫철자는 대문자로 권장합니다.\n",
    "    def __init__(self): # 클래스(설계도)를 가지고 객체를 만드는 순간 바로 작동하는 함수\n",
    "        self.bullet = 0 \n",
    "        \n",
    "    def charge(self, num): # 총알 충전하는 함수\n",
    "        self.bullet = num\n",
    "        print('총', self.bullet, '발 충전되었습니다.')\n",
    "    def shoot(self,num): # 총 쏘는 함수\n",
    "        for i in range(num):\n",
    "            if self.bullet > 0:\n",
    "                print('탕!')\n",
    "                self.bullet -= 1\n",
    "                \n",
    "            elif self.bullet == 0:\n",
    "                print('총알이 없습니다.')\n",
    "                break\n",
    "\n",
    "gun3 = Gun()\n",
    "\n",
    "gun3.charge(10)            "
   ]
  },
  {
   "cell_type": "markdown",
   "metadata": {},
   "source": [
    "## 문제95. Gun 클래스 내에 print 함수를 넣어서   \n",
    "## 아래와 같이 총알이 몇발 남았는지 출력되게하시오!\n",
    "\n",
    "gun5 = Gun()\n",
    "\n",
    "gun5.charge(10)\n",
    "\n",
    "gun5.print()\n"
   ]
  },
  {
   "cell_type": "code",
   "execution_count": 135,
   "metadata": {},
   "outputs": [
    {
     "name": "stdout",
     "output_type": "stream",
     "text": [
      "총 10 발 충전되었습니다.\n",
      "탕!\n",
      "탕!\n",
      "탕!\n",
      "탕!\n",
      "탕!\n",
      "탕!\n",
      "탕!\n",
      "3 발이 남았습니다\n"
     ]
    }
   ],
   "source": [
    "class Gun(): # 클래스 이름의 첫철자는 대문자로 권장합니다.\n",
    "    def __init__(self): # 클래스(설계도)를 가지고 객체를 만드는 순간 바로 작동하는 함수\n",
    "        self.bullet = 0 \n",
    "        \n",
    "    def charge(self, num): # 총알 충전하는 함수\n",
    "        self.bullet = num\n",
    "        print('총', self.bullet, '발 충전되었습니다.')\n",
    "        \n",
    "    def shoot(self,num): # 총 쏘는 함수\n",
    "        for i in range(num):\n",
    "            if self.bullet > 0:\n",
    "                print('탕!')\n",
    "                self.bullet -= 1\n",
    "            elif self.bullet == 0:\n",
    "                print('총알이 없습니다.')\n",
    "                break \n",
    "    def print(self):\n",
    "         print( self.bullet, '발이 남았습니다')       # def, for, if문 다 간격주의\n",
    "\n",
    "gun5 = Gun()\n",
    "\n",
    "gun5.charge(10)\n",
    "gun5.shoot(7)\n",
    "gun5.print()"
   ]
  },
  {
   "cell_type": "markdown",
   "metadata": {},
   "source": [
    "## 문제96. 고릴라 클래스를 생성하고 고릴라1 객체를 만드시오!\n",
    "\n",
    "고릴라 기능\n",
    "\n",
    "1.  _ __init__ _ 함수\n",
    "2. eat 함수\n",
    "3. shout 함수\n",
    "\n",
    "g_1 = Gorilla()\n",
    "g_1.eat(3) # 바나나 3개 먹는다.\n",
    "g_1.shout(3) \n",
    "우와~~~\n",
    "우와~~~\n",
    "우와~~~\n",
    "\n",
    "g_1.shout(1)\n",
    "\n"
   ]
  },
  {
   "cell_type": "code",
   "execution_count": 146,
   "metadata": {},
   "outputs": [
    {
     "name": "stdout",
     "output_type": "stream",
     "text": [
      "총 3 개의 바나나를 먹었습니다.\n",
      "우왕~~~\n",
      "우왕~~~\n",
      "우왕~~~\n",
      "배고파~\n"
     ]
    }
   ],
   "source": [
    "class Gorilla():\n",
    "    def __init__(self):\n",
    "        self.banana = 0\n",
    "        \n",
    "    def eat(self,num):\n",
    "        self.banana = num\n",
    "        print('총', self.banana , '개의 바나나를 먹었습니다.') #왠만하면 변수이름 self.banana로 쓰자\n",
    "        \n",
    "    def shout(self,num):\n",
    "        for i in range(num):\n",
    "            \n",
    "            if self.banana > 0:   #def eat 에서 정의한 self.banana가 그대로 내려온다. (누적진행)\n",
    "                print('우왕~~~')\n",
    "                self.banana -=1\n",
    "                \n",
    "            elif self.banana == 0:\n",
    "                print('배고파~')\n",
    "                \n",
    "                break\n",
    "                \n",
    "g_1 = Gorilla() \n",
    "g_1.eat(3)    # g_1은 객체, shout는 함수(메소드)\n",
    "g_1.shout(4)"
   ]
  },
  {
   "cell_type": "markdown",
   "metadata": {},
   "source": [
    "## ※ 객체지향의 장점은? (면접자주나옴)\n",
    "\n",
    "### __★상속★__ 이 가능해서 중요하고 기본적인 코드는 __★상속★__받고 나는 다른 기능만 구현하면 된다.\n",
    "\n",
    "\n",
    "팀장 -> 카드클래스 (기본적인 기능)\n",
    "\n",
    "팀원 -> 영화할인 카드 클래스 \n",
    "\n",
    "팀원 - > 주유할인 카드 클래스\n",
    "\n",
    "\n"
   ]
  },
  {
   "cell_type": "markdown",
   "metadata": {},
   "source": [
    "## 문제97. 카드 클래스를 생성하고 카드를 발급하시오!\n",
    "\n",
    "card1 = Card()\n",
    "카드가 발급되었습니다.\n",
    "\n",
    "card1.cahrge(10000)\n",
    "10000원이 충전 되었습니다.\n",
    "\n",
    "card1.consume(1400)\n",
    "1400원이 사용되었습니다.  \n",
    "\n",
    "돈이 없는데 계속 쓸려고 하면 \"잔액이 없습니다\" 라는 메세지가 출력되게 하시오."
   ]
  },
  {
   "cell_type": "code",
   "execution_count": 186,
   "metadata": {},
   "outputs": [
    {
     "name": "stdout",
     "output_type": "stream",
     "text": [
      "카드가 생성되었습니다\n",
      "10000 이 충전 되었습니다.\n",
      "9000 원이 사용되었습니다.\n",
      "잔액이 1000 원 남았습니다.\n"
     ]
    }
   ],
   "source": [
    "class Card():\n",
    "    def __init__(self):  # __init__의 기능 : 바로실행 & self는 자기자신 객체 고르기\n",
    "        self.money = 0\n",
    "        print('카드가 생성되었습니다')\n",
    "        \n",
    "    def charge(self, num):\n",
    "        self.money = num\n",
    "        print(self.money, '이 충전 되었습니다.')\n",
    "        \n",
    "    def consume(self, num):\n",
    "            if  num <= self.money:\n",
    "                print(num, '원이 사용되었습니다.')\n",
    "                print('잔액이', self.money - num, '원 남았습니다.')   # 잔액 기능 추가\n",
    "            else:\n",
    "                print('잔액이 없습니다.')\n",
    "            \n",
    "\n",
    "card1 = Card()\n",
    "card1.charge(10000)\n",
    "card1.consume(9000)"
   ]
  },
  {
   "cell_type": "markdown",
   "metadata": {},
   "source": [
    "## 예제51. 클래스 메소드(함수) 이해하기\n",
    "\n",
    "card 클래스의 consume와 charge가 바로 메소드(기능)입니다.  # 함수 = 메소드(기능)\n",
    "\n",
    "### 예제 : 리스트 자료형 생성할 때\n",
    "\n",
    "a = [2,4,6,7]\n",
    "\n",
    "a = 객체 , [   ] = 클래스\n",
    "\n",
    "\n",
    "card1.charge(10000)  \n",
    "\n",
    "card1. = 객체\n",
    "charge = 메소드"
   ]
  },
  {
   "cell_type": "code",
   "execution_count": 187,
   "metadata": {},
   "outputs": [
    {
     "name": "stdout",
     "output_type": "stream",
     "text": [
      "[1, 4, 6, 7]\n"
     ]
    }
   ],
   "source": [
    "a = [7,4,6,1]\n",
    "\n",
    "a.sort()\n",
    "print(a)"
   ]
  },
  {
   "cell_type": "markdown",
   "metadata": {},
   "source": [
    "## ＊ 리스트 객체의 유용한 메소드\n",
    "\n",
    "| 번호 |   메소드  |                      설명                      |\n",
    "|:----:|:---------:|:----------------------------------------------:|\n",
    "|   1  |  append() | 리스트 맨 끝에 새로운 요소를 추가할 때 사용    |\n",
    "|   2  |  count()  | 리시트에서 특정 요소의 갯수를 카운트할 때 사용 |\n",
    "|   3  |  insert() | 리스트의 특정 위치에 요소를 입력할 때 사용     |\n",
    "|   4  |  remove() | 리스트의 특정 요소를 제거할 때 사용            |\n",
    "|   5  |   sort()  | 리스트의 요소를 순차적으로 정렬할 때 사용      |\n",
    "|   6  | reverse() | 리스트의 요소를 역순으로 정렬                  |\n",
    "|   7  |  index()  | 리스트의 특정 요소의 위치를 출력               |"
   ]
  },
  {
   "cell_type": "markdown",
   "metadata": {},
   "source": [
    "## 예제1. append 테스트"
   ]
  },
  {
   "cell_type": "code",
   "execution_count": 188,
   "metadata": {},
   "outputs": [
    {
     "name": "stdout",
     "output_type": "stream",
     "text": [
      "[7, 4, 6, 1, 5]\n",
      "[7, 4, 6, 1, 5, 3]\n"
     ]
    }
   ],
   "source": [
    "a = [7,4,6,1]\n",
    "\n",
    "a.append(5) #[7,4,6,1,5]\n",
    "print(a)\n",
    "\n",
    "a.append(3) #[7,4,6,1,5,3] 결과가 계속 누적이 된다.\n",
    "print(a)"
   ]
  },
  {
   "cell_type": "markdown",
   "metadata": {},
   "source": [
    "## 예제2. count 테스트"
   ]
  },
  {
   "cell_type": "code",
   "execution_count": 189,
   "metadata": {},
   "outputs": [
    {
     "name": "stdout",
     "output_type": "stream",
     "text": [
      "2\n"
     ]
    }
   ],
   "source": [
    "a = [7,4,6,1,6]\n",
    "\n",
    "print(a.count(6)) # a 리스트에 6이 몇개가 존재하냐?"
   ]
  },
  {
   "cell_type": "markdown",
   "metadata": {},
   "source": [
    "## 예제3. insert 테스트"
   ]
  },
  {
   "cell_type": "code",
   "execution_count": 191,
   "metadata": {},
   "outputs": [
    {
     "name": "stdout",
     "output_type": "stream",
     "text": [
      "['태양', '수성', '금성', '지구', '화성', '소행성', '목성', '토성', '천왕성', '해왕성']\n"
     ]
    }
   ],
   "source": [
    "sol = ['태양', '수성', '금성', '지구', '화성', '목성', '토성', '천왕성', '해왕성']\n",
    "\n",
    "sol.insert(5, '소행성') # 5번자리 '목성' 앞에 소행성을 넣는다.\n",
    "print(sol)"
   ]
  },
  {
   "cell_type": "markdown",
   "metadata": {},
   "source": [
    "## 문제99. 아래의 방정식을 함수로 생성하시오!\n",
    "\n",
    "y = (x^2 + 1) ^5\n",
    "\n",
    "x=2 일 때 y를 구하시오.\n",
    "\n",
    "print(aaaa_func(2)) # 3125\n"
   ]
  },
  {
   "cell_type": "code",
   "execution_count": 193,
   "metadata": {},
   "outputs": [
    {
     "name": "stdout",
     "output_type": "stream",
     "text": [
      "3125\n"
     ]
    }
   ],
   "source": [
    "def aaaa_func(num):\n",
    "\n",
    "    result = pow((num**2 + 1),5)\n",
    "    \n",
    "    return result\n",
    "\n",
    "print(aaaa_func(2))"
   ]
  },
  {
   "cell_type": "markdown",
   "metadata": {},
   "source": [
    "## 문제100. (오늘의 마지막 문제) 아래의 함수의 도함수를 파이썬으로 생성하시오!\n",
    "\n",
    "y = ( x^2 + 1)^5"
   ]
  },
  {
   "cell_type": "code",
   "execution_count": 194,
   "metadata": {},
   "outputs": [
    {
     "name": "stdout",
     "output_type": "stream",
     "text": [
      "100\n"
     ]
    }
   ],
   "source": [
    "def aaaa_do_func(num):\n",
    "    \n",
    "    result = 10*pow(num,3) + 10*num\n",
    "    \n",
    "    return result\n",
    "\n",
    "print(aaaa_do_func(2))"
   ]
  }
 ],
 "metadata": {
  "kernelspec": {
   "display_name": "Python 3",
   "language": "python",
   "name": "python3"
  },
  "language_info": {
   "codemirror_mode": {
    "name": "ipython",
    "version": 3
   },
   "file_extension": ".py",
   "mimetype": "text/x-python",
   "name": "python",
   "nbconvert_exporter": "python",
   "pygments_lexer": "ipython3",
   "version": "3.7.4"
  }
 },
 "nbformat": 4,
 "nbformat_minor": 2
}
